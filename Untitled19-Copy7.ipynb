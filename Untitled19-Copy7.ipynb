{
 "cells": [
  {
   "cell_type": "code",
   "execution_count": 2,
   "id": "42ad3308-4ce2-4fec-9a80-aa59882680a2",
   "metadata": {},
   "outputs": [
    {
     "data": {
      "text/plain": [
       "<aiida.manage.configuration.profile.Profile at 0x7fbe9ae09310>"
      ]
     },
     "execution_count": 2,
     "metadata": {},
     "output_type": "execute_result"
    }
   ],
   "source": [
    "from aiida_fleur.data.fleurinp import FleurinpData\n",
    "from aiida import load_profile\n",
    "from aiida.orm import Dict, load_node , load_code\n",
    "from aiida.engine import submit, run\n",
    "from aiida_fleur.calculation.fleurinputgen import FleurinputgenCalculation\n",
    "from aiida.plugins import DataFactory, CalculationFactory\n",
    "from aiida_fleur.calculation.fleur import FleurCalculation\n",
    "from aiida_fleur.data.fleurinpmodifier import FleurinpModifier\n",
    "from itertools import product\n",
    "import numpy as np\n",
    "import json\n",
    "import matplotlib.pyplot as plt\n",
    "import numpy as np\n",
    "import random\n",
    "from fleur_starting_density import oxides_charge3\n",
    "\n",
    "load_profile()"
   ]
  },
  {
   "cell_type": "code",
   "execution_count": 3,
   "id": "cd7c8503-b5ef-411a-a08a-820c366c8417",
   "metadata": {},
   "outputs": [],
   "source": [
    "calc = [ 150503, 150504 , 150505 , 150506]\n",
    "\n",
    "\n",
    "inps = []\n",
    "\n",
    "for number in calc:\n",
    "    \n",
    "    inps.append(load_node(number).outputs.fleurinpData)"
   ]
  },
  {
   "cell_type": "code",
   "execution_count": 7,
   "id": "92fa76cf-41c7-49ef-9581-5c9321eed37d",
   "metadata": {
    "collapsed": true,
    "jupyter": {
     "outputs_hidden": true
    },
    "tags": []
   },
   "outputs": [
    {
     "data": {
      "text/plain": [
       "[{'name': 'Aluminum (Al)',\n",
       "  'element': 'Al',\n",
       "  'mtSphere': {'radius': 2.62, 'gridPoints': 867, 'logIncrement': 0.013},\n",
       "  'prodBasis': {'lcutm': 4, 'lcutwf': 9, 'select': '4 0 4 2'},\n",
       "  'modInitDen': {'flipSpinPhi': 0.0,\n",
       "   'flipSpinScale': False,\n",
       "   'flipSpinTheta': 0.0},\n",
       "  'atomicNumber': 13,\n",
       "  'atomicCutoffs': {'lmax': 10, 'lnonsphr': 8},\n",
       "  'electronConfig': {'coreConfig': ['(1s1/2)',\n",
       "    '(2s1/2)',\n",
       "    '(2p1/2)',\n",
       "    '(2p3/2)'],\n",
       "   'valenceConfig': ['(3s1/2)', '(3p1/2)', '(3p3/2)'],\n",
       "   'stateOccupation': [{'state': '(3p1/2)',\n",
       "     'spinUp': 0.16666667,\n",
       "     'spinDown': 0.16666667},\n",
       "    {'state': '(3p3/2)', 'spinUp': 0.33333333, 'spinDown': 0.33333333}]},\n",
       "  'energyParameters': {'d': 3, 'f': 4, 'p': 3, 's': 3}},\n",
       " {'name': 'Oxygen (O)',\n",
       "  'element': 'O',\n",
       "  'mtSphere': {'radius': 1.64, 'gridPoints': 543, 'logIncrement': 0.02},\n",
       "  'prodBasis': {'lcutm': 4, 'lcutwf': 6, 'select': '4 0 4 2'},\n",
       "  'modInitDen': {'flipSpinPhi': 0.0,\n",
       "   'flipSpinScale': False,\n",
       "   'flipSpinTheta': 0.0},\n",
       "  'atomicNumber': 8,\n",
       "  'atomicCutoffs': {'lmax': 6, 'lnonsphr': 4},\n",
       "  'electronConfig': {'coreConfig': ['(1s1/2)'],\n",
       "   'valenceConfig': ['(2s1/2)', '(2p1/2)', '(2p3/2)'],\n",
       "   'stateOccupation': [{'state': '(2p1/2)',\n",
       "     'spinUp': 0.66666667,\n",
       "     'spinDown': 0.66666667},\n",
       "    {'state': '(2p3/2)', 'spinUp': 1.33333333, 'spinDown': 1.33333333}]},\n",
       "  'energyParameters': {'d': 3, 'f': 4, 'p': 2, 's': 2}}]"
      ]
     },
     "execution_count": 7,
     "metadata": {},
     "output_type": "execute_result"
    }
   ],
   "source": [
    "inps[0].inp_dict['atomSpecies']"
   ]
  },
  {
   "cell_type": "code",
   "execution_count": 4,
   "id": "5f1b36e4-31e8-494c-80e7-62fc56a17795",
   "metadata": {
    "collapsed": true,
    "jupyter": {
     "outputs_hidden": true
    },
    "tags": []
   },
   "outputs": [
    {
     "name": "stdout",
     "output_type": "stream",
     "text": [
      "started fleur calc with pk: 150525\n",
      "started fleur calc with pk: 150529\n",
      "started fleur calc with pk: 150533\n",
      "started fleur calc with pk: 150537\n",
      "started fleur calc with pk: 150541\n",
      "started fleur calc with pk: 150545\n",
      "started fleur calc with pk: 150549\n",
      "started fleur calc with pk: 150553\n",
      "started fleur calc with pk: 150557\n",
      "started fleur calc with pk: 150561\n",
      "started fleur calc with pk: 150565\n",
      "started fleur calc with pk: 150569\n",
      "started fleur calc with pk: 150573\n",
      "started fleur calc with pk: 150577\n",
      "started fleur calc with pk: 150581\n",
      "started fleur calc with pk: 150585\n",
      "started fleur calc with pk: 150589\n",
      "started fleur calc with pk: 150593\n",
      "started fleur calc with pk: 150597\n",
      "started fleur calc with pk: 150601\n",
      "started fleur calc with pk: 150608\n",
      "started fleur calc with pk: 150612\n",
      "started fleur calc with pk: 150616\n",
      "started fleur calc with pk: 150620\n",
      "started fleur calc with pk: 150624\n",
      "started fleur calc with pk: 150628\n",
      "started fleur calc with pk: 150632\n",
      "started fleur calc with pk: 150636\n",
      "started fleur calc with pk: 150640\n",
      "started fleur calc with pk: 150644\n",
      "started fleur calc with pk: 150648\n",
      "started fleur calc with pk: 150652\n",
      "started fleur calc with pk: 150656\n",
      "started fleur calc with pk: 150660\n",
      "started fleur calc with pk: 150664\n",
      "started fleur calc with pk: 150668\n",
      "started fleur calc with pk: 150672\n",
      "started fleur calc with pk: 150676\n",
      "started fleur calc with pk: 150680\n",
      "started fleur calc with pk: 150684\n",
      "started fleur calc with pk: 150691\n",
      "started fleur calc with pk: 150695\n",
      "started fleur calc with pk: 150699\n",
      "started fleur calc with pk: 150703\n",
      "started fleur calc with pk: 150707\n",
      "started fleur calc with pk: 150711\n",
      "started fleur calc with pk: 150715\n",
      "started fleur calc with pk: 150719\n",
      "started fleur calc with pk: 150723\n",
      "started fleur calc with pk: 150727\n",
      "started fleur calc with pk: 150731\n",
      "started fleur calc with pk: 150735\n",
      "started fleur calc with pk: 150739\n",
      "started fleur calc with pk: 150743\n",
      "started fleur calc with pk: 150747\n",
      "started fleur calc with pk: 150751\n",
      "started fleur calc with pk: 150755\n",
      "started fleur calc with pk: 150759\n",
      "started fleur calc with pk: 150764\n",
      "started fleur calc with pk: 150768\n",
      "started fleur calc with pk: 150777\n",
      "started fleur calc with pk: 150783\n",
      "started fleur calc with pk: 150788\n",
      "started fleur calc with pk: 150794\n",
      "started fleur calc with pk: 150800\n",
      "started fleur calc with pk: 150804\n",
      "started fleur calc with pk: 150810\n",
      "started fleur calc with pk: 150817\n",
      "started fleur calc with pk: 150822\n",
      "started fleur calc with pk: 150827\n",
      "started fleur calc with pk: 150833\n",
      "started fleur calc with pk: 150837\n",
      "started fleur calc with pk: 150842\n",
      "started fleur calc with pk: 150846\n",
      "started fleur calc with pk: 150850\n",
      "started fleur calc with pk: 150854\n",
      "started fleur calc with pk: 150858\n",
      "started fleur calc with pk: 150862\n",
      "started fleur calc with pk: 150866\n",
      "started fleur calc with pk: 150870\n"
     ]
    }
   ],
   "source": [
    "results = [ ]\n",
    "\n",
    "for inp in inps:\n",
    "    \n",
    "    results.append(oxides_charge3( inp))"
   ]
  },
  {
   "cell_type": "code",
   "execution_count": 6,
   "id": "f1751e25-b542-4c56-aff1-12e62f147d8f",
   "metadata": {},
   "outputs": [],
   "source": [
    "import pickle \n",
    "\n",
    "\n",
    "file = open('results_p12_metals_X20_charge_transfer.pickle' , 'wb')\n",
    "pickle.dump(results , file )"
   ]
  },
  {
   "cell_type": "code",
   "execution_count": 7,
   "id": "dd3d3a5e-28e4-424d-9c76-a5b189cf9812",
   "metadata": {},
   "outputs": [],
   "source": [
    "def plot(lis) :\n",
    "    \n",
    "    x = []\n",
    "    y = []\n",
    "    \n",
    "    for species in lis[0].inputs.fleurinpdata.inp_dict['atomSpecies']:\n",
    "\n",
    "        if species['name'] != 'Oxygen (O)':\n",
    "\n",
    "            X_name = species['name']\n",
    "    \n",
    "    \n",
    "    for node in lis:\n",
    "        \n",
    "        if node.is_finished_ok:\n",
    "    \n",
    "            y.append( node.outputs.output_parameters.get_dict()['density_convergence'] )\n",
    "        \n",
    "            x.append(2 * (node.inputs.fleurinpdata.inp_dict['atomSpecies'][1]['electronConfig']['stateOccupation'][0]['spinUp'] + node.inputs.fleurinpdata.inp_dict['atomSpecies'][1]['electronConfig']['stateOccupation'][1]['spinUp'] ) -4)\n",
    "\n",
    "    \n",
    "    plt.plot(x,y, 'x') \n",
    "    plt.xlabel('total charge transfer to Oxygen')\n",
    "    plt.ylabel('distance after 1 iteration')\n",
    "    plt.title(X_name)\n",
    "    #plt.savefig('MgO_sc_loop.pdf')\n",
    "    plt.show()"
   ]
  },
  {
   "cell_type": "code",
   "execution_count": 8,
   "id": "20ed0415-b45c-4e63-9b76-b41be41cdcfc",
   "metadata": {
    "tags": []
   },
   "outputs": [
    {
     "data": {
      "image/png": "[encoded data removed]",
      "text/plain": [
       "<Figure size 432x288 with 1 Axes>"
      ]
     },
     "metadata": {
      "needs_background": "light"
     },
     "output_type": "display_data"
    },
    {
     "data": {
      "image/png": "[encoded data removed]",
      "text/plain": [
       "<Figure size 432x288 with 1 Axes>"
      ]
     },
     "metadata": {
      "needs_background": "light"
     },
     "output_type": "display_data"
    },
    {
     "data": {
      "image/png": "[encoded data removed]",
      "text/plain": [
       "<Figure size 432x288 with 1 Axes>"
      ]
     },
     "metadata": {
      "needs_background": "light"
     },
     "output_type": "display_data"
    },
    {
     "data": {
      "image/png": "[encoded data removed]",
      "text/plain": [
       "<Figure size 432x288 with 1 Axes>"
      ]
     },
     "metadata": {
      "needs_background": "light"
     },
     "output_type": "display_data"
    }
   ],
   "source": [
    "for i in results:\n",
    "    \n",
    "    plot(i)"
   ]
  },
  {
   "cell_type": "code",
   "execution_count": 7,
   "id": "ff208477-4525-40a7-86a2-53cc6e7b2687",
   "metadata": {
    "collapsed": true,
    "jupyter": {
     "outputs_hidden": true
    },
    "tags": []
   },
   "outputs": [
    {
     "name": "stdout",
     "output_type": "stream",
     "text": [
      "{'coreConfig': ['(1s1/2)', '(2s1/2)', '(2p1/2)', '(2p3/2)'], 'valenceConfig': ['(3s1/2)', '(3p1/2)', '(3p3/2)'], 'stateOccupation': [{'state': '(3p3/2)', 'spinUp': 0.0, 'spinDown': 0.0}, {'state': '(3p1/2)', 'spinUp': 0.5, 'spinDown': 0.5}]} [{'state': '(2p1/2)', 'spinUp': 0.6666666667, 'spinDown': 0.6666666667}, {'state': '(2p3/2)', 'spinUp': 1.3333333333, 'spinDown': 1.3333333333}]\n",
      "{'coreConfig': ['(1s1/2)', '(2s1/2)', '(2p1/2)', '(2p3/2)'], 'valenceConfig': ['(3s1/2)', '(3p1/2)', '(3p3/2)'], 'stateOccupation': [{'state': '(3p3/2)', 'spinUp': 0.0, 'spinDown': 0.0}, {'state': '(3p1/2)', 'spinUp': 0.475, 'spinDown': 0.475}]} [{'state': '(2p1/2)', 'spinUp': 0.6833333333, 'spinDown': 0.6833333333}, {'state': '(2p3/2)', 'spinUp': 1.3666666667, 'spinDown': 1.3666666667}]\n",
      "{'coreConfig': ['(1s1/2)', '(2s1/2)', '(2p1/2)', '(2p3/2)'], 'valenceConfig': ['(3s1/2)', '(3p1/2)', '(3p3/2)'], 'stateOccupation': [{'state': '(3p3/2)', 'spinUp': 0.0, 'spinDown': 0.0}, {'state': '(3p1/2)', 'spinUp': 0.45, 'spinDown': 0.45}]} [{'state': '(2p1/2)', 'spinUp': 0.7, 'spinDown': 0.7}, {'state': '(2p3/2)', 'spinUp': 1.4, 'spinDown': 1.4}]\n",
      "{'coreConfig': ['(1s1/2)', '(2s1/2)', '(2p1/2)', '(2p3/2)'], 'valenceConfig': ['(3s1/2)', '(3p1/2)', '(3p3/2)'], 'stateOccupation': [{'state': '(3p3/2)', 'spinUp': 0.0, 'spinDown': 0.0}, {'state': '(3p1/2)', 'spinUp': 0.425, 'spinDown': 0.425}]} [{'state': '(2p1/2)', 'spinUp': 0.7166666667, 'spinDown': 0.7166666667}, {'state': '(2p3/2)', 'spinUp': 1.4333333333, 'spinDown': 1.4333333333}]\n",
      "{'coreConfig': ['(1s1/2)', '(2s1/2)', '(2p1/2)', '(2p3/2)'], 'valenceConfig': ['(3s1/2)', '(3p1/2)', '(3p3/2)'], 'stateOccupation': [{'state': '(3p3/2)', 'spinUp': 0.0, 'spinDown': 0.0}, {'state': '(3p1/2)', 'spinUp': 0.4, 'spinDown': 0.4}]} [{'state': '(2p1/2)', 'spinUp': 0.7333333333, 'spinDown': 0.7333333333}, {'state': '(2p3/2)', 'spinUp': 1.4666666667, 'spinDown': 1.4666666667}]\n",
      "{'coreConfig': ['(1s1/2)', '(2s1/2)', '(2p1/2)', '(2p3/2)'], 'valenceConfig': ['(3s1/2)', '(3p1/2)', '(3p3/2)'], 'stateOccupation': [{'state': '(3p3/2)', 'spinUp': 0.0, 'spinDown': 0.0}, {'state': '(3p1/2)', 'spinUp': 0.375, 'spinDown': 0.375}]} [{'state': '(2p1/2)', 'spinUp': 0.75, 'spinDown': 0.75}, {'state': '(2p3/2)', 'spinUp': 1.5, 'spinDown': 1.5}]\n",
      "{'coreConfig': ['(1s1/2)', '(2s1/2)', '(2p1/2)', '(2p3/2)'], 'valenceConfig': ['(3s1/2)', '(3p1/2)', '(3p3/2)'], 'stateOccupation': [{'state': '(3p3/2)', 'spinUp': 0.0, 'spinDown': 0.0}, {'state': '(3p1/2)', 'spinUp': 0.35, 'spinDown': 0.35}]} [{'state': '(2p1/2)', 'spinUp': 0.7666666667, 'spinDown': 0.7666666667}, {'state': '(2p3/2)', 'spinUp': 1.5333333333, 'spinDown': 1.5333333333}]\n",
      "{'coreConfig': ['(1s1/2)', '(2s1/2)', '(2p1/2)', '(2p3/2)'], 'valenceConfig': ['(3s1/2)', '(3p1/2)', '(3p3/2)'], 'stateOccupation': [{'state': '(3p3/2)', 'spinUp': 0.0, 'spinDown': 0.0}, {'state': '(3p1/2)', 'spinUp': 0.325, 'spinDown': 0.325}]} [{'state': '(2p1/2)', 'spinUp': 0.7833333333, 'spinDown': 0.7833333333}, {'state': '(2p3/2)', 'spinUp': 1.5666666667, 'spinDown': 1.5666666667}]\n",
      "{'coreConfig': ['(1s1/2)', '(2s1/2)', '(2p1/2)', '(2p3/2)'], 'valenceConfig': ['(3s1/2)', '(3p1/2)', '(3p3/2)'], 'stateOccupation': [{'state': '(3p3/2)', 'spinUp': 0.0, 'spinDown': 0.0}, {'state': '(3p1/2)', 'spinUp': 0.3, 'spinDown': 0.3}]} [{'state': '(2p1/2)', 'spinUp': 0.8, 'spinDown': 0.8}, {'state': '(2p3/2)', 'spinUp': 1.6, 'spinDown': 1.6}]\n",
      "{'coreConfig': ['(1s1/2)', '(2s1/2)', '(2p1/2)', '(2p3/2)'], 'valenceConfig': ['(3s1/2)', '(3p1/2)', '(3p3/2)'], 'stateOccupation': [{'state': '(3p3/2)', 'spinUp': 0.0, 'spinDown': 0.0}, {'state': '(3p1/2)', 'spinUp': 0.275, 'spinDown': 0.275}]} [{'state': '(2p1/2)', 'spinUp': 0.8166666667, 'spinDown': 0.8166666667}, {'state': '(2p3/2)', 'spinUp': 1.6333333333, 'spinDown': 1.6333333333}]\n",
      "{'coreConfig': ['(1s1/2)', '(2s1/2)', '(2p1/2)', '(2p3/2)'], 'valenceConfig': ['(3s1/2)', '(3p1/2)', '(3p3/2)'], 'stateOccupation': [{'state': '(3p3/2)', 'spinUp': 0.0, 'spinDown': 0.0}, {'state': '(3p1/2)', 'spinUp': 0.25, 'spinDown': 0.25}]} [{'state': '(2p1/2)', 'spinUp': 0.8333333333, 'spinDown': 0.8333333333}, {'state': '(2p3/2)', 'spinUp': 1.6666666667, 'spinDown': 1.6666666667}]\n",
      "{'coreConfig': ['(1s1/2)', '(2s1/2)', '(2p1/2)', '(2p3/2)'], 'valenceConfig': ['(3s1/2)', '(3p1/2)', '(3p3/2)'], 'stateOccupation': [{'state': '(3p3/2)', 'spinUp': 0.0, 'spinDown': 0.0}, {'state': '(3p1/2)', 'spinUp': 0.225, 'spinDown': 0.225}]} [{'state': '(2p1/2)', 'spinUp': 0.85, 'spinDown': 0.85}, {'state': '(2p3/2)', 'spinUp': 1.7, 'spinDown': 1.7}]\n",
      "{'coreConfig': ['(1s1/2)', '(2s1/2)', '(2p1/2)', '(2p3/2)'], 'valenceConfig': ['(3s1/2)', '(3p1/2)', '(3p3/2)'], 'stateOccupation': [{'state': '(3p3/2)', 'spinUp': 0.0, 'spinDown': 0.0}, {'state': '(3p1/2)', 'spinUp': 0.2, 'spinDown': 0.2}]} [{'state': '(2p1/2)', 'spinUp': 0.8666666667, 'spinDown': 0.8666666667}, {'state': '(2p3/2)', 'spinUp': 1.7333333333, 'spinDown': 1.7333333333}]\n",
      "{'coreConfig': ['(1s1/2)', '(2s1/2)', '(2p1/2)', '(2p3/2)'], 'valenceConfig': ['(3s1/2)', '(3p1/2)', '(3p3/2)'], 'stateOccupation': [{'state': '(3p3/2)', 'spinUp': 0.0, 'spinDown': 0.0}, {'state': '(3p1/2)', 'spinUp': 0.175, 'spinDown': 0.175}]} [{'state': '(2p1/2)', 'spinUp': 0.8833333333, 'spinDown': 0.8833333333}, {'state': '(2p3/2)', 'spinUp': 1.7666666667, 'spinDown': 1.7666666667}]\n",
      "{'coreConfig': ['(1s1/2)', '(2s1/2)', '(2p1/2)', '(2p3/2)'], 'valenceConfig': ['(3s1/2)', '(3p1/2)', '(3p3/2)'], 'stateOccupation': [{'state': '(3p3/2)', 'spinUp': 0.0, 'spinDown': 0.0}, {'state': '(3p1/2)', 'spinUp': 0.15, 'spinDown': 0.15}]} [{'state': '(2p1/2)', 'spinUp': 0.9, 'spinDown': 0.9}, {'state': '(2p3/2)', 'spinUp': 1.8, 'spinDown': 1.8}]\n",
      "{'coreConfig': ['(1s1/2)', '(2s1/2)', '(2p1/2)', '(2p3/2)'], 'valenceConfig': ['(3s1/2)', '(3p1/2)', '(3p3/2)'], 'stateOccupation': [{'state': '(3p3/2)', 'spinUp': 0.0, 'spinDown': 0.0}, {'state': '(3p1/2)', 'spinUp': 0.125, 'spinDown': 0.125}]} [{'state': '(2p1/2)', 'spinUp': 0.9166666667, 'spinDown': 0.9166666667}, {'state': '(2p3/2)', 'spinUp': 1.8333333333, 'spinDown': 1.8333333333}]\n",
      "{'coreConfig': ['(1s1/2)', '(2s1/2)', '(2p1/2)', '(2p3/2)'], 'valenceConfig': ['(3s1/2)', '(3p1/2)', '(3p3/2)'], 'stateOccupation': [{'state': '(3p3/2)', 'spinUp': 0.0, 'spinDown': 0.0}, {'state': '(3p1/2)', 'spinUp': 0.1, 'spinDown': 0.1}]} [{'state': '(2p1/2)', 'spinUp': 0.9333333333, 'spinDown': 0.9333333333}, {'state': '(2p3/2)', 'spinUp': 1.8666666667, 'spinDown': 1.8666666667}]\n",
      "{'coreConfig': ['(1s1/2)', '(2s1/2)', '(2p1/2)', '(2p3/2)'], 'valenceConfig': ['(3s1/2)', '(3p1/2)', '(3p3/2)'], 'stateOccupation': [{'state': '(3p3/2)', 'spinUp': 0.0, 'spinDown': 0.0}, {'state': '(3p1/2)', 'spinUp': 0.075, 'spinDown': 0.075}]} [{'state': '(2p1/2)', 'spinUp': 0.95, 'spinDown': 0.95}, {'state': '(2p3/2)', 'spinUp': 1.9, 'spinDown': 1.9}]\n",
      "{'coreConfig': ['(1s1/2)', '(2s1/2)', '(2p1/2)', '(2p3/2)'], 'valenceConfig': ['(3s1/2)', '(3p1/2)', '(3p3/2)'], 'stateOccupation': [{'state': '(3p3/2)', 'spinUp': 0.0, 'spinDown': 0.0}, {'state': '(3p1/2)', 'spinUp': 0.05, 'spinDown': 0.05}]} [{'state': '(2p1/2)', 'spinUp': 0.9666666667, 'spinDown': 0.9666666667}, {'state': '(2p3/2)', 'spinUp': 1.9333333333, 'spinDown': 1.9333333333}]\n",
      "{'coreConfig': ['(1s1/2)', '(2s1/2)', '(2p1/2)', '(2p3/2)'], 'valenceConfig': ['(3s1/2)', '(3p1/2)', '(3p3/2)'], 'stateOccupation': [{'state': '(3p3/2)', 'spinUp': 0.0, 'spinDown': 0.0}, {'state': '(3p1/2)', 'spinUp': 0.025, 'spinDown': 0.025}]} [{'state': '(2p1/2)', 'spinUp': 0.9833333333, 'spinDown': 0.9833333333}, {'state': '(2p3/2)', 'spinUp': 1.9666666667, 'spinDown': 1.9666666667}]\n"
     ]
    }
   ],
   "source": [
    "for node in results[-1]:\n",
    "    \n",
    "    print(node.inputs.fleurinpdata.inp_dict['atomSpecies'][0]['electronConfig'], node.inputs.fleurinpdata.inp_dict['atomSpecies'][1]['electronConfig']['stateOccupation'])"
   ]
  },
  {
   "cell_type": "code",
   "execution_count": 9,
   "id": "19588d70-f701-46c3-acda-6e085cfaf5a3",
   "metadata": {},
   "outputs": [
    {
     "name": "stdout",
     "output_type": "stream",
     "text": [
      "started fleur calc with pk: 151094\n",
      "started fleur calc with pk: 151098\n",
      "started fleur calc with pk: 151102\n",
      "started fleur calc with pk: 151106\n"
     ]
    }
   ],
   "source": [
    "options = {'resources' : {\"num_machines\": 1, \"num_mpiprocs_per_machine\" : 2},\n",
    "               'queue_name' : 'th1-2020-32',\n",
    "               'withmpi' : True,\n",
    "               'max_wallclock_seconds' : 600}\n",
    "\n",
    "node_list = []\n",
    "\n",
    "for inp in inps:\n",
    "    fleurmode = FleurinpModifier(inp)\n",
    "    dict_change = { \n",
    "        'itmax' : 100 }\n",
    "\n",
    "    fleurmode.set_inpchanges(dict_change)\n",
    "    inp1 = fleurmode.freeze()\n",
    "    dic = inp1.inp_dict\n",
    "\n",
    "    inputs = FleurCalculation.get_builder()\n",
    "    inputs.code = load_code(150)\n",
    "    inputs.fleurinpdata = inp1\n",
    "    inputs.metadata.options  = options \n",
    "        \n",
    "        \n",
    "    fleur_proc_node = submit(FleurCalculation, **inputs)\n",
    "    \n",
    "    print('started fleur calc with pk:' , fleur_proc_node.pk)\n",
    "    \n",
    "\n",
    "    \n",
    "    node_list.append(fleur_proc_node) "
   ]
  },
  {
   "cell_type": "code",
   "execution_count": null,
   "id": "6b9eb7a8-a551-4a9d-9239-c97c1813502b",
   "metadata": {},
   "outputs": [],
   "source": []
  },
  {
   "cell_type": "code",
   "execution_count": 10,
   "id": "991cd83f-9b01-4775-8630-1f238ca7e735",
   "metadata": {},
   "outputs": [
    {
     "name": "stdout",
     "output_type": "stream",
     "text": [
      "uuid: 53dc8199-43a9-4660-bd56-6aefb6fb216c (pk: 150514)\n",
      "(6p3/2) (6p1/2)\n",
      "started fleur calc with pk: 151133\n",
      "uuid: b2bca846-4943-4994-b354-f6b2f6af6a02 (pk: 150516)\n",
      "(4p3/2) (4p1/2)\n",
      "started fleur calc with pk: 151140\n",
      "uuid: 6cf8b0d5-af80-4bba-9350-46a4d7f4b6ab (pk: 150518)\n",
      "(5p3/2) (5p1/2)\n",
      "started fleur calc with pk: 151147\n",
      "uuid: e049a8b5-263b-4d20-ac33-f72e62077fc7 (pk: 150512)\n",
      "(2p3/2) (2p1/2)\n",
      "started fleur calc with pk: 151154\n"
     ]
    }
   ],
   "source": [
    "node_list1 = []\n",
    "\n",
    "\n",
    "options = {'resources' : {\"num_machines\": 1, \"num_mpiprocs_per_machine\" : 2},\n",
    "               'queue_name' : 'th1-2020-32',\n",
    "               'withmpi' : True,\n",
    "               'max_wallclock_seconds' : 600}\n",
    "fleur = load_code(150)\n",
    "\n",
    "for inp in inps:\n",
    "    \n",
    "    print(inp)\n",
    "    fm = FleurinpModifier(inp)\n",
    "    dict_change = { \n",
    "        'itmax' : 100 }\n",
    "\n",
    "    fm.set_inpchanges(dict_change)\n",
    "    dic = inp.inp_dict\n",
    "    \n",
    "    inp = fm.freeze()\n",
    "    \n",
    "    \n",
    "    \n",
    "    for species in dic['atomSpecies']:\n",
    "        \n",
    "        if species['name'] != 'Oxygen (O)':\n",
    "            \n",
    "            X_name = species['name']\n",
    "            \n",
    "            X_orb = species['electronConfig']['valenceConfig'][-1]\n",
    "            \n",
    "            X_orb1 = species['electronConfig']['valenceConfig'][-2]\n",
    "\n",
    "    fm = FleurinpModifier(inp)\n",
    "\n",
    "\n",
    "    \n",
    "    changes = []\n",
    "    \n",
    "\n",
    "    print(X_orb, X_orb1)\n",
    "            \n",
    "    \n",
    "        #print(charge , Mg_occ , O_occ)\n",
    "            \n",
    "    changes.append({'state': '(2p1/2)' , 'spinup': 0.833333333 ,  'spindown' : 0.833333333  })\n",
    "    changes.append({'state': '(2p3/2)',\n",
    "         'spinUp': 1.6666666667 ,\n",
    "         'spinDown': 1.6666666667  })\n",
    "     \n",
    "    fm.set_species('Oxygen (O)', { 'electronconfig': { 'stateoccupation': changes}})\n",
    "    \n",
    "    \n",
    "    changes = []\n",
    "    changes.append({'state': X_orb, 'spinup': 0 , 'spindown' : 0 })\n",
    "    changes.append({'state': X_orb1, 'spinUp': 0.25, 'spinDown': 0.25})\n",
    "            \n",
    "    fm.set_species(X_name, { 'electronconfig': { 'stateoccupation': changes}})\n",
    "        \n",
    "        \n",
    "                   \n",
    "    mod_inp = fm.freeze()\n",
    "    inputs = FleurCalculation.get_builder()\n",
    "    inputs.code = fleur\n",
    "    inputs.fleurinpdata = mod_inp\n",
    "    inputs.metadata.options  = options \n",
    "        \n",
    "        \n",
    "    fleur_proc_node = submit(FleurCalculation, **inputs)\n",
    "    print('started fleur calc with pk:' , fleur_proc_node.pk)\n",
    "    \n",
    "    \n",
    "    node_list1.append(fleur_proc_node) "
   ]
  },
  {
   "cell_type": "code",
   "execution_count": 23,
   "id": "d94c7d06-fee6-4207-8d71-e09272c49602",
   "metadata": {},
   "outputs": [],
   "source": [
    "res = [ load_node(150476) , load_node(150499) ]"
   ]
  },
  {
   "cell_type": "code",
   "execution_count": 13,
   "id": "b7e6ec9b-7350-4341-8188-e88736211d1c",
   "metadata": {},
   "outputs": [
    {
     "name": "stdout",
     "output_type": "stream",
     "text": [
      "Thallium (Tl)\n",
      "100\n",
      "Gallium (Ga)\n",
      "17\n",
      "Indium (In)\n",
      "17\n",
      "Boron (B)\n",
      "100\n",
      "Gallium (Ga)\n",
      "16\n",
      "Indium (In)\n",
      "15\n",
      "Boron (B)\n",
      "100\n"
     ]
    }
   ],
   "source": [
    "for n in node_list:\n",
    "    \n",
    "    \n",
    "    if n.is_finished_ok:\n",
    "        print(n.inputs.fleurinpdata.inp_dict['atomSpecies'][0]['name'])\n",
    "        print(n.outputs.output_parameters.get_dict()['number_of_iterations'])\n",
    "        \n",
    "    #print( n.inputs.fleurinpdata.inp_dict['atomSpecies'])\n",
    "    \n",
    "    \n",
    "    \n",
    "for n in node_list1:\n",
    "    \n",
    "    if n.is_finished_ok:\n",
    "        print(n.inputs.fleurinpdata.inp_dict['atomSpecies'][0]['name'])\n",
    "        print(n.outputs.output_parameters.get_dict()['number_of_iterations'])\n",
    "        \n",
    "    #print( n.inputs.fleurinpdata.inp_dict['atomSpecies'])"
   ]
  }
 ],
 "metadata": {
  "kernelspec": {
   "display_name": "AiiDA",
   "language": "python",
   "name": "aiida"
  },
  "language_info": {
   "codemirror_mode": {
    "name": "ipython",
    "version": 3
   },
   "file_extension": ".py",
   "mimetype": "text/x-python",
   "name": "python",
   "nbconvert_exporter": "python",
   "pygments_lexer": "ipython3",
   "version": "3.8.10"
  }
 },
 "nbformat": 4,
 "nbformat_minor": 5
}
