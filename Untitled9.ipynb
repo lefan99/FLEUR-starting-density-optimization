{
 "cells": [
  {
   "cell_type": "code",
   "execution_count": 1,
   "id": "115d6fbe-cd38-4592-8309-7ebd82375cba",
   "metadata": {},
   "outputs": [],
   "source": [
    "import json"
   ]
  },
  {
   "cell_type": "code",
   "execution_count": 3,
   "id": "940c8e44-4c0b-41b3-8c88-3c8d6831f48a",
   "metadata": {},
   "outputs": [
    {
     "name": "stdout",
     "output_type": "stream",
     "text": [
      "['Untitled Folder', 'Untitled.ipynb', '.ipynb_checkpoints', 'Copper test.py', '716.dot.pdf', 'test.py', 'results_2871_c.json', 'constraints.json', 'Untitled7.ipynb', 'results_2875.json', 'results_Pb.json', 'results_Si.json', 'all_unaries.json', 'test2.py', 'results_2877.json', 'results_At.json', 'test_starting', 'inpgen_itmax.py', '__pycache__', 'Fe_1.json', 'Cu_1.json', 'Untitled1.ipynb', 'acwf-verification_oxides-verification-PBE-v1_structures.aiida', 'oxidesscript', 'Untitled2.ipynb', 'test.json', 'test-Copy1.json', 'Untitled4.ipynb', 'myfile.json', 'results_2862.json', 'results_2863.json', 'results_2865.json', 'standard_calc_itmax1.json', 'Untitled5.ipynb', 'results_2861_c.json', 'results_2863_c.json', 'results_2864_c.json', 'results_2866_c.json', 'results_2871.json', 'table', 'table.csv', 'Untitled6.ipynb', 'results_2874.json', 'results_Se.json', 'results_Al.json', 'Untitled8.ipynb', 'test3.py', 'test3-Copy1.py', 'starting_density_combination.py', 'copyfleur_starting_density-Copy1.py', 'Fe_2.json', 'acwf-verification_unaries-verification-PBE-v1_structures.aiida', 'Untitled3.ipynb', 'Untitled9.ipynb', 'test-Copy3.json', 'test-Copy2.json', 'results_2861.json', 'results_2864.json', 'results_2866.json', 'fleur_starting_density.py', 'results_2870.json', 'results_2862_c.json', 'results_2865_c.json', 'results_2870_c.json', 'results_2873.json', 'results_In.json']\n"
     ]
    }
   ],
   "source": [
    "import os\n",
    "dir_n_files = os.listdir()\n"
   ]
  },
  {
   "cell_type": "code",
   "execution_count": 6,
   "id": "07970c03-9bdb-490b-888a-a50054ef2dc4",
   "metadata": {},
   "outputs": [],
   "source": [
    "json_files = [k for k in dir_n_files if '.json' in k]"
   ]
  },
  {
   "cell_type": "code",
   "execution_count": 7,
   "id": "edb36d99-343e-4d01-8b75-0e2bbb4556b5",
   "metadata": {},
   "outputs": [],
   "source": [
    "results = [ k  for k in json_files if \"results\" in k]"
   ]
  },
  {
   "cell_type": "code",
   "execution_count": 9,
   "id": "6a474cf3-241b-4382-b650-43e901295cc9",
   "metadata": {},
   "outputs": [],
   "source": [
    "results1 = [k for k in results if '_c' not in k]"
   ]
  },
  {
   "cell_type": "code",
   "execution_count": 21,
   "id": "1b7dea20-2dd8-4e5e-b06b-58d81ce15c80",
   "metadata": {
    "tags": []
   },
   "outputs": [],
   "source": [
    "del(results1[-1])"
   ]
  },
  {
   "cell_type": "code",
   "execution_count": 29,
   "id": "86ac243e-dce1-40a7-bd54-524660ce66cc",
   "metadata": {
    "tags": []
   },
   "outputs": [],
   "source": [
    "results1.append('all_unaries.json')"
   ]
  },
  {
   "cell_type": "code",
   "execution_count": 30,
   "id": "ca9be939-4baf-4904-8d1e-884aa82ad842",
   "metadata": {
    "tags": []
   },
   "outputs": [],
   "source": [
    "data1 = {}\n",
    "\n",
    "for filename in results1: \n",
    "    \n",
    "    \n",
    "    file2 = open(filename , 'r')\n",
    "    data2 = json.load(file2)\n",
    "    data1.update(data2)\n",
    "    \n",
    "\n",
    "                 \n",
    "    "
   ]
  },
  {
   "cell_type": "code",
   "execution_count": 33,
   "id": "b6d2a572-63ea-443d-8524-bb418bda3338",
   "metadata": {
    "tags": []
   },
   "outputs": [],
   "source": [
    "file = open('all_unaries.json' , 'w' )\n",
    "json.dump(data1 , file)"
   ]
  },
  {
   "cell_type": "code",
   "execution_count": 2,
   "id": "c48c2ca3-fb8c-46c4-a464-469446b94a1a",
   "metadata": {},
   "outputs": [],
   "source": [
    "file1 = open( 'temp2.json' , 'r') \n",
    "file2 = open( 'fasdasd.json', 'r' ) \n",
    "\n",
    "data1 = json.load(file1)\n",
    "data2 = json.load(file2)\n",
    "\n",
    "data1.update(data2)\n",
    "\n"
   ]
  },
  {
   "cell_type": "code",
   "execution_count": 9,
   "id": "7636b6e9-79b0-4871-987a-30d310d661d8",
   "metadata": {},
   "outputs": [],
   "source": [
    "file3 = open('last_temp.json' , 'w')\n",
    "\n",
    "json.dump(data1 , file3)"
   ]
  },
  {
   "cell_type": "code",
   "execution_count": 10,
   "id": "b435006b-07e2-45ab-9eb6-15a329f7dd42",
   "metadata": {},
   "outputs": [],
   "source": [
    "file4 = open('all_unaries.json' , 'r') \n",
    "file5 = open('last_temp.json' , 'r')\n",
    "\n",
    "data1 = json.load(file4)\n",
    "data2 = json.load(file5)\n",
    "\n",
    "\n",
    "data1.update(data2)"
   ]
  },
  {
   "cell_type": "code",
   "execution_count": 12,
   "id": "ed30c04e-e7f8-4445-bcd8-91d972260bc1",
   "metadata": {},
   "outputs": [],
   "source": [
    "file_l = open('end.json' , 'w')\n",
    "\n",
    "json.dump(data1 , file_l)"
   ]
  }
 ],
 "metadata": {
  "kernelspec": {
   "display_name": "AiiDA",
   "language": "python",
   "name": "aiida"
  },
  "language_info": {
   "codemirror_mode": {
    "name": "ipython",
    "version": 3
   },
   "file_extension": ".py",
   "mimetype": "text/x-python",
   "name": "python",
   "nbconvert_exporter": "python",
   "pygments_lexer": "ipython3",
   "version": "3.8.10"
  }
 },
 "nbformat": 4,
 "nbformat_minor": 5
}
