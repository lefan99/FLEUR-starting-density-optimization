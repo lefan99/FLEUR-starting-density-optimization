{
 "cells": [
  {
   "cell_type": "code",
   "execution_count": 1,
   "id": "554c3a82-407c-468a-a07e-ef408a0a2195",
   "metadata": {},
   "outputs": [
    {
     "data": {
      "text/plain": [
       "<aiida.manage.configuration.profile.Profile at 0x7f815a91a0a0>"
      ]
     },
     "execution_count": 1,
     "metadata": {},
     "output_type": "execute_result"
    }
   ],
   "source": [
    "from aiida_fleur.data.fleurinp import FleurinpData\n",
    "from aiida import load_profile\n",
    "from aiida.orm import Dict, load_node , load_code\n",
    "from aiida.engine import submit, run\n",
    "from aiida_fleur.calculation.fleurinputgen import FleurinputgenCalculation\n",
    "from aiida.plugins import DataFactory, CalculationFactory\n",
    "from aiida_fleur.calculation.fleur import FleurCalculation\n",
    "from aiida_fleur.data.fleurinpmodifier import FleurinpModifier\n",
    "from itertools import product\n",
    "import numpy as np\n",
    "import json\n",
    "import matplotlib.pyplot as plt\n",
    "import numpy as np\n",
    "import random\n",
    "from fleur_starting_density import oxides_charge3\n",
    "\n",
    "load_profile()"
   ]
  },
  {
   "cell_type": "code",
   "execution_count": 2,
   "id": "6c5e7f7c-12aa-41aa-b639-cf22d6f1203b",
   "metadata": {},
   "outputs": [],
   "source": [
    "calc = [ 151356 ]\n",
    "\n",
    "\n",
    "inps = []\n",
    "\n",
    "for number in calc:\n",
    "    \n",
    "    inps.append(load_node(number).outputs.fleurinpData)"
   ]
  },
  {
   "cell_type": "code",
   "execution_count": 3,
   "id": "555093aa-b4cc-47a3-88eb-b19c9185d2ce",
   "metadata": {},
   "outputs": [],
   "source": [
    "inp = inps[0]"
   ]
  },
  {
   "cell_type": "code",
   "execution_count": 18,
   "id": "0da41ade-467d-4cce-97b0-e8d5943122ef",
   "metadata": {},
   "outputs": [
    {
     "data": {
      "text/plain": [
       "[{'name': 'Copper (Cu)',\n",
       "  'element': 'Cu',\n",
       "  'mtSphere': {'radius': 2.38, 'gridPoints': 787, 'logIncrement': 0.016},\n",
       "  'prodBasis': {'lcutm': 4, 'lcutwf': 8, 'select': '4 0 4 2'},\n",
       "  'modInitDen': {'flipSpinPhi': 0.0,\n",
       "   'flipSpinScale': False,\n",
       "   'flipSpinTheta': 0.0},\n",
       "  'atomicNumber': 29,\n",
       "  'atomicCutoffs': {'lmax': 8, 'lnonsphr': 6},\n",
       "  'electronConfig': {'coreConfig': ['(1s1/2)',\n",
       "    '(2s1/2)',\n",
       "    '(2p1/2)',\n",
       "    '(2p3/2)',\n",
       "    '(3s1/2)',\n",
       "    '(3p1/2)',\n",
       "    '(3p3/2)'],\n",
       "   'valenceConfig': ['(4s1/2)', '(3d3/2)', '(3d5/2)'],\n",
       "   'stateOccupation': [{'state': '(4s1/2)', 'spinUp': 0.9, 'spinDown': 0.9},\n",
       "    {'state': '(3d3/2)', 'spinUp': 1.6, 'spinDown': 1.6}]},\n",
       "  'energyParameters': {'d': 3, 'f': 4, 'p': 4, 's': 4}},\n",
       " {'name': 'Oxygen (O)',\n",
       "  'element': 'O',\n",
       "  'mtSphere': {'radius': 1.49, 'gridPoints': 493, 'logIncrement': 0.021},\n",
       "  'prodBasis': {'lcutm': 4, 'lcutwf': 6, 'select': '4 0 4 2'},\n",
       "  'modInitDen': {'flipSpinPhi': 0.0,\n",
       "   'flipSpinScale': False,\n",
       "   'flipSpinTheta': 0.0},\n",
       "  'atomicNumber': 8,\n",
       "  'atomicCutoffs': {'lmax': 6, 'lnonsphr': 4},\n",
       "  'electronConfig': {'coreConfig': ['(1s1/2)'],\n",
       "   'valenceConfig': ['(2s1/2)', '(2p1/2)', '(2p3/2)'],\n",
       "   'stateOccupation': [{'state': '(2p1/2)',\n",
       "     'spinUp': 0.66666667,\n",
       "     'spinDown': 0.66666667},\n",
       "    {'state': '(2p3/2)', 'spinUp': 1.33333333, 'spinDown': 1.33333333}]},\n",
       "  'energyParameters': {'d': 3, 'f': 4, 'p': 2, 's': 2}}]"
      ]
     },
     "execution_count": 18,
     "metadata": {},
     "output_type": "execute_result"
    }
   ],
   "source": [
    "inp.inp_dict['atomSpecies']"
   ]
  },
  {
   "cell_type": "code",
   "execution_count": 5,
   "id": "3639c1f8-3469-4922-9f21-3ca6331344e3",
   "metadata": {},
   "outputs": [],
   "source": [
    "fm = FleurinpModifier(inp)\n",
    "\n",
    "charge = 1/20\n",
    "\n",
    "changes = []\n",
    "\n",
    "\n",
    "\n",
    "\n",
    "\n",
    "#print(charge , Mg_occ , O_occ)\n",
    "\n",
    "changes.append({'state': '(4s1/2)' , 'spinup': 0.9 , 'spindown' : 0.9 })\n",
    "changes.append({'state': '(3d3/2)',\n",
    " 'spinUp': 1.6,\n",
    " 'spinDown': 1.6 })\n",
    "\n",
    "fm.set_species('Copper (Cu)', { 'electronconfig': { 'stateoccupation': changes}})\n",
    "\n",
    "inp = fm.freeze()"
   ]
  },
  {
   "cell_type": "code",
   "execution_count": null,
   "id": "8ad9e8ee-ea92-4ac6-ac39-ef3fc43f36b7",
   "metadata": {},
   "outputs": [],
   "source": []
  },
  {
   "cell_type": "code",
   "execution_count": 7,
   "id": "41d5ab48-4efb-4509-bf14-d4a962bf9d6c",
   "metadata": {},
   "outputs": [],
   "source": [
    "def oxides_charge5(inp_init ,fleur = load_code(151178) , gridsize = 20 ):\n",
    "    \n",
    "    \n",
    "    fleurmode = FleurinpModifier(inp_init)\n",
    "    dict_change = { \n",
    "    'itmax' : 1 }\n",
    "\n",
    "    fleurmode.set_inpchanges(dict_change)\n",
    "    inp = fleurmode.freeze()\n",
    "    dic = inp.inp_dict\n",
    "\n",
    "    node_list = []\n",
    "    \n",
    "\n",
    "\n",
    "    options = {'resources' : {\"num_machines\": 1, \"num_mpiprocs_per_machine\" : 2},\n",
    "               'queue_name' : 'th1-2020-32',\n",
    "               'withmpi' : True,\n",
    "               'max_wallclock_seconds' : 600}\n",
    "\n",
    "    O_occ = 2\n",
    "    X_occ = 1.6\n",
    "\n",
    "    \n",
    "    \n",
    "    \n",
    "    \n",
    "    for species in dic['atomSpecies']:\n",
    "        \n",
    "        if species['name'] != 'Oxygen (O)':\n",
    "            \n",
    "            X_name = species['name']\n",
    "            \n",
    "            X_orb1 = species['electronConfig']['valenceConfig'][-3]\n",
    "            \n",
    "            X_orb2 = species['electronConfig']['valenceConfig'][-2]\n",
    "            \n",
    "            \n",
    "            \n",
    "    for i in range(gridsize):\n",
    "    \n",
    "        fm = FleurinpModifier(inp)\n",
    "\n",
    "        charge = 1/20\n",
    "    \n",
    "        changes = []\n",
    "    \n",
    "\n",
    "    \n",
    "            \n",
    "    \n",
    "        #print(charge , Mg_occ , O_occ)\n",
    "            \n",
    "        changes.append({'state': '(2p1/2)' , 'spinup': O_occ/3 , 'spindown' : O_occ/3 })\n",
    "        changes.append({'state': '(2p3/2)',\n",
    "         'spinUp': O_occ * 2 / 3 ,\n",
    "         'spinDown': O_occ * 2 / 3 })\n",
    "     \n",
    "        fm.set_species('Oxygen (O)', { 'electronconfig': { 'stateoccupation': changes}})\n",
    "    \n",
    "    \n",
    "        changes = []\n",
    "        #changes.append({'state': X_orb1, 'spinup': 0 , 'spindown' : 0 })\n",
    "        changes.append({'state': X_orb2, 'spinup': X_occ , 'spindown' : X_occ })\n",
    "#    changes.append({'state': '(3p1/2)', 'spinUp': 0.0, 'spinDown': 0.0})\n",
    "        changes.append({'state': X_orb1, 'spinup': 0.9 , 'spindown' : 0.9 })\n",
    "    \n",
    "        fm.set_species(X_name, { 'electronconfig': { 'stateoccupation': changes}})\n",
    "        \n",
    "        \n",
    "                   \n",
    "        mod_inp = fm.freeze()\n",
    "        inputs = FleurCalculation.get_builder()\n",
    "        inputs.code = fleur\n",
    "        inputs.fleurinpdata = mod_inp\n",
    "        inputs.metadata.options  = options \n",
    "        \n",
    "        \n",
    "        fleur_proc_node = submit(FleurCalculation, **inputs)\n",
    "    \n",
    "        print('started fleur calc with pk:' , fleur_proc_node.pk)\n",
    "    \n",
    "    \n",
    "        node_list.append(fleur_proc_node) \n",
    "            \n",
    "        O_occ += charge \n",
    "        X_occ -= charge/2      \n",
    "\n",
    "        \n",
    "    return node_list\n"
   ]
  },
  {
   "cell_type": "code",
   "execution_count": 8,
   "id": "0995c2d2-3588-4ef0-92a4-3da2166bf3b2",
   "metadata": {},
   "outputs": [
    {
     "name": "stdout",
     "output_type": "stream",
     "text": [
      "started fleur calc with pk: 153134\n",
      "started fleur calc with pk: 153138\n",
      "started fleur calc with pk: 153142\n",
      "started fleur calc with pk: 153146\n",
      "started fleur calc with pk: 153150\n",
      "started fleur calc with pk: 153154\n",
      "started fleur calc with pk: 153158\n",
      "started fleur calc with pk: 153162\n",
      "started fleur calc with pk: 153166\n",
      "started fleur calc with pk: 153170\n",
      "started fleur calc with pk: 153174\n",
      "started fleur calc with pk: 153178\n",
      "started fleur calc with pk: 153182\n",
      "started fleur calc with pk: 153186\n",
      "started fleur calc with pk: 153190\n",
      "started fleur calc with pk: 153194\n",
      "started fleur calc with pk: 153198\n",
      "started fleur calc with pk: 153202\n",
      "started fleur calc with pk: 153206\n",
      "started fleur calc with pk: 153210\n"
     ]
    }
   ],
   "source": [
    "results = []\n",
    "\n",
    "results.append(oxides_charge5( inp , fleur = load_code(151178)))"
   ]
  },
  {
   "cell_type": "code",
   "execution_count": 9,
   "id": "64621f59-bc91-4aa1-83f4-f7b047f935ba",
   "metadata": {},
   "outputs": [],
   "source": [
    "import pickle \n",
    "\n",
    "\n",
    "file = open('pickle/results_s_charge_transfer_d_copper_s_09.pickle' , 'wb')\n",
    "pickle.dump(results , file )"
   ]
  },
  {
   "cell_type": "code",
   "execution_count": 10,
   "id": "a41f3f4e-9c87-4150-8a5c-dd56cfba8024",
   "metadata": {},
   "outputs": [],
   "source": [
    "def plot(lis) :\n",
    "    \n",
    "    x = []\n",
    "    y = []\n",
    "    \n",
    "    for species in lis[0].inputs.fleurinpdata.inp_dict['atomSpecies']:\n",
    "\n",
    "        if species['name'] != 'Oxygen (O)':\n",
    "\n",
    "            X_name = species['name']\n",
    "    \n",
    "    \n",
    "    for node in lis:\n",
    "        \n",
    "        if node.is_finished_ok:\n",
    "    \n",
    "            y.append( node.outputs.output_parameters.get_dict()['density_convergence'] )\n",
    "        \n",
    "            x.append(2 * (node.inputs.fleurinpdata.inp_dict['atomSpecies'][1]['electronConfig']['stateOccupation'][0]['spinUp'] + node.inputs.fleurinpdata.inp_dict['atomSpecies'][1]['electronConfig']['stateOccupation'][1]['spinUp'] ) -4)\n",
    "\n",
    "    \n",
    "    plt.plot(x,y, 'x') \n",
    "    plt.xlabel('total charge transfer to Oxygen')\n",
    "    plt.ylabel('distance after 1 iteration')\n",
    "    plt.title(X_name)\n",
    "    #plt.savefig('MgO_sc_loop.pdf')\n",
    "    plt.show()\n",
    "    "
   ]
  },
  {
   "cell_type": "code",
   "execution_count": 12,
   "id": "22d7caea-bcc7-4350-910a-bda0e8f59dad",
   "metadata": {},
   "outputs": [
    {
     "data": {
      "image/png": "[encoded data removed]",
      "text/plain": [
       "<Figure size 432x288 with 1 Axes>"
      ]
     },
     "metadata": {
      "needs_background": "light"
     },
     "output_type": "display_data"
    }
   ],
   "source": [
    "plot(results[0])"
   ]
  },
  {
   "cell_type": "code",
   "execution_count": 13,
   "id": "26540aca-9587-41b1-aea8-a93dddba0284",
   "metadata": {},
   "outputs": [],
   "source": [
    "def oxides_charge6(inp_init ,fleur = load_code(151178) , gridsize = 20 ):\n",
    "    \n",
    "    \n",
    "    fleurmode = FleurinpModifier(inp_init)\n",
    "    dict_change = { \n",
    "    'itmax' : 1 }\n",
    "\n",
    "    fleurmode.set_inpchanges(dict_change)\n",
    "    inp = fleurmode.freeze()\n",
    "    dic = inp.inp_dict\n",
    "\n",
    "    node_list = []\n",
    "    \n",
    "\n",
    "\n",
    "    options = {'resources' : {\"num_machines\": 1, \"num_mpiprocs_per_machine\" : 2},\n",
    "               'queue_name' : 'th1-2020-32',\n",
    "               'withmpi' : True,\n",
    "               'max_wallclock_seconds' : 600}\n",
    "\n",
    "    O_occ = 2\n",
    "    X_occ = 0.9\n",
    "\n",
    "    \n",
    "    \n",
    "    \n",
    "    \n",
    "    for species in dic['atomSpecies']:\n",
    "        \n",
    "        if species['name'] != 'Oxygen (O)':\n",
    "            \n",
    "            X_name = species['name']\n",
    "            \n",
    "            X_orb1 = species['electronConfig']['valenceConfig'][-3]\n",
    "            \n",
    "            X_orb2 = species['electronConfig']['valenceConfig'][-2]\n",
    "            \n",
    "            \n",
    "            \n",
    "    for i in range(gridsize):\n",
    "    \n",
    "        fm = FleurinpModifier(inp)\n",
    "\n",
    "        charge = 1/20\n",
    "    \n",
    "        changes = []\n",
    "    \n",
    "\n",
    "    \n",
    "            \n",
    "    \n",
    "        #print(charge , Mg_occ , O_occ)\n",
    "            \n",
    "        changes.append({'state': '(2p1/2)' , 'spinup': O_occ/3 , 'spindown' : O_occ/3 })\n",
    "        changes.append({'state': '(2p3/2)',\n",
    "         'spinUp': O_occ * 2 / 3 ,\n",
    "         'spinDown': O_occ * 2 / 3 })\n",
    "     \n",
    "        fm.set_species('Oxygen (O)', { 'electronconfig': { 'stateoccupation': changes}})\n",
    "    \n",
    "    \n",
    "        changes = []\n",
    "        #changes.append({'state': X_orb1, 'spinup': 0 , 'spindown' : 0 })\n",
    "        changes.append({'state': X_orb2, 'spinup': 1.6 , 'spindown' : 1.6 })\n",
    "#    changes.append({'state': '(3p1/2)', 'spinUp': 0.0, 'spinDown': 0.0})\n",
    "        changes.append({'state': X_orb1, 'spinup': X_occ  , 'spindown' : X_occ  })\n",
    "    \n",
    "        fm.set_species(X_name, { 'electronconfig': { 'stateoccupation': changes}})\n",
    "        \n",
    "        \n",
    "                   \n",
    "        mod_inp = fm.freeze()\n",
    "        inputs = FleurCalculation.get_builder()\n",
    "        inputs.code = fleur\n",
    "        inputs.fleurinpdata = mod_inp\n",
    "        inputs.metadata.options  = options \n",
    "        \n",
    "        \n",
    "        fleur_proc_node = submit(FleurCalculation, **inputs)\n",
    "    \n",
    "        print('started fleur calc with pk:' , fleur_proc_node.pk)\n",
    "    \n",
    "    \n",
    "        node_list.append(fleur_proc_node) \n",
    "            \n",
    "        O_occ += charge \n",
    "        X_occ -= charge/2      \n",
    "\n",
    "        \n",
    "    return node_list\n"
   ]
  },
  {
   "cell_type": "code",
   "execution_count": 15,
   "id": "ad348254-0554-4762-bb8a-9110a65c226a",
   "metadata": {
    "collapsed": true,
    "jupyter": {
     "outputs_hidden": true
    },
    "tags": []
   },
   "outputs": [
    {
     "name": "stdout",
     "output_type": "stream",
     "text": [
      "started fleur calc with pk: 153360\n",
      "started fleur calc with pk: 153364\n",
      "started fleur calc with pk: 153368\n",
      "started fleur calc with pk: 153372\n",
      "started fleur calc with pk: 153376\n",
      "started fleur calc with pk: 153380\n",
      "started fleur calc with pk: 153384\n",
      "started fleur calc with pk: 153388\n",
      "started fleur calc with pk: 153392\n",
      "started fleur calc with pk: 153396\n",
      "started fleur calc with pk: 153400\n",
      "started fleur calc with pk: 153404\n",
      "started fleur calc with pk: 153408\n",
      "started fleur calc with pk: 153412\n",
      "started fleur calc with pk: 153416\n",
      "started fleur calc with pk: 153420\n",
      "started fleur calc with pk: 153424\n",
      "started fleur calc with pk: 153428\n",
      "started fleur calc with pk: 153432\n",
      "started fleur calc with pk: 153436\n"
     ]
    }
   ],
   "source": [
    "results2 = oxides_charge6( inp , fleur = load_code(151178))"
   ]
  },
  {
   "cell_type": "code",
   "execution_count": 16,
   "id": "5dbbf2de-e94f-478e-8085-e119841b9c8a",
   "metadata": {},
   "outputs": [
    {
     "data": {
      "image/png": "[encoded data removed]",
      "text/plain": [
       "<Figure size 432x288 with 1 Axes>"
      ]
     },
     "metadata": {
      "needs_background": "light"
     },
     "output_type": "display_data"
    }
   ],
   "source": [
    "plot(results2)"
   ]
  },
  {
   "cell_type": "code",
   "execution_count": 17,
   "id": "307ad73e-a26b-4b5e-a0d0-83c7ffbef42c",
   "metadata": {},
   "outputs": [],
   "source": [
    "import pickle \n",
    "\n",
    "\n",
    "file = open('pickle/results_s_charge_transfer_d_copper_d_1.6.pickle' , 'wb')\n",
    "pickle.dump(results , file )"
   ]
  },
  {
   "cell_type": "code",
   "execution_count": 21,
   "id": "1209fb7a-1e33-4319-89fe-c1f2f5257aee",
   "metadata": {},
   "outputs": [
    {
     "data": {
      "text/plain": [
       "[{'name': 'Copper (Cu)',\n",
       "  'element': 'Cu',\n",
       "  'mtSphere': {'radius': 2.38, 'gridPoints': 787, 'logIncrement': 0.016},\n",
       "  'prodBasis': {'lcutm': 4, 'lcutwf': 8, 'select': '4 0 4 2'},\n",
       "  'modInitDen': {'flipSpinPhi': 0.0,\n",
       "   'flipSpinScale': False,\n",
       "   'flipSpinTheta': 0.0},\n",
       "  'atomicNumber': 29,\n",
       "  'atomicCutoffs': {'lmax': 8, 'lnonsphr': 6},\n",
       "  'electronConfig': {'coreConfig': ['(1s1/2)',\n",
       "    '(2s1/2)',\n",
       "    '(2p1/2)',\n",
       "    '(2p3/2)',\n",
       "    '(3s1/2)',\n",
       "    '(3p1/2)',\n",
       "    '(3p3/2)'],\n",
       "   'valenceConfig': ['(4s1/2)', '(3d3/2)', '(3d5/2)'],\n",
       "   'stateOccupation': [{'state': '(3d3/2)', 'spinUp': 1.6, 'spinDown': 1.6},\n",
       "    {'state': '(4s1/2)', 'spinUp': 0.425, 'spinDown': 0.425}]},\n",
       "  'energyParameters': {'d': 3, 'f': 4, 'p': 4, 's': 4}},\n",
       " {'name': 'Oxygen (O)',\n",
       "  'element': 'O',\n",
       "  'mtSphere': {'radius': 1.49, 'gridPoints': 493, 'logIncrement': 0.021},\n",
       "  'prodBasis': {'lcutm': 4, 'lcutwf': 6, 'select': '4 0 4 2'},\n",
       "  'modInitDen': {'flipSpinPhi': 0.0,\n",
       "   'flipSpinScale': False,\n",
       "   'flipSpinTheta': 0.0},\n",
       "  'atomicNumber': 8,\n",
       "  'atomicCutoffs': {'lmax': 6, 'lnonsphr': 4},\n",
       "  'electronConfig': {'coreConfig': ['(1s1/2)'],\n",
       "   'valenceConfig': ['(2s1/2)', '(2p1/2)', '(2p3/2)'],\n",
       "   'stateOccupation': [{'state': '(2p1/2)',\n",
       "     'spinUp': 0.9833333333,\n",
       "     'spinDown': 0.9833333333},\n",
       "    {'state': '(2p3/2)', 'spinUp': 1.9666666667, 'spinDown': 1.9666666667}]},\n",
       "  'energyParameters': {'d': 3, 'f': 4, 'p': 2, 's': 2}}]"
      ]
     },
     "execution_count": 21,
     "metadata": {},
     "output_type": "execute_result"
    }
   ],
   "source": [
    "results2[-1].inputs.fleurinpdata.inp_dict['atomSpecies']"
   ]
  }
 ],
 "metadata": {
  "kernelspec": {
   "display_name": "AiiDA",
   "language": "python",
   "name": "aiida"
  },
  "language_info": {
   "codemirror_mode": {
    "name": "ipython",
    "version": 3
   },
   "file_extension": ".py",
   "mimetype": "text/x-python",
   "name": "python",
   "nbconvert_exporter": "python",
   "pygments_lexer": "ipython3",
   "version": "3.8.10"
  }
 },
 "nbformat": 4,
 "nbformat_minor": 5
}
