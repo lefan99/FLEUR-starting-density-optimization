{
 "cells": [
  {
   "cell_type": "code",
   "execution_count": 1,
   "id": "42ad3308-4ce2-4fec-9a80-aa59882680a2",
   "metadata": {},
   "outputs": [
    {
     "data": {
      "text/plain": [
       "<aiida.manage.configuration.profile.Profile at 0x7fcbd4734fd0>"
      ]
     },
     "execution_count": 1,
     "metadata": {},
     "output_type": "execute_result"
    }
   ],
   "source": [
    "from aiida_fleur.data.fleurinp import FleurinpData\n",
    "from aiida import load_profile\n",
    "from aiida.orm import Dict, load_node , load_code\n",
    "from aiida.engine import submit, run\n",
    "from aiida_fleur.calculation.fleurinputgen import FleurinputgenCalculation\n",
    "from aiida.plugins import DataFactory, CalculationFactory\n",
    "from aiida_fleur.calculation.fleur import FleurCalculation\n",
    "from aiida_fleur.data.fleurinpmodifier import FleurinpModifier\n",
    "from itertools import product\n",
    "import numpy as np\n",
    "import json\n",
    "import matplotlib.pyplot as plt\n",
    "import numpy as np\n",
    "import random\n",
    "from fleur_starting_density import oxides_charge2\n",
    "\n",
    "load_profile()"
   ]
  },
  {
   "cell_type": "code",
   "execution_count": 2,
   "id": "cd7c8503-b5ef-411a-a08a-820c366c8417",
   "metadata": {},
   "outputs": [],
   "source": [
    "calc = [ 148441 , 148442 , 148443 , 148444, 148445 ]\n",
    "\n",
    "\n",
    "inps = []\n",
    "\n",
    "for number in calc:\n",
    "    \n",
    "    inps.append(load_node(number).outputs.fleurinpData)"
   ]
  },
  {
   "cell_type": "code",
   "execution_count": 6,
   "id": "92fa76cf-41c7-49ef-9581-5c9321eed37d",
   "metadata": {},
   "outputs": [
    {
     "data": {
      "text/plain": [
       "[<FleurinpData: uuid: ee5734a7-5443-4adc-a0b6-56481e3d16a9 (pk: 148458)>,\n",
       " <FleurinpData: uuid: 80601f70-8735-40a4-b7aa-292a974b3b19 (pk: 148454)>,\n",
       " <FleurinpData: uuid: 20c26fb0-d5b0-4f71-b89e-727d4e925639 (pk: 148460)>,\n",
       " <FleurinpData: uuid: 1a1e82f3-71c8-4daa-a1ba-644ad52c4cab (pk: 148453)>,\n",
       " <FleurinpData: uuid: 453341be-47f2-4125-9d64-72872540108e (pk: 148459)>]"
      ]
     },
     "execution_count": 6,
     "metadata": {},
     "output_type": "execute_result"
    }
   ],
   "source": [
    "inps"
   ]
  },
  {
   "cell_type": "code",
   "execution_count": 4,
   "id": "5f1b36e4-31e8-494c-80e7-62fc56a17795",
   "metadata": {
    "collapsed": true,
    "jupyter": {
     "outputs_hidden": true
    },
    "tags": []
   },
   "outputs": [
    {
     "name": "stdout",
     "output_type": "stream",
     "text": [
      "started fleur calc with pk: 149189\n",
      "started fleur calc with pk: 149193\n",
      "started fleur calc with pk: 149197\n",
      "started fleur calc with pk: 149201\n",
      "started fleur calc with pk: 149205\n",
      "started fleur calc with pk: 149209\n",
      "started fleur calc with pk: 149213\n",
      "started fleur calc with pk: 149217\n",
      "started fleur calc with pk: 149221\n",
      "started fleur calc with pk: 149225\n",
      "started fleur calc with pk: 149229\n",
      "started fleur calc with pk: 149233\n",
      "started fleur calc with pk: 149237\n",
      "started fleur calc with pk: 149241\n",
      "started fleur calc with pk: 149245\n",
      "started fleur calc with pk: 149249\n",
      "started fleur calc with pk: 149253\n",
      "started fleur calc with pk: 149257\n",
      "started fleur calc with pk: 149261\n",
      "started fleur calc with pk: 149265\n",
      "started fleur calc with pk: 149272\n",
      "started fleur calc with pk: 149276\n",
      "started fleur calc with pk: 149280\n",
      "started fleur calc with pk: 149284\n",
      "started fleur calc with pk: 149288\n",
      "started fleur calc with pk: 149292\n",
      "started fleur calc with pk: 149296\n",
      "started fleur calc with pk: 149300\n",
      "started fleur calc with pk: 149304\n",
      "started fleur calc with pk: 149308\n",
      "started fleur calc with pk: 149312\n",
      "started fleur calc with pk: 149316\n",
      "started fleur calc with pk: 149320\n",
      "started fleur calc with pk: 149324\n",
      "started fleur calc with pk: 149328\n",
      "started fleur calc with pk: 149332\n",
      "started fleur calc with pk: 149336\n",
      "started fleur calc with pk: 149340\n",
      "started fleur calc with pk: 149344\n",
      "started fleur calc with pk: 149348\n",
      "started fleur calc with pk: 149355\n",
      "started fleur calc with pk: 149359\n",
      "started fleur calc with pk: 149363\n",
      "started fleur calc with pk: 149367\n",
      "started fleur calc with pk: 149371\n",
      "started fleur calc with pk: 149375\n",
      "started fleur calc with pk: 149379\n",
      "started fleur calc with pk: 149383\n",
      "started fleur calc with pk: 149387\n",
      "started fleur calc with pk: 149391\n",
      "started fleur calc with pk: 149395\n",
      "started fleur calc with pk: 149399\n",
      "started fleur calc with pk: 149403\n",
      "started fleur calc with pk: 149407\n",
      "started fleur calc with pk: 149411\n",
      "started fleur calc with pk: 149415\n",
      "started fleur calc with pk: 149419\n",
      "started fleur calc with pk: 149423\n",
      "started fleur calc with pk: 149427\n",
      "started fleur calc with pk: 149432\n",
      "started fleur calc with pk: 149440\n",
      "started fleur calc with pk: 149446\n",
      "started fleur calc with pk: 149451\n",
      "started fleur calc with pk: 149457\n",
      "started fleur calc with pk: 149461\n",
      "started fleur calc with pk: 149468\n",
      "started fleur calc with pk: 149472\n",
      "started fleur calc with pk: 149479\n",
      "started fleur calc with pk: 149483\n",
      "started fleur calc with pk: 149489\n",
      "started fleur calc with pk: 149493\n",
      "started fleur calc with pk: 149500\n",
      "started fleur calc with pk: 149505\n",
      "started fleur calc with pk: 149510\n",
      "started fleur calc with pk: 149515\n",
      "started fleur calc with pk: 149521\n",
      "started fleur calc with pk: 149526\n",
      "started fleur calc with pk: 149532\n",
      "started fleur calc with pk: 149537\n",
      "started fleur calc with pk: 149544\n",
      "started fleur calc with pk: 149554\n",
      "started fleur calc with pk: 149559\n",
      "started fleur calc with pk: 149568\n",
      "started fleur calc with pk: 149574\n",
      "started fleur calc with pk: 149579\n",
      "started fleur calc with pk: 149587\n",
      "started fleur calc with pk: 149594\n",
      "started fleur calc with pk: 149601\n",
      "started fleur calc with pk: 149605\n",
      "started fleur calc with pk: 149612\n",
      "started fleur calc with pk: 149618\n",
      "started fleur calc with pk: 149624\n",
      "started fleur calc with pk: 149629\n",
      "started fleur calc with pk: 149633\n",
      "started fleur calc with pk: 149637\n",
      "started fleur calc with pk: 149641\n",
      "started fleur calc with pk: 149645\n",
      "started fleur calc with pk: 149649\n",
      "started fleur calc with pk: 149653\n",
      "started fleur calc with pk: 149657\n"
     ]
    }
   ],
   "source": [
    "results = [ ]\n",
    "\n",
    "for inp in inps:\n",
    "    \n",
    "    results.append(oxides_charge2( inp))"
   ]
  },
  {
   "cell_type": "code",
   "execution_count": 6,
   "id": "f1751e25-b542-4c56-aff1-12e62f147d8f",
   "metadata": {},
   "outputs": [],
   "source": [
    "import pickle \n",
    "\n",
    "\n",
    "file = open('results_s_charge_transfer2.pickle' , 'wb')\n",
    "pickle.dump(results , file )"
   ]
  },
  {
   "cell_type": "code",
   "execution_count": 7,
   "id": "dd3d3a5e-28e4-424d-9c76-a5b189cf9812",
   "metadata": {},
   "outputs": [],
   "source": [
    "def plot(lis) :\n",
    "    \n",
    "    x = []\n",
    "    y = []\n",
    "    \n",
    "    for species in lis[0].inputs.fleurinpdata.inp_dict['atomSpecies']:\n",
    "\n",
    "        if species['name'] != 'Oxygen (O)':\n",
    "\n",
    "            X_name = species['name']\n",
    "    \n",
    "    \n",
    "    for node in lis:\n",
    "        \n",
    "        if node.is_finished_ok:\n",
    "    \n",
    "            y.append( node.outputs.output_parameters.get_dict()['density_convergence'] )\n",
    "        \n",
    "            x.append(2 * (node.inputs.fleurinpdata.inp_dict['atomSpecies'][1]['electronConfig']['stateOccupation'][0]['spinUp'] + node.inputs.fleurinpdata.inp_dict['atomSpecies'][1]['electronConfig']['stateOccupation'][1]['spinUp'] ) -4)\n",
    "\n",
    "    \n",
    "    plt.plot(x,y, 'x') \n",
    "    plt.xlabel('total charge transfer to Oxygen')\n",
    "    plt.ylabel('distance after 1 iteration')\n",
    "    plt.title(X_name)\n",
    "    #plt.savefig('MgO_sc_loop.pdf')\n",
    "    plt.show()"
   ]
  },
  {
   "cell_type": "code",
   "execution_count": 8,
   "id": "20ed0415-b45c-4e63-9b76-b41be41cdcfc",
   "metadata": {
    "tags": []
   },
   "outputs": [
    {
     "data": {
      "image/png": "[encoded data removed]",
      "text/plain": [
       "<Figure size 432x288 with 1 Axes>"
      ]
     },
     "metadata": {
      "needs_background": "light"
     },
     "output_type": "display_data"
    },
    {
     "data": {
      "image/png": "[encoded data removed]",
      "text/plain": [
       "<Figure size 432x288 with 1 Axes>"
      ]
     },
     "metadata": {
      "needs_background": "light"
     },
     "output_type": "display_data"
    },
    {
     "data": {
      "image/png": "[encoded data removed]",
      "text/plain": [
       "<Figure size 432x288 with 1 Axes>"
      ]
     },
     "metadata": {
      "needs_background": "light"
     },
     "output_type": "display_data"
    },
    {
     "data": {
      "image/png": "[encoded data removed]",
      "text/plain": [
       "<Figure size 432x288 with 1 Axes>"
      ]
     },
     "metadata": {
      "needs_background": "light"
     },
     "output_type": "display_data"
    },
    {
     "data": {
      "image/png": "[encoded data removed]",
      "text/plain": [
       "<Figure size 432x288 with 1 Axes>"
      ]
     },
     "metadata": {
      "needs_background": "light"
     },
     "output_type": "display_data"
    }
   ],
   "source": [
    "for i in results:\n",
    "    \n",
    "    plot(i)"
   ]
  },
  {
   "cell_type": "code",
   "execution_count": 18,
   "id": "ff208477-4525-40a7-86a2-53cc6e7b2687",
   "metadata": {
    "tags": []
   },
   "outputs": [
    {
     "name": "stdout",
     "output_type": "stream",
     "text": [
      "{'coreConfig': ['(1s1/2)', '(2s1/2)', '(2p1/2)', '(2p3/2)'], 'valenceConfig': ['(3s1/2)', '(3p1/2)', '(3p3/2)', '(4s1/2)'], 'stateOccupation': [{'state': '(4s1/2)', 'spinUp': 0.5, 'spinDown': 0.5}]} [{'state': '(2p1/2)', 'spinUp': 0.6666666667, 'spinDown': 0.6666666667}, {'state': '(2p3/2)', 'spinUp': 1.3333333333, 'spinDown': 1.3333333333}]\n",
      "149554\n",
      "{'coreConfig': ['(1s1/2)', '(2s1/2)', '(2p1/2)', '(2p3/2)'], 'valenceConfig': ['(3s1/2)', '(3p1/2)', '(3p3/2)', '(4s1/2)'], 'stateOccupation': [{'state': '(4s1/2)', 'spinUp': 0.475, 'spinDown': 0.475}]} [{'state': '(2p1/2)', 'spinUp': 0.6833333333, 'spinDown': 0.6833333333}, {'state': '(2p3/2)', 'spinUp': 1.3666666667, 'spinDown': 1.3666666667}]\n",
      "149559\n",
      "{'coreConfig': ['(1s1/2)', '(2s1/2)', '(2p1/2)', '(2p3/2)'], 'valenceConfig': ['(3s1/2)', '(3p1/2)', '(3p3/2)', '(4s1/2)'], 'stateOccupation': [{'state': '(4s1/2)', 'spinUp': 0.45, 'spinDown': 0.45}]} [{'state': '(2p1/2)', 'spinUp': 0.7, 'spinDown': 0.7}, {'state': '(2p3/2)', 'spinUp': 1.4, 'spinDown': 1.4}]\n",
      "149568\n",
      "{'coreConfig': ['(1s1/2)', '(2s1/2)', '(2p1/2)', '(2p3/2)'], 'valenceConfig': ['(3s1/2)', '(3p1/2)', '(3p3/2)', '(4s1/2)'], 'stateOccupation': [{'state': '(4s1/2)', 'spinUp': 0.425, 'spinDown': 0.425}]} [{'state': '(2p1/2)', 'spinUp': 0.7166666667, 'spinDown': 0.7166666667}, {'state': '(2p3/2)', 'spinUp': 1.4333333333, 'spinDown': 1.4333333333}]\n",
      "149574\n",
      "{'coreConfig': ['(1s1/2)', '(2s1/2)', '(2p1/2)', '(2p3/2)'], 'valenceConfig': ['(3s1/2)', '(3p1/2)', '(3p3/2)', '(4s1/2)'], 'stateOccupation': [{'state': '(4s1/2)', 'spinUp': 0.4, 'spinDown': 0.4}]} [{'state': '(2p1/2)', 'spinUp': 0.7333333333, 'spinDown': 0.7333333333}, {'state': '(2p3/2)', 'spinUp': 1.4666666667, 'spinDown': 1.4666666667}]\n",
      "149579\n",
      "{'coreConfig': ['(1s1/2)', '(2s1/2)', '(2p1/2)', '(2p3/2)'], 'valenceConfig': ['(3s1/2)', '(3p1/2)', '(3p3/2)', '(4s1/2)'], 'stateOccupation': [{'state': '(4s1/2)', 'spinUp': 0.375, 'spinDown': 0.375}]} [{'state': '(2p1/2)', 'spinUp': 0.75, 'spinDown': 0.75}, {'state': '(2p3/2)', 'spinUp': 1.5, 'spinDown': 1.5}]\n",
      "149587\n",
      "{'coreConfig': ['(1s1/2)', '(2s1/2)', '(2p1/2)', '(2p3/2)'], 'valenceConfig': ['(3s1/2)', '(3p1/2)', '(3p3/2)', '(4s1/2)'], 'stateOccupation': [{'state': '(4s1/2)', 'spinUp': 0.35, 'spinDown': 0.35}]} [{'state': '(2p1/2)', 'spinUp': 0.7666666667, 'spinDown': 0.7666666667}, {'state': '(2p3/2)', 'spinUp': 1.5333333333, 'spinDown': 1.5333333333}]\n",
      "149594\n",
      "{'coreConfig': ['(1s1/2)', '(2s1/2)', '(2p1/2)', '(2p3/2)'], 'valenceConfig': ['(3s1/2)', '(3p1/2)', '(3p3/2)', '(4s1/2)'], 'stateOccupation': [{'state': '(4s1/2)', 'spinUp': 0.325, 'spinDown': 0.325}]} [{'state': '(2p1/2)', 'spinUp': 0.7833333333, 'spinDown': 0.7833333333}, {'state': '(2p3/2)', 'spinUp': 1.5666666667, 'spinDown': 1.5666666667}]\n",
      "149601\n",
      "{'coreConfig': ['(1s1/2)', '(2s1/2)', '(2p1/2)', '(2p3/2)'], 'valenceConfig': ['(3s1/2)', '(3p1/2)', '(3p3/2)', '(4s1/2)'], 'stateOccupation': [{'state': '(4s1/2)', 'spinUp': 0.3, 'spinDown': 0.3}]} [{'state': '(2p1/2)', 'spinUp': 0.8, 'spinDown': 0.8}, {'state': '(2p3/2)', 'spinUp': 1.6, 'spinDown': 1.6}]\n",
      "149605\n",
      "{'coreConfig': ['(1s1/2)', '(2s1/2)', '(2p1/2)', '(2p3/2)'], 'valenceConfig': ['(3s1/2)', '(3p1/2)', '(3p3/2)', '(4s1/2)'], 'stateOccupation': [{'state': '(4s1/2)', 'spinUp': 0.275, 'spinDown': 0.275}]} [{'state': '(2p1/2)', 'spinUp': 0.8166666667, 'spinDown': 0.8166666667}, {'state': '(2p3/2)', 'spinUp': 1.6333333333, 'spinDown': 1.6333333333}]\n",
      "149612\n",
      "{'coreConfig': ['(1s1/2)', '(2s1/2)', '(2p1/2)', '(2p3/2)'], 'valenceConfig': ['(3s1/2)', '(3p1/2)', '(3p3/2)', '(4s1/2)'], 'stateOccupation': [{'state': '(4s1/2)', 'spinUp': 0.25, 'spinDown': 0.25}]} [{'state': '(2p1/2)', 'spinUp': 0.8333333333, 'spinDown': 0.8333333333}, {'state': '(2p3/2)', 'spinUp': 1.6666666667, 'spinDown': 1.6666666667}]\n",
      "149618\n",
      "{'coreConfig': ['(1s1/2)', '(2s1/2)', '(2p1/2)', '(2p3/2)'], 'valenceConfig': ['(3s1/2)', '(3p1/2)', '(3p3/2)', '(4s1/2)'], 'stateOccupation': [{'state': '(4s1/2)', 'spinUp': 0.225, 'spinDown': 0.225}]} [{'state': '(2p1/2)', 'spinUp': 0.85, 'spinDown': 0.85}, {'state': '(2p3/2)', 'spinUp': 1.7, 'spinDown': 1.7}]\n",
      "149624\n",
      "{'coreConfig': ['(1s1/2)', '(2s1/2)', '(2p1/2)', '(2p3/2)'], 'valenceConfig': ['(3s1/2)', '(3p1/2)', '(3p3/2)', '(4s1/2)'], 'stateOccupation': [{'state': '(4s1/2)', 'spinUp': 0.2, 'spinDown': 0.2}]} [{'state': '(2p1/2)', 'spinUp': 0.8666666667, 'spinDown': 0.8666666667}, {'state': '(2p3/2)', 'spinUp': 1.7333333333, 'spinDown': 1.7333333333}]\n",
      "149629\n",
      "{'coreConfig': ['(1s1/2)', '(2s1/2)', '(2p1/2)', '(2p3/2)'], 'valenceConfig': ['(3s1/2)', '(3p1/2)', '(3p3/2)', '(4s1/2)'], 'stateOccupation': [{'state': '(4s1/2)', 'spinUp': 0.175, 'spinDown': 0.175}]} [{'state': '(2p1/2)', 'spinUp': 0.8833333333, 'spinDown': 0.8833333333}, {'state': '(2p3/2)', 'spinUp': 1.7666666667, 'spinDown': 1.7666666667}]\n",
      "149633\n",
      "{'coreConfig': ['(1s1/2)', '(2s1/2)', '(2p1/2)', '(2p3/2)'], 'valenceConfig': ['(3s1/2)', '(3p1/2)', '(3p3/2)', '(4s1/2)'], 'stateOccupation': [{'state': '(4s1/2)', 'spinUp': 0.15, 'spinDown': 0.15}]} [{'state': '(2p1/2)', 'spinUp': 0.9, 'spinDown': 0.9}, {'state': '(2p3/2)', 'spinUp': 1.8, 'spinDown': 1.8}]\n",
      "149637\n",
      "{'coreConfig': ['(1s1/2)', '(2s1/2)', '(2p1/2)', '(2p3/2)'], 'valenceConfig': ['(3s1/2)', '(3p1/2)', '(3p3/2)', '(4s1/2)'], 'stateOccupation': [{'state': '(4s1/2)', 'spinUp': 0.125, 'spinDown': 0.125}]} [{'state': '(2p1/2)', 'spinUp': 0.9166666667, 'spinDown': 0.9166666667}, {'state': '(2p3/2)', 'spinUp': 1.8333333333, 'spinDown': 1.8333333333}]\n",
      "149641\n",
      "{'coreConfig': ['(1s1/2)', '(2s1/2)', '(2p1/2)', '(2p3/2)'], 'valenceConfig': ['(3s1/2)', '(3p1/2)', '(3p3/2)', '(4s1/2)'], 'stateOccupation': [{'state': '(4s1/2)', 'spinUp': 0.1, 'spinDown': 0.1}]} [{'state': '(2p1/2)', 'spinUp': 0.9333333333, 'spinDown': 0.9333333333}, {'state': '(2p3/2)', 'spinUp': 1.8666666667, 'spinDown': 1.8666666667}]\n",
      "149645\n",
      "{'coreConfig': ['(1s1/2)', '(2s1/2)', '(2p1/2)', '(2p3/2)'], 'valenceConfig': ['(3s1/2)', '(3p1/2)', '(3p3/2)', '(4s1/2)'], 'stateOccupation': [{'state': '(4s1/2)', 'spinUp': 0.075, 'spinDown': 0.075}]} [{'state': '(2p1/2)', 'spinUp': 0.95, 'spinDown': 0.95}, {'state': '(2p3/2)', 'spinUp': 1.9, 'spinDown': 1.9}]\n",
      "149649\n",
      "{'coreConfig': ['(1s1/2)', '(2s1/2)', '(2p1/2)', '(2p3/2)'], 'valenceConfig': ['(3s1/2)', '(3p1/2)', '(3p3/2)', '(4s1/2)'], 'stateOccupation': [{'state': '(4s1/2)', 'spinUp': 0.05, 'spinDown': 0.05}]} [{'state': '(2p1/2)', 'spinUp': 0.9666666667, 'spinDown': 0.9666666667}, {'state': '(2p3/2)', 'spinUp': 1.9333333333, 'spinDown': 1.9333333333}]\n",
      "149653\n",
      "{'coreConfig': ['(1s1/2)', '(2s1/2)', '(2p1/2)', '(2p3/2)'], 'valenceConfig': ['(3s1/2)', '(3p1/2)', '(3p3/2)', '(4s1/2)'], 'stateOccupation': [{'state': '(4s1/2)', 'spinUp': 0.025, 'spinDown': 0.025}]} [{'state': '(2p1/2)', 'spinUp': 0.9833333333, 'spinDown': 0.9833333333}, {'state': '(2p3/2)', 'spinUp': 1.9666666667, 'spinDown': 1.9666666667}]\n",
      "149657\n"
     ]
    }
   ],
   "source": [
    "for node in results[-1]:\n",
    "    \n",
    "    print(node.inputs.fleurinpdata.inp_dict['atomSpecies'][0]['electronConfig'], node.inputs.fleurinpdata.inp_dict['atomSpecies'][1]['electronConfig']['stateOccupation'])\n",
    "    print(node.pk)"
   ]
  },
  {
   "cell_type": "code",
   "execution_count": 16,
   "id": "d5604cda-606b-4c9d-83e2-220b6c60d896",
   "metadata": {},
   "outputs": [
    {
     "data": {
      "text/plain": [
       "[{'lo': [{'l': 0, 'n': 3, 'type': 'SCLO', 'eDeriv': 0},\n",
       "   {'l': 1, 'n': 3, 'type': 'SCLO', 'eDeriv': 0}],\n",
       "  'name': 'Potassium (K)',\n",
       "  'element': 'K',\n",
       "  'mtSphere': {'radius': 2.8, 'gridPoints': 925, 'logIncrement': 0.013},\n",
       "  'prodBasis': {'lcutm': 4, 'lcutwf': 9, 'select': '4 0 4 2'},\n",
       "  'modInitDen': {'flipSpinPhi': 0.0,\n",
       "   'flipSpinScale': False,\n",
       "   'flipSpinTheta': 0.0},\n",
       "  'atomicNumber': 19,\n",
       "  'atomicCutoffs': {'lmax': 10, 'lnonsphr': 8},\n",
       "  'electronConfig': {'coreConfig': ['(1s1/2)',\n",
       "    '(2s1/2)',\n",
       "    '(2p1/2)',\n",
       "    '(2p3/2)'],\n",
       "   'valenceConfig': ['(3s1/2)', '(3p1/2)', '(3p3/2)', '(4s1/2)'],\n",
       "   'stateOccupation': [{'state': '(4s1/2)', 'spinUp': 0.5, 'spinDown': 0.5}]},\n",
       "  'energyParameters': {'d': 3, 'f': 4, 'p': 4, 's': 4}},\n",
       " {'name': 'Oxygen (O)',\n",
       "  'element': 'O',\n",
       "  'mtSphere': {'radius': 1.87, 'gridPoints': 619, 'logIncrement': 0.017},\n",
       "  'prodBasis': {'lcutm': 4, 'lcutwf': 8, 'select': '4 0 4 2'},\n",
       "  'modInitDen': {'flipSpinPhi': 0.0,\n",
       "   'flipSpinScale': False,\n",
       "   'flipSpinTheta': 0.0},\n",
       "  'atomicNumber': 8,\n",
       "  'atomicCutoffs': {'lmax': 8, 'lnonsphr': 6},\n",
       "  'electronConfig': {'coreConfig': ['(1s1/2)'],\n",
       "   'valenceConfig': ['(2s1/2)', '(2p1/2)', '(2p3/2)'],\n",
       "   'stateOccupation': [{'state': '(2p1/2)',\n",
       "     'spinUp': 0.6666666667,\n",
       "     'spinDown': 0.6666666667},\n",
       "    {'state': '(2p3/2)', 'spinUp': 1.3333333333, 'spinDown': 1.3333333333}]},\n",
       "  'energyParameters': {'d': 3, 'f': 4, 'p': 2, 's': 2}}]"
      ]
     },
     "execution_count": 16,
     "metadata": {},
     "output_type": "execute_result"
    }
   ],
   "source": [
    "results[-1][0].inputs.fleurinpdata.inp_dict['atomSpecies']"
   ]
  },
  {
   "cell_type": "code",
   "execution_count": null,
   "id": "dc0aca19-70f1-4e60-8b83-ec6b32aca862",
   "metadata": {},
   "outputs": [],
   "source": []
  }
 ],
 "metadata": {
  "kernelspec": {
   "display_name": "AiiDA",
   "language": "python",
   "name": "aiida"
  },
  "language_info": {
   "codemirror_mode": {
    "name": "ipython",
    "version": 3
   },
   "file_extension": ".py",
   "mimetype": "text/x-python",
   "name": "python",
   "nbconvert_exporter": "python",
   "pygments_lexer": "ipython3",
   "version": "3.8.10"
  }
 },
 "nbformat": 4,
 "nbformat_minor": 5
}
