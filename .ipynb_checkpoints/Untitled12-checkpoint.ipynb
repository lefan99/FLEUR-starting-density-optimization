{
 "cells": [
  {
   "cell_type": "code",
   "execution_count": 1,
   "id": "3508c310-ca8a-4c3d-907a-1051b3b3b44d",
   "metadata": {},
   "outputs": [
    {
     "data": {
      "text/plain": [
       "<aiida.manage.configuration.profile.Profile at 0x7f6185eb89a0>"
      ]
     },
     "execution_count": 1,
     "metadata": {},
     "output_type": "execute_result"
    }
   ],
   "source": [
    "from aiida_fleur.data.fleurinp import FleurinpData\n",
    "from aiida import load_profile\n",
    "from aiida.orm import Dict, load_node , load_code\n",
    "from aiida.engine import submit, run\n",
    "from aiida_fleur.calculation.fleurinputgen import FleurinputgenCalculation\n",
    "from aiida.plugins import DataFactory, CalculationFactory\n",
    "from aiida_fleur.calculation.fleur import FleurCalculation\n",
    "from aiida_fleur.data.fleurinpmodifier import FleurinpModifier\n",
    "from itertools import product\n",
    "import numpy as np\n",
    "import json\n",
    "import matplotlib.pyplot as plt\n",
    "import numpy as np\n",
    "import random\n",
    "from fleur_starting_density import oxides_all\n",
    "\n",
    "load_profile()"
   ]
  },
  {
   "cell_type": "code",
   "execution_count": 2,
   "id": "b622dcab-a2b3-4d21-b2af-3e679453e23f",
   "metadata": {},
   "outputs": [],
   "source": [
    "inp = load_node(153605)"
   ]
  },
  {
   "cell_type": "code",
   "execution_count": 15,
   "id": "53ea409e-c361-478a-ac2b-e427ba6c84cb",
   "metadata": {
    "tags": []
   },
   "outputs": [
    {
     "name": "stdout",
     "output_type": "stream",
     "text": [
      "[0.4, 0.6] ['(6d3/2)', '(6d5/2)']\n",
      "0.5 2\n",
      "[{'state': '(5f5/2)', 'spinUp': 1.5, 'spinDown': 1.5}, {'state': '(5f7/2)', 'spinUp': 2.0, 'spinDown': 2.0}, {'state': '(6d3/2)', 'spinup': 0.2, 'spindown': 0.2}, {'state': '(6d5/2)', 'spinup': 0.3, 'spindown': 0.3}]\n",
      "started fleur calc with pk: 153870\n",
      "0.45 2.1\n",
      "[{'state': '(5f5/2)', 'spinUp': 1.5, 'spinDown': 1.5}, {'state': '(5f7/2)', 'spinUp': 2.0, 'spinDown': 2.0}, {'state': '(6d3/2)', 'spinup': 0.18000000000000002, 'spindown': 0.18000000000000002}, {'state': '(6d5/2)', 'spinup': 0.27, 'spindown': 0.27}]\n",
      "started fleur calc with pk: 153874\n",
      "0.4 2.2\n",
      "[{'state': '(5f5/2)', 'spinUp': 1.5, 'spinDown': 1.5}, {'state': '(5f7/2)', 'spinUp': 2.0, 'spinDown': 2.0}, {'state': '(6d3/2)', 'spinup': 0.16000000000000003, 'spindown': 0.16000000000000003}, {'state': '(6d5/2)', 'spinup': 0.24, 'spindown': 0.24}]\n",
      "started fleur calc with pk: 153878\n",
      "0.35000000000000003 2.3000000000000003\n",
      "[{'state': '(5f5/2)', 'spinUp': 1.5, 'spinDown': 1.5}, {'state': '(5f7/2)', 'spinUp': 2.0, 'spinDown': 2.0}, {'state': '(6d3/2)', 'spinup': 0.14, 'spindown': 0.14}, {'state': '(6d5/2)', 'spinup': 0.21000000000000002, 'spindown': 0.21000000000000002}]\n",
      "started fleur calc with pk: 153882\n",
      "0.30000000000000004 2.4000000000000004\n",
      "[{'state': '(5f5/2)', 'spinUp': 1.5, 'spinDown': 1.5}, {'state': '(5f7/2)', 'spinUp': 2.0, 'spinDown': 2.0}, {'state': '(6d3/2)', 'spinup': 0.12000000000000002, 'spindown': 0.12000000000000002}, {'state': '(6d5/2)', 'spinup': 0.18000000000000002, 'spindown': 0.18000000000000002}]\n",
      "started fleur calc with pk: 153886\n",
      "0.25000000000000006 2.5000000000000004\n",
      "[{'state': '(5f5/2)', 'spinUp': 1.5, 'spinDown': 1.5}, {'state': '(5f7/2)', 'spinUp': 2.0, 'spinDown': 2.0}, {'state': '(6d3/2)', 'spinup': 0.10000000000000003, 'spindown': 0.10000000000000003}, {'state': '(6d5/2)', 'spinup': 0.15000000000000002, 'spindown': 0.15000000000000002}]\n",
      "started fleur calc with pk: 153890\n",
      "0.20000000000000007 2.6000000000000005\n",
      "[{'state': '(5f5/2)', 'spinUp': 1.5, 'spinDown': 1.5}, {'state': '(5f7/2)', 'spinUp': 2.0, 'spinDown': 2.0}, {'state': '(6d3/2)', 'spinup': 0.08000000000000003, 'spindown': 0.08000000000000003}, {'state': '(6d5/2)', 'spinup': 0.12000000000000004, 'spindown': 0.12000000000000004}]\n",
      "started fleur calc with pk: 153894\n",
      "0.15000000000000008 2.7000000000000006\n",
      "[{'state': '(5f5/2)', 'spinUp': 1.5, 'spinDown': 1.5}, {'state': '(5f7/2)', 'spinUp': 2.0, 'spinDown': 2.0}, {'state': '(6d3/2)', 'spinup': 0.06000000000000003, 'spindown': 0.06000000000000003}, {'state': '(6d5/2)', 'spinup': 0.09000000000000004, 'spindown': 0.09000000000000004}]\n",
      "started fleur calc with pk: 153901\n",
      "0.10000000000000007 2.8000000000000007\n",
      "[{'state': '(5f5/2)', 'spinUp': 1.5, 'spinDown': 1.5}, {'state': '(5f7/2)', 'spinUp': 2.0, 'spinDown': 2.0}, {'state': '(6d3/2)', 'spinup': 0.040000000000000036, 'spindown': 0.040000000000000036}, {'state': '(6d5/2)', 'spinup': 0.06000000000000004, 'spindown': 0.06000000000000004}]\n",
      "started fleur calc with pk: 153907\n",
      "0.05000000000000007 2.900000000000001\n",
      "[{'state': '(5f5/2)', 'spinUp': 1.5, 'spinDown': 1.5}, {'state': '(5f7/2)', 'spinUp': 2.0, 'spinDown': 2.0}, {'state': '(6d3/2)', 'spinup': 0.02000000000000003, 'spindown': 0.02000000000000003}, {'state': '(6d5/2)', 'spinup': 0.03000000000000004, 'spindown': 0.03000000000000004}]\n",
      "started fleur calc with pk: 153911\n",
      "6.938893903907228e-17 3.000000000000001\n",
      "[{'state': '(5f5/2)', 'spinUp': 1.5, 'spinDown': 1.5}, {'state': '(5f7/2)', 'spinUp': 2.0, 'spinDown': 2.0}, {'state': '(6d3/2)', 'spinup': 2.7755575615628914e-17, 'spindown': 2.7755575615628914e-17}, {'state': '(6d5/2)', 'spinup': 4.163336342344337e-17, 'spindown': 4.163336342344337e-17}]\n",
      "started fleur calc with pk: 153915\n",
      "-0.04999999999999993 3.100000000000001\n",
      "[{'state': '(5f5/2)', 'spinUp': 1.5, 'spinDown': 1.5}, {'state': '(5f7/2)', 'spinUp': 2.0, 'spinDown': 2.0}, {'state': '(6d3/2)', 'spinup': -0.019999999999999976, 'spindown': -0.019999999999999976}, {'state': '(6d5/2)', 'spinup': -0.029999999999999957, 'spindown': -0.029999999999999957}]\n",
      "started fleur calc with pk: 153919\n",
      "-0.09999999999999994 3.200000000000001\n",
      "[{'state': '(5f5/2)', 'spinUp': 1.5, 'spinDown': 1.5}, {'state': '(5f7/2)', 'spinUp': 2.0, 'spinDown': 2.0}, {'state': '(6d3/2)', 'spinup': -0.03999999999999998, 'spindown': -0.03999999999999998}, {'state': '(6d5/2)', 'spinup': -0.059999999999999956, 'spindown': -0.059999999999999956}]\n",
      "started fleur calc with pk: 153924\n",
      "-0.14999999999999994 3.300000000000001\n",
      "[{'state': '(5f5/2)', 'spinUp': 1.5, 'spinDown': 1.5}, {'state': '(5f7/2)', 'spinUp': 2.0, 'spinDown': 2.0}, {'state': '(6d3/2)', 'spinup': -0.05999999999999998, 'spindown': -0.05999999999999998}, {'state': '(6d5/2)', 'spinup': -0.08999999999999996, 'spindown': -0.08999999999999996}]\n",
      "started fleur calc with pk: 153928\n",
      "-0.19999999999999996 3.4000000000000012\n",
      "[{'state': '(5f5/2)', 'spinUp': 1.5, 'spinDown': 1.5}, {'state': '(5f7/2)', 'spinUp': 2.0, 'spinDown': 2.0}, {'state': '(6d3/2)', 'spinup': -0.07999999999999999, 'spindown': -0.07999999999999999}, {'state': '(6d5/2)', 'spinup': -0.11999999999999997, 'spindown': -0.11999999999999997}]\n",
      "started fleur calc with pk: 153932\n",
      "-0.24999999999999994 3.5000000000000013\n",
      "[{'state': '(5f5/2)', 'spinUp': 1.5, 'spinDown': 1.5}, {'state': '(5f7/2)', 'spinUp': 2.0, 'spinDown': 2.0}, {'state': '(6d3/2)', 'spinup': -0.09999999999999998, 'spindown': -0.09999999999999998}, {'state': '(6d5/2)', 'spinup': -0.14999999999999997, 'spindown': -0.14999999999999997}]\n",
      "started fleur calc with pk: 153936\n",
      "-0.29999999999999993 3.6000000000000014\n",
      "[{'state': '(5f5/2)', 'spinUp': 1.5, 'spinDown': 1.5}, {'state': '(5f7/2)', 'spinUp': 2.0, 'spinDown': 2.0}, {'state': '(6d3/2)', 'spinup': -0.11999999999999998, 'spindown': -0.11999999999999998}, {'state': '(6d5/2)', 'spinup': -0.17999999999999997, 'spindown': -0.17999999999999997}]\n",
      "started fleur calc with pk: 153941\n",
      "-0.3499999999999999 3.7000000000000015\n",
      "[{'state': '(5f5/2)', 'spinUp': 1.5, 'spinDown': 1.5}, {'state': '(5f7/2)', 'spinUp': 2.0, 'spinDown': 2.0}, {'state': '(6d3/2)', 'spinup': -0.13999999999999999, 'spindown': -0.13999999999999999}, {'state': '(6d5/2)', 'spinup': -0.20999999999999994, 'spindown': -0.20999999999999994}]\n",
      "started fleur calc with pk: 153945\n",
      "-0.3999999999999999 3.8000000000000016\n",
      "[{'state': '(5f5/2)', 'spinUp': 1.5, 'spinDown': 1.5}, {'state': '(5f7/2)', 'spinUp': 2.0, 'spinDown': 2.0}, {'state': '(6d3/2)', 'spinup': -0.15999999999999998, 'spindown': -0.15999999999999998}, {'state': '(6d5/2)', 'spinup': -0.23999999999999994, 'spindown': -0.23999999999999994}]\n",
      "started fleur calc with pk: 153949\n",
      "-0.4499999999999999 3.9000000000000017\n",
      "[{'state': '(5f5/2)', 'spinUp': 1.5, 'spinDown': 1.5}, {'state': '(5f7/2)', 'spinUp': 2.0, 'spinDown': 2.0}, {'state': '(6d3/2)', 'spinup': -0.17999999999999997, 'spindown': -0.17999999999999997}, {'state': '(6d5/2)', 'spinup': -0.2699999999999999, 'spindown': -0.2699999999999999}]\n",
      "started fleur calc with pk: 153953\n"
     ]
    }
   ],
   "source": [
    "res = oxides_all(inp, gridsize = 20)"
   ]
  },
  {
   "cell_type": "code",
   "execution_count": 13,
   "id": "ff902a95-3ee7-485c-bb0c-881999c477ff",
   "metadata": {
    "tags": []
   },
   "outputs": [],
   "source": [
    "def plot(lis) :\n",
    "    \n",
    "    x = []\n",
    "    y = []\n",
    "    \n",
    "    for species in lis[0].inputs.fleurinpdata.inp_dict['atomSpecies']:\n",
    "\n",
    "        if species['name'] != 'Oxygen (O)':\n",
    "\n",
    "            X_name = species['name']\n",
    "    \n",
    "    \n",
    "    for node in lis:\n",
    "        \n",
    "        if node.is_finished_ok:\n",
    "    \n",
    "            y.append( node.outputs.output_parameters.get_dict()['density_convergence'] )\n",
    "        \n",
    "            x.append(2 * (node.inputs.fleurinpdata.inp_dict['atomSpecies'][1]['electronConfig']['stateOccupation'][0]['spinUp'] + node.inputs.fleurinpdata.inp_dict['atomSpecies'][1]['electronConfig']['stateOccupation'][1]['spinUp'] ) -4)\n",
    "\n",
    "    \n",
    "    plt.plot(x,y, 'x') \n",
    "    plt.xlabel('total charge transfer to Oxygen')\n",
    "    plt.ylabel('distance after 1 iteration')\n",
    "    plt.title(X_name)\n",
    "    #plt.savefig('MgO_sc_loop.pdf')\n",
    "    plt.show()"
   ]
  },
  {
   "cell_type": "code",
   "execution_count": 14,
   "id": "6696fcd9-4ead-4ea8-b128-c4664999cbe7",
   "metadata": {
    "tags": []
   },
   "outputs": [
    {
     "data": {
      "image/png": "[encoded data removed]",
      "text/plain": [
       "<Figure size 432x288 with 1 Axes>"
      ]
     },
     "metadata": {
      "needs_background": "light"
     },
     "output_type": "display_data"
    }
   ],
   "source": [
    "plot(res  )"
   ]
  },
  {
   "cell_type": "code",
   "execution_count": 12,
   "id": "5811dc55-fc77-465b-8d98-892ab99f77f9",
   "metadata": {},
   "outputs": [
    {
     "name": "stdout",
     "output_type": "stream",
     "text": [
      "True\n",
      "True\n",
      "True\n"
     ]
    }
   ],
   "source": [
    "for i in res:\n",
    "    \n",
    "    print(i.is_finished)"
   ]
  },
  {
   "cell_type": "code",
   "execution_count": 4,
   "id": "27fc0426-9619-4534-b6b0-8cf2d7960f06",
   "metadata": {},
   "outputs": [
    {
     "name": "stdout",
     "output_type": "stream",
     "text": [
      "[{'name': 'Curium (Cm)', 'element': 'Cm', 'mtSphere': {'radius': 2.62, 'gridPoints': 867, 'logIncrement': 0.016}, 'prodBasis': {'lcutm': 4, 'lcutwf': 9, 'select': '4 0 4 2'}, 'modInitDen': {'flipSpinPhi': 0.0, 'flipSpinScale': False, 'flipSpinTheta': 0.0}, 'atomicNumber': 96, 'atomicCutoffs': {'lmax': 10, 'lnonsphr': 8}, 'electronConfig': {'coreConfig': ['(1s1/2)', '(2s1/2)', '(2p1/2)', '(2p3/2)', '(3s1/2)', '(3p1/2)', '(3p3/2)', '(4s1/2)', '(3d3/2)', '(3d5/2)', '(4p1/2)', '(4p3/2)', '(5s1/2)', '(4d3/2)', '(4d5/2)', '(5p1/2)', '(5p3/2)', '(6s1/2)', '(4f5/2)', '(4f7/2)', '(5d3/2)', '(5d5/2)', '(6p1/2)', '(6p3/2)'], 'valenceConfig': ['(7s1/2)', '(5f5/2)', '(5f7/2)', '(6d3/2)', '(6d5/2)'], 'stateOccupation': [{'state': '(5f5/2)', 'spinUp': 1.5, 'spinDown': 1.5}, {'state': '(5f7/2)', 'spinUp': 2.0, 'spinDown': 2.0}, {'state': '(6d3/2)', 'spinUp': 0.2, 'spinDown': 0.2}, {'state': '(6d5/2)', 'spinUp': 0.3, 'spinDown': 0.3}]}, 'energyParameters': {'d': 6, 'f': 5, 'p': 7, 's': 7}}, {'name': 'Oxygen (O)', 'element': 'O', 'mtSphere': {'radius': 1.64, 'gridPoints': 543, 'logIncrement': 0.02}, 'prodBasis': {'lcutm': 4, 'lcutwf': 6, 'select': '4 0 4 2'}, 'modInitDen': {'flipSpinPhi': 0.0, 'flipSpinScale': False, 'flipSpinTheta': 0.0}, 'atomicNumber': 8, 'atomicCutoffs': {'lmax': 6, 'lnonsphr': 4}, 'electronConfig': {'coreConfig': ['(1s1/2)'], 'valenceConfig': ['(2s1/2)', '(2p1/2)', '(2p3/2)'], 'stateOccupation': [{'state': '(2p1/2)', 'spinUp': 0.6666666667, 'spinDown': 0.6666666667}, {'state': '(2p3/2)', 'spinUp': 1.3333333333, 'spinDown': 1.3333333333}]}, 'energyParameters': {'d': 3, 'f': 4, 'p': 2, 's': 2}}]\n",
      "[{'name': 'Curium (Cm)', 'element': 'Cm', 'mtSphere': {'radius': 2.62, 'gridPoints': 867, 'logIncrement': 0.016}, 'prodBasis': {'lcutm': 4, 'lcutwf': 9, 'select': '4 0 4 2'}, 'modInitDen': {'flipSpinPhi': 0.0, 'flipSpinScale': False, 'flipSpinTheta': 0.0}, 'atomicNumber': 96, 'atomicCutoffs': {'lmax': 10, 'lnonsphr': 8}, 'electronConfig': {'coreConfig': ['(1s1/2)', '(2s1/2)', '(2p1/2)', '(2p3/2)', '(3s1/2)', '(3p1/2)', '(3p3/2)', '(4s1/2)', '(3d3/2)', '(3d5/2)', '(4p1/2)', '(4p3/2)', '(5s1/2)', '(4d3/2)', '(4d5/2)', '(5p1/2)', '(5p3/2)', '(6s1/2)', '(4f5/2)', '(4f7/2)', '(5d3/2)', '(5d5/2)', '(6p1/2)', '(6p3/2)'], 'valenceConfig': ['(7s1/2)', '(5f5/2)', '(5f7/2)', '(6d3/2)', '(6d5/2)'], 'stateOccupation': [{'state': '(5f5/2)', 'spinUp': 1.5, 'spinDown': 1.5}, {'state': '(5f7/2)', 'spinUp': 2.0, 'spinDown': 2.0}, {'state': '(6d3/2)', 'spinUp': 0.18, 'spinDown': 0.18}, {'state': '(6d5/2)', 'spinUp': 0.27, 'spinDown': 0.27}]}, 'energyParameters': {'d': 6, 'f': 5, 'p': 7, 's': 7}}, {'name': 'Oxygen (O)', 'element': 'O', 'mtSphere': {'radius': 1.64, 'gridPoints': 543, 'logIncrement': 0.02}, 'prodBasis': {'lcutm': 4, 'lcutwf': 6, 'select': '4 0 4 2'}, 'modInitDen': {'flipSpinPhi': 0.0, 'flipSpinScale': False, 'flipSpinTheta': 0.0}, 'atomicNumber': 8, 'atomicCutoffs': {'lmax': 6, 'lnonsphr': 4}, 'electronConfig': {'coreConfig': ['(1s1/2)'], 'valenceConfig': ['(2s1/2)', '(2p1/2)', '(2p3/2)'], 'stateOccupation': [{'state': '(2p1/2)', 'spinUp': 0.7, 'spinDown': 0.7}, {'state': '(2p3/2)', 'spinUp': 1.4, 'spinDown': 1.4}]}, 'energyParameters': {'d': 3, 'f': 4, 'p': 2, 's': 2}}]\n",
      "[{'name': 'Curium (Cm)', 'element': 'Cm', 'mtSphere': {'radius': 2.62, 'gridPoints': 867, 'logIncrement': 0.016}, 'prodBasis': {'lcutm': 4, 'lcutwf': 9, 'select': '4 0 4 2'}, 'modInitDen': {'flipSpinPhi': 0.0, 'flipSpinScale': False, 'flipSpinTheta': 0.0}, 'atomicNumber': 96, 'atomicCutoffs': {'lmax': 10, 'lnonsphr': 8}, 'electronConfig': {'coreConfig': ['(1s1/2)', '(2s1/2)', '(2p1/2)', '(2p3/2)', '(3s1/2)', '(3p1/2)', '(3p3/2)', '(4s1/2)', '(3d3/2)', '(3d5/2)', '(4p1/2)', '(4p3/2)', '(5s1/2)', '(4d3/2)', '(4d5/2)', '(5p1/2)', '(5p3/2)', '(6s1/2)', '(4f5/2)', '(4f7/2)', '(5d3/2)', '(5d5/2)', '(6p1/2)', '(6p3/2)'], 'valenceConfig': ['(7s1/2)', '(5f5/2)', '(5f7/2)', '(6d3/2)', '(6d5/2)'], 'stateOccupation': [{'state': '(5f5/2)', 'spinUp': 1.5, 'spinDown': 1.5}, {'state': '(5f7/2)', 'spinUp': 2.0, 'spinDown': 2.0}, {'state': '(6d3/2)', 'spinUp': 0.16, 'spinDown': 0.16}, {'state': '(6d5/2)', 'spinUp': 0.24, 'spinDown': 0.24}]}, 'energyParameters': {'d': 6, 'f': 5, 'p': 7, 's': 7}}, {'name': 'Oxygen (O)', 'element': 'O', 'mtSphere': {'radius': 1.64, 'gridPoints': 543, 'logIncrement': 0.02}, 'prodBasis': {'lcutm': 4, 'lcutwf': 6, 'select': '4 0 4 2'}, 'modInitDen': {'flipSpinPhi': 0.0, 'flipSpinScale': False, 'flipSpinTheta': 0.0}, 'atomicNumber': 8, 'atomicCutoffs': {'lmax': 6, 'lnonsphr': 4}, 'electronConfig': {'coreConfig': ['(1s1/2)'], 'valenceConfig': ['(2s1/2)', '(2p1/2)', '(2p3/2)'], 'stateOccupation': [{'state': '(2p1/2)', 'spinUp': 0.7333333333, 'spinDown': 0.7333333333}, {'state': '(2p3/2)', 'spinUp': 1.4666666667, 'spinDown': 1.4666666667}]}, 'energyParameters': {'d': 3, 'f': 4, 'p': 2, 's': 2}}]\n"
     ]
    }
   ],
   "source": [
    "for i in res:\n",
    "    \n",
    "    print(i.inputs.fleurinpdata.inp_dict['atomSpecies'])"
   ]
  },
  {
   "cell_type": "code",
   "execution_count": null,
   "id": "ed037c74-b129-4c67-bcb1-6f25d1291cc2",
   "metadata": {},
   "outputs": [],
   "source": []
  }
 ],
 "metadata": {
  "kernelspec": {
   "display_name": "AiiDA",
   "language": "python",
   "name": "aiida"
  },
  "language_info": {
   "codemirror_mode": {
    "name": "ipython",
    "version": 3
   },
   "file_extension": ".py",
   "mimetype": "text/x-python",
   "name": "python",
   "nbconvert_exporter": "python",
   "pygments_lexer": "ipython3",
   "version": "3.8.10"
  }
 },
 "nbformat": 4,
 "nbformat_minor": 5
}
