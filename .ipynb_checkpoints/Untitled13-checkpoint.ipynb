{
 "cells": [
  {
   "cell_type": "code",
   "execution_count": 1,
   "id": "04ebb4a0-324b-4c50-8955-53734ea21f15",
   "metadata": {},
   "outputs": [
    {
     "data": {
      "text/plain": [
       "<aiida.manage.configuration.profile.Profile at 0x7f590a0b3ca0>"
      ]
     },
     "execution_count": 1,
     "metadata": {},
     "output_type": "execute_result"
    }
   ],
   "source": [
    "from aiida_fleur.data.fleurinp import FleurinpData\n",
    "from aiida import load_profile\n",
    "from aiida.orm import Dict, load_node , load_code\n",
    "from aiida.engine import submit, run\n",
    "from aiida_fleur.calculation.fleurinputgen import FleurinputgenCalculation\n",
    "from aiida.plugins import DataFactory, CalculationFactory\n",
    "from aiida_fleur.calculation.fleur import FleurCalculation\n",
    "from aiida_fleur.data.fleurinpmodifier import FleurinpModifier\n",
    "from itertools import product\n",
    "import numpy as np\n",
    "import json\n",
    "import matplotlib.pyplot as plt\n",
    "import numpy as np\n",
    "from fleur_starting_density import random_grid, plot_unaries\n",
    "\n",
    "\n",
    "load_profile()"
   ]
  },
  {
   "cell_type": "code",
   "execution_count": 3,
   "id": "8f0d7094-602a-4ce1-928b-adbb302ff8eb",
   "metadata": {},
   "outputs": [],
   "source": [
    "FleurinpData = DataFactory('fleur.fleurinp')\n",
    "FleurCalculation = CalculationFactory('fleur.fleur')\n",
    "\n",
    "options = {'resources' : {\"num_machines\": 1, \"num_mpiprocs_per_machine\": 1}, 'queue_name': 'th1-2020-32', 'withmpi': False}\n",
    "\n",
    "struct = load_node(2343)\n",
    "inpgen = load_code(149)\n",
    "\n",
    "\n",
    "inputs = FleurinputgenCalculation.get_builder()\n",
    "inputs.code = inpgen\n",
    "inputs.structure = struct\n",
    "inputs.metadata.options = options\n",
    "\n",
    "inpgen_node  = submit(FleurinputgenCalculation , **inputs)"
   ]
  },
  {
   "cell_type": "code",
   "execution_count": 6,
   "id": "77950579-6e69-49a8-afcd-6a4158ed5b73",
   "metadata": {},
   "outputs": [
    {
     "data": {
      "text/plain": [
       "<CalcJobNode: uuid: 8e9bb269-7302-4bb7-85bd-3140bb38f191 (pk: 138014) (aiida.calculations:fleur.inpgen)>"
      ]
     },
     "execution_count": 6,
     "metadata": {},
     "output_type": "execute_result"
    }
   ],
   "source": [
    "inpgen_node"
   ]
  }
 ],
 "metadata": {
  "kernelspec": {
   "display_name": "AiiDA",
   "language": "python",
   "name": "aiida"
  },
  "language_info": {
   "codemirror_mode": {
    "name": "ipython",
    "version": 3
   },
   "file_extension": ".py",
   "mimetype": "text/x-python",
   "name": "python",
   "nbconvert_exporter": "python",
   "pygments_lexer": "ipython3",
   "version": "3.8.10"
  }
 },
 "nbformat": 4,
 "nbformat_minor": 5
}
