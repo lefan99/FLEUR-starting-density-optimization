{
 "cells": [
  {
   "cell_type": "code",
   "execution_count": 7,
   "id": "b65bc7e3-0234-4d33-b728-ce3a06499d86",
   "metadata": {},
   "outputs": [
    {
     "data": {
      "text/plain": [
       "<aiida.manage.configuration.profile.Profile at 0x7f37e9560ee0>"
      ]
     },
     "execution_count": 7,
     "metadata": {},
     "output_type": "execute_result"
    }
   ],
   "source": [
    "from aiida_fleur.data.fleurinp import FleurinpData\n",
    "from aiida import load_profile\n",
    "from aiida.orm import Dict, load_node , load_code\n",
    "from aiida.engine import submit, run\n",
    "from aiida_fleur.calculation.fleurinputgen import FleurinputgenCalculation\n",
    "from aiida.plugins import DataFactory, CalculationFactory\n",
    "from aiida_fleur.calculation.fleur import FleurCalculation\n",
    "from aiida_fleur.data.fleurinpmodifier import FleurinpModifier\n",
    "from itertools import product\n",
    "import numpy as np\n",
    "import json\n",
    "import matplotlib.pyplot as plt\n",
    "import numpy as np\n",
    "from fleur_starting_density import random_grid\n",
    "\n",
    "\n",
    "load_profile()"
   ]
  },
  {
   "cell_type": "code",
   "execution_count": 3,
   "id": "9dc4bbab-edcc-4185-a762-cfb6551f095e",
   "metadata": {},
   "outputs": [],
   "source": [
    "copper_inp = load_node(3253)"
   ]
  },
  {
   "cell_type": "code",
   "execution_count": 4,
   "id": "27e4ae45-0fd8-449a-8a53-e30a522be378",
   "metadata": {},
   "outputs": [
    {
     "data": {
      "text/plain": [
       "[{'name': 'Copper (Cu)',\n",
       "  'element': 'Cu',\n",
       "  'mtSphere': {'radius': 2.36, 'gridPoints': 781, 'logIncrement': 0.016},\n",
       "  'prodBasis': {'lcutm': 4, 'lcutwf': 8, 'select': '4 0 4 2'},\n",
       "  'modInitDen': {'flipSpinPhi': 0.0,\n",
       "   'flipSpinScale': False,\n",
       "   'flipSpinTheta': 0.0},\n",
       "  'atomicNumber': 29,\n",
       "  'atomicCutoffs': {'lmax': 8, 'lnonsphr': 6},\n",
       "  'electronConfig': {'coreConfig': ['(1s1/2)',\n",
       "    '(2s1/2)',\n",
       "    '(2p1/2)',\n",
       "    '(2p3/2)',\n",
       "    '(3s1/2)',\n",
       "    '(3p1/2)',\n",
       "    '(3p3/2)'],\n",
       "   'valenceConfig': ['(4s1/2)', '(3d3/2)', '(3d5/2)'],\n",
       "   'stateOccupation': [{'state': '(4s1/2)', 'spinUp': 0.5, 'spinDown': 0.5}]},\n",
       "  'energyParameters': {'d': 3, 'f': 4, 'p': 4, 's': 4}}]"
      ]
     },
     "execution_count": 4,
     "metadata": {},
     "output_type": "execute_result"
    }
   ],
   "source": [
    "copper_inp.inp_dict['atomSpecies']"
   ]
  },
  {
   "cell_type": "code",
   "execution_count": 5,
   "id": "91dfec55-0bfb-4155-9797-38c54681dbc8",
   "metadata": {},
   "outputs": [
    {
     "name": "stdout",
     "output_type": "stream",
     "text": [
      "['(4s1/2)', '(3d3/2)', '(3d5/2)']\n"
     ]
    }
   ],
   "source": [
    "from sklearn.gaussian_process import GaussianProcessRegressor\n",
    "from sklearn.gaussian_process.kernels import RBF\n",
    "\n",
    "def aq( sol) :\n",
    "    \n",
    "    return[sol[i]-3*sol[i] for i in range(len(sol[0]))]\n",
    "\n",
    "def bayes(inp , samples , iterations , fleur = load_code(150)):\n",
    "    number_valence_electrons = inp.inp_dict['cell']['bzIntegration']['valenceElectrons']\n",
    "    \n",
    "    first_sampling = random_grid(inp , samples )\n",
    "    \n",
    "    input(\"Press Enter to continue...\") \n",
    "    \n",
    "    X_start = []\n",
    "    Y_start = []\n",
    "    \n",
    "    \n",
    "    for orbital_combination in first_sampling[0]:\n",
    "\n",
    "        Y_start.append( first_sampling[orbital_combination].outputs.output_parameters.get_dict()['density_convergence'])\n",
    "        X_start.append( eval(orbital_combination) ) \n",
    "        \n",
    "    \n",
    "        \n",
    "    \n",
    "    \n",
    "    kernel = 1 * RBF(length_scale=1.0, length_scale_bounds=(1e-6, 1e2))\n",
    "    gaussian_process = GaussianProcessRegressor(alpha = 0)\n",
    "    gaussian_process.fit(X_start, Y_start)\n",
    "    gpr.score(X,y)\n",
    "    \n",
    "    \n",
    "    x1 = []\n",
    "\n",
    "    const = [1, 2 , 3 , 1 ,2 ]\n",
    "\n",
    "    for i in range(len(const)):\n",
    "        x1.append( np.linspace(0 , const[i], int((const[i] / 0.1)+1)))\n",
    "\n",
    "    \n",
    "\n",
    "    all_comb = list(product(*x1))\n",
    "\n",
    "\n",
    "    \n",
    "    valid_lis = []    \n",
    "\n",
    "    for combination in all_comb:\n",
    "        \n",
    "        if sum(combination) * 2 == number_valence_electrons :\n",
    "\n",
    "            valid_lis.append(combination)\n",
    "            \n",
    "    sol = gpr.predict(valid_lis , return_std = True)\n",
    "    \n",
    "    find_min \n",
    "    \n",
    "    "
   ]
  },
  {
   "cell_type": "code",
   "execution_count": null,
   "id": "deedb752-24d9-4ca8-80e5-a6eb99c8aff5",
   "metadata": {},
   "outputs": [],
   "source": []
  }
 ],
 "metadata": {
  "kernelspec": {
   "display_name": "AiiDA",
   "language": "python",
   "name": "aiida"
  },
  "language_info": {
   "codemirror_mode": {
    "name": "ipython",
    "version": 3
   },
   "file_extension": ".py",
   "mimetype": "text/x-python",
   "name": "python",
   "nbconvert_exporter": "python",
   "pygments_lexer": "ipython3",
   "version": "3.8.10"
  }
 },
 "nbformat": 4,
 "nbformat_minor": 5
}
