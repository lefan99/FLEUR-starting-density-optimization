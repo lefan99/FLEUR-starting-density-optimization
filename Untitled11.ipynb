{
 "cells": [
  {
   "cell_type": "code",
   "execution_count": 1,
   "id": "ad3b5509-c07e-48d0-92b3-9cb94e948051",
   "metadata": {},
   "outputs": [
    {
     "data": {
      "text/plain": [
       "<aiida.manage.configuration.profile.Profile at 0x7f66862b10a0>"
      ]
     },
     "execution_count": 1,
     "metadata": {},
     "output_type": "execute_result"
    }
   ],
   "source": [
    "from aiida_fleur.data.fleurinp import FleurinpData\n",
    "from aiida import load_profile\n",
    "from aiida.orm import Dict, load_node , load_code\n",
    "from aiida.engine import submit, run\n",
    "from aiida_fleur.calculation.fleurinputgen import FleurinputgenCalculation\n",
    "from aiida.plugins import DataFactory, CalculationFactory\n",
    "from aiida_fleur.calculation.fleur import FleurCalculation\n",
    "from aiida_fleur.data.fleurinpmodifier import FleurinpModifier\n",
    "from itertools import product\n",
    "import numpy as np\n",
    "import json\n",
    "import matplotlib.pyplot as plt\n",
    "import numpy as np\n",
    "import random\n",
    "from fleur_starting_density import oxides_charge1\n",
    "\n",
    "load_profile()"
   ]
  },
  {
   "cell_type": "code",
   "execution_count": 4,
   "id": "dfcc0334-a8cd-4e0e-a9e8-ea3269374540",
   "metadata": {},
   "outputs": [],
   "source": [
    "calc = [ 151356 ]\n",
    "\n",
    "\n",
    "inps = []\n",
    "\n",
    "for number in calc:\n",
    "    \n",
    "    inps.append(load_node(number).outputs.fleurinpData)\n",
    "    \n",
    "inp = inps[0]"
   ]
  },
  {
   "cell_type": "code",
   "execution_count": 5,
   "id": "1741aa45-ed29-49b5-868e-05fb16b0eb28",
   "metadata": {},
   "outputs": [
    {
     "name": "stdout",
     "output_type": "stream",
     "text": [
      "started fleur calc with pk: 153560\n"
     ]
    },
    {
     "ename": "NameError",
     "evalue": "name 'node_list' is not defined",
     "output_type": "error",
     "traceback": [
      "\u001b[0;31m---------------------------------------------------------------------------\u001b[0m",
      "\u001b[0;31mNameError\u001b[0m                                 Traceback (most recent call last)",
      "\u001b[0;32m/tmp/ipykernel_2218469/456307441.py\u001b[0m in \u001b[0;36m<cell line: 26>\u001b[0;34m()\u001b[0m\n\u001b[1;32m     24\u001b[0m \u001b[0;34m\u001b[0m\u001b[0m\n\u001b[1;32m     25\u001b[0m \u001b[0;34m\u001b[0m\u001b[0m\n\u001b[0;32m---> 26\u001b[0;31m \u001b[0mnode_list\u001b[0m\u001b[0;34m.\u001b[0m\u001b[0mappend\u001b[0m\u001b[0;34m(\u001b[0m\u001b[0mfleur_proc_node\u001b[0m\u001b[0;34m)\u001b[0m\u001b[0;34m\u001b[0m\u001b[0;34m\u001b[0m\u001b[0m\n\u001b[0m",
      "\u001b[0;31mNameError\u001b[0m: name 'node_list' is not defined"
     ]
    }
   ],
   "source": [
    "options = {'resources' : {\"num_machines\": 1, \"num_mpiprocs_per_machine\" : 2},\n",
    "               'queue_name' : 'th1-2020-32',\n",
    "               'withmpi' : True,\n",
    "               'max_wallclock_seconds' : 600}\n",
    "\n",
    "fleurmode = FleurinpModifier(inp)\n",
    "dict_change = { \n",
    "    'itmax' : 100 }\n",
    "\n",
    "fleurmode.set_inpchanges(dict_change)\n",
    "inp1 = fleurmode.freeze()\n",
    "dic = inp1.inp_dict\n",
    "\n",
    "inputs = FleurCalculation.get_builder()\n",
    "inputs.code = load_code(151178)\n",
    "inputs.fleurinpdata = inp1\n",
    "inputs.metadata.options  = options \n",
    "\n",
    "\n",
    "fleur_proc_node = submit(FleurCalculation, **inputs)\n",
    "\n",
    "print('started fleur calc with pk:' , fleur_proc_node.pk)\n",
    "\n",
    "\n"
   ]
  },
  {
   "cell_type": "code",
   "execution_count": 13,
   "id": "53f6afda-2e08-49fd-b72c-c49c121b9d53",
   "metadata": {},
   "outputs": [
    {
     "name": "stdout",
     "output_type": "stream",
     "text": [
      "uuid: cc87b5dc-9e8c-423b-8fba-71bf129c39de (pk: 153564)\n",
      "started fleur calc with pk: 153580\n"
     ]
    }
   ],
   "source": [
    "print(inp)\n",
    "fm = FleurinpModifier(inp)\n",
    "dict_change = { \n",
    "    'itmax' : 100 }\n",
    "\n",
    "fm.set_inpchanges(dict_change)\n",
    "dic = inp.inp_dict\n",
    "\n",
    "inp = fm.freeze()\n",
    "\n",
    "\n",
    "\n",
    "for species in dic['atomSpecies']:\n",
    "\n",
    "    if species['name'] != 'Oxygen (O)':\n",
    "\n",
    "        X_name = species['name']\n",
    "\n",
    "        X_orb = species['electronConfig']['valenceConfig'][-1]\n",
    "\n",
    "fm = FleurinpModifier(inp)\n",
    "\n",
    "\n",
    "\n",
    "changes = []\n",
    "\n",
    "\n",
    "\n",
    "\n",
    "\n",
    "    #print(charge , Mg_occ , O_occ)\n",
    "\n",
    "changes.append({'state': '(2p1/2)' , 'spinup': 0.9833333333,  'spindown' : 0.9833333333  })\n",
    "changes.append({'state': '(2p3/2)',\n",
    "     'spinUp': 1.9666666667 ,\n",
    "     'spinDown': 1.9666666667  })\n",
    "\n",
    "fm.set_species('Oxygen (O)', { 'electronconfig': { 'stateoccupation': changes}})\n",
    "\n",
    "\n",
    "changes = []\n",
    "changes.append({'state': '(3d3/2)', 'spinup': 1.6 , 'spindown' : 1.6 })\n",
    "#    changes.append({'state': '(3p1/2)', 'spinUp': 0.0, 'spinDown': 0.0})\n",
    "changes.append({'state': '(4s1/2)', 'spinup': 0.425 , 'spindown' : 0.425})\n",
    "\n",
    "fm.set_species(X_name, { 'electronconfig': { 'stateoccupation': changes}})\n",
    "#    changes.append({'state': '(3p1/2)', 'spinUp': 0.0, 'spinDown': 0.0})\n",
    "\n",
    "fm.set_species(X_name, { 'electronconfig': { 'stateoccupation': changes}})\n",
    "\n",
    "\n",
    "\n",
    "mod_inp = fm.freeze()\n",
    "inputs = FleurCalculation.get_builder()\n",
    "inputs.code = load_code(151178)\n",
    "inputs.fleurinpdata = mod_inp\n",
    "inputs.metadata.options  = options \n",
    "\n",
    "\n",
    "fleur_proc_node = submit(FleurCalculation, **inputs)\n",
    "print('started fleur calc with pk:' , fleur_proc_node.pk)"
   ]
  },
  {
   "cell_type": "code",
   "execution_count": 8,
   "id": "71596463-f4ee-4fd0-8b5a-60b46c73dc4f",
   "metadata": {},
   "outputs": [
    {
     "data": {
      "text/plain": [
       "17"
      ]
     },
     "execution_count": 8,
     "metadata": {},
     "output_type": "execute_result"
    }
   ],
   "source": [
    "load_node(153560).outputs.output_parameters.get_dict()['number_of_iterations'] "
   ]
  },
  {
   "cell_type": "code",
   "execution_count": 15,
   "id": "1c20ce91-3d4b-44f7-8466-e8cfc83bb25b",
   "metadata": {},
   "outputs": [
    {
     "data": {
      "text/plain": [
       "16"
      ]
     },
     "execution_count": 15,
     "metadata": {},
     "output_type": "execute_result"
    }
   ],
   "source": [
    "load_node(153580).outputs.output_parameters.get_dict()['number_of_iterations'] "
   ]
  },
  {
   "cell_type": "code",
   "execution_count": 12,
   "id": "2db5c8c6-d5fe-42ff-9cdb-364961c324db",
   "metadata": {},
   "outputs": [
    {
     "data": {
      "text/plain": [
       "[{'name': 'Copper (Cu)',\n",
       "  'element': 'Cu',\n",
       "  'mtSphere': {'radius': 2.38, 'gridPoints': 787, 'logIncrement': 0.016},\n",
       "  'prodBasis': {'lcutm': 4, 'lcutwf': 8, 'select': '4 0 4 2'},\n",
       "  'modInitDen': {'flipSpinPhi': 0.0,\n",
       "   'flipSpinScale': False,\n",
       "   'flipSpinTheta': 0.0},\n",
       "  'atomicNumber': 29,\n",
       "  'atomicCutoffs': {'lmax': 8, 'lnonsphr': 6},\n",
       "  'electronConfig': {'coreConfig': ['(1s1/2)',\n",
       "    '(2s1/2)',\n",
       "    '(2p1/2)',\n",
       "    '(2p3/2)',\n",
       "    '(3s1/2)',\n",
       "    '(3p1/2)',\n",
       "    '(3p3/2)'],\n",
       "   'valenceConfig': ['(4s1/2)', '(3d3/2)', '(3d5/2)'],\n",
       "   'stateOccupation': [{'state': '(3d3/2)', 'spinUp': 1.6, 'spinDown': 1.6},\n",
       "    {'state': '(4s1/2)', 'spinUp': 0.0, 'spinDown': 0.0}]},\n",
       "  'energyParameters': {'d': 3, 'f': 4, 'p': 4, 's': 4}},\n",
       " {'name': 'Oxygen (O)',\n",
       "  'element': 'O',\n",
       "  'mtSphere': {'radius': 1.49, 'gridPoints': 493, 'logIncrement': 0.021},\n",
       "  'prodBasis': {'lcutm': 4, 'lcutwf': 6, 'select': '4 0 4 2'},\n",
       "  'modInitDen': {'flipSpinPhi': 0.0,\n",
       "   'flipSpinScale': False,\n",
       "   'flipSpinTheta': 0.0},\n",
       "  'atomicNumber': 8,\n",
       "  'atomicCutoffs': {'lmax': 6, 'lnonsphr': 4},\n",
       "  'electronConfig': {'coreConfig': ['(1s1/2)'],\n",
       "   'valenceConfig': ['(2s1/2)', '(2p1/2)', '(2p3/2)'],\n",
       "   'stateOccupation': [{'state': '(2p1/2)', 'spinUp': 1.0, 'spinDown': 1.0},\n",
       "    {'state': '(2p3/2)', 'spinUp': 1.9, 'spinDown': 1.9}]},\n",
       "  'energyParameters': {'d': 3, 'f': 4, 'p': 2, 's': 2}}]"
      ]
     },
     "execution_count": 12,
     "metadata": {},
     "output_type": "execute_result"
    }
   ],
   "source": [
    "load_node(153568).inputs.fleurinpdata.inp_dict['atomSpecies']"
   ]
  }
 ],
 "metadata": {
  "kernelspec": {
   "display_name": "AiiDA",
   "language": "python",
   "name": "aiida"
  },
  "language_info": {
   "codemirror_mode": {
    "name": "ipython",
    "version": 3
   },
   "file_extension": ".py",
   "mimetype": "text/x-python",
   "name": "python",
   "nbconvert_exporter": "python",
   "pygments_lexer": "ipython3",
   "version": "3.8.10"
  }
 },
 "nbformat": 4,
 "nbformat_minor": 5
}
