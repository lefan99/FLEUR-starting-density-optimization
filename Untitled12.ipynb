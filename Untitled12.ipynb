{
 "cells": [
  {
   "cell_type": "code",
   "execution_count": 1,
   "id": "3508c310-ca8a-4c3d-907a-1051b3b3b44d",
   "metadata": {},
   "outputs": [
    {
     "data": {
      "text/plain": [
       "<aiida.manage.configuration.profile.Profile at 0x7f2ada0499d0>"
      ]
     },
     "execution_count": 1,
     "metadata": {},
     "output_type": "execute_result"
    }
   ],
   "source": [
    "from aiida_fleur.data.fleurinp import FleurinpData\n",
    "from aiida import load_profile\n",
    "from aiida.orm import Dict, load_node , load_code\n",
    "from aiida.engine import submit, run\n",
    "from aiida_fleur.calculation.fleurinputgen import FleurinputgenCalculation\n",
    "from aiida.plugins import DataFactory, CalculationFactory\n",
    "from aiida_fleur.calculation.fleur import FleurCalculation\n",
    "from aiida_fleur.data.fleurinpmodifier import FleurinpModifier\n",
    "from itertools import product\n",
    "import numpy as np\n",
    "import json\n",
    "import matplotlib.pyplot as plt\n",
    "import numpy as np\n",
    "import random\n",
    "from fleur_starting_density import oxides_all\n",
    "\n",
    "load_profile()"
   ]
  },
  {
   "cell_type": "code",
   "execution_count": 2,
   "id": "b622dcab-a2b3-4d21-b2af-3e679453e23f",
   "metadata": {},
   "outputs": [],
   "source": [
    "inp = load_node(153605)"
   ]
  },
  {
   "cell_type": "code",
   "execution_count": 5,
   "id": "53ea409e-c361-478a-ac2b-e427ba6c84cb",
   "metadata": {
    "tags": []
   },
   "outputs": [
    {
     "name": "stdout",
     "output_type": "stream",
     "text": [
      "started fleur calc with pk: 153765\n",
      "started fleur calc with pk: 153769\n",
      "started fleur calc with pk: 153773\n"
     ]
    }
   ],
   "source": [
    "res = oxides_all(inp, gridsize = 3)"
   ]
  },
  {
   "cell_type": "code",
   "execution_count": 6,
   "id": "ff902a95-3ee7-485c-bb0c-881999c477ff",
   "metadata": {
    "tags": []
   },
   "outputs": [],
   "source": [
    "def plot(lis) :\n",
    "    \n",
    "    x = []\n",
    "    y = []\n",
    "    \n",
    "    for species in lis[0].inputs.fleurinpdata.inp_dict['atomSpecies']:\n",
    "\n",
    "        if species['name'] != 'Oxygen (O)':\n",
    "\n",
    "            X_name = species['name']\n",
    "    \n",
    "    \n",
    "    for node in lis:\n",
    "        \n",
    "        if node.is_finished_ok:\n",
    "    \n",
    "            y.append( node.outputs.output_parameters.get_dict()['density_convergence'] )\n",
    "        \n",
    "            x.append(2 * (node.inputs.fleurinpdata.inp_dict['atomSpecies'][1]['electronConfig']['stateOccupation'][0]['spinUp'] + node.inputs.fleurinpdata.inp_dict['atomSpecies'][1]['electronConfig']['stateOccupation'][1]['spinUp'] ) -4)\n",
    "\n",
    "    \n",
    "    plt.plot(x,y, 'x') \n",
    "    plt.xlabel('total charge transfer to Oxygen')\n",
    "    plt.ylabel('distance after 1 iteration')\n",
    "    plt.title(X_name)\n",
    "    #plt.savefig('MgO_sc_loop.pdf')\n",
    "    plt.show()"
   ]
  },
  {
   "cell_type": "code",
   "execution_count": 11,
   "id": "6696fcd9-4ead-4ea8-b128-c4664999cbe7",
   "metadata": {
    "tags": []
   },
   "outputs": [
    {
     "data": {
      "image/png": "[encoded data removed]",
      "text/plain": [
       "<Figure size 432x288 with 1 Axes>"
      ]
     },
     "metadata": {
      "needs_background": "light"
     },
     "output_type": "display_data"
    }
   ],
   "source": [
    "plot(res  )"
   ]
  },
  {
   "cell_type": "code",
   "execution_count": 10,
   "id": "5811dc55-fc77-465b-8d98-892ab99f77f9",
   "metadata": {},
   "outputs": [
    {
     "name": "stdout",
     "output_type": "stream",
     "text": [
      "True\n",
      "True\n",
      "True\n"
     ]
    }
   ],
   "source": [
    "for i in res:\n",
    "    \n",
    "    print(i.is_finished)"
   ]
  },
  {
   "cell_type": "code",
   "execution_count": 12,
   "id": "27fc0426-9619-4534-b6b0-8cf2d7960f06",
   "metadata": {},
   "outputs": [
    {
     "name": "stdout",
     "output_type": "stream",
     "text": [
      "[{'name': 'Curium (Cm)', 'element': 'Cm', 'mtSphere': {'radius': 2.62, 'gridPoints': 867, 'logIncrement': 0.016}, 'prodBasis': {'lcutm': 4, 'lcutwf': 9, 'select': '4 0 4 2'}, 'modInitDen': {'flipSpinPhi': 0.0, 'flipSpinScale': False, 'flipSpinTheta': 0.0}, 'atomicNumber': 96, 'atomicCutoffs': {'lmax': 10, 'lnonsphr': 8}, 'electronConfig': {'coreConfig': ['(1s1/2)', '(2s1/2)', '(2p1/2)', '(2p3/2)', '(3s1/2)', '(3p1/2)', '(3p3/2)', '(4s1/2)', '(3d3/2)', '(3d5/2)', '(4p1/2)', '(4p3/2)', '(5s1/2)', '(4d3/2)', '(4d5/2)', '(5p1/2)', '(5p3/2)', '(6s1/2)', '(4f5/2)', '(4f7/2)', '(5d3/2)', '(5d5/2)', '(6p1/2)', '(6p3/2)'], 'valenceConfig': ['(7s1/2)', '(5f5/2)', '(5f7/2)', '(6d3/2)', '(6d5/2)'], 'stateOccupation': [{'state': '(5f5/2)', 'spinUp': 1.5, 'spinDown': 1.5}, {'state': '(5f7/2)', 'spinUp': 2.0, 'spinDown': 2.0}, {'state': '(6d3/2)', 'spinUp': 0.2, 'spinDown': 0.2}, {'state': '(6d5/2)', 'spinUp': 0.3, 'spinDown': 0.3}]}, 'energyParameters': {'d': 6, 'f': 5, 'p': 7, 's': 7}}, {'name': 'Oxygen (O)', 'element': 'O', 'mtSphere': {'radius': 1.64, 'gridPoints': 543, 'logIncrement': 0.02}, 'prodBasis': {'lcutm': 4, 'lcutwf': 6, 'select': '4 0 4 2'}, 'modInitDen': {'flipSpinPhi': 0.0, 'flipSpinScale': False, 'flipSpinTheta': 0.0}, 'atomicNumber': 8, 'atomicCutoffs': {'lmax': 6, 'lnonsphr': 4}, 'electronConfig': {'coreConfig': ['(1s1/2)'], 'valenceConfig': ['(2s1/2)', '(2p1/2)', '(2p3/2)'], 'stateOccupation': [{'state': '(2p1/2)', 'spinUp': 0.6666666667, 'spinDown': 0.6666666667}, {'state': '(2p3/2)', 'spinUp': 1.3333333333, 'spinDown': 1.3333333333}]}, 'energyParameters': {'d': 3, 'f': 4, 'p': 2, 's': 2}}]\n",
      "[{'name': 'Curium (Cm)', 'element': 'Cm', 'mtSphere': {'radius': 2.62, 'gridPoints': 867, 'logIncrement': 0.016}, 'prodBasis': {'lcutm': 4, 'lcutwf': 9, 'select': '4 0 4 2'}, 'modInitDen': {'flipSpinPhi': 0.0, 'flipSpinScale': False, 'flipSpinTheta': 0.0}, 'atomicNumber': 96, 'atomicCutoffs': {'lmax': 10, 'lnonsphr': 8}, 'electronConfig': {'coreConfig': ['(1s1/2)', '(2s1/2)', '(2p1/2)', '(2p3/2)', '(3s1/2)', '(3p1/2)', '(3p3/2)', '(4s1/2)', '(3d3/2)', '(3d5/2)', '(4p1/2)', '(4p3/2)', '(5s1/2)', '(4d3/2)', '(4d5/2)', '(5p1/2)', '(5p3/2)', '(6s1/2)', '(4f5/2)', '(4f7/2)', '(5d3/2)', '(5d5/2)', '(6p1/2)', '(6p3/2)'], 'valenceConfig': ['(7s1/2)', '(5f5/2)', '(5f7/2)', '(6d3/2)', '(6d5/2)'], 'stateOccupation': [{'state': '(5f5/2)', 'spinUp': 1.5, 'spinDown': 1.5}, {'state': '(5f7/2)', 'spinUp': 2.0, 'spinDown': 2.0}, {'state': '(6d3/2)', 'spinUp': 0.2, 'spinDown': 0.2}, {'state': '(6d5/2)', 'spinUp': 0.3, 'spinDown': 0.3}, {'state': '(6d3/2)', 'spinUp': 0.18, 'spinDown': 0.18}, {'state': '(6d5/2)', 'spinUp': 0.27, 'spinDown': 0.27}]}, 'energyParameters': {'d': 6, 'f': 5, 'p': 7, 's': 7}}, {'name': 'Oxygen (O)', 'element': 'O', 'mtSphere': {'radius': 1.64, 'gridPoints': 543, 'logIncrement': 0.02}, 'prodBasis': {'lcutm': 4, 'lcutwf': 6, 'select': '4 0 4 2'}, 'modInitDen': {'flipSpinPhi': 0.0, 'flipSpinScale': False, 'flipSpinTheta': 0.0}, 'atomicNumber': 8, 'atomicCutoffs': {'lmax': 6, 'lnonsphr': 4}, 'electronConfig': {'coreConfig': ['(1s1/2)'], 'valenceConfig': ['(2s1/2)', '(2p1/2)', '(2p3/2)'], 'stateOccupation': [{'state': '(2p1/2)', 'spinUp': 0.6666666667, 'spinDown': 0.6666666667}, {'state': '(2p3/2)', 'spinUp': 1.3333333333, 'spinDown': 1.3333333333}]}, 'energyParameters': {'d': 3, 'f': 4, 'p': 2, 's': 2}}]\n",
      "[{'name': 'Curium (Cm)', 'element': 'Cm', 'mtSphere': {'radius': 2.62, 'gridPoints': 867, 'logIncrement': 0.016}, 'prodBasis': {'lcutm': 4, 'lcutwf': 9, 'select': '4 0 4 2'}, 'modInitDen': {'flipSpinPhi': 0.0, 'flipSpinScale': False, 'flipSpinTheta': 0.0}, 'atomicNumber': 96, 'atomicCutoffs': {'lmax': 10, 'lnonsphr': 8}, 'electronConfig': {'coreConfig': ['(1s1/2)', '(2s1/2)', '(2p1/2)', '(2p3/2)', '(3s1/2)', '(3p1/2)', '(3p3/2)', '(4s1/2)', '(3d3/2)', '(3d5/2)', '(4p1/2)', '(4p3/2)', '(5s1/2)', '(4d3/2)', '(4d5/2)', '(5p1/2)', '(5p3/2)', '(6s1/2)', '(4f5/2)', '(4f7/2)', '(5d3/2)', '(5d5/2)', '(6p1/2)', '(6p3/2)'], 'valenceConfig': ['(7s1/2)', '(5f5/2)', '(5f7/2)', '(6d3/2)', '(6d5/2)'], 'stateOccupation': [{'state': '(5f5/2)', 'spinUp': 1.5, 'spinDown': 1.5}, {'state': '(5f7/2)', 'spinUp': 2.0, 'spinDown': 2.0}, {'state': '(6d3/2)', 'spinUp': 0.2, 'spinDown': 0.2}, {'state': '(6d5/2)', 'spinUp': 0.3, 'spinDown': 0.3}, {'state': '(6d3/2)', 'spinUp': 0.18, 'spinDown': 0.18}, {'state': '(6d5/2)', 'spinUp': 0.27, 'spinDown': 0.27}, {'state': '(6d3/2)', 'spinUp': 0.16, 'spinDown': 0.16}, {'state': '(6d5/2)', 'spinUp': 0.24, 'spinDown': 0.24}]}, 'energyParameters': {'d': 6, 'f': 5, 'p': 7, 's': 7}}, {'name': 'Oxygen (O)', 'element': 'O', 'mtSphere': {'radius': 1.64, 'gridPoints': 543, 'logIncrement': 0.02}, 'prodBasis': {'lcutm': 4, 'lcutwf': 6, 'select': '4 0 4 2'}, 'modInitDen': {'flipSpinPhi': 0.0, 'flipSpinScale': False, 'flipSpinTheta': 0.0}, 'atomicNumber': 8, 'atomicCutoffs': {'lmax': 6, 'lnonsphr': 4}, 'electronConfig': {'coreConfig': ['(1s1/2)'], 'valenceConfig': ['(2s1/2)', '(2p1/2)', '(2p3/2)'], 'stateOccupation': [{'state': '(2p1/2)', 'spinUp': 0.6666666667, 'spinDown': 0.6666666667}, {'state': '(2p3/2)', 'spinUp': 1.3333333333, 'spinDown': 1.3333333333}]}, 'energyParameters': {'d': 3, 'f': 4, 'p': 2, 's': 2}}]\n"
     ]
    }
   ],
   "source": [
    "for i in res:\n",
    "    \n",
    "    print(i.inputs.fleurinpdata.inp_dict['atomSpecies'])"
   ]
  }
 ],
 "metadata": {
  "kernelspec": {
   "display_name": "AiiDA",
   "language": "python",
   "name": "aiida"
  },
  "language_info": {
   "codemirror_mode": {
    "name": "ipython",
    "version": 3
   },
   "file_extension": ".py",
   "mimetype": "text/x-python",
   "name": "python",
   "nbconvert_exporter": "python",
   "pygments_lexer": "ipython3",
   "version": "3.8.10"
  }
 },
 "nbformat": 4,
 "nbformat_minor": 5
}
