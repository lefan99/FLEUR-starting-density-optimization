{
 "cells": [
  {
   "cell_type": "code",
   "execution_count": 2,
   "id": "3508c310-ca8a-4c3d-907a-1051b3b3b44d",
   "metadata": {},
   "outputs": [
    {
     "data": {
      "text/plain": [
       "<aiida.manage.configuration.profile.Profile at 0x7fdb27a84370>"
      ]
     },
     "execution_count": 2,
     "metadata": {},
     "output_type": "execute_result"
    }
   ],
   "source": [
    "from aiida_fleur.data.fleurinp import FleurinpData\n",
    "from aiida import load_profile\n",
    "from aiida.orm import Dict, load_node , load_code\n",
    "from aiida.engine import submit, run\n",
    "from aiida_fleur.calculation.fleurinputgen import FleurinputgenCalculation\n",
    "from aiida.plugins import DataFactory, CalculationFactory\n",
    "from aiida_fleur.calculation.fleur import FleurCalculation\n",
    "from aiida_fleur.data.fleurinpmodifier import FleurinpModifier\n",
    "from itertools import product\n",
    "import numpy as np\n",
    "import json\n",
    "import matplotlib.pyplot as plt\n",
    "import numpy as np\n",
    "import random\n",
    "from fleur_starting_density import oxides_all\n",
    "\n",
    "load_profile()"
   ]
  },
  {
   "cell_type": "code",
   "execution_count": 3,
   "id": "b622dcab-a2b3-4d21-b2af-3e679453e23f",
   "metadata": {},
   "outputs": [],
   "source": [
    "inp = load_node(153605)"
   ]
  },
  {
   "cell_type": "code",
   "execution_count": 4,
   "id": "53ea409e-c361-478a-ac2b-e427ba6c84cb",
   "metadata": {
    "tags": []
   },
   "outputs": [
    {
     "name": "stdout",
     "output_type": "stream",
     "text": [
      "[0.4, 0.6] ['(6d3/2)', '(6d5/2)']\n",
      "0.5 2\n",
      "[{'state': '(5f5/2)', 'spinUp': 1.5, 'spinDown': 1.5}, {'state': '(5f7/2)', 'spinUp': 2.0, 'spinDown': 2.0}, {'state': '(6d3/2)', 'spinup': 0.2, 'spindown': 0.2}, {'state': '(6d5/2)', 'spinup': 0.3, 'spindown': 0.3}]\n",
      "started fleur calc with pk: 154014\n",
      "0.45 2.1\n",
      "[{'state': '(5f5/2)', 'spinUp': 1.5, 'spinDown': 1.5}, {'state': '(5f7/2)', 'spinUp': 2.0, 'spinDown': 2.0}, {'state': '(6d3/2)', 'spinup': 0.18000000000000002, 'spindown': 0.18000000000000002}, {'state': '(6d5/2)', 'spinup': 0.27, 'spindown': 0.27}]\n",
      "started fleur calc with pk: 154018\n",
      "0.4 2.2\n",
      "[{'state': '(5f5/2)', 'spinUp': 1.5, 'spinDown': 1.5}, {'state': '(5f7/2)', 'spinUp': 2.0, 'spinDown': 2.0}, {'state': '(6d3/2)', 'spinup': 0.16000000000000003, 'spindown': 0.16000000000000003}, {'state': '(6d5/2)', 'spinup': 0.24, 'spindown': 0.24}]\n",
      "started fleur calc with pk: 154022\n",
      "0.35000000000000003 2.3000000000000003\n",
      "[{'state': '(5f5/2)', 'spinUp': 1.5, 'spinDown': 1.5}, {'state': '(5f7/2)', 'spinUp': 2.0, 'spinDown': 2.0}, {'state': '(6d3/2)', 'spinup': 0.14, 'spindown': 0.14}, {'state': '(6d5/2)', 'spinup': 0.21000000000000002, 'spindown': 0.21000000000000002}]\n",
      "started fleur calc with pk: 154026\n",
      "0.30000000000000004 2.4000000000000004\n",
      "[{'state': '(5f5/2)', 'spinUp': 1.5, 'spinDown': 1.5}, {'state': '(5f7/2)', 'spinUp': 2.0, 'spinDown': 2.0}, {'state': '(6d3/2)', 'spinup': 0.12000000000000002, 'spindown': 0.12000000000000002}, {'state': '(6d5/2)', 'spinup': 0.18000000000000002, 'spindown': 0.18000000000000002}]\n",
      "started fleur calc with pk: 154030\n",
      "0.25000000000000006 2.5000000000000004\n",
      "[{'state': '(5f5/2)', 'spinUp': 1.5, 'spinDown': 1.5}, {'state': '(5f7/2)', 'spinUp': 2.0, 'spinDown': 2.0}, {'state': '(6d3/2)', 'spinup': 0.10000000000000003, 'spindown': 0.10000000000000003}, {'state': '(6d5/2)', 'spinup': 0.15000000000000002, 'spindown': 0.15000000000000002}]\n",
      "started fleur calc with pk: 154034\n",
      "0.20000000000000007 2.6000000000000005\n",
      "[{'state': '(5f5/2)', 'spinUp': 1.5, 'spinDown': 1.5}, {'state': '(5f7/2)', 'spinUp': 2.0, 'spinDown': 2.0}, {'state': '(6d3/2)', 'spinup': 0.08000000000000003, 'spindown': 0.08000000000000003}, {'state': '(6d5/2)', 'spinup': 0.12000000000000004, 'spindown': 0.12000000000000004}]\n",
      "started fleur calc with pk: 154039\n",
      "0.15000000000000008 2.7000000000000006\n",
      "[{'state': '(5f5/2)', 'spinUp': 1.5, 'spinDown': 1.5}, {'state': '(5f7/2)', 'spinUp': 2.0, 'spinDown': 2.0}, {'state': '(6d3/2)', 'spinup': 0.06000000000000003, 'spindown': 0.06000000000000003}, {'state': '(6d5/2)', 'spinup': 0.09000000000000004, 'spindown': 0.09000000000000004}]\n",
      "started fleur calc with pk: 154043\n",
      "0.10000000000000007 2.8000000000000007\n",
      "[{'state': '(5f5/2)', 'spinUp': 1.5, 'spinDown': 1.5}, {'state': '(5f7/2)', 'spinUp': 2.0, 'spinDown': 2.0}, {'state': '(6d3/2)', 'spinup': 0.040000000000000036, 'spindown': 0.040000000000000036}, {'state': '(6d5/2)', 'spinup': 0.06000000000000004, 'spindown': 0.06000000000000004}]\n",
      "started fleur calc with pk: 154049\n"
     ]
    }
   ],
   "source": [
    "res = oxides_all(inp, gridsize = 9)"
   ]
  },
  {
   "cell_type": "code",
   "execution_count": 6,
   "id": "ff902a95-3ee7-485c-bb0c-881999c477ff",
   "metadata": {
    "tags": []
   },
   "outputs": [],
   "source": [
    "def plot(lis) :\n",
    "    \n",
    "    x = []\n",
    "    y = []\n",
    "    \n",
    "    for species in lis[0].inputs.fleurinpdata.inp_dict['atomSpecies']:\n",
    "\n",
    "        if species['name'] != 'Oxygen (O)':\n",
    "\n",
    "            X_name = species['name']\n",
    "    \n",
    "    \n",
    "    for node in lis:\n",
    "        \n",
    "        if node.is_finished_ok:\n",
    "    \n",
    "            y.append( node.outputs.output_parameters.get_dict()['density_convergence'] )\n",
    "        \n",
    "            x.append(2 * (node.inputs.fleurinpdata.inp_dict['atomSpecies'][1]['electronConfig']['stateOccupation'][0]['spinUp'] + node.inputs.fleurinpdata.inp_dict['atomSpecies'][1]['electronConfig']['stateOccupation'][1]['spinUp'] ) -4)\n",
    "\n",
    "    \n",
    "    plt.plot(x,y, 'x') \n",
    "    plt.xlabel('total charge transfer to Oxygen')\n",
    "    plt.ylabel('distance after 1 iteration')\n",
    "    plt.title(X_name)\n",
    "    #plt.savefig('MgO_sc_loop.pdf')\n",
    "    plt.show()"
   ]
  },
  {
   "cell_type": "code",
   "execution_count": 7,
   "id": "6696fcd9-4ead-4ea8-b128-c4664999cbe7",
   "metadata": {
    "tags": []
   },
   "outputs": [
    {
     "data": {
      "image/png": "[encoded data removed]",
      "text/plain": [
       "<Figure size 432x288 with 1 Axes>"
      ]
     },
     "metadata": {
      "needs_background": "light"
     },
     "output_type": "display_data"
    }
   ],
   "source": [
    "plot(res  )"
   ]
  },
  {
   "cell_type": "code",
   "execution_count": 12,
   "id": "5811dc55-fc77-465b-8d98-892ab99f77f9",
   "metadata": {},
   "outputs": [
    {
     "name": "stdout",
     "output_type": "stream",
     "text": [
      "True\n",
      "True\n",
      "True\n"
     ]
    }
   ],
   "source": [
    "for i in res:\n",
    "    \n",
    "    print(i.is_finished)"
   ]
  },
  {
   "cell_type": "code",
   "execution_count": 5,
   "id": "27fc0426-9619-4534-b6b0-8cf2d7960f06",
   "metadata": {},
   "outputs": [
    {
     "name": "stdout",
     "output_type": "stream",
     "text": [
      "[{'name': 'Curium (Cm)', 'element': 'Cm', 'mtSphere': {'radius': 2.62, 'gridPoints': 867, 'logIncrement': 0.016}, 'prodBasis': {'lcutm': 4, 'lcutwf': 9, 'select': '4 0 4 2'}, 'modInitDen': {'flipSpinPhi': 0.0, 'flipSpinScale': False, 'flipSpinTheta': 0.0}, 'atomicNumber': 96, 'atomicCutoffs': {'lmax': 10, 'lnonsphr': 8}, 'electronConfig': {'coreConfig': ['(1s1/2)', '(2s1/2)', '(2p1/2)', '(2p3/2)', '(3s1/2)', '(3p1/2)', '(3p3/2)', '(4s1/2)', '(3d3/2)', '(3d5/2)', '(4p1/2)', '(4p3/2)', '(5s1/2)', '(4d3/2)', '(4d5/2)', '(5p1/2)', '(5p3/2)', '(6s1/2)', '(4f5/2)', '(4f7/2)', '(5d3/2)', '(5d5/2)', '(6p1/2)', '(6p3/2)'], 'valenceConfig': ['(7s1/2)', '(5f5/2)', '(5f7/2)', '(6d3/2)', '(6d5/2)'], 'stateOccupation': [{'state': '(5f5/2)', 'spinUp': 1.5, 'spinDown': 1.5}, {'state': '(5f7/2)', 'spinUp': 2.0, 'spinDown': 2.0}, {'state': '(6d3/2)', 'spinUp': 0.2, 'spinDown': 0.2}, {'state': '(6d5/2)', 'spinUp': 0.3, 'spinDown': 0.3}]}, 'energyParameters': {'d': 6, 'f': 5, 'p': 7, 's': 7}}, {'name': 'Oxygen (O)', 'element': 'O', 'mtSphere': {'radius': 1.64, 'gridPoints': 543, 'logIncrement': 0.02}, 'prodBasis': {'lcutm': 4, 'lcutwf': 6, 'select': '4 0 4 2'}, 'modInitDen': {'flipSpinPhi': 0.0, 'flipSpinScale': False, 'flipSpinTheta': 0.0}, 'atomicNumber': 8, 'atomicCutoffs': {'lmax': 6, 'lnonsphr': 4}, 'electronConfig': {'coreConfig': ['(1s1/2)'], 'valenceConfig': ['(2s1/2)', '(2p1/2)', '(2p3/2)'], 'stateOccupation': [{'state': '(2p1/2)', 'spinUp': 0.6666666667, 'spinDown': 0.6666666667}, {'state': '(2p3/2)', 'spinUp': 1.3333333333, 'spinDown': 1.3333333333}]}, 'energyParameters': {'d': 3, 'f': 4, 'p': 2, 's': 2}}]\n",
      "[{'name': 'Curium (Cm)', 'element': 'Cm', 'mtSphere': {'radius': 2.62, 'gridPoints': 867, 'logIncrement': 0.016}, 'prodBasis': {'lcutm': 4, 'lcutwf': 9, 'select': '4 0 4 2'}, 'modInitDen': {'flipSpinPhi': 0.0, 'flipSpinScale': False, 'flipSpinTheta': 0.0}, 'atomicNumber': 96, 'atomicCutoffs': {'lmax': 10, 'lnonsphr': 8}, 'electronConfig': {'coreConfig': ['(1s1/2)', '(2s1/2)', '(2p1/2)', '(2p3/2)', '(3s1/2)', '(3p1/2)', '(3p3/2)', '(4s1/2)', '(3d3/2)', '(3d5/2)', '(4p1/2)', '(4p3/2)', '(5s1/2)', '(4d3/2)', '(4d5/2)', '(5p1/2)', '(5p3/2)', '(6s1/2)', '(4f5/2)', '(4f7/2)', '(5d3/2)', '(5d5/2)', '(6p1/2)', '(6p3/2)'], 'valenceConfig': ['(7s1/2)', '(5f5/2)', '(5f7/2)', '(6d3/2)', '(6d5/2)'], 'stateOccupation': [{'state': '(5f5/2)', 'spinUp': 1.5, 'spinDown': 1.5}, {'state': '(5f7/2)', 'spinUp': 2.0, 'spinDown': 2.0}, {'state': '(6d3/2)', 'spinUp': 0.18, 'spinDown': 0.18}, {'state': '(6d5/2)', 'spinUp': 0.27, 'spinDown': 0.27}]}, 'energyParameters': {'d': 6, 'f': 5, 'p': 7, 's': 7}}, {'name': 'Oxygen (O)', 'element': 'O', 'mtSphere': {'radius': 1.64, 'gridPoints': 543, 'logIncrement': 0.02}, 'prodBasis': {'lcutm': 4, 'lcutwf': 6, 'select': '4 0 4 2'}, 'modInitDen': {'flipSpinPhi': 0.0, 'flipSpinScale': False, 'flipSpinTheta': 0.0}, 'atomicNumber': 8, 'atomicCutoffs': {'lmax': 6, 'lnonsphr': 4}, 'electronConfig': {'coreConfig': ['(1s1/2)'], 'valenceConfig': ['(2s1/2)', '(2p1/2)', '(2p3/2)'], 'stateOccupation': [{'state': '(2p1/2)', 'spinUp': 0.7, 'spinDown': 0.7}, {'state': '(2p3/2)', 'spinUp': 1.4, 'spinDown': 1.4}]}, 'energyParameters': {'d': 3, 'f': 4, 'p': 2, 's': 2}}]\n",
      "[{'name': 'Curium (Cm)', 'element': 'Cm', 'mtSphere': {'radius': 2.62, 'gridPoints': 867, 'logIncrement': 0.016}, 'prodBasis': {'lcutm': 4, 'lcutwf': 9, 'select': '4 0 4 2'}, 'modInitDen': {'flipSpinPhi': 0.0, 'flipSpinScale': False, 'flipSpinTheta': 0.0}, 'atomicNumber': 96, 'atomicCutoffs': {'lmax': 10, 'lnonsphr': 8}, 'electronConfig': {'coreConfig': ['(1s1/2)', '(2s1/2)', '(2p1/2)', '(2p3/2)', '(3s1/2)', '(3p1/2)', '(3p3/2)', '(4s1/2)', '(3d3/2)', '(3d5/2)', '(4p1/2)', '(4p3/2)', '(5s1/2)', '(4d3/2)', '(4d5/2)', '(5p1/2)', '(5p3/2)', '(6s1/2)', '(4f5/2)', '(4f7/2)', '(5d3/2)', '(5d5/2)', '(6p1/2)', '(6p3/2)'], 'valenceConfig': ['(7s1/2)', '(5f5/2)', '(5f7/2)', '(6d3/2)', '(6d5/2)'], 'stateOccupation': [{'state': '(5f5/2)', 'spinUp': 1.5, 'spinDown': 1.5}, {'state': '(5f7/2)', 'spinUp': 2.0, 'spinDown': 2.0}, {'state': '(6d3/2)', 'spinUp': 0.16, 'spinDown': 0.16}, {'state': '(6d5/2)', 'spinUp': 0.24, 'spinDown': 0.24}]}, 'energyParameters': {'d': 6, 'f': 5, 'p': 7, 's': 7}}, {'name': 'Oxygen (O)', 'element': 'O', 'mtSphere': {'radius': 1.64, 'gridPoints': 543, 'logIncrement': 0.02}, 'prodBasis': {'lcutm': 4, 'lcutwf': 6, 'select': '4 0 4 2'}, 'modInitDen': {'flipSpinPhi': 0.0, 'flipSpinScale': False, 'flipSpinTheta': 0.0}, 'atomicNumber': 8, 'atomicCutoffs': {'lmax': 6, 'lnonsphr': 4}, 'electronConfig': {'coreConfig': ['(1s1/2)'], 'valenceConfig': ['(2s1/2)', '(2p1/2)', '(2p3/2)'], 'stateOccupation': [{'state': '(2p1/2)', 'spinUp': 0.7333333333, 'spinDown': 0.7333333333}, {'state': '(2p3/2)', 'spinUp': 1.4666666667, 'spinDown': 1.4666666667}]}, 'energyParameters': {'d': 3, 'f': 4, 'p': 2, 's': 2}}]\n",
      "[{'name': 'Curium (Cm)', 'element': 'Cm', 'mtSphere': {'radius': 2.62, 'gridPoints': 867, 'logIncrement': 0.016}, 'prodBasis': {'lcutm': 4, 'lcutwf': 9, 'select': '4 0 4 2'}, 'modInitDen': {'flipSpinPhi': 0.0, 'flipSpinScale': False, 'flipSpinTheta': 0.0}, 'atomicNumber': 96, 'atomicCutoffs': {'lmax': 10, 'lnonsphr': 8}, 'electronConfig': {'coreConfig': ['(1s1/2)', '(2s1/2)', '(2p1/2)', '(2p3/2)', '(3s1/2)', '(3p1/2)', '(3p3/2)', '(4s1/2)', '(3d3/2)', '(3d5/2)', '(4p1/2)', '(4p3/2)', '(5s1/2)', '(4d3/2)', '(4d5/2)', '(5p1/2)', '(5p3/2)', '(6s1/2)', '(4f5/2)', '(4f7/2)', '(5d3/2)', '(5d5/2)', '(6p1/2)', '(6p3/2)'], 'valenceConfig': ['(7s1/2)', '(5f5/2)', '(5f7/2)', '(6d3/2)', '(6d5/2)'], 'stateOccupation': [{'state': '(5f5/2)', 'spinUp': 1.5, 'spinDown': 1.5}, {'state': '(5f7/2)', 'spinUp': 2.0, 'spinDown': 2.0}, {'state': '(6d3/2)', 'spinUp': 0.14, 'spinDown': 0.14}, {'state': '(6d5/2)', 'spinUp': 0.21, 'spinDown': 0.21}]}, 'energyParameters': {'d': 6, 'f': 5, 'p': 7, 's': 7}}, {'name': 'Oxygen (O)', 'element': 'O', 'mtSphere': {'radius': 1.64, 'gridPoints': 543, 'logIncrement': 0.02}, 'prodBasis': {'lcutm': 4, 'lcutwf': 6, 'select': '4 0 4 2'}, 'modInitDen': {'flipSpinPhi': 0.0, 'flipSpinScale': False, 'flipSpinTheta': 0.0}, 'atomicNumber': 8, 'atomicCutoffs': {'lmax': 6, 'lnonsphr': 4}, 'electronConfig': {'coreConfig': ['(1s1/2)'], 'valenceConfig': ['(2s1/2)', '(2p1/2)', '(2p3/2)'], 'stateOccupation': [{'state': '(2p1/2)', 'spinUp': 0.7666666667, 'spinDown': 0.7666666667}, {'state': '(2p3/2)', 'spinUp': 1.5333333333, 'spinDown': 1.5333333333}]}, 'energyParameters': {'d': 3, 'f': 4, 'p': 2, 's': 2}}]\n",
      "[{'name': 'Curium (Cm)', 'element': 'Cm', 'mtSphere': {'radius': 2.62, 'gridPoints': 867, 'logIncrement': 0.016}, 'prodBasis': {'lcutm': 4, 'lcutwf': 9, 'select': '4 0 4 2'}, 'modInitDen': {'flipSpinPhi': 0.0, 'flipSpinScale': False, 'flipSpinTheta': 0.0}, 'atomicNumber': 96, 'atomicCutoffs': {'lmax': 10, 'lnonsphr': 8}, 'electronConfig': {'coreConfig': ['(1s1/2)', '(2s1/2)', '(2p1/2)', '(2p3/2)', '(3s1/2)', '(3p1/2)', '(3p3/2)', '(4s1/2)', '(3d3/2)', '(3d5/2)', '(4p1/2)', '(4p3/2)', '(5s1/2)', '(4d3/2)', '(4d5/2)', '(5p1/2)', '(5p3/2)', '(6s1/2)', '(4f5/2)', '(4f7/2)', '(5d3/2)', '(5d5/2)', '(6p1/2)', '(6p3/2)'], 'valenceConfig': ['(7s1/2)', '(5f5/2)', '(5f7/2)', '(6d3/2)', '(6d5/2)'], 'stateOccupation': [{'state': '(5f5/2)', 'spinUp': 1.5, 'spinDown': 1.5}, {'state': '(5f7/2)', 'spinUp': 2.0, 'spinDown': 2.0}, {'state': '(6d3/2)', 'spinUp': 0.12, 'spinDown': 0.12}, {'state': '(6d5/2)', 'spinUp': 0.18, 'spinDown': 0.18}]}, 'energyParameters': {'d': 6, 'f': 5, 'p': 7, 's': 7}}, {'name': 'Oxygen (O)', 'element': 'O', 'mtSphere': {'radius': 1.64, 'gridPoints': 543, 'logIncrement': 0.02}, 'prodBasis': {'lcutm': 4, 'lcutwf': 6, 'select': '4 0 4 2'}, 'modInitDen': {'flipSpinPhi': 0.0, 'flipSpinScale': False, 'flipSpinTheta': 0.0}, 'atomicNumber': 8, 'atomicCutoffs': {'lmax': 6, 'lnonsphr': 4}, 'electronConfig': {'coreConfig': ['(1s1/2)'], 'valenceConfig': ['(2s1/2)', '(2p1/2)', '(2p3/2)'], 'stateOccupation': [{'state': '(2p1/2)', 'spinUp': 0.8, 'spinDown': 0.8}, {'state': '(2p3/2)', 'spinUp': 1.6, 'spinDown': 1.6}]}, 'energyParameters': {'d': 3, 'f': 4, 'p': 2, 's': 2}}]\n",
      "[{'name': 'Curium (Cm)', 'element': 'Cm', 'mtSphere': {'radius': 2.62, 'gridPoints': 867, 'logIncrement': 0.016}, 'prodBasis': {'lcutm': 4, 'lcutwf': 9, 'select': '4 0 4 2'}, 'modInitDen': {'flipSpinPhi': 0.0, 'flipSpinScale': False, 'flipSpinTheta': 0.0}, 'atomicNumber': 96, 'atomicCutoffs': {'lmax': 10, 'lnonsphr': 8}, 'electronConfig': {'coreConfig': ['(1s1/2)', '(2s1/2)', '(2p1/2)', '(2p3/2)', '(3s1/2)', '(3p1/2)', '(3p3/2)', '(4s1/2)', '(3d3/2)', '(3d5/2)', '(4p1/2)', '(4p3/2)', '(5s1/2)', '(4d3/2)', '(4d5/2)', '(5p1/2)', '(5p3/2)', '(6s1/2)', '(4f5/2)', '(4f7/2)', '(5d3/2)', '(5d5/2)', '(6p1/2)', '(6p3/2)'], 'valenceConfig': ['(7s1/2)', '(5f5/2)', '(5f7/2)', '(6d3/2)', '(6d5/2)'], 'stateOccupation': [{'state': '(5f5/2)', 'spinUp': 1.5, 'spinDown': 1.5}, {'state': '(5f7/2)', 'spinUp': 2.0, 'spinDown': 2.0}, {'state': '(6d3/2)', 'spinUp': 0.1, 'spinDown': 0.1}, {'state': '(6d5/2)', 'spinUp': 0.15, 'spinDown': 0.15}]}, 'energyParameters': {'d': 6, 'f': 5, 'p': 7, 's': 7}}, {'name': 'Oxygen (O)', 'element': 'O', 'mtSphere': {'radius': 1.64, 'gridPoints': 543, 'logIncrement': 0.02}, 'prodBasis': {'lcutm': 4, 'lcutwf': 6, 'select': '4 0 4 2'}, 'modInitDen': {'flipSpinPhi': 0.0, 'flipSpinScale': False, 'flipSpinTheta': 0.0}, 'atomicNumber': 8, 'atomicCutoffs': {'lmax': 6, 'lnonsphr': 4}, 'electronConfig': {'coreConfig': ['(1s1/2)'], 'valenceConfig': ['(2s1/2)', '(2p1/2)', '(2p3/2)'], 'stateOccupation': [{'state': '(2p1/2)', 'spinUp': 0.8333333333, 'spinDown': 0.8333333333}, {'state': '(2p3/2)', 'spinUp': 1.6666666667, 'spinDown': 1.6666666667}]}, 'energyParameters': {'d': 3, 'f': 4, 'p': 2, 's': 2}}]\n",
      "[{'name': 'Curium (Cm)', 'element': 'Cm', 'mtSphere': {'radius': 2.62, 'gridPoints': 867, 'logIncrement': 0.016}, 'prodBasis': {'lcutm': 4, 'lcutwf': 9, 'select': '4 0 4 2'}, 'modInitDen': {'flipSpinPhi': 0.0, 'flipSpinScale': False, 'flipSpinTheta': 0.0}, 'atomicNumber': 96, 'atomicCutoffs': {'lmax': 10, 'lnonsphr': 8}, 'electronConfig': {'coreConfig': ['(1s1/2)', '(2s1/2)', '(2p1/2)', '(2p3/2)', '(3s1/2)', '(3p1/2)', '(3p3/2)', '(4s1/2)', '(3d3/2)', '(3d5/2)', '(4p1/2)', '(4p3/2)', '(5s1/2)', '(4d3/2)', '(4d5/2)', '(5p1/2)', '(5p3/2)', '(6s1/2)', '(4f5/2)', '(4f7/2)', '(5d3/2)', '(5d5/2)', '(6p1/2)', '(6p3/2)'], 'valenceConfig': ['(7s1/2)', '(5f5/2)', '(5f7/2)', '(6d3/2)', '(6d5/2)'], 'stateOccupation': [{'state': '(5f5/2)', 'spinUp': 1.5, 'spinDown': 1.5}, {'state': '(5f7/2)', 'spinUp': 2.0, 'spinDown': 2.0}, {'state': '(6d3/2)', 'spinUp': 0.08, 'spinDown': 0.08}, {'state': '(6d5/2)', 'spinUp': 0.12, 'spinDown': 0.12}]}, 'energyParameters': {'d': 6, 'f': 5, 'p': 7, 's': 7}}, {'name': 'Oxygen (O)', 'element': 'O', 'mtSphere': {'radius': 1.64, 'gridPoints': 543, 'logIncrement': 0.02}, 'prodBasis': {'lcutm': 4, 'lcutwf': 6, 'select': '4 0 4 2'}, 'modInitDen': {'flipSpinPhi': 0.0, 'flipSpinScale': False, 'flipSpinTheta': 0.0}, 'atomicNumber': 8, 'atomicCutoffs': {'lmax': 6, 'lnonsphr': 4}, 'electronConfig': {'coreConfig': ['(1s1/2)'], 'valenceConfig': ['(2s1/2)', '(2p1/2)', '(2p3/2)'], 'stateOccupation': [{'state': '(2p1/2)', 'spinUp': 0.8666666667, 'spinDown': 0.8666666667}, {'state': '(2p3/2)', 'spinUp': 1.7333333333, 'spinDown': 1.7333333333}]}, 'energyParameters': {'d': 3, 'f': 4, 'p': 2, 's': 2}}]\n",
      "[{'name': 'Curium (Cm)', 'element': 'Cm', 'mtSphere': {'radius': 2.62, 'gridPoints': 867, 'logIncrement': 0.016}, 'prodBasis': {'lcutm': 4, 'lcutwf': 9, 'select': '4 0 4 2'}, 'modInitDen': {'flipSpinPhi': 0.0, 'flipSpinScale': False, 'flipSpinTheta': 0.0}, 'atomicNumber': 96, 'atomicCutoffs': {'lmax': 10, 'lnonsphr': 8}, 'electronConfig': {'coreConfig': ['(1s1/2)', '(2s1/2)', '(2p1/2)', '(2p3/2)', '(3s1/2)', '(3p1/2)', '(3p3/2)', '(4s1/2)', '(3d3/2)', '(3d5/2)', '(4p1/2)', '(4p3/2)', '(5s1/2)', '(4d3/2)', '(4d5/2)', '(5p1/2)', '(5p3/2)', '(6s1/2)', '(4f5/2)', '(4f7/2)', '(5d3/2)', '(5d5/2)', '(6p1/2)', '(6p3/2)'], 'valenceConfig': ['(7s1/2)', '(5f5/2)', '(5f7/2)', '(6d3/2)', '(6d5/2)'], 'stateOccupation': [{'state': '(5f5/2)', 'spinUp': 1.5, 'spinDown': 1.5}, {'state': '(5f7/2)', 'spinUp': 2.0, 'spinDown': 2.0}, {'state': '(6d3/2)', 'spinUp': 0.06, 'spinDown': 0.06}, {'state': '(6d5/2)', 'spinUp': 0.09, 'spinDown': 0.09}]}, 'energyParameters': {'d': 6, 'f': 5, 'p': 7, 's': 7}}, {'name': 'Oxygen (O)', 'element': 'O', 'mtSphere': {'radius': 1.64, 'gridPoints': 543, 'logIncrement': 0.02}, 'prodBasis': {'lcutm': 4, 'lcutwf': 6, 'select': '4 0 4 2'}, 'modInitDen': {'flipSpinPhi': 0.0, 'flipSpinScale': False, 'flipSpinTheta': 0.0}, 'atomicNumber': 8, 'atomicCutoffs': {'lmax': 6, 'lnonsphr': 4}, 'electronConfig': {'coreConfig': ['(1s1/2)'], 'valenceConfig': ['(2s1/2)', '(2p1/2)', '(2p3/2)'], 'stateOccupation': [{'state': '(2p1/2)', 'spinUp': 0.9, 'spinDown': 0.9}, {'state': '(2p3/2)', 'spinUp': 1.8, 'spinDown': 1.8}]}, 'energyParameters': {'d': 3, 'f': 4, 'p': 2, 's': 2}}]\n",
      "[{'name': 'Curium (Cm)', 'element': 'Cm', 'mtSphere': {'radius': 2.62, 'gridPoints': 867, 'logIncrement': 0.016}, 'prodBasis': {'lcutm': 4, 'lcutwf': 9, 'select': '4 0 4 2'}, 'modInitDen': {'flipSpinPhi': 0.0, 'flipSpinScale': False, 'flipSpinTheta': 0.0}, 'atomicNumber': 96, 'atomicCutoffs': {'lmax': 10, 'lnonsphr': 8}, 'electronConfig': {'coreConfig': ['(1s1/2)', '(2s1/2)', '(2p1/2)', '(2p3/2)', '(3s1/2)', '(3p1/2)', '(3p3/2)', '(4s1/2)', '(3d3/2)', '(3d5/2)', '(4p1/2)', '(4p3/2)', '(5s1/2)', '(4d3/2)', '(4d5/2)', '(5p1/2)', '(5p3/2)', '(6s1/2)', '(4f5/2)', '(4f7/2)', '(5d3/2)', '(5d5/2)', '(6p1/2)', '(6p3/2)'], 'valenceConfig': ['(7s1/2)', '(5f5/2)', '(5f7/2)', '(6d3/2)', '(6d5/2)'], 'stateOccupation': [{'state': '(5f5/2)', 'spinUp': 1.5, 'spinDown': 1.5}, {'state': '(5f7/2)', 'spinUp': 2.0, 'spinDown': 2.0}, {'state': '(6d3/2)', 'spinUp': 0.04, 'spinDown': 0.04}, {'state': '(6d5/2)', 'spinUp': 0.06, 'spinDown': 0.06}]}, 'energyParameters': {'d': 6, 'f': 5, 'p': 7, 's': 7}}, {'name': 'Oxygen (O)', 'element': 'O', 'mtSphere': {'radius': 1.64, 'gridPoints': 543, 'logIncrement': 0.02}, 'prodBasis': {'lcutm': 4, 'lcutwf': 6, 'select': '4 0 4 2'}, 'modInitDen': {'flipSpinPhi': 0.0, 'flipSpinScale': False, 'flipSpinTheta': 0.0}, 'atomicNumber': 8, 'atomicCutoffs': {'lmax': 6, 'lnonsphr': 4}, 'electronConfig': {'coreConfig': ['(1s1/2)'], 'valenceConfig': ['(2s1/2)', '(2p1/2)', '(2p3/2)'], 'stateOccupation': [{'state': '(2p1/2)', 'spinUp': 0.9333333333, 'spinDown': 0.9333333333}, {'state': '(2p3/2)', 'spinUp': 1.8666666667, 'spinDown': 1.8666666667}]}, 'energyParameters': {'d': 3, 'f': 4, 'p': 2, 's': 2}}]\n"
     ]
    }
   ],
   "source": [
    "for i in res:\n",
    "    \n",
    "    print(i.inputs.fleurinpdata.inp_dict['atomSpecies'])"
   ]
  },
  {
   "cell_type": "code",
   "execution_count": 24,
   "id": "ed037c74-b129-4c67-bcb1-6f25d1291cc2",
   "metadata": {},
   "outputs": [
    {
     "data": {
      "text/plain": [
       "<Group: \"delete_1\" [type core], of user aiida@localhost>"
      ]
     },
     "execution_count": 24,
     "metadata": {},
     "output_type": "execute_result"
    }
   ],
   "source": [
    "from aiida.orm import groups\n",
    "\n",
    "\n",
    "group = groups.Group(label = 'delete_1')\n",
    "group.store()"
   ]
  },
  {
   "cell_type": "code",
   "execution_count": 25,
   "id": "f2a7773c-beab-4280-8025-1c070343fcfc",
   "metadata": {},
   "outputs": [],
   "source": [
    "group.add_nodes(res)"
   ]
  },
  {
   "cell_type": "code",
   "execution_count": 23,
   "id": "70c0347e-1521-4328-9a9a-84f11c21b4e0",
   "metadata": {},
   "outputs": [
    {
     "ename": "IntegrityError",
     "evalue": "duplicate key value violates unique constraint \"db_dbgroup_name_type_12656f33_uniq\"\nDETAIL:  Key (label, type_string)=(delete, core) already exists.\n",
     "output_type": "error",
     "traceback": [
      "\u001b[0;31m---------------------------------------------------------------------------\u001b[0m",
      "\u001b[0;31mUniqueViolation\u001b[0m                           Traceback (most recent call last)",
      "\u001b[0;32m/opt/aiida-kernel/lib/python3.8/site-packages/django/db/backends/utils.py\u001b[0m in \u001b[0;36m_execute\u001b[0;34m(self, sql, params, *ignored_wrapper_args)\u001b[0m\n\u001b[1;32m     83\u001b[0m             \u001b[0;32melse\u001b[0m\u001b[0;34m:\u001b[0m\u001b[0;34m\u001b[0m\u001b[0;34m\u001b[0m\u001b[0m\n\u001b[0;32m---> 84\u001b[0;31m                 \u001b[0;32mreturn\u001b[0m \u001b[0mself\u001b[0m\u001b[0;34m.\u001b[0m\u001b[0mcursor\u001b[0m\u001b[0;34m.\u001b[0m\u001b[0mexecute\u001b[0m\u001b[0;34m(\u001b[0m\u001b[0msql\u001b[0m\u001b[0;34m,\u001b[0m \u001b[0mparams\u001b[0m\u001b[0;34m)\u001b[0m\u001b[0;34m\u001b[0m\u001b[0;34m\u001b[0m\u001b[0m\n\u001b[0m\u001b[1;32m     85\u001b[0m \u001b[0;34m\u001b[0m\u001b[0m\n",
      "\u001b[0;31mUniqueViolation\u001b[0m: duplicate key value violates unique constraint \"db_dbgroup_name_type_12656f33_uniq\"\nDETAIL:  Key (label, type_string)=(delete, core) already exists.\n",
      "\nThe above exception was the direct cause of the following exception:\n",
      "\u001b[0;31mIntegrityError\u001b[0m                            Traceback (most recent call last)",
      "\u001b[0;32m/opt/aiida-kernel/lib/python3.8/site-packages/aiida/orm/implementation/django/utils.py\u001b[0m in \u001b[0;36msave\u001b[0;34m(self)\u001b[0m\n\u001b[1;32m     87\u001b[0m             \u001b[0;32mtry\u001b[0m\u001b[0;34m:\u001b[0m\u001b[0;34m\u001b[0m\u001b[0;34m\u001b[0m\u001b[0m\n\u001b[0;32m---> 88\u001b[0;31m                 \u001b[0mself\u001b[0m\u001b[0;34m.\u001b[0m\u001b[0m_model\u001b[0m\u001b[0;34m.\u001b[0m\u001b[0msave\u001b[0m\u001b[0;34m(\u001b[0m\u001b[0;34m)\u001b[0m\u001b[0;34m\u001b[0m\u001b[0;34m\u001b[0m\u001b[0m\n\u001b[0m\u001b[1;32m     89\u001b[0m             \u001b[0;32mexcept\u001b[0m \u001b[0mIntegrityError\u001b[0m \u001b[0;32mas\u001b[0m \u001b[0mexception\u001b[0m\u001b[0;34m:\u001b[0m\u001b[0;34m\u001b[0m\u001b[0;34m\u001b[0m\u001b[0m\n",
      "\u001b[0;32m/opt/aiida-kernel/lib/python3.8/site-packages/django/db/models/base.py\u001b[0m in \u001b[0;36msave\u001b[0;34m(self, force_insert, force_update, using, update_fields)\u001b[0m\n\u001b[1;32m    742\u001b[0m \u001b[0;34m\u001b[0m\u001b[0m\n\u001b[0;32m--> 743\u001b[0;31m         self.save_base(using=using, force_insert=force_insert,\n\u001b[0m\u001b[1;32m    744\u001b[0m                        force_update=force_update, update_fields=update_fields)\n",
      "\u001b[0;32m/opt/aiida-kernel/lib/python3.8/site-packages/django/db/models/base.py\u001b[0m in \u001b[0;36msave_base\u001b[0;34m(self, raw, force_insert, force_update, using, update_fields)\u001b[0m\n\u001b[1;32m    779\u001b[0m                 \u001b[0mparent_inserted\u001b[0m \u001b[0;34m=\u001b[0m \u001b[0mself\u001b[0m\u001b[0;34m.\u001b[0m\u001b[0m_save_parents\u001b[0m\u001b[0;34m(\u001b[0m\u001b[0mcls\u001b[0m\u001b[0;34m,\u001b[0m \u001b[0musing\u001b[0m\u001b[0;34m,\u001b[0m \u001b[0mupdate_fields\u001b[0m\u001b[0;34m)\u001b[0m\u001b[0;34m\u001b[0m\u001b[0;34m\u001b[0m\u001b[0m\n\u001b[0;32m--> 780\u001b[0;31m             updated = self._save_table(\n\u001b[0m\u001b[1;32m    781\u001b[0m                 \u001b[0mraw\u001b[0m\u001b[0;34m,\u001b[0m \u001b[0mcls\u001b[0m\u001b[0;34m,\u001b[0m \u001b[0mforce_insert\u001b[0m \u001b[0;32mor\u001b[0m \u001b[0mparent_inserted\u001b[0m\u001b[0;34m,\u001b[0m\u001b[0;34m\u001b[0m\u001b[0;34m\u001b[0m\u001b[0m\n",
      "\u001b[0;32m/opt/aiida-kernel/lib/python3.8/site-packages/django/db/models/base.py\u001b[0m in \u001b[0;36m_save_table\u001b[0;34m(self, raw, cls, force_insert, force_update, using, update_fields)\u001b[0m\n\u001b[1;32m    872\u001b[0m             \u001b[0mupdate_pk\u001b[0m \u001b[0;34m=\u001b[0m \u001b[0mmeta\u001b[0m\u001b[0;34m.\u001b[0m\u001b[0mauto_field\u001b[0m \u001b[0;32mand\u001b[0m \u001b[0;32mnot\u001b[0m \u001b[0mpk_set\u001b[0m\u001b[0;34m\u001b[0m\u001b[0;34m\u001b[0m\u001b[0m\n\u001b[0;32m--> 873\u001b[0;31m             \u001b[0mresult\u001b[0m \u001b[0;34m=\u001b[0m \u001b[0mself\u001b[0m\u001b[0;34m.\u001b[0m\u001b[0m_do_insert\u001b[0m\u001b[0;34m(\u001b[0m\u001b[0mcls\u001b[0m\u001b[0;34m.\u001b[0m\u001b[0m_base_manager\u001b[0m\u001b[0;34m,\u001b[0m \u001b[0musing\u001b[0m\u001b[0;34m,\u001b[0m \u001b[0mfields\u001b[0m\u001b[0;34m,\u001b[0m \u001b[0mupdate_pk\u001b[0m\u001b[0;34m,\u001b[0m \u001b[0mraw\u001b[0m\u001b[0;34m)\u001b[0m\u001b[0;34m\u001b[0m\u001b[0;34m\u001b[0m\u001b[0m\n\u001b[0m\u001b[1;32m    874\u001b[0m             \u001b[0;32mif\u001b[0m \u001b[0mupdate_pk\u001b[0m\u001b[0;34m:\u001b[0m\u001b[0;34m\u001b[0m\u001b[0;34m\u001b[0m\u001b[0m\n",
      "\u001b[0;32m/opt/aiida-kernel/lib/python3.8/site-packages/django/db/models/base.py\u001b[0m in \u001b[0;36m_do_insert\u001b[0;34m(self, manager, using, fields, update_pk, raw)\u001b[0m\n\u001b[1;32m    909\u001b[0m         \"\"\"\n\u001b[0;32m--> 910\u001b[0;31m         return manager._insert([self], fields=fields, return_id=update_pk,\n\u001b[0m\u001b[1;32m    911\u001b[0m                                using=using, raw=raw)\n",
      "\u001b[0;32m/opt/aiida-kernel/lib/python3.8/site-packages/django/db/models/manager.py\u001b[0m in \u001b[0;36mmanager_method\u001b[0;34m(self, *args, **kwargs)\u001b[0m\n\u001b[1;32m     81\u001b[0m             \u001b[0;32mdef\u001b[0m \u001b[0mmanager_method\u001b[0m\u001b[0;34m(\u001b[0m\u001b[0mself\u001b[0m\u001b[0;34m,\u001b[0m \u001b[0;34m*\u001b[0m\u001b[0margs\u001b[0m\u001b[0;34m,\u001b[0m \u001b[0;34m**\u001b[0m\u001b[0mkwargs\u001b[0m\u001b[0;34m)\u001b[0m\u001b[0;34m:\u001b[0m\u001b[0;34m\u001b[0m\u001b[0;34m\u001b[0m\u001b[0m\n\u001b[0;32m---> 82\u001b[0;31m                 \u001b[0;32mreturn\u001b[0m \u001b[0mgetattr\u001b[0m\u001b[0;34m(\u001b[0m\u001b[0mself\u001b[0m\u001b[0;34m.\u001b[0m\u001b[0mget_queryset\u001b[0m\u001b[0;34m(\u001b[0m\u001b[0;34m)\u001b[0m\u001b[0;34m,\u001b[0m \u001b[0mname\u001b[0m\u001b[0;34m)\u001b[0m\u001b[0;34m(\u001b[0m\u001b[0;34m*\u001b[0m\u001b[0margs\u001b[0m\u001b[0;34m,\u001b[0m \u001b[0;34m**\u001b[0m\u001b[0mkwargs\u001b[0m\u001b[0;34m)\u001b[0m\u001b[0;34m\u001b[0m\u001b[0;34m\u001b[0m\u001b[0m\n\u001b[0m\u001b[1;32m     83\u001b[0m             \u001b[0mmanager_method\u001b[0m\u001b[0;34m.\u001b[0m\u001b[0m__name__\u001b[0m \u001b[0;34m=\u001b[0m \u001b[0mmethod\u001b[0m\u001b[0;34m.\u001b[0m\u001b[0m__name__\u001b[0m\u001b[0;34m\u001b[0m\u001b[0;34m\u001b[0m\u001b[0m\n",
      "\u001b[0;32m/opt/aiida-kernel/lib/python3.8/site-packages/django/db/models/query.py\u001b[0m in \u001b[0;36m_insert\u001b[0;34m(self, objs, fields, return_id, raw, using, ignore_conflicts)\u001b[0m\n\u001b[1;32m   1185\u001b[0m         \u001b[0mquery\u001b[0m\u001b[0;34m.\u001b[0m\u001b[0minsert_values\u001b[0m\u001b[0;34m(\u001b[0m\u001b[0mfields\u001b[0m\u001b[0;34m,\u001b[0m \u001b[0mobjs\u001b[0m\u001b[0;34m,\u001b[0m \u001b[0mraw\u001b[0m\u001b[0;34m=\u001b[0m\u001b[0mraw\u001b[0m\u001b[0;34m)\u001b[0m\u001b[0;34m\u001b[0m\u001b[0;34m\u001b[0m\u001b[0m\n\u001b[0;32m-> 1186\u001b[0;31m         \u001b[0;32mreturn\u001b[0m \u001b[0mquery\u001b[0m\u001b[0;34m.\u001b[0m\u001b[0mget_compiler\u001b[0m\u001b[0;34m(\u001b[0m\u001b[0musing\u001b[0m\u001b[0;34m=\u001b[0m\u001b[0musing\u001b[0m\u001b[0;34m)\u001b[0m\u001b[0;34m.\u001b[0m\u001b[0mexecute_sql\u001b[0m\u001b[0;34m(\u001b[0m\u001b[0mreturn_id\u001b[0m\u001b[0;34m)\u001b[0m\u001b[0;34m\u001b[0m\u001b[0;34m\u001b[0m\u001b[0m\n\u001b[0m\u001b[1;32m   1187\u001b[0m     \u001b[0m_insert\u001b[0m\u001b[0;34m.\u001b[0m\u001b[0malters_data\u001b[0m \u001b[0;34m=\u001b[0m \u001b[0;32mTrue\u001b[0m\u001b[0;34m\u001b[0m\u001b[0;34m\u001b[0m\u001b[0m\n",
      "\u001b[0;32m/opt/aiida-kernel/lib/python3.8/site-packages/django/db/models/sql/compiler.py\u001b[0m in \u001b[0;36mexecute_sql\u001b[0;34m(self, return_id)\u001b[0m\n\u001b[1;32m   1376\u001b[0m             \u001b[0;32mfor\u001b[0m \u001b[0msql\u001b[0m\u001b[0;34m,\u001b[0m \u001b[0mparams\u001b[0m \u001b[0;32min\u001b[0m \u001b[0mself\u001b[0m\u001b[0;34m.\u001b[0m\u001b[0mas_sql\u001b[0m\u001b[0;34m(\u001b[0m\u001b[0;34m)\u001b[0m\u001b[0;34m:\u001b[0m\u001b[0;34m\u001b[0m\u001b[0;34m\u001b[0m\u001b[0m\n\u001b[0;32m-> 1377\u001b[0;31m                 \u001b[0mcursor\u001b[0m\u001b[0;34m.\u001b[0m\u001b[0mexecute\u001b[0m\u001b[0;34m(\u001b[0m\u001b[0msql\u001b[0m\u001b[0;34m,\u001b[0m \u001b[0mparams\u001b[0m\u001b[0;34m)\u001b[0m\u001b[0;34m\u001b[0m\u001b[0;34m\u001b[0m\u001b[0m\n\u001b[0m\u001b[1;32m   1378\u001b[0m             \u001b[0;32mif\u001b[0m \u001b[0;32mnot\u001b[0m \u001b[0mreturn_id\u001b[0m\u001b[0;34m:\u001b[0m\u001b[0;34m\u001b[0m\u001b[0;34m\u001b[0m\u001b[0m\n",
      "\u001b[0;32m/opt/aiida-kernel/lib/python3.8/site-packages/django/db/backends/utils.py\u001b[0m in \u001b[0;36mexecute\u001b[0;34m(self, sql, params)\u001b[0m\n\u001b[1;32m     66\u001b[0m     \u001b[0;32mdef\u001b[0m \u001b[0mexecute\u001b[0m\u001b[0;34m(\u001b[0m\u001b[0mself\u001b[0m\u001b[0;34m,\u001b[0m \u001b[0msql\u001b[0m\u001b[0;34m,\u001b[0m \u001b[0mparams\u001b[0m\u001b[0;34m=\u001b[0m\u001b[0;32mNone\u001b[0m\u001b[0;34m)\u001b[0m\u001b[0;34m:\u001b[0m\u001b[0;34m\u001b[0m\u001b[0;34m\u001b[0m\u001b[0m\n\u001b[0;32m---> 67\u001b[0;31m         \u001b[0;32mreturn\u001b[0m \u001b[0mself\u001b[0m\u001b[0;34m.\u001b[0m\u001b[0m_execute_with_wrappers\u001b[0m\u001b[0;34m(\u001b[0m\u001b[0msql\u001b[0m\u001b[0;34m,\u001b[0m \u001b[0mparams\u001b[0m\u001b[0;34m,\u001b[0m \u001b[0mmany\u001b[0m\u001b[0;34m=\u001b[0m\u001b[0;32mFalse\u001b[0m\u001b[0;34m,\u001b[0m \u001b[0mexecutor\u001b[0m\u001b[0;34m=\u001b[0m\u001b[0mself\u001b[0m\u001b[0;34m.\u001b[0m\u001b[0m_execute\u001b[0m\u001b[0;34m)\u001b[0m\u001b[0;34m\u001b[0m\u001b[0;34m\u001b[0m\u001b[0m\n\u001b[0m\u001b[1;32m     68\u001b[0m \u001b[0;34m\u001b[0m\u001b[0m\n",
      "\u001b[0;32m/opt/aiida-kernel/lib/python3.8/site-packages/django/db/backends/utils.py\u001b[0m in \u001b[0;36m_execute_with_wrappers\u001b[0;34m(self, sql, params, many, executor)\u001b[0m\n\u001b[1;32m     75\u001b[0m             \u001b[0mexecutor\u001b[0m \u001b[0;34m=\u001b[0m \u001b[0mfunctools\u001b[0m\u001b[0;34m.\u001b[0m\u001b[0mpartial\u001b[0m\u001b[0;34m(\u001b[0m\u001b[0mwrapper\u001b[0m\u001b[0;34m,\u001b[0m \u001b[0mexecutor\u001b[0m\u001b[0;34m)\u001b[0m\u001b[0;34m\u001b[0m\u001b[0;34m\u001b[0m\u001b[0m\n\u001b[0;32m---> 76\u001b[0;31m         \u001b[0;32mreturn\u001b[0m \u001b[0mexecutor\u001b[0m\u001b[0;34m(\u001b[0m\u001b[0msql\u001b[0m\u001b[0;34m,\u001b[0m \u001b[0mparams\u001b[0m\u001b[0;34m,\u001b[0m \u001b[0mmany\u001b[0m\u001b[0;34m,\u001b[0m \u001b[0mcontext\u001b[0m\u001b[0;34m)\u001b[0m\u001b[0;34m\u001b[0m\u001b[0;34m\u001b[0m\u001b[0m\n\u001b[0m\u001b[1;32m     77\u001b[0m \u001b[0;34m\u001b[0m\u001b[0m\n",
      "\u001b[0;32m/opt/aiida-kernel/lib/python3.8/site-packages/django/db/backends/utils.py\u001b[0m in \u001b[0;36m_execute\u001b[0;34m(self, sql, params, *ignored_wrapper_args)\u001b[0m\n\u001b[1;32m     83\u001b[0m             \u001b[0;32melse\u001b[0m\u001b[0;34m:\u001b[0m\u001b[0;34m\u001b[0m\u001b[0;34m\u001b[0m\u001b[0m\n\u001b[0;32m---> 84\u001b[0;31m                 \u001b[0;32mreturn\u001b[0m \u001b[0mself\u001b[0m\u001b[0;34m.\u001b[0m\u001b[0mcursor\u001b[0m\u001b[0;34m.\u001b[0m\u001b[0mexecute\u001b[0m\u001b[0;34m(\u001b[0m\u001b[0msql\u001b[0m\u001b[0;34m,\u001b[0m \u001b[0mparams\u001b[0m\u001b[0;34m)\u001b[0m\u001b[0;34m\u001b[0m\u001b[0;34m\u001b[0m\u001b[0m\n\u001b[0m\u001b[1;32m     85\u001b[0m \u001b[0;34m\u001b[0m\u001b[0m\n",
      "\u001b[0;32m/opt/aiida-kernel/lib/python3.8/site-packages/django/db/utils.py\u001b[0m in \u001b[0;36m__exit__\u001b[0;34m(self, exc_type, exc_value, traceback)\u001b[0m\n\u001b[1;32m     88\u001b[0m                     \u001b[0mself\u001b[0m\u001b[0;34m.\u001b[0m\u001b[0mwrapper\u001b[0m\u001b[0;34m.\u001b[0m\u001b[0merrors_occurred\u001b[0m \u001b[0;34m=\u001b[0m \u001b[0;32mTrue\u001b[0m\u001b[0;34m\u001b[0m\u001b[0;34m\u001b[0m\u001b[0m\n\u001b[0;32m---> 89\u001b[0;31m                 \u001b[0;32mraise\u001b[0m \u001b[0mdj_exc_value\u001b[0m\u001b[0;34m.\u001b[0m\u001b[0mwith_traceback\u001b[0m\u001b[0;34m(\u001b[0m\u001b[0mtraceback\u001b[0m\u001b[0;34m)\u001b[0m \u001b[0;32mfrom\u001b[0m \u001b[0mexc_value\u001b[0m\u001b[0;34m\u001b[0m\u001b[0;34m\u001b[0m\u001b[0m\n\u001b[0m\u001b[1;32m     90\u001b[0m \u001b[0;34m\u001b[0m\u001b[0m\n",
      "\u001b[0;32m/opt/aiida-kernel/lib/python3.8/site-packages/django/db/backends/utils.py\u001b[0m in \u001b[0;36m_execute\u001b[0;34m(self, sql, params, *ignored_wrapper_args)\u001b[0m\n\u001b[1;32m     83\u001b[0m             \u001b[0;32melse\u001b[0m\u001b[0;34m:\u001b[0m\u001b[0;34m\u001b[0m\u001b[0;34m\u001b[0m\u001b[0m\n\u001b[0;32m---> 84\u001b[0;31m                 \u001b[0;32mreturn\u001b[0m \u001b[0mself\u001b[0m\u001b[0;34m.\u001b[0m\u001b[0mcursor\u001b[0m\u001b[0;34m.\u001b[0m\u001b[0mexecute\u001b[0m\u001b[0;34m(\u001b[0m\u001b[0msql\u001b[0m\u001b[0;34m,\u001b[0m \u001b[0mparams\u001b[0m\u001b[0;34m)\u001b[0m\u001b[0;34m\u001b[0m\u001b[0;34m\u001b[0m\u001b[0m\n\u001b[0m\u001b[1;32m     85\u001b[0m \u001b[0;34m\u001b[0m\u001b[0m\n",
      "\u001b[0;31mIntegrityError\u001b[0m: duplicate key value violates unique constraint \"db_dbgroup_name_type_12656f33_uniq\"\nDETAIL:  Key (label, type_string)=(delete, core) already exists.\n",
      "\nDuring handling of the above exception, another exception occurred:\n",
      "\u001b[0;31mIntegrityError\u001b[0m                            Traceback (most recent call last)",
      "\u001b[0;32m/tmp/ipykernel_1633449/3160684126.py\u001b[0m in \u001b[0;36m<cell line: 1>\u001b[0;34m()\u001b[0m\n\u001b[0;32m----> 1\u001b[0;31m \u001b[0mgroup\u001b[0m\u001b[0;34m.\u001b[0m\u001b[0mstore\u001b[0m\u001b[0;34m(\u001b[0m\u001b[0;34m)\u001b[0m\u001b[0;34m\u001b[0m\u001b[0;34m\u001b[0m\u001b[0m\n\u001b[0m",
      "\u001b[0;32m/opt/aiida-kernel/lib/python3.8/site-packages/aiida/orm/groups.py\u001b[0m in \u001b[0;36mstore\u001b[0;34m(self)\u001b[0m\n\u001b[1;32m    176\u001b[0m             \u001b[0;32mraise\u001b[0m \u001b[0mexceptions\u001b[0m\u001b[0;34m.\u001b[0m\u001b[0mStoringNotAllowed\u001b[0m\u001b[0;34m(\u001b[0m\u001b[0;34m'`type_string` is `None` so the group cannot be stored.'\u001b[0m\u001b[0;34m)\u001b[0m\u001b[0;34m\u001b[0m\u001b[0;34m\u001b[0m\u001b[0m\n\u001b[1;32m    177\u001b[0m \u001b[0;34m\u001b[0m\u001b[0m\n\u001b[0;32m--> 178\u001b[0;31m         \u001b[0;32mreturn\u001b[0m \u001b[0msuper\u001b[0m\u001b[0;34m(\u001b[0m\u001b[0;34m)\u001b[0m\u001b[0;34m.\u001b[0m\u001b[0mstore\u001b[0m\u001b[0;34m(\u001b[0m\u001b[0;34m)\u001b[0m\u001b[0;34m\u001b[0m\u001b[0;34m\u001b[0m\u001b[0m\n\u001b[0m\u001b[1;32m    179\u001b[0m \u001b[0;34m\u001b[0m\u001b[0m\n\u001b[1;32m    180\u001b[0m     \u001b[0;34m@\u001b[0m\u001b[0mproperty\u001b[0m\u001b[0;34m\u001b[0m\u001b[0;34m\u001b[0m\u001b[0m\n",
      "\u001b[0;32m/opt/aiida-kernel/lib/python3.8/site-packages/aiida/orm/entities.py\u001b[0m in \u001b[0;36mstore\u001b[0;34m(self)\u001b[0m\n\u001b[1;32m    274\u001b[0m     \u001b[0;32mdef\u001b[0m \u001b[0mstore\u001b[0m\u001b[0;34m(\u001b[0m\u001b[0mself\u001b[0m\u001b[0;34m)\u001b[0m\u001b[0;34m:\u001b[0m\u001b[0;34m\u001b[0m\u001b[0;34m\u001b[0m\u001b[0m\n\u001b[1;32m    275\u001b[0m         \u001b[0;34m\"\"\"Store the entity.\"\"\"\u001b[0m\u001b[0;34m\u001b[0m\u001b[0;34m\u001b[0m\u001b[0m\n\u001b[0;32m--> 276\u001b[0;31m         \u001b[0mself\u001b[0m\u001b[0;34m.\u001b[0m\u001b[0m_backend_entity\u001b[0m\u001b[0;34m.\u001b[0m\u001b[0mstore\u001b[0m\u001b[0;34m(\u001b[0m\u001b[0;34m)\u001b[0m\u001b[0;34m\u001b[0m\u001b[0;34m\u001b[0m\u001b[0m\n\u001b[0m\u001b[1;32m    277\u001b[0m         \u001b[0;32mreturn\u001b[0m \u001b[0mself\u001b[0m\u001b[0;34m\u001b[0m\u001b[0;34m\u001b[0m\u001b[0m\n\u001b[1;32m    278\u001b[0m \u001b[0;34m\u001b[0m\u001b[0m\n",
      "\u001b[0;32m/opt/aiida-kernel/lib/python3.8/site-packages/aiida/orm/implementation/django/groups.py\u001b[0m in \u001b[0;36mstore\u001b[0;34m(self)\u001b[0m\n\u001b[1;32m     97\u001b[0m                     \u001b[0;31m# is not automatically propagated to us\u001b[0m\u001b[0;34m\u001b[0m\u001b[0;34m\u001b[0m\u001b[0;34m\u001b[0m\u001b[0m\n\u001b[1;32m     98\u001b[0m                     \u001b[0mself\u001b[0m\u001b[0;34m.\u001b[0m\u001b[0m_dbmodel\u001b[0m\u001b[0;34m.\u001b[0m\u001b[0muser\u001b[0m \u001b[0;34m=\u001b[0m \u001b[0mself\u001b[0m\u001b[0;34m.\u001b[0m\u001b[0muser\u001b[0m\u001b[0;34m.\u001b[0m\u001b[0mdbmodel\u001b[0m\u001b[0;34m\u001b[0m\u001b[0;34m\u001b[0m\u001b[0m\n\u001b[0;32m---> 99\u001b[0;31m                 \u001b[0mself\u001b[0m\u001b[0;34m.\u001b[0m\u001b[0m_dbmodel\u001b[0m\u001b[0;34m.\u001b[0m\u001b[0msave\u001b[0m\u001b[0;34m(\u001b[0m\u001b[0;34m)\u001b[0m\u001b[0;34m\u001b[0m\u001b[0;34m\u001b[0m\u001b[0m\n\u001b[0m\u001b[1;32m    100\u001b[0m \u001b[0;34m\u001b[0m\u001b[0m\n\u001b[1;32m    101\u001b[0m         \u001b[0;31m# To allow to do directly g = Group(...).store()\u001b[0m\u001b[0;34m\u001b[0m\u001b[0;34m\u001b[0m\u001b[0;34m\u001b[0m\u001b[0m\n",
      "\u001b[0;32m/opt/aiida-kernel/lib/python3.8/site-packages/aiida/orm/implementation/django/utils.py\u001b[0m in \u001b[0;36msave\u001b[0;34m(self)\u001b[0m\n\u001b[1;32m     88\u001b[0m                 \u001b[0mself\u001b[0m\u001b[0;34m.\u001b[0m\u001b[0m_model\u001b[0m\u001b[0;34m.\u001b[0m\u001b[0msave\u001b[0m\u001b[0;34m(\u001b[0m\u001b[0;34m)\u001b[0m\u001b[0;34m\u001b[0m\u001b[0;34m\u001b[0m\u001b[0m\n\u001b[1;32m     89\u001b[0m             \u001b[0;32mexcept\u001b[0m \u001b[0mIntegrityError\u001b[0m \u001b[0;32mas\u001b[0m \u001b[0mexception\u001b[0m\u001b[0;34m:\u001b[0m\u001b[0;34m\u001b[0m\u001b[0;34m\u001b[0m\u001b[0m\n\u001b[0;32m---> 90\u001b[0;31m                 \u001b[0;32mraise\u001b[0m \u001b[0mexceptions\u001b[0m\u001b[0;34m.\u001b[0m\u001b[0mIntegrityError\u001b[0m\u001b[0;34m(\u001b[0m\u001b[0mstr\u001b[0m\u001b[0;34m(\u001b[0m\u001b[0mexception\u001b[0m\u001b[0;34m)\u001b[0m\u001b[0;34m)\u001b[0m\u001b[0;34m\u001b[0m\u001b[0;34m\u001b[0m\u001b[0m\n\u001b[0m\u001b[1;32m     91\u001b[0m \u001b[0;34m\u001b[0m\u001b[0m\n\u001b[1;32m     92\u001b[0m     \u001b[0;32mdef\u001b[0m \u001b[0m_is_mutable_model_field\u001b[0m\u001b[0;34m(\u001b[0m\u001b[0mself\u001b[0m\u001b[0;34m,\u001b[0m \u001b[0mfield\u001b[0m\u001b[0;34m)\u001b[0m\u001b[0;34m:\u001b[0m\u001b[0;34m\u001b[0m\u001b[0;34m\u001b[0m\u001b[0m\n",
      "\u001b[0;31mIntegrityError\u001b[0m: duplicate key value violates unique constraint \"db_dbgroup_name_type_12656f33_uniq\"\nDETAIL:  Key (label, type_string)=(delete, core) already exists.\n"
     ]
    }
   ],
   "source": []
  }
 ],
 "metadata": {
  "kernelspec": {
   "display_name": "AiiDA",
   "language": "python",
   "name": "aiida"
  },
  "language_info": {
   "codemirror_mode": {
    "name": "ipython",
    "version": 3
   },
   "file_extension": ".py",
   "mimetype": "text/x-python",
   "name": "python",
   "nbconvert_exporter": "python",
   "pygments_lexer": "ipython3",
   "version": "3.8.10"
  }
 },
 "nbformat": 4,
 "nbformat_minor": 5
}
