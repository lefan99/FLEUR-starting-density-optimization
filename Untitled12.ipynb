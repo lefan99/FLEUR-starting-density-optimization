{
 "cells": [
  {
   "cell_type": "code",
   "execution_count": 2,
   "id": "b65bc7e3-0234-4d33-b728-ce3a06499d86",
   "metadata": {
    "tags": []
   },
   "outputs": [
    {
     "data": {
      "text/plain": [
       "<aiida.manage.configuration.profile.Profile at 0x7f6f07e15280>"
      ]
     },
     "execution_count": 2,
     "metadata": {},
     "output_type": "execute_result"
    }
   ],
   "source": [
    "from aiida_fleur.data.fleurinp import FleurinpData\n",
    "from aiida import load_profile\n",
    "from aiida.orm import Dict, load_node , load_code\n",
    "from aiida.engine import submit, run\n",
    "from aiida_fleur.calculation.fleurinputgen import FleurinputgenCalculation\n",
    "from aiida.plugins import DataFactory, CalculationFactory\n",
    "from aiida_fleur.calculation.fleur import FleurCalculation\n",
    "from aiida_fleur.data.fleurinpmodifier import FleurinpModifier\n",
    "from itertools import product\n",
    "import numpy as np\n",
    "import json\n",
    "import matplotlib.pyplot as plt\n",
    "import numpy as np\n",
    "from fleur_starting_density import random_grid, plot_unaries\n",
    "\n",
    "\n",
    "load_profile()"
   ]
  },
  {
   "cell_type": "code",
   "execution_count": 45,
   "id": "9dc4bbab-edcc-4185-a762-cfb6551f095e",
   "metadata": {},
   "outputs": [],
   "source": [
    "copper_inp = load_node(3256)"
   ]
  },
  {
   "cell_type": "code",
   "execution_count": 46,
   "id": "27e4ae45-0fd8-449a-8a53-e30a522be378",
   "metadata": {
    "tags": []
   },
   "outputs": [
    {
     "data": {
      "text/plain": [
       "{'soc': {'phi': 0.0, 'spav': False, 'l_soc': False, 'theta': 0.0},\n",
       " 'ldaU': {'spinf': 1.0, 'l_linMix': False, 'mixParam': 0.05},\n",
       " 'ldaHIA': {'beta': 100.0,\n",
       "  'dftspinpol': False,\n",
       "  'itmaxHubbard1': 5,\n",
       "  'minmatDistance': 0.001,\n",
       "  'minoccDistance': 0.01},\n",
       " 'cutoffs': {'Gmax': 10.2, 'Kmax': 3.4, 'GmaxXC': 10.2, 'numbands': 0},\n",
       " 'scfLoop': {'imix': 'Anderson',\n",
       "  'alpha': 0.05,\n",
       "  'itmax': 1,\n",
       "  'spinf': 2.0,\n",
       "  'minDistance': 1e-05,\n",
       "  'maxIterBroyd': 99,\n",
       "  'precondParam': 0.0},\n",
       " 'magnetism': {'qss': [0.0, 0.0, 0.0],\n",
       "  'l_ss': False,\n",
       "  'jspins': 1,\n",
       "  'l_noco': False,\n",
       "  'mtNocoParams': {'l_mperp': False,\n",
       "   'l_relaxSQA': False,\n",
       "   'mix_constr': 1.0,\n",
       "   'l_mtNocoPot': False,\n",
       "   'l_constrained': False,\n",
       "   'mag_mixing_scheme': 0,\n",
       "   'mix_RelaxWeightOffD': 1.0},\n",
       "  'sourceFreeMag': {'mag_scale': 1.0,\n",
       "   'l_scaleMag': False,\n",
       "   'l_sourceFree': False}},\n",
       " 'prodBasis': {'lexp': 16,\n",
       "  'bands': 0,\n",
       "  'gcutm': 2.9,\n",
       "  'tolerance': 0.0001,\n",
       "  'ewaldlambda': 3},\n",
       " 'expertModes': {'gw': 0, 'secvar': False},\n",
       " 'xcFunctional': {'name': 'pbe', 'relativisticCorrections': False},\n",
       " 'coreElectrons': {'ctail': True,\n",
       "  'frcor': False,\n",
       "  'kcrel': 0,\n",
       "  'coretail_lmax': 0},\n",
       " 'geometryOptimization': {'l_f': False,\n",
       "  'epsdisp': 1e-05,\n",
       "  'epsforce': 1e-05,\n",
       "  'forcemix': 'BFGS',\n",
       "  'forcealpha': 1.0}}"
      ]
     },
     "execution_count": 46,
     "metadata": {},
     "output_type": "execute_result"
    }
   ],
   "source": [
    "copper_inp.inp_dict['calculationSetup']"
   ]
  },
  {
   "cell_type": "code",
   "execution_count": 12,
   "id": "237c0e0d-228e-47d9-8e6f-a84f667235d6",
   "metadata": {
    "collapsed": true,
    "jupyter": {
     "outputs_hidden": true
    },
    "tags": []
   },
   "outputs": [
    {
     "name": "stdout",
     "output_type": "stream",
     "text": [
      "Collecting scikit-learn\n",
      "  Downloading scikit_learn-1.1.2-cp38-cp38-manylinux_2_17_x86_64.manylinux2014_x86_64.whl (31.2 MB)\n",
      "\u001b[2K     \u001b[90m━━━━━━━━━━━━━━━━━━━━━━━━━━━━━━━━━━━━━━━━\u001b[0m \u001b[32m31.2/31.2 MB\u001b[0m \u001b[31m2.0 MB/s\u001b[0m eta \u001b[36m0:00:00\u001b[0m00:01\u001b[0m00:01\u001b[0mm\n",
      "\u001b[?25hCollecting threadpoolctl>=2.0.0\n",
      "  Downloading threadpoolctl-3.1.0-py3-none-any.whl (14 kB)\n",
      "Collecting joblib>=1.0.0\n",
      "  Downloading joblib-1.1.0-py2.py3-none-any.whl (306 kB)\n",
      "\u001b[2K     \u001b[90m━━━━━━━━━━━━━━━━━━━━━━━━━━━━━━━━━━━━━━━\u001b[0m \u001b[32m307.0/307.0 kB\u001b[0m \u001b[31m1.3 MB/s\u001b[0m eta \u001b[36m0:00:00\u001b[0ma \u001b[36m0:00:01\u001b[0m\n",
      "\u001b[?25hRequirement already satisfied: scipy>=1.3.2 in /opt/aiida-kernel/lib/python3.8/site-packages (from scikit-learn) (1.8.1)\n",
      "Requirement already satisfied: numpy>=1.17.3 in /opt/aiida-kernel/lib/python3.8/site-packages (from scikit-learn) (1.18.5)\n",
      "Installing collected packages: threadpoolctl, joblib, scikit-learn\n",
      "\u001b[31mERROR: Could not install packages due to an OSError: [Errno 13] Permission denied: '/opt/aiida-kernel/lib/python3.8/site-packages/threadpoolctl.py'\n",
      "Check the permissions.\n",
      "\u001b[0m\u001b[31m\n",
      "\u001b[0m\n",
      "\u001b[1m[\u001b[0m\u001b[34;49mnotice\u001b[0m\u001b[1;39;49m]\u001b[0m\u001b[39;49m A new release of pip available: \u001b[0m\u001b[31;49m22.2\u001b[0m\u001b[39;49m -> \u001b[0m\u001b[32;49m22.2.2\u001b[0m\n",
      "\u001b[1m[\u001b[0m\u001b[34;49mnotice\u001b[0m\u001b[1;39;49m]\u001b[0m\u001b[39;49m To update, run: \u001b[0m\u001b[32;49m/opt/aiida-kernel/bin/python -m pip install --upgrade pip\u001b[0m\n"
     ]
    }
   ],
   "source": [
    "import sys\n",
    "!{sys.executable} -m pip install -U scikit-learn"
   ]
  },
  {
   "cell_type": "code",
   "execution_count": 9,
   "id": "91dfec55-0bfb-4155-9797-38c54681dbc8",
   "metadata": {
    "collapsed": true,
    "jupyter": {
     "outputs_hidden": true
    },
    "tags": []
   },
   "outputs": [
    {
     "ename": "ModuleNotFoundError",
     "evalue": "No module named 'sklearn'",
     "output_type": "error",
     "traceback": [
      "\u001b[0;31m---------------------------------------------------------------------------\u001b[0m",
      "\u001b[0;31mModuleNotFoundError\u001b[0m                       Traceback (most recent call last)",
      "\u001b[0;32m/tmp/ipykernel_1539664/2563924233.py\u001b[0m in \u001b[0;36m<cell line: 1>\u001b[0;34m()\u001b[0m\n\u001b[0;32m----> 1\u001b[0;31m \u001b[0;32mfrom\u001b[0m \u001b[0msklearn\u001b[0m\u001b[0;34m.\u001b[0m\u001b[0mgaussian_process\u001b[0m \u001b[0;32mimport\u001b[0m \u001b[0mGaussianProcessRegressor\u001b[0m\u001b[0;34m\u001b[0m\u001b[0;34m\u001b[0m\u001b[0m\n\u001b[0m\u001b[1;32m      2\u001b[0m \u001b[0;32mfrom\u001b[0m \u001b[0msklearn\u001b[0m\u001b[0;34m.\u001b[0m\u001b[0mgaussian_process\u001b[0m\u001b[0;34m.\u001b[0m\u001b[0mkernels\u001b[0m \u001b[0;32mimport\u001b[0m \u001b[0mRBF\u001b[0m\u001b[0;34m\u001b[0m\u001b[0;34m\u001b[0m\u001b[0m\n\u001b[1;32m      3\u001b[0m \u001b[0;34m\u001b[0m\u001b[0m\n\u001b[1;32m      4\u001b[0m \u001b[0;32mdef\u001b[0m \u001b[0maq\u001b[0m\u001b[0;34m(\u001b[0m \u001b[0msol\u001b[0m\u001b[0;34m)\u001b[0m \u001b[0;34m:\u001b[0m\u001b[0;34m\u001b[0m\u001b[0;34m\u001b[0m\u001b[0m\n\u001b[1;32m      5\u001b[0m \u001b[0;34m\u001b[0m\u001b[0m\n",
      "\u001b[0;31mModuleNotFoundError\u001b[0m: No module named 'sklearn'"
     ]
    }
   ],
   "source": [
    "from sklearn.gaussian_process import GaussianProcessRegressor\n",
    "from sklearn.gaussian_process.kernels import RBF\n",
    "\n",
    "def aq( sol) :\n",
    "    \n",
    "    return[sol[i]-3*sol[i] for i in range(len(sol[0]))]\n",
    "\n",
    "def bayes(inp , samples , iterations , fleur = load_code(150)):\n",
    "    number_valence_electrons = inp.inp_dict['cell']['bzIntegration']['valenceElectrons']\n",
    "    \n",
    "    first_sampling = random_grid(inp , samples )\n",
    "    \n",
    "    input(\"Press Enter to continue...\") \n",
    "    \n",
    "    X_start = []\n",
    "    Y_start = []\n",
    "    \n",
    "    \n",
    "    for orbital_combination in first_sampling[0]:\n",
    "\n",
    "        Y_start.append( first_sampling[0][orbital_combination].outputs.output_parameters.get_dict()['density_convergence'])\n",
    "        X_start.append( eval(orbital_combination) ) \n",
    "        \n",
    "    \n",
    "        \n",
    "    \n",
    "    \n",
    "    kernel = 1 * RBF(length_scale=1.0, length_scale_bounds=(1e-6, 1e2))\n",
    "    gaussian_process = GaussianProcessRegressor(alpha = 0)\n",
    "    gaussian_process.fit(X_start, Y_start)\n",
    "    gpr.score(X,y)\n",
    "    \n",
    "    \n",
    "    x1 = []\n",
    "\n",
    "    const = [1, 2 , 3 ]\n",
    "\n",
    "    for i in range(len(const)):\n",
    "        x1.append( np.linspace(0 , const[i], int((const[i] / 0.1)+1)))\n",
    "\n",
    "    \n",
    "\n",
    "    all_comb = list(product(*x1))\n",
    "\n",
    "\n",
    "    \n",
    "    valid_lis = []    \n",
    "\n",
    "    for combination in all_comb:\n",
    "        \n",
    "        if sum(combination) * 2 == number_valence_electrons :\n",
    "\n",
    "            valid_lis.append(combination)\n",
    "            \n",
    "    sol = gpr.predict(valid_lis , return_std = True)\n",
    "    \n",
    "    aquisition = aq(sol)\n",
    "    \n",
    "    find_min = min( aquisition)\n",
    "    \n",
    "    index = aquisition.index(find_min)\n",
    "    \n",
    "    \n",
    "    \n",
    "    "
   ]
  },
  {
   "cell_type": "code",
   "execution_count": 5,
   "id": "deedb752-24d9-4ca8-80e5-a6eb99c8aff5",
   "metadata": {
    "collapsed": true,
    "jupyter": {
     "outputs_hidden": true
    },
    "tags": []
   },
   "outputs": [
    {
     "name": "stdout",
     "output_type": "stream",
     "text": [
      "['(4s1/2)', '(3d3/2)', '(3d5/2)']\n",
      "[2, 0, 1] [3.0, 1.0, 2.0]\n",
      "[0, 1, 2] [1.0, 2.0, 3.0]\n",
      "[1, 0, 2] [2.0, 1.0, 3.0]\n",
      "[2, 1, 0] [3.0, 2.0, 1.0]\n",
      "[1, 0, 2] [2.0, 1.0, 3.0]\n",
      "[0.9950093012121132, 1.984709464711877, 2.52028123407601] 0\n",
      "[0.9950093012121132, 1.984709464711877, 2.52028123407601] 1\n",
      "[0.9950093012121132, 1.984709464711877, 2.52028123407601] 2\n",
      "started fleur calc with pk: 137947\n",
      "[0.611027402398703, 1.920799135357931, 2.9681734622433664] 0\n",
      "[0.611027402398703, 1.920799135357931, 2.9681734622433664] 1\n",
      "[0.611027402398703, 1.920799135357931, 2.9681734622433664] 2\n",
      "started fleur calc with pk: 137951\n",
      "[0.945084146279933, 1.6320399616804397, 2.922875892039627] 0\n",
      "[0.945084146279933, 1.6320399616804397, 2.922875892039627] 1\n",
      "[0.945084146279933, 1.6320399616804397, 2.922875892039627] 2\n",
      "started fleur calc with pk: 137955\n",
      "[0.868909486918743, 1.9514801728195734, 2.6796103402616835] 0\n",
      "[0.868909486918743, 1.9514801728195734, 2.6796103402616835] 1\n",
      "[0.868909486918743, 1.9514801728195734, 2.6796103402616835] 2\n",
      "started fleur calc with pk: 137959\n",
      "[0.9851411119231684, 1.5843884312931382, 2.9304704567836932] 0\n",
      "[0.9851411119231684, 1.5843884312931382, 2.9304704567836932] 1\n",
      "[0.9851411119231684, 1.5843884312931382, 2.9304704567836932] 2\n",
      "started fleur calc with pk: 137963\n"
     ]
    }
   ],
   "source": [
    "samples = 5\n",
    "\n",
    "first_sampling = random_grid(copper_inp , samples )"
   ]
  },
  {
   "cell_type": "code",
   "execution_count": 6,
   "id": "876b118b-5790-4be9-8797-cf82d6f10cb5",
   "metadata": {
    "collapsed": true,
    "jupyter": {
     "outputs_hidden": true
    },
    "tags": []
   },
   "outputs": [
    {
     "name": "stdin",
     "output_type": "stream",
     "text": [
      "dasdad \n"
     ]
    },
    {
     "data": {
      "text/plain": [
       "''"
      ]
     },
     "execution_count": 6,
     "metadata": {},
     "output_type": "execute_result"
    }
   ],
   "source": [
    "input(\"dasdad\")"
   ]
  },
  {
   "cell_type": "code",
   "execution_count": 11,
   "id": "e6a45715-9110-4c08-aadd-26254af1329b",
   "metadata": {
    "collapsed": true,
    "jupyter": {
     "outputs_hidden": true
    },
    "tags": []
   },
   "outputs": [
    {
     "ename": "ModuleNotFoundError",
     "evalue": "No module named 'sklearn'",
     "output_type": "error",
     "traceback": [
      "\u001b[0;31m---------------------------------------------------------------------------\u001b[0m",
      "\u001b[0;31mModuleNotFoundError\u001b[0m                       Traceback (most recent call last)",
      "\u001b[0;32m/tmp/ipykernel_1539664/985762122.py\u001b[0m in \u001b[0;36m<cell line: 1>\u001b[0;34m()\u001b[0m\n\u001b[0;32m----> 1\u001b[0;31m \u001b[0;32mfrom\u001b[0m \u001b[0msklearn\u001b[0m\u001b[0;34m.\u001b[0m\u001b[0mgaussian_process\u001b[0m\u001b[0;34m.\u001b[0m\u001b[0mkernels\u001b[0m \u001b[0;32mimport\u001b[0m \u001b[0mRBF\u001b[0m\u001b[0;34m\u001b[0m\u001b[0;34m\u001b[0m\u001b[0m\n\u001b[0m\u001b[1;32m      2\u001b[0m \u001b[0;34m\u001b[0m\u001b[0m\n\u001b[1;32m      3\u001b[0m \u001b[0mX_start\u001b[0m \u001b[0;34m=\u001b[0m \u001b[0;34m[\u001b[0m\u001b[0;34m]\u001b[0m\u001b[0;34m\u001b[0m\u001b[0;34m\u001b[0m\u001b[0m\n\u001b[1;32m      4\u001b[0m \u001b[0mY_start\u001b[0m \u001b[0;34m=\u001b[0m \u001b[0;34m[\u001b[0m\u001b[0;34m]\u001b[0m\u001b[0;34m\u001b[0m\u001b[0;34m\u001b[0m\u001b[0m\n\u001b[1;32m      5\u001b[0m \u001b[0;34m\u001b[0m\u001b[0m\n",
      "\u001b[0;31mModuleNotFoundError\u001b[0m: No module named 'sklearn'"
     ]
    }
   ],
   "source": [
    "from sklearn.gaussian_process.kernels import RBF\n",
    "\n",
    "X_start = []\n",
    "Y_start = []\n",
    "\n",
    "    \n",
    "    \n",
    "for orbital_combination in first_sampling[0]:\n",
    "\n",
    "    Y_start.append( first_sampling[0][orbital_combination].outputs.output_parameters.get_dict()['density_convergence'])\n",
    "    X_start.append( eval(orbital_combination) ) \n",
    "\n",
    "\n",
    "\n",
    "kernel = 1 * RBF(length_scale=1.0, length_scale_bounds=(1e-6, 1e2))\n",
    "gaussian_process = GaussianProcessRegressor(alpha = 0)\n",
    "gaussian_process.fit(X_start, Y_start)\n",
    "gpr.score(X,y)\n",
    "    "
   ]
  },
  {
   "cell_type": "code",
   "execution_count": 3,
   "id": "87ea0247-cba7-4934-a542-6477cc2f41e5",
   "metadata": {},
   "outputs": [],
   "source": [
    "file = open('end.json' , 'r') \n",
    "data = json.load(file)\n",
    "copper_res = data['29']\n"
   ]
  },
  {
   "cell_type": "markdown",
   "id": "ea6e7e7a-3fe1-4375-8ce3-08efe81554be",
   "metadata": {
    "jupyter": {
     "outputs_hidden": true
    },
    "tags": []
   },
   "source": [
    "### copper_res"
   ]
  },
  {
   "cell_type": "code",
   "execution_count": 17,
   "id": "4c97bfe0-e634-43fa-b00f-e12e913b755c",
   "metadata": {},
   "outputs": [],
   "source": [
    "def plot_unaries(results , atom):\n",
    "    \n",
    "\n",
    "        \n",
    "    for bravais in results:\n",
    "            \n",
    "        results2 = results[bravais]\n",
    "            \n",
    "        for orbit in results2:\n",
    "                \n",
    "            orbits = eval(orbit) \n",
    "                \n",
    "            number_orbits = len(orbits)\n",
    "                \n",
    "            results3 = results2[orbit]\n",
    "            print(results3)\n",
    "                \n",
    "                \n",
    "            for i in range(len(orbits)):\n",
    "                    \n",
    "                f7 = [] \n",
    "                distance = []\n",
    "\n",
    "                for occupation in results3:\n",
    "    \n",
    "                    f7.append(eval(occupation)[i])\n",
    "                    distance.append(results3[occupation])\n",
    "    \n",
    "                plt.plot(f7 , distance, 'ro')\n",
    "                plt.xlabel('orbital occupation')\n",
    "                plt.ylabel('distance')\n",
    "                plt.title('atom number: ' + str(atom) + 'orbital: ' + str(orbits[i]) )\n",
    "                plt.show()\n",
    "\n",
    "\n"
   ]
  },
  {
   "cell_type": "code",
   "execution_count": 18,
   "id": "69e21fb8-3671-4a99-8afb-72d6576981ca",
   "metadata": {
    "tags": []
   },
   "outputs": [
    {
     "name": "stdout",
     "output_type": "stream",
     "text": [
      "{'(0.5, 2.0, 3.0)': 34.9840622839, '(0.55, 1.9500000000000002, 3.0)': 30.4451431225, '(0.55, 2.0, 2.95)': 30.5122678127, '(0.6000000000000001, 1.9000000000000001, 3.0)': 25.5277860535, '(0.6000000000000001, 1.9500000000000002, 2.95)': 25.5921070552, '(0.6000000000000001, 2.0, 2.9000000000000004)': 25.6559450792, '(0.65, 1.85, 3.0)': 21.1376035052, '(0.65, 1.9000000000000001, 2.95)': 21.1968363221, '(0.65, 1.9500000000000002, 2.9000000000000004)': 21.2561434741, '(0.65, 2.0, 2.85)': 21.3154691023, '(0.7000000000000001, 1.8, 3.0)': 16.8323681184, '(0.7000000000000001, 1.85, 2.95)': 16.890679473, '(0.7000000000000001, 1.9000000000000001, 2.9000000000000004)': 16.9490405056, '(0.7000000000000001, 1.9500000000000002, 2.85)': 17.0074635365, '(0.7000000000000001, 2.0, 2.8000000000000003)': 17.0659192179, '(0.75, 1.75, 3.0)': 12.5676441218, '(0.75, 1.8, 2.95)': 12.6225142721, '(0.75, 1.85, 2.9000000000000004)': 12.6788571952, '(0.75, 1.9000000000000001, 2.85)': 12.7352989514, '(0.75, 1.9500000000000002, 2.8000000000000003)': 12.7918253773, '(0.75, 2.0, 2.75)': 12.8484356015, '(0.8, 1.7000000000000002, 3.0)': 8.6202741378, '(0.8, 1.75, 2.95)': 8.6705934765, '(0.8, 1.8, 2.9000000000000004)': 8.7207057193, '(0.8, 1.85, 2.85)': 8.7710586148, '(0.8, 1.9000000000000001, 2.8000000000000003)': 8.8216093606, '(0.8, 1.9500000000000002, 2.75)': 8.8723532693, '(0.8, 2.0, 2.7)': 8.9232867573, '(0.8500000000000001, 1.6500000000000001, 3.0)': 6.0031809588, '(0.8500000000000001, 1.7000000000000002, 2.95)': 6.0281378124, '(0.8500000000000001, 1.75, 2.9000000000000004)': 6.0536640405, '(0.8500000000000001, 1.8, 2.85)': 6.0797535466, '(0.8500000000000001, 1.85, 2.8000000000000003)': 6.1063977494, '(0.8500000000000001, 1.9000000000000001, 2.75)': 6.1335904108, '(0.8500000000000001, 1.9500000000000002, 2.7)': 6.1613245246, '(0.8500000000000001, 2.0, 2.6500000000000004)': 6.1895930764, '(0.9, 1.6, 3.0)': 6.7949787663, '(0.9, 1.6500000000000001, 2.95)': 6.7758441983, '(0.9, 1.7000000000000002, 2.9000000000000004)': 6.7572596179, '(0.9, 1.75, 2.85)': 6.7392161007, '(0.9, 1.8, 2.8000000000000003)': 6.7217302073, '(0.9, 1.85, 2.75)': 6.7047671601, '(0.9, 1.9000000000000001, 2.7)': 6.6883589159, '(0.9, 1.9500000000000002, 2.6500000000000004)': 6.6724709071, '(0.9, 2.0, 2.6)': 6.657141323, '(0.9500000000000001, 1.55, 3.0)': 10.3559293846, '(0.9500000000000001, 1.6, 2.95)': 10.3165596418, '(0.9500000000000001, 1.6500000000000001, 2.9000000000000004)': 10.2774119164, '(0.9500000000000001, 1.7000000000000002, 2.85)': 10.2384960986, '(0.9500000000000001, 1.75, 2.8000000000000003)': 10.1998000568, '(0.9500000000000001, 1.8, 2.75)': 10.1613341885, '(0.9500000000000001, 1.85, 2.7)': 10.1231006102, '(0.9500000000000001, 1.9000000000000001, 2.6500000000000004)': 10.0851029572, '(0.9500000000000001, 1.9500000000000002, 2.6)': 10.0473418083, '(0.9500000000000001, 2.0, 2.5500000000000003)': 10.009823377, '(1.0, 1.5, 3.0)': 14.8743252057, '(1.0, 1.55, 2.95)': 14.8285273986, '(1.0, 1.6, 2.9000000000000004)': 14.7828873574, '(1.0, 1.6500000000000001, 2.85)': 14.7373383753, '(1.0, 1.7000000000000002, 2.8000000000000003)': 14.6919079378, '(1.0, 1.75, 2.75)': 14.6465854799, '(1.0, 1.8, 2.7)': 14.6013753725, '(1.0, 1.85, 2.6500000000000004)': 14.5562482545, '(1.0, 1.9000000000000001, 2.6)': 14.5112618901, '(1.0, 1.9500000000000002, 2.5500000000000003)': 14.4663965518, '(1.0, 2.0, 2.5)': 14.4216492494}\n"
     ]
    },
    {
     "data": {
      "image/png": "[encoded data removed]",
      "text/plain": [
       "<Figure size 432x288 with 1 Axes>"
      ]
     },
     "metadata": {
      "needs_background": "light"
     },
     "output_type": "display_data"
    },
    {
     "data": {
      "image/png": "[encoded data removed]",
      "text/plain": [
       "<Figure size 432x288 with 1 Axes>"
      ]
     },
     "metadata": {
      "needs_background": "light"
     },
     "output_type": "display_data"
    },
    {
     "data": {
      "image/png": "[encoded data removed]",
      "text/plain": [
       "<Figure size 432x288 with 1 Axes>"
      ]
     },
     "metadata": {
      "needs_background": "light"
     },
     "output_type": "display_data"
    }
   ],
   "source": [
    "plot_unaries(copper_res , 29)"
   ]
  },
  {
   "cell_type": "code",
   "execution_count": 20,
   "id": "5d6dbfa8-c981-4ace-bc1e-64ecc62b5a71",
   "metadata": {
    "collapsed": true,
    "jupyter": {
     "outputs_hidden": true
    },
    "tags": []
   },
   "outputs": [
    {
     "name": "stdout",
     "output_type": "stream",
     "text": [
      "['(4s1/2)', '(3d3/2)', '(3d5/2)']\n",
      "[2, 0, 1] [3.0, 1.0, 2.0]\n",
      "[1, 2, 0] [2.0, 3.0, 1.0]\n",
      "[1, 0, 2] [2.0, 1.0, 3.0]\n",
      "[2, 0, 1] [3.0, 1.0, 2.0]\n",
      "[2, 1, 0] [3.0, 2.0, 1.0]\n",
      "[0.9518767920490905, 1.7652786188550136, 2.782844589095896] 0\n",
      "[0.9518767920490905, 1.7652786188550136, 2.782844589095896] 1\n",
      "[0.9518767920490905, 1.7652786188550136, 2.782844589095896] 2\n",
      "started fleur calc with pk: 137982\n",
      "[0.9481341048551832, 1.877334041577773, 2.6745318535670437] 0\n",
      "[0.9481341048551832, 1.877334041577773, 2.6745318535670437] 1\n",
      "[0.9481341048551832, 1.877334041577773, 2.6745318535670437] 2\n",
      "started fleur calc with pk: 137986\n",
      "[0.9908150875983159, 1.5584264398938643, 2.95075847250782] 0\n",
      "[0.9908150875983159, 1.5584264398938643, 2.95075847250782] 1\n",
      "[0.9908150875983159, 1.5584264398938643, 2.95075847250782] 2\n",
      "started fleur calc with pk: 137990\n",
      "[0.9295888263149489, 1.862803090923609, 2.707608082761442] 0\n",
      "[0.9295888263149489, 1.862803090923609, 2.707608082761442] 1\n",
      "[0.9295888263149489, 1.862803090923609, 2.707608082761442] 2\n",
      "started fleur calc with pk: 137994\n",
      "[0.8146420153840976, 1.9218470597913062, 2.763510924824596] 0\n",
      "[0.8146420153840976, 1.9218470597913062, 2.763510924824596] 1\n",
      "[0.8146420153840976, 1.9218470597913062, 2.763510924824596] 2\n",
      "started fleur calc with pk: 137998\n"
     ]
    }
   ],
   "source": [
    "samples = 5\n",
    "\n",
    "first_sampling = random_grid(copper_inp , samples )"
   ]
  },
  {
   "cell_type": "code",
   "execution_count": 10,
   "id": "bab906d1-add0-4423-9862-ad11e4d57947",
   "metadata": {},
   "outputs": [],
   "source": [
    "def find_min( dic):\n",
    "    \n",
    "    value = 10000\n",
    "    \n",
    "    occ = 'None'\n",
    "    \n",
    "    for key in dic:\n",
    "        \n",
    "        if dic[key] < value:\n",
    "            \n",
    "            value = dic[key]\n",
    "            occ = key \n",
    "            \n",
    "    return [ occ  , value ]"
   ]
  },
  {
   "cell_type": "code",
   "execution_count": 11,
   "id": "dc979db4-4b04-43e8-8617-d1d5c9a89a2e",
   "metadata": {
    "tags": []
   },
   "outputs": [
    {
     "ename": "NameError",
     "evalue": "name 'copper_res' is not defined",
     "output_type": "error",
     "traceback": [
      "\u001b[0;31m---------------------------------------------------------------------------\u001b[0m",
      "\u001b[0;31mNameError\u001b[0m                                 Traceback (most recent call last)",
      "\u001b[0;32m/tmp/ipykernel_1358988/1845485177.py\u001b[0m in \u001b[0;36m<cell line: 1>\u001b[0;34m()\u001b[0m\n\u001b[0;32m----> 1\u001b[0;31m \u001b[0mcopper_res\u001b[0m\u001b[0;34m\u001b[0m\u001b[0;34m\u001b[0m\u001b[0m\n\u001b[0m\u001b[1;32m      2\u001b[0m \u001b[0;34m\u001b[0m\u001b[0m\n\u001b[1;32m      3\u001b[0m \u001b[0;34m\u001b[0m\u001b[0m\n",
      "\u001b[0;31mNameError\u001b[0m: name 'copper_res' is not defined"
     ]
    }
   ],
   "source": [
    "copper_res\n",
    "\n",
    "\n"
   ]
  },
  {
   "cell_type": "code",
   "execution_count": 4,
   "id": "632deac7-8655-489b-989c-9427caa76566",
   "metadata": {},
   "outputs": [
    {
     "name": "stdout",
     "output_type": "stream",
     "text": [
      "['(4s1/2)', '(3d3/2)', '(3d5/2)']\n"
     ]
    }
   ],
   "source": [
    "for key in copper_res: \n",
    "    for key2 in copper_res[key]:\n",
    "        print(key2)\n",
    "        res = copper_res[key][key2]"
   ]
  },
  {
   "cell_type": "code",
   "execution_count": 5,
   "id": "01e62048-6969-43fc-a8b3-677cdd61949a",
   "metadata": {
    "tags": []
   },
   "outputs": [],
   "source": [
    "import random\n",
    "\n",
    "key , value = random.choice(list(res.items()))"
   ]
  },
  {
   "cell_type": "code",
   "execution_count": 6,
   "id": "5b245a28-9bb1-4b6a-bd61-d920c08b867a",
   "metadata": {},
   "outputs": [],
   "source": [
    "init_occ = []\n",
    "init_dis = []\n",
    "\n",
    "for i in range(3):\n",
    "    \n",
    "    key , value = random.choice(list(res.items()))\n",
    "    \n",
    "    init_occ.append(key)\n",
    "    init_dis.append(value)\n",
    "    \n",
    "    \n",
    "\n"
   ]
  },
  {
   "cell_type": "code",
   "execution_count": 47,
   "id": "75161c69-f8e9-480a-89ef-de22abff2208",
   "metadata": {},
   "outputs": [
    {
     "data": {
      "text/plain": [
       "['(0.7000000000000001, 1.9500000000000002, 2.85)',\n",
       " '(0.75, 1.9000000000000001, 2.85)',\n",
       " '(0.9500000000000001, 1.9500000000000002, 2.6)']"
      ]
     },
     "execution_count": 47,
     "metadata": {},
     "output_type": "execute_result"
    }
   ],
   "source": [
    "init_occ\n"
   ]
  },
  {
   "cell_type": "code",
   "execution_count": 62,
   "id": "0e62dcdf-a710-4b78-a376-0fd8f7973e8d",
   "metadata": {},
   "outputs": [
    {
     "data": {
      "text/plain": [
       "16.890679473"
      ]
     },
     "execution_count": 62,
     "metadata": {},
     "output_type": "execute_result"
    }
   ],
   "source": [
    "min_index = init_dis.index(min(init_dis))\n",
    "minimum = min(init_dis)\n",
    "\n",
    "min_s = eval(init_occ[min_index])[0]\n",
    "min_d3 = eval(init_occ[min_index])[1]\n",
    "min_d5 = eval(init_occ[min_index])[2]\n",
    "minimum"
   ]
  },
  {
   "cell_type": "code",
   "execution_count": null,
   "id": "41524989-04a6-4d0a-98d8-7bde30e08b08",
   "metadata": {},
   "outputs": [],
   "source": []
  },
  {
   "cell_type": "code",
   "execution_count": 49,
   "id": "42ecfabb-94be-4492-8d9e-b99c1d804538",
   "metadata": {},
   "outputs": [],
   "source": [
    "from scipy.stats import truncnorm\n",
    "\n",
    "def get_truncated_normal(mean=0, sd=1, low=0, upp=10):\n",
    "    return truncnorm(\n",
    "        (low - mean) / sd, (upp - mean) / sd, loc=mean, scale=sd)\n"
   ]
  },
  {
   "cell_type": "code",
   "execution_count": 63,
   "id": "26dd2b84-ad02-4a69-a6b8-c9c47d0c68ac",
   "metadata": {},
   "outputs": [
    {
     "name": "stdout",
     "output_type": "stream",
     "text": [
      "5.5\n",
      "{'output_parameters': <Dict: uuid: 42b26ea9-d0d4-44ab-82b5-cfb880c89b57 (pk: 138100)>, 'remote_folder': <RemoteData: uuid: 6afd6e62-297e-4725-8155-3d8ae4ec8e07 (pk: 138098)>, 'retrieved': <FolderData: uuid: 1e5522ed-28a7-4570-b32f-e865fab87003 (pk: 138099)>} uuid: 88c8c2a1-d6e9-436e-9284-5ddec51953fa (pk: 138097) (aiida.calculations:fleur.fleur)\n",
      "5.5\n",
      "{'output_parameters': <Dict: uuid: c600e43e-41ba-4294-ba18-98c2e42245de (pk: 138107)>, 'remote_folder': <RemoteData: uuid: 41c4b2b9-9425-4d7b-9019-2297ddce81da (pk: 138105)>, 'retrieved': <FolderData: uuid: 57acffef-4dee-4d6d-b71a-c916bf1a4cad (pk: 138106)>} uuid: fbe97ade-90d8-436f-b675-b67e9801045a (pk: 138104) (aiida.calculations:fleur.fleur)\n",
      "5.5\n",
      "{'output_parameters': <Dict: uuid: e50b4cef-0ef7-44bc-963f-a66dace610d4 (pk: 138114)>, 'remote_folder': <RemoteData: uuid: b9d9e550-c40a-4ef1-a21f-2501600e51af (pk: 138112)>, 'retrieved': <FolderData: uuid: bd954cd3-7411-43f6-8aef-ff09c1273484 (pk: 138113)>} uuid: 90acfe8f-00c7-4712-bb3e-55aaec1f868e (pk: 138111) (aiida.calculations:fleur.fleur)\n",
      "5.5\n",
      "{'output_parameters': <Dict: uuid: 7a890c3f-f715-447d-a777-ab8e292dc807 (pk: 138121)>, 'remote_folder': <RemoteData: uuid: c8522d37-7f88-4600-b015-6d26f6cc433b (pk: 138119)>, 'retrieved': <FolderData: uuid: 020d0fc6-17d5-4ee7-be10-266f24d81fb2 (pk: 138120)>} uuid: 3a55482f-c088-4200-a1a1-58b9b9251f87 (pk: 138118) (aiida.calculations:fleur.fleur)\n",
      "5.5\n",
      "{'output_parameters': <Dict: uuid: d55d0368-fbc3-4b38-a9c8-688954376a76 (pk: 138128)>, 'remote_folder': <RemoteData: uuid: ca4cf26c-e9d4-435c-904f-571847022c69 (pk: 138126)>, 'retrieved': <FolderData: uuid: 070e2c8b-1d96-4f3d-92b7-862a4f5595e0 (pk: 138127)>} uuid: e102633e-e94a-45c6-94c1-3ff332de2526 (pk: 138125) (aiida.calculations:fleur.fleur)\n"
     ]
    }
   ],
   "source": [
    "for i in range(5):\n",
    "    \n",
    "    valence = 11\n",
    "    \n",
    "    s_occ = get_truncated_normal(mean = min_s , sd = 0.3 , low = 0.5 , upp = 1).rvs()\n",
    "    d3_occ = get_truncated_normal( mean = min_d3 , sd = 0.6 , low = (2.5-s_occ) , upp = 2).rvs()\n",
    "    d5_occ = valence/2 - s_occ - d3_occ \n",
    "    \n",
    "    print(sum([s_occ , d3_occ , d5_occ] )) \n",
    "    \n",
    "    options = {'resources' : {\"num_machines\": 1, \"num_mpiprocs_per_machine\" : 2},\n",
    "               'queue_name' : 'th1-2020-32',\n",
    "               'withmpi' : True,\n",
    "               'max_wallclock_seconds' : 600}\n",
    "    \n",
    "    fm = FleurinpModifier(copper_inp)\n",
    "    \n",
    "    \n",
    "    change_list = [{'state': '(4s1/2)' , 'spinup': s_occ , 'spindown' : s_occ } , {'state': '(3d3/2)', 'spinup': d3_occ , 'spindown' : d3_occ } , {'state': '(3d5/2)' , 'spinup': d5_occ , 'spindown' : d5_occ }]\n",
    "    \n",
    "    fm.set_species('all', { 'electronconfig': { 'stateoccupation': change_list}})\n",
    "\n",
    "    mod_inp = fm.freeze()\n",
    "\n",
    "    \n",
    "\n",
    "    inputs = FleurCalculation.get_builder()\n",
    "    inputs.code = load_code(150)\n",
    "    inputs.fleurinpdata = mod_inp\n",
    "    inputs.metadata.options  = options \n",
    "    \n",
    "\n",
    "    \n",
    "    results , node  = run.get_node(FleurCalculation , **inputs)\n",
    "    \n",
    "    print(results, node)\n",
    "    \n",
    "    \n",
    "    distance = node.outputs.output_parameters.get_dict()['density_convergence']\n",
    "    \n",
    "    init_occ.append(str( (s_occ , d3_occ , d5_occ) ) )\n",
    "    init_dis.append(distance)\n",
    "    min_index = init_dis.index(min(init_dis))\n",
    "    minimum = min(init_dis)\n",
    "\n",
    "    min_s = eval(init_occ[min_index])[0]\n",
    "    min_d3 = eval(init_occ[min_index])[1]\n",
    "    min_d5 = eval(init_occ[min_index])[2]2"
   ]
  },
  {
   "cell_type": "code",
   "execution_count": 64,
   "id": "edaff3ef-ead8-461c-ba2b-fd96a46d5002",
   "metadata": {},
   "outputs": [
    {
     "name": "stdout",
     "output_type": "stream",
     "text": [
      "['(0.7000000000000001, 1.9000000000000001, 2.9000000000000004)', '(0.7000000000000001, 1.85, 2.95)', '(0.6000000000000001, 2.0, 2.9000000000000004)', '(0.9559510957170496, 1.6753636044119833, 2.8686852998709673)', '(0.9634056381882423, 1.826308426335132, 2.7102859354766258)', '(0.5107506292103241, 1.98996081846007, 2.9992885523296056)', '(0.6056000739469527, 1.9246583447954029, 2.9697415812576446)', '(0.8112334109092838, 1.9127831923194643, 2.7759833967712515)'] [16.9490405056, 16.890679473, 25.6559450792, 6.7849548807, 7.2901353188, 38.372927691, 30.6397697319, 11.8043529446]\n"
     ]
    }
   ],
   "source": [
    "print( init_occ , init_dis)"
   ]
  },
  {
   "cell_type": "code",
   "execution_count": 107,
   "id": "3ad87dc5-96f1-4b1e-a885-cc82173fe380",
   "metadata": {},
   "outputs": [],
   "source": [
    "s = []\n",
    "d3 = []\n",
    "d5 = []\n",
    "\n",
    "for i in range(len(init_occ)):\n",
    "    \n",
    "    s.append(eval(init_occ[i])[0])\n",
    "    d3.append(eval(init_occ[i])[1])\n",
    "    d5.append(eval(init_occ[i])[2])\n",
    "    \n",
    "\n"
   ]
  },
  {
   "cell_type": "raw",
   "id": "e9d27b6e-8aeb-45bd-b218-fb919e41c0b9",
   "metadata": {},
   "source": []
  },
  {
   "cell_type": "code",
   "execution_count": 108,
   "id": "8493c8c0-bdd4-41a6-b7b0-5388013fb728",
   "metadata": {},
   "outputs": [],
   "source": [
    "s1 = s[:3]\n",
    "s2 = s[3:]\n",
    "d31 = d3[:3]\n",
    "d32 = d3[3:]\n",
    "d51 = d5[:3]\n",
    "d52 = d5[3:]\n",
    "dis1 = init_dis[:3]\n",
    "dis2 = init_dis[3:]\n",
    "dis1[0] = 22.16775\n",
    "dis1[1] = 22.0390026\n",
    "dis1[2] = 31.2099"
   ]
  },
  {
   "cell_type": "code",
   "execution_count": 109,
   "id": "50d0b70a-82d3-455d-b0ad-bf8670e87280",
   "metadata": {
    "tags": []
   },
   "outputs": [
    {
     "data": {
      "image/png": "[encoded data removed]",
      "text/plain": [
       "<Figure size 432x288 with 1 Axes>"
      ]
     },
     "metadata": {
      "needs_background": "light"
     },
     "output_type": "display_data"
    }
   ],
   "source": [
    "plt.plot( s1 , dis1 , 'o' , label = 'starting occupations')\n",
    "plt.plot ( s2 , dis2  , 'x' , label = 'min search' )\n",
    "plt.legend()\n",
    "plt.title('s orbital copper')\n",
    "plt.xlabel('occupation')\n",
    "plt.ylabel('distance after 1 iteration')\n",
    "plt.savefig('s_copper_std03_2.pdf')\n",
    "plt.show()"
   ]
  },
  {
   "cell_type": "code",
   "execution_count": null,
   "id": "584545de-6ccb-4c0d-98e3-b3265eba8803",
   "metadata": {},
   "outputs": [
    {
     "name": "stdout",
     "output_type": "stream",
     "text": [
      "5.5\n",
      "{'output_parameters': <Dict: uuid: dcd6307a-6c2e-4cf5-be82-335304f486cb (pk: 138203)>, 'remote_folder': <RemoteData: uuid: 04ff3149-501a-4fd2-b2ca-880ee49cb1b6 (pk: 138201)>, 'retrieved': <FolderData: uuid: 45479dba-79f9-446d-a2c3-59d640267bed (pk: 138202)>} uuid: d22c0f20-171b-4f77-8e5d-dd5c03d02cd8 (pk: 138200) (aiida.calculations:fleur.fleur)\n",
      "5.5\n",
      "{'output_parameters': <Dict: uuid: 152e9e17-eafe-4b75-9d3c-d60770386fcf (pk: 138210)>, 'remote_folder': <RemoteData: uuid: e86e9f37-f7a1-4135-a28a-93713b43b864 (pk: 138208)>, 'retrieved': <FolderData: uuid: 3055238a-016e-4e83-865c-ac8053ae9a89 (pk: 138209)>} uuid: 621865cb-088f-458f-b872-3fa1b16be3f5 (pk: 138207) (aiida.calculations:fleur.fleur)\n",
      "5.5\n",
      "{'output_parameters': <Dict: uuid: 688dbaa3-8b19-4e33-8d3c-ce2ace908790 (pk: 138217)>, 'remote_folder': <RemoteData: uuid: 22eb23e7-9114-406c-939b-13e8e2bb02aa (pk: 138215)>, 'retrieved': <FolderData: uuid: 8632d3f5-b7fa-4d67-aef5-16ef5fc8aac3 (pk: 138216)>} uuid: 4cf03c88-df25-49b6-8c7b-04b886cd3ae1 (pk: 138214) (aiida.calculations:fleur.fleur)\n",
      "5.5\n",
      "{'output_parameters': <Dict: uuid: b51c3660-d72b-4538-9b67-8b432218b5d8 (pk: 138224)>, 'remote_folder': <RemoteData: uuid: 8c219dcc-b3de-4d28-a82e-223c68068aa4 (pk: 138222)>, 'retrieved': <FolderData: uuid: fd848a96-6494-47eb-ae31-68afa91a9905 (pk: 138223)>} uuid: fd5b9444-2eb0-4c49-8cc4-9779319ff700 (pk: 138221) (aiida.calculations:fleur.fleur)\n",
      "5.5\n"
     ]
    }
   ],
   "source": [
    "\n",
    "\n",
    "for i in range(5):\n",
    "    \n",
    "    valence = 11\n",
    "    \n",
    "    s_occ = get_truncated_normal(mean = min_s , sd = 0.1 , low = 0.5 , upp = 1).rvs()\n",
    "    d3_occ = get_truncated_normal( mean = min_d3 , sd = 0.2 , low = (2.5-s_occ) , upp = 2).rvs()\n",
    "    d5_occ = valence/2 - s_occ - d3_occ \n",
    "    \n",
    "    print(sum([s_occ , d3_occ , d5_occ] )) \n",
    "    \n",
    "    options = {'resources' : {\"num_machines\": 1, \"num_mpiprocs_per_machine\" : 2},\n",
    "               'queue_name' : 'th1-2020-32',\n",
    "               'withmpi' : True,\n",
    "               'max_wallclock_seconds' : 600}\n",
    "    \n",
    "    fm = FleurinpModifier(copper_inp)\n",
    "    \n",
    "    \n",
    "    change_list = [{'state': '(4s1/2)' , 'spinup': s_occ , 'spindown' : s_occ } , {'state': '(3d3/2)', 'spinup': d3_occ , 'spindown' : d3_occ } , {'state': '(3d5/2)' , 'spinup': d5_occ , 'spindown' : d5_occ }]\n",
    "    \n",
    "    fm.set_species('all', { 'electronconfig': { 'stateoccupation': change_list}})\n",
    "\n",
    "    mod_inp = fm.freeze()\n",
    "\n",
    "    \n",
    "\n",
    "    inputs = FleurCalculation.get_builder()\n",
    "    inputs.code = load_code(150)\n",
    "    inputs.fleurinpdata = mod_inp\n",
    "    inputs.metadata.options  = options \n",
    "    \n",
    "\n",
    "    \n",
    "    results , node  = run.get_node(FleurCalculation , **inputs)\n",
    "    \n",
    "    print(results, node)\n",
    "    \n",
    "    \n",
    "    distance = node.outputs.output_parameters.get_dict()['density_convergence']\n",
    "    \n",
    "    init_occ1.append(str( (s_occ , d3_occ , d5_occ) ) )\n",
    "    init_dis1.append(distance)\n",
    "    min_index = init_dis1.index(min(init_dis1))\n",
    "    minimum = min(init_dis1)\n",
    "\n",
    "    min_s = eval(init_occ1[min_index])[0]\n",
    "    min_d3 = eval(init_occ1[min_index])[1]\n",
    "    min_d5 = eval(init_occ1[min_index])[2]"
   ]
  },
  {
   "cell_type": "code",
   "execution_count": 106,
   "id": "8d18efa1-c9b8-407b-9d0c-b3c8d3f7cade",
   "metadata": {},
   "outputs": [
    {
     "name": "stdout",
     "output_type": "stream",
     "text": [
      "[0.7000000000000001, 0.7000000000000001, 0.6000000000000001, 0.6838685692185624, 0.6757171112124809, 0.6854044253889645, 0.5842170490653161, 0.6256865451970454] [0.7000000000000001, 0.7000000000000001, 0.6000000000000001] [0.6838685692185624, 0.6757171112124809, 0.6854044253889645, 0.5842170490653161, 0.6256865451970454, 0.6703274051607846, 0.7650798268734758, 0.8489552657885785, 0.8745782387682727, 0.8351205462904093]\n"
     ]
    },
    {
     "data": {
      "image/png": "[encoded data removed]",
      "text/plain": [
       "<Figure size 432x288 with 1 Axes>"
      ]
     },
     "metadata": {
      "needs_background": "light"
     },
     "output_type": "display_data"
    }
   ],
   "source": [
    "s = []\n",
    "d3 = []\n",
    "d5 = []\n",
    "\n",
    "for i in range(len(init_occ)):\n",
    "    \n",
    "    s.append(eval(init_occ1[i])[0])\n",
    "    d3.append(eval(init_occ1[i])[1])\n",
    "    d5.append(eval(init_occ1[i])[2])\n",
    "    \n",
    "print(s , s1 , s2)\n",
    "\n",
    "s1 = s[:3]\n",
    "s2 = s[3:]\n",
    "d31 = d3[:3]\n",
    "d32 = d3[3:]\n",
    "d51 = d5[:3]\n",
    "d52 = d5[3:]\n",
    "dis1 = init_dis1[:3]\n",
    "dis2 = init_dis1[3:8]\n",
    "\n",
    "dis1[0] = 22.16775\n",
    "dis1[1] = 22.0390026\n",
    "dis1[2] = 31.2099\n",
    "\n",
    "plt.plot( s1 , dis1 , 'o' , label = 'starting occupations')\n",
    "plt.plot ( s2 , dis2  , 'x' , label = 'min search' )\n",
    "plt.legend()\n",
    "plt.title('s orbital copper')\n",
    "plt.xlabel('occupation')\n",
    "plt.ylabel('distance after 1 iteration')\n",
    "plt.savefig('s_copper_std01_4.pdf')\n",
    "plt.show()"
   ]
  },
  {
   "cell_type": "code",
   "execution_count": 84,
   "id": "c7db4881-a128-4c15-983c-d26841d8a3ab",
   "metadata": {},
   "outputs": [
    {
     "name": "stdout",
     "output_type": "stream",
     "text": [
      "[16.9490405056, 16.890679473, 25.6559450792, 23.7153230263, 24.4049783615, 23.5218449656, 32.514128889, 28.9683547134] ['(0.7000000000000001, 1.9000000000000001, 2.9000000000000004)', '(0.7000000000000001, 1.85, 2.95)', '(0.6000000000000001, 2.0, 2.9000000000000004)', '(0.6838685692185624, 1.9589240608581968, 2.8572073699232408)', '(0.6757171112124809, 1.921179532184186, 2.9031033566033333)', '(0.6854044253889645, 1.917952783386397, 2.8966427912246386)', '(0.5842170490653161, 1.9881756546244023, 2.9276072963102817)', '(0.6256865451970454, 1.9736253751072272, 2.900688079695727)']\n"
     ]
    }
   ],
   "source": [
    "print(init_dis1 , init_occ1) "
   ]
  },
  {
   "cell_type": "code",
   "execution_count": 90,
   "id": "43faf7b0-42a7-45fa-8b3c-d4f3f6fec331",
   "metadata": {},
   "outputs": [
    {
     "name": "stdout",
     "output_type": "stream",
     "text": [
      "[16.9490405056, 16.890679473, 25.6559450792, 23.7153230263, 24.4049783615, 23.5218449656, 32.514128889, 28.9683547134, 24.8483918587, 16.0269457571, 8.2663594526, 6.4617723417, 9.3530941339] ['(0.7000000000000001, 1.9000000000000001, 2.9000000000000004)', '(0.7000000000000001, 1.85, 2.95)', '(0.6000000000000001, 2.0, 2.9000000000000004)', '(0.6838685692185624, 1.9589240608581968, 2.8572073699232408)', '(0.6757171112124809, 1.921179532184186, 2.9031033566033333)', '(0.6854044253889645, 1.917952783386397, 2.8966427912246386)', '(0.5842170490653161, 1.9881756546244023, 2.9276072963102817)', '(0.6256865451970454, 1.9736253751072272, 2.900688079695727)', '(0.6703274051607846, 1.88606800009155, 2.943604594747666)', '(0.7650798268734758, 1.825796173525953, 2.9091239996005713)', '(0.8489552657885785, 1.7685018204992702, 2.882542913712151)', '(0.8745782387682727, 1.9274822009635155, 2.697939560268212)', '(0.8351205462904093, 1.682505355089102, 2.9823740986204887)']\n"
     ]
    }
   ],
   "source": [
    "print(init_dis1 , init_occ1) "
   ]
  },
  {
   "cell_type": "code",
   "execution_count": 97,
   "id": "fd44dc0a-7071-4c1c-8b11-feaf5dfb1411",
   "metadata": {
    "collapsed": true,
    "jupyter": {
     "outputs_hidden": true
    },
    "tags": []
   },
   "outputs": [
    {
     "data": {
      "text/plain": [
       "{'soc': {'phi': 0.0, 'spav': False, 'l_soc': False, 'theta': 0.0},\n",
       " 'ldaU': {'spinf': 1.0, 'l_linMix': False, 'mixParam': 0.05},\n",
       " 'ldaHIA': {'beta': 100.0,\n",
       "  'dftspinpol': False,\n",
       "  'itmaxHubbard1': 5,\n",
       "  'minmatDistance': 0.001,\n",
       "  'minoccDistance': 0.01},\n",
       " 'cutoffs': {'Gmax': 10.2, 'Kmax': 3.4, 'GmaxXC': 10.2, 'numbands': 0},\n",
       " 'scfLoop': {'imix': 'Anderson',\n",
       "  'alpha': 0.05,\n",
       "  'itmax': 1,\n",
       "  'spinf': 2.0,\n",
       "  'minDistance': 1e-05,\n",
       "  'maxIterBroyd': 99,\n",
       "  'precondParam': 0.0},\n",
       " 'magnetism': {'qss': [0.0, 0.0, 0.0],\n",
       "  'l_ss': False,\n",
       "  'jspins': 1,\n",
       "  'l_noco': False,\n",
       "  'mtNocoParams': {'l_mperp': False,\n",
       "   'l_relaxSQA': False,\n",
       "   'mix_constr': 1.0,\n",
       "   'l_mtNocoPot': False,\n",
       "   'l_constrained': False,\n",
       "   'mag_mixing_scheme': 0,\n",
       "   'mix_RelaxWeightOffD': 1.0},\n",
       "  'sourceFreeMag': {'mag_scale': 1.0,\n",
       "   'l_scaleMag': False,\n",
       "   'l_sourceFree': False}},\n",
       " 'prodBasis': {'lexp': 16,\n",
       "  'bands': 0,\n",
       "  'gcutm': 2.9,\n",
       "  'tolerance': 0.0001,\n",
       "  'ewaldlambda': 3},\n",
       " 'expertModes': {'gw': 0, 'secvar': False},\n",
       " 'xcFunctional': {'name': 'pbe', 'relativisticCorrections': False},\n",
       " 'coreElectrons': {'ctail': True,\n",
       "  'frcor': False,\n",
       "  'kcrel': 0,\n",
       "  'coretail_lmax': 0},\n",
       " 'geometryOptimization': {'l_f': False,\n",
       "  'epsdisp': 1e-05,\n",
       "  'epsforce': 1e-05,\n",
       "  'forcemix': 'BFGS',\n",
       "  'forcealpha': 1.0}}"
      ]
     },
     "execution_count": 97,
     "metadata": {},
     "output_type": "execute_result"
    }
   ],
   "source": [
    "copper_inp.inp_dict['calculationSetup']"
   ]
  },
  {
   "cell_type": "code",
   "execution_count": 98,
   "id": "945528f5-e2f3-4081-b444-7294e40d2300",
   "metadata": {},
   "outputs": [],
   "source": [
    "from fleur_starting_density import starting_density_calc"
   ]
  },
  {
   "cell_type": "code",
   "execution_count": 100,
   "id": "3b56614a-4fd3-4855-85f3-5951e813fa48",
   "metadata": {
    "collapsed": true,
    "jupyter": {
     "outputs_hidden": true
    },
    "tags": []
   },
   "outputs": [
    {
     "name": "stdout",
     "output_type": "stream",
     "text": [
      "[(0.5, 2.0, 3.0), (0.55, 1.9500000000000002, 3.0), (0.55, 2.0, 2.95), (0.6000000000000001, 1.9000000000000001, 3.0), (0.6000000000000001, 1.9500000000000002, 2.95), (0.6000000000000001, 2.0, 2.9000000000000004), (0.65, 1.85, 3.0), (0.65, 1.9000000000000001, 2.95), (0.65, 1.9500000000000002, 2.9000000000000004), (0.65, 2.0, 2.85), (0.7000000000000001, 1.8, 3.0), (0.7000000000000001, 1.85, 2.95), (0.7000000000000001, 1.9000000000000001, 2.9000000000000004), (0.7000000000000001, 1.9500000000000002, 2.85), (0.7000000000000001, 2.0, 2.8000000000000003), (0.75, 1.75, 3.0), (0.75, 1.8, 2.95), (0.75, 1.85, 2.9000000000000004), (0.75, 1.9000000000000001, 2.85), (0.75, 1.9500000000000002, 2.8000000000000003), (0.75, 2.0, 2.75), (0.8, 1.7000000000000002, 3.0), (0.8, 1.75, 2.95), (0.8, 1.8, 2.9000000000000004), (0.8, 1.85, 2.85), (0.8, 1.9000000000000001, 2.8000000000000003), (0.8, 1.9500000000000002, 2.75), (0.8, 2.0, 2.7), (0.8500000000000001, 1.6500000000000001, 3.0), (0.8500000000000001, 1.7000000000000002, 2.95), (0.8500000000000001, 1.75, 2.9000000000000004), (0.8500000000000001, 1.8, 2.85), (0.8500000000000001, 1.85, 2.8000000000000003), (0.8500000000000001, 1.9000000000000001, 2.75), (0.8500000000000001, 1.9500000000000002, 2.7), (0.8500000000000001, 2.0, 2.6500000000000004), (0.9, 1.6, 3.0), (0.9, 1.6500000000000001, 2.95), (0.9, 1.7000000000000002, 2.9000000000000004), (0.9, 1.75, 2.85), (0.9, 1.8, 2.8000000000000003), (0.9, 1.85, 2.75), (0.9, 1.9000000000000001, 2.7), (0.9, 1.9500000000000002, 2.6500000000000004), (0.9, 2.0, 2.6), (0.9500000000000001, 1.55, 3.0), (0.9500000000000001, 1.6, 2.95), (0.9500000000000001, 1.6500000000000001, 2.9000000000000004), (0.9500000000000001, 1.7000000000000002, 2.85), (0.9500000000000001, 1.75, 2.8000000000000003), (0.9500000000000001, 1.8, 2.75), (0.9500000000000001, 1.85, 2.7), (0.9500000000000001, 1.9000000000000001, 2.6500000000000004), (0.9500000000000001, 1.9500000000000002, 2.6), (0.9500000000000001, 2.0, 2.5500000000000003), (1.0, 1.5, 3.0), (1.0, 1.55, 2.95), (1.0, 1.6, 2.9000000000000004), (1.0, 1.6500000000000001, 2.85), (1.0, 1.7000000000000002, 2.8000000000000003), (1.0, 1.75, 2.75), (1.0, 1.8, 2.7), (1.0, 1.85, 2.6500000000000004), (1.0, 1.9000000000000001, 2.6), (1.0, 1.9500000000000002, 2.5500000000000003), (1.0, 2.0, 2.5)] number of possible combinations;  66\n",
      "(0.5, 2.0, 3.0) 0\n",
      "(0.5, 2.0, 3.0) 1\n",
      "(0.5, 2.0, 3.0) 2\n",
      "started fleur calc with pk: 138250\n",
      "(0.55, 1.9500000000000002, 3.0) 0\n",
      "(0.55, 1.9500000000000002, 3.0) 1\n",
      "(0.55, 1.9500000000000002, 3.0) 2\n",
      "started fleur calc with pk: 138254\n",
      "(0.55, 2.0, 2.95) 0\n",
      "(0.55, 2.0, 2.95) 1\n",
      "(0.55, 2.0, 2.95) 2\n",
      "started fleur calc with pk: 138258\n",
      "(0.6000000000000001, 1.9000000000000001, 3.0) 0\n",
      "(0.6000000000000001, 1.9000000000000001, 3.0) 1\n",
      "(0.6000000000000001, 1.9000000000000001, 3.0) 2\n",
      "started fleur calc with pk: 138262\n",
      "(0.6000000000000001, 1.9500000000000002, 2.95) 0\n",
      "(0.6000000000000001, 1.9500000000000002, 2.95) 1\n",
      "(0.6000000000000001, 1.9500000000000002, 2.95) 2\n",
      "started fleur calc with pk: 138266\n",
      "(0.6000000000000001, 2.0, 2.9000000000000004) 0\n",
      "(0.6000000000000001, 2.0, 2.9000000000000004) 1\n",
      "(0.6000000000000001, 2.0, 2.9000000000000004) 2\n",
      "started fleur calc with pk: 138270\n",
      "(0.65, 1.85, 3.0) 0\n",
      "(0.65, 1.85, 3.0) 1\n",
      "(0.65, 1.85, 3.0) 2\n",
      "started fleur calc with pk: 138274\n",
      "(0.65, 1.9000000000000001, 2.95) 0\n",
      "(0.65, 1.9000000000000001, 2.95) 1\n",
      "(0.65, 1.9000000000000001, 2.95) 2\n",
      "started fleur calc with pk: 138278\n",
      "(0.65, 1.9500000000000002, 2.9000000000000004) 0\n",
      "(0.65, 1.9500000000000002, 2.9000000000000004) 1\n",
      "(0.65, 1.9500000000000002, 2.9000000000000004) 2\n",
      "started fleur calc with pk: 138282\n",
      "(0.65, 2.0, 2.85) 0\n",
      "(0.65, 2.0, 2.85) 1\n",
      "(0.65, 2.0, 2.85) 2\n",
      "started fleur calc with pk: 138286\n",
      "(0.7000000000000001, 1.8, 3.0) 0\n",
      "(0.7000000000000001, 1.8, 3.0) 1\n",
      "(0.7000000000000001, 1.8, 3.0) 2\n",
      "started fleur calc with pk: 138290\n",
      "(0.7000000000000001, 1.85, 2.95) 0\n",
      "(0.7000000000000001, 1.85, 2.95) 1\n",
      "(0.7000000000000001, 1.85, 2.95) 2\n",
      "started fleur calc with pk: 138294\n",
      "(0.7000000000000001, 1.9000000000000001, 2.9000000000000004) 0\n",
      "(0.7000000000000001, 1.9000000000000001, 2.9000000000000004) 1\n",
      "(0.7000000000000001, 1.9000000000000001, 2.9000000000000004) 2\n",
      "started fleur calc with pk: 138298\n",
      "(0.7000000000000001, 1.9500000000000002, 2.85) 0\n",
      "(0.7000000000000001, 1.9500000000000002, 2.85) 1\n",
      "(0.7000000000000001, 1.9500000000000002, 2.85) 2\n",
      "started fleur calc with pk: 138302\n",
      "(0.7000000000000001, 2.0, 2.8000000000000003) 0\n",
      "(0.7000000000000001, 2.0, 2.8000000000000003) 1\n",
      "(0.7000000000000001, 2.0, 2.8000000000000003) 2\n",
      "started fleur calc with pk: 138306\n",
      "(0.75, 1.75, 3.0) 0\n",
      "(0.75, 1.75, 3.0) 1\n",
      "(0.75, 1.75, 3.0) 2\n",
      "started fleur calc with pk: 138310\n",
      "(0.75, 1.8, 2.95) 0\n",
      "(0.75, 1.8, 2.95) 1\n",
      "(0.75, 1.8, 2.95) 2\n",
      "started fleur calc with pk: 138314\n",
      "(0.75, 1.85, 2.9000000000000004) 0\n",
      "(0.75, 1.85, 2.9000000000000004) 1\n",
      "(0.75, 1.85, 2.9000000000000004) 2\n",
      "started fleur calc with pk: 138318\n",
      "(0.75, 1.9000000000000001, 2.85) 0\n",
      "(0.75, 1.9000000000000001, 2.85) 1\n",
      "(0.75, 1.9000000000000001, 2.85) 2\n",
      "started fleur calc with pk: 138322\n",
      "(0.75, 1.9500000000000002, 2.8000000000000003) 0\n",
      "(0.75, 1.9500000000000002, 2.8000000000000003) 1\n",
      "(0.75, 1.9500000000000002, 2.8000000000000003) 2\n",
      "started fleur calc with pk: 138326\n",
      "(0.75, 2.0, 2.75) 0\n",
      "(0.75, 2.0, 2.75) 1\n",
      "(0.75, 2.0, 2.75) 2\n",
      "started fleur calc with pk: 138330\n",
      "(0.8, 1.7000000000000002, 3.0) 0\n",
      "(0.8, 1.7000000000000002, 3.0) 1\n",
      "(0.8, 1.7000000000000002, 3.0) 2\n",
      "started fleur calc with pk: 138334\n",
      "(0.8, 1.75, 2.95) 0\n",
      "(0.8, 1.75, 2.95) 1\n",
      "(0.8, 1.75, 2.95) 2\n",
      "started fleur calc with pk: 138338\n",
      "(0.8, 1.8, 2.9000000000000004) 0\n",
      "(0.8, 1.8, 2.9000000000000004) 1\n",
      "(0.8, 1.8, 2.9000000000000004) 2\n",
      "started fleur calc with pk: 138342\n",
      "(0.8, 1.85, 2.85) 0\n",
      "(0.8, 1.85, 2.85) 1\n",
      "(0.8, 1.85, 2.85) 2\n",
      "started fleur calc with pk: 138346\n",
      "(0.8, 1.9000000000000001, 2.8000000000000003) 0\n",
      "(0.8, 1.9000000000000001, 2.8000000000000003) 1\n",
      "(0.8, 1.9000000000000001, 2.8000000000000003) 2\n",
      "started fleur calc with pk: 138350\n",
      "(0.8, 1.9500000000000002, 2.75) 0\n",
      "(0.8, 1.9500000000000002, 2.75) 1\n",
      "(0.8, 1.9500000000000002, 2.75) 2\n",
      "started fleur calc with pk: 138354\n",
      "(0.8, 2.0, 2.7) 0\n",
      "(0.8, 2.0, 2.7) 1\n",
      "(0.8, 2.0, 2.7) 2\n",
      "started fleur calc with pk: 138358\n",
      "(0.8500000000000001, 1.6500000000000001, 3.0) 0\n",
      "(0.8500000000000001, 1.6500000000000001, 3.0) 1\n",
      "(0.8500000000000001, 1.6500000000000001, 3.0) 2\n",
      "started fleur calc with pk: 138362\n",
      "(0.8500000000000001, 1.7000000000000002, 2.95) 0\n",
      "(0.8500000000000001, 1.7000000000000002, 2.95) 1\n",
      "(0.8500000000000001, 1.7000000000000002, 2.95) 2\n",
      "started fleur calc with pk: 138366\n",
      "(0.8500000000000001, 1.75, 2.9000000000000004) 0\n",
      "(0.8500000000000001, 1.75, 2.9000000000000004) 1\n",
      "(0.8500000000000001, 1.75, 2.9000000000000004) 2\n",
      "started fleur calc with pk: 138370\n",
      "(0.8500000000000001, 1.8, 2.85) 0\n",
      "(0.8500000000000001, 1.8, 2.85) 1\n",
      "(0.8500000000000001, 1.8, 2.85) 2\n",
      "started fleur calc with pk: 138374\n",
      "(0.8500000000000001, 1.85, 2.8000000000000003) 0\n",
      "(0.8500000000000001, 1.85, 2.8000000000000003) 1\n",
      "(0.8500000000000001, 1.85, 2.8000000000000003) 2\n",
      "started fleur calc with pk: 138378\n",
      "(0.8500000000000001, 1.9000000000000001, 2.75) 0\n",
      "(0.8500000000000001, 1.9000000000000001, 2.75) 1\n",
      "(0.8500000000000001, 1.9000000000000001, 2.75) 2\n",
      "started fleur calc with pk: 138382\n",
      "(0.8500000000000001, 1.9500000000000002, 2.7) 0\n",
      "(0.8500000000000001, 1.9500000000000002, 2.7) 1\n",
      "(0.8500000000000001, 1.9500000000000002, 2.7) 2\n",
      "started fleur calc with pk: 138386\n",
      "(0.8500000000000001, 2.0, 2.6500000000000004) 0\n",
      "(0.8500000000000001, 2.0, 2.6500000000000004) 1\n",
      "(0.8500000000000001, 2.0, 2.6500000000000004) 2\n",
      "started fleur calc with pk: 138390\n",
      "(0.9, 1.6, 3.0) 0\n",
      "(0.9, 1.6, 3.0) 1\n",
      "(0.9, 1.6, 3.0) 2\n",
      "started fleur calc with pk: 138394\n",
      "(0.9, 1.6500000000000001, 2.95) 0\n",
      "(0.9, 1.6500000000000001, 2.95) 1\n",
      "(0.9, 1.6500000000000001, 2.95) 2\n",
      "started fleur calc with pk: 138398\n",
      "(0.9, 1.7000000000000002, 2.9000000000000004) 0\n",
      "(0.9, 1.7000000000000002, 2.9000000000000004) 1\n",
      "(0.9, 1.7000000000000002, 2.9000000000000004) 2\n",
      "started fleur calc with pk: 138402\n",
      "(0.9, 1.75, 2.85) 0\n",
      "(0.9, 1.75, 2.85) 1\n",
      "(0.9, 1.75, 2.85) 2\n",
      "started fleur calc with pk: 138407\n",
      "(0.9, 1.8, 2.8000000000000003) 0\n",
      "(0.9, 1.8, 2.8000000000000003) 1\n",
      "(0.9, 1.8, 2.8000000000000003) 2\n",
      "started fleur calc with pk: 138412\n",
      "(0.9, 1.85, 2.75) 0\n",
      "(0.9, 1.85, 2.75) 1\n",
      "(0.9, 1.85, 2.75) 2\n",
      "started fleur calc with pk: 138416\n",
      "(0.9, 1.9000000000000001, 2.7) 0\n",
      "(0.9, 1.9000000000000001, 2.7) 1\n",
      "(0.9, 1.9000000000000001, 2.7) 2\n",
      "started fleur calc with pk: 138420\n",
      "(0.9, 1.9500000000000002, 2.6500000000000004) 0\n",
      "(0.9, 1.9500000000000002, 2.6500000000000004) 1\n",
      "(0.9, 1.9500000000000002, 2.6500000000000004) 2\n",
      "started fleur calc with pk: 138424\n",
      "(0.9, 2.0, 2.6) 0\n",
      "(0.9, 2.0, 2.6) 1\n",
      "(0.9, 2.0, 2.6) 2\n",
      "started fleur calc with pk: 138428\n",
      "(0.9500000000000001, 1.55, 3.0) 0\n",
      "(0.9500000000000001, 1.55, 3.0) 1\n",
      "(0.9500000000000001, 1.55, 3.0) 2\n",
      "started fleur calc with pk: 138432\n",
      "(0.9500000000000001, 1.6, 2.95) 0\n",
      "(0.9500000000000001, 1.6, 2.95) 1\n",
      "(0.9500000000000001, 1.6, 2.95) 2\n",
      "started fleur calc with pk: 138438\n",
      "(0.9500000000000001, 1.6500000000000001, 2.9000000000000004) 0\n",
      "(0.9500000000000001, 1.6500000000000001, 2.9000000000000004) 1\n",
      "(0.9500000000000001, 1.6500000000000001, 2.9000000000000004) 2\n",
      "started fleur calc with pk: 138443\n",
      "(0.9500000000000001, 1.7000000000000002, 2.85) 0\n",
      "(0.9500000000000001, 1.7000000000000002, 2.85) 1\n",
      "(0.9500000000000001, 1.7000000000000002, 2.85) 2\n",
      "started fleur calc with pk: 138448\n",
      "(0.9500000000000001, 1.75, 2.8000000000000003) 0\n",
      "(0.9500000000000001, 1.75, 2.8000000000000003) 1\n",
      "(0.9500000000000001, 1.75, 2.8000000000000003) 2\n",
      "started fleur calc with pk: 138452\n",
      "(0.9500000000000001, 1.8, 2.75) 0\n",
      "(0.9500000000000001, 1.8, 2.75) 1\n",
      "(0.9500000000000001, 1.8, 2.75) 2\n",
      "started fleur calc with pk: 138457\n",
      "(0.9500000000000001, 1.85, 2.7) 0\n",
      "(0.9500000000000001, 1.85, 2.7) 1\n",
      "(0.9500000000000001, 1.85, 2.7) 2\n",
      "started fleur calc with pk: 138461\n",
      "(0.9500000000000001, 1.9000000000000001, 2.6500000000000004) 0\n",
      "(0.9500000000000001, 1.9000000000000001, 2.6500000000000004) 1\n",
      "(0.9500000000000001, 1.9000000000000001, 2.6500000000000004) 2\n",
      "started fleur calc with pk: 138465\n",
      "(0.9500000000000001, 1.9500000000000002, 2.6) 0\n",
      "(0.9500000000000001, 1.9500000000000002, 2.6) 1\n",
      "(0.9500000000000001, 1.9500000000000002, 2.6) 2\n",
      "started fleur calc with pk: 138469\n",
      "(0.9500000000000001, 2.0, 2.5500000000000003) 0\n",
      "(0.9500000000000001, 2.0, 2.5500000000000003) 1\n",
      "(0.9500000000000001, 2.0, 2.5500000000000003) 2\n",
      "started fleur calc with pk: 138473\n",
      "(1.0, 1.5, 3.0) 0\n",
      "(1.0, 1.5, 3.0) 1\n",
      "(1.0, 1.5, 3.0) 2\n",
      "started fleur calc with pk: 138477\n",
      "(1.0, 1.55, 2.95) 0\n",
      "(1.0, 1.55, 2.95) 1\n",
      "(1.0, 1.55, 2.95) 2\n",
      "started fleur calc with pk: 138481\n",
      "(1.0, 1.6, 2.9000000000000004) 0\n",
      "(1.0, 1.6, 2.9000000000000004) 1\n",
      "(1.0, 1.6, 2.9000000000000004) 2\n",
      "started fleur calc with pk: 138485\n",
      "(1.0, 1.6500000000000001, 2.85) 0\n",
      "(1.0, 1.6500000000000001, 2.85) 1\n",
      "(1.0, 1.6500000000000001, 2.85) 2\n",
      "started fleur calc with pk: 138489\n",
      "(1.0, 1.7000000000000002, 2.8000000000000003) 0\n",
      "(1.0, 1.7000000000000002, 2.8000000000000003) 1\n",
      "(1.0, 1.7000000000000002, 2.8000000000000003) 2\n",
      "started fleur calc with pk: 138493\n",
      "(1.0, 1.75, 2.75) 0\n",
      "(1.0, 1.75, 2.75) 1\n",
      "(1.0, 1.75, 2.75) 2\n",
      "started fleur calc with pk: 138497\n",
      "(1.0, 1.8, 2.7) 0\n",
      "(1.0, 1.8, 2.7) 1\n",
      "(1.0, 1.8, 2.7) 2\n",
      "started fleur calc with pk: 138501\n",
      "(1.0, 1.85, 2.6500000000000004) 0\n",
      "(1.0, 1.85, 2.6500000000000004) 1\n",
      "(1.0, 1.85, 2.6500000000000004) 2\n",
      "started fleur calc with pk: 138505\n",
      "(1.0, 1.9000000000000001, 2.6) 0\n",
      "(1.0, 1.9000000000000001, 2.6) 1\n",
      "(1.0, 1.9000000000000001, 2.6) 2\n",
      "started fleur calc with pk: 138509\n",
      "(1.0, 1.9500000000000002, 2.5500000000000003) 0\n",
      "(1.0, 1.9500000000000002, 2.5500000000000003) 1\n",
      "(1.0, 1.9500000000000002, 2.5500000000000003) 2\n",
      "started fleur calc with pk: 138513\n",
      "(1.0, 2.0, 2.5) 0\n",
      "(1.0, 2.0, 2.5) 1\n",
      "(1.0, 2.0, 2.5) 2\n",
      "started fleur calc with pk: 138517\n"
     ]
    }
   ],
   "source": [
    "results = starting_density_calc(copper_inp , step = 0.05)"
   ]
  },
  {
   "cell_type": "code",
   "execution_count": 101,
   "id": "c9172c24-3d91-4167-9911-7587357982a5",
   "metadata": {},
   "outputs": [],
   "source": [
    "from fleur_starting_density import get_results"
   ]
  },
  {
   "cell_type": "code",
   "execution_count": 102,
   "id": "edf4e0c1-d071-4e85-afd4-c5e39f99244f",
   "metadata": {},
   "outputs": [],
   "source": [
    "res = get_results(results[0])"
   ]
  },
  {
   "cell_type": "code",
   "execution_count": 103,
   "id": "545564b8-04b1-44ea-96f0-1cc6e1c5ae26",
   "metadata": {
    "tags": []
   },
   "outputs": [
    {
     "data": {
      "text/plain": [
       "{'(0.5, 2.0, 3.0)': 39.2053738477,\n",
       " '(0.55, 1.9500000000000002, 3.0)': 35.2504483088,\n",
       " '(0.55, 2.0, 2.95)': 35.313091088,\n",
       " '(0.6000000000000001, 1.9000000000000001, 3.0)': 31.0830475038,\n",
       " '(0.6000000000000001, 1.9500000000000002, 2.95)': 31.146486885,\n",
       " '(0.6000000000000001, 2.0, 2.9000000000000004)': 31.2099450935,\n",
       " '(0.65, 1.85, 3.0)': 26.6407617008,\n",
       " '(0.65, 1.9000000000000001, 2.95)': 26.705737643,\n",
       " '(0.65, 1.9500000000000002, 2.9000000000000004)': 26.7707545411,\n",
       " '(0.65, 2.0, 2.85)': 26.8358092231,\n",
       " '(0.7000000000000001, 1.8, 3.0)': 22.0390026834,\n",
       " '(0.7000000000000001, 1.85, 2.95)': 22.1032575426,\n",
       " '(0.7000000000000001, 1.9000000000000001, 2.9000000000000004)': 22.1675554899,\n",
       " '(0.7000000000000001, 1.9500000000000002, 2.85)': 22.2318957835,\n",
       " '(0.7000000000000001, 2.0, 2.8000000000000003)': 22.2963251643,\n",
       " '(0.75, 1.75, 3.0)': 17.3434648125,\n",
       " '(0.75, 1.8, 2.95)': 17.4076867679,\n",
       " '(0.75, 1.85, 2.9000000000000004)': 17.4723483789,\n",
       " '(0.75, 1.9000000000000001, 2.85)': 17.5366612261,\n",
       " '(0.75, 1.9500000000000002, 2.8000000000000003)': 17.601019023,\n",
       " '(0.75, 2.0, 2.75)': 17.6654225614,\n",
       " '(0.8, 1.7000000000000002, 3.0)': 12.5700321399,\n",
       " '(0.8, 1.75, 2.95)': 12.6339591573,\n",
       " '(0.8, 1.8, 2.9000000000000004)': 12.6979492443,\n",
       " '(0.8, 1.85, 2.85)': 12.7621166174,\n",
       " '(0.8, 1.9000000000000001, 2.8000000000000003)': 12.826224966,\n",
       " '(0.8, 1.9500000000000002, 2.75)': 12.8903933983,\n",
       " '(0.8, 2.0, 2.7)': 12.9546210813,\n",
       " '(0.8500000000000001, 1.6500000000000001, 3.0)': 8.0353864813,\n",
       " '(0.8500000000000001, 1.7000000000000002, 2.95)': 8.0956632233,\n",
       " '(0.8500000000000001, 1.75, 2.9000000000000004)': 8.1563068104,\n",
       " '(0.8500000000000001, 1.8, 2.85)': 8.2168998144,\n",
       " '(0.8500000000000001, 1.85, 2.8000000000000003)': 8.2774388441,\n",
       " '(0.8500000000000001, 1.9000000000000001, 2.75)': 8.3385338593,\n",
       " '(0.8500000000000001, 1.9500000000000002, 2.7)': 8.398123575,\n",
       " '(0.8500000000000001, 2.0, 2.6500000000000004)': 8.4592261856,\n",
       " '(0.9, 1.6, 3.0)': 4.8913878569,\n",
       " '(0.9, 1.6500000000000001, 2.95)': 4.9238830063,\n",
       " '(0.9, 1.7000000000000002, 2.9000000000000004)': 4.957120503,\n",
       " '(0.9, 1.75, 2.85)': 4.9910892642,\n",
       " '(0.9, 1.8, 2.8000000000000003)': 5.0257667208,\n",
       " '(0.9, 1.85, 2.75)': 5.0611510789,\n",
       " '(0.9, 1.9000000000000001, 2.7)': 5.0972203998,\n",
       " '(0.9, 1.9500000000000002, 2.6500000000000004)': 5.1341319132,\n",
       " '(0.9, 2.0, 2.6)': 5.1715308035,\n",
       " '(0.9500000000000001, 1.55, 3.0)': 6.4062364369,\n",
       " '(0.9500000000000001, 1.6, 2.95)': 6.3792128134,\n",
       " '(0.9500000000000001, 1.6500000000000001, 2.9000000000000004)': 6.3528216165,\n",
       " '(0.9500000000000001, 1.7000000000000002, 2.85)': 6.3270535625,\n",
       " '(0.9500000000000001, 1.75, 2.8000000000000003)': 6.3019307277,\n",
       " '(0.9500000000000001, 1.8, 2.75)': 6.2774630812,\n",
       " '(0.9500000000000001, 1.85, 2.7)': 6.2534560514,\n",
       " '(0.9500000000000001, 1.9000000000000001, 2.6500000000000004)': 6.2302647452,\n",
       " '(0.9500000000000001, 1.9500000000000002, 2.6)': 6.2077525336,\n",
       " '(0.9500000000000001, 2.0, 2.5500000000000003)': 6.1858763723,\n",
       " '(1.0, 1.5, 3.0)': 10.9942367769,\n",
       " '(1.0, 1.55, 2.95)': 10.9472908901,\n",
       " '(1.0, 1.6, 2.9000000000000004)': 10.9007981776,\n",
       " '(1.0, 1.6500000000000001, 2.85)': 10.8545310622,\n",
       " '(1.0, 1.7000000000000002, 2.8000000000000003)': 10.8084925492,\n",
       " '(1.0, 1.75, 2.75)': 10.762685885,\n",
       " '(1.0, 1.8, 2.7)': 10.7171138477,\n",
       " '(1.0, 1.85, 2.6500000000000004)': 10.6717828134,\n",
       " '(1.0, 1.9000000000000001, 2.6)': 10.6266897684,\n",
       " '(1.0, 1.9500000000000002, 2.5500000000000003)': 10.5818409071,\n",
       " '(1.0, 2.0, 2.5)': 10.5372394136}"
      ]
     },
     "execution_count": 103,
     "metadata": {},
     "output_type": "execute_result"
    }
   ],
   "source": [
    "res"
   ]
  },
  {
   "cell_type": "code",
   "execution_count": 116,
   "id": "f3bc3753-20ad-4412-8e3a-993d42ecd1ac",
   "metadata": {},
   "outputs": [],
   "source": [
    "distance = []\n",
    "occ = []\n",
    "\n",
    "for occ1 in res: \n",
    "    \n",
    "    occ.append(eval(occ1)[1])\n",
    "    distance.append(res[occ1])\n",
    "    \n"
   ]
  },
  {
   "cell_type": "code",
   "execution_count": 117,
   "id": "7469727e-cb30-48b1-9e55-2bcafd97fc82",
   "metadata": {},
   "outputs": [
    {
     "data": {
      "image/png": "[encoded data removed]",
      "text/plain": [
       "<Figure size 432x288 with 1 Axes>"
      ]
     },
     "metadata": {
      "needs_background": "light"
     },
     "output_type": "display_data"
    }
   ],
   "source": [
    "plt.plot(occ , distance , 'o')\n",
    "plt.xlabel('occupation spin Up and Down')\n",
    "plt.ylabel('distance after 1 iteration')\n",
    "plt.title('3d3/2 orbital of copper ')\n",
    "plt.savefig('stand_calc_d3.pdf' )\n",
    "plt.show()"
   ]
  }
 ],
 "metadata": {
  "kernelspec": {
   "display_name": "AiiDA",
   "language": "python",
   "name": "aiida"
  },
  "language_info": {
   "codemirror_mode": {
    "name": "ipython",
    "version": 3
   },
   "file_extension": ".py",
   "mimetype": "text/x-python",
   "name": "python",
   "nbconvert_exporter": "python",
   "pygments_lexer": "ipython3",
   "version": "3.8.10"
  }
 },
 "nbformat": 4,
 "nbformat_minor": 5
}
