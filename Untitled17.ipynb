{
 "cells": [
  {
   "cell_type": "code",
   "execution_count": 3,
   "id": "b5d1fc21-9630-415c-a5a1-46ea9288b8ac",
   "metadata": {},
   "outputs": [
    {
     "data": {
      "text/plain": [
       "<aiida.manage.configuration.profile.Profile at 0x7f3112a37d30>"
      ]
     },
     "execution_count": 3,
     "metadata": {},
     "output_type": "execute_result"
    }
   ],
   "source": [
    "from aiida_fleur.data.fleurinp import FleurinpData\n",
    "from aiida import load_profile\n",
    "from aiida.orm import Dict, load_node , load_code\n",
    "from aiida.engine import submit, run\n",
    "from aiida_fleur.calculation.fleurinputgen import FleurinputgenCalculation\n",
    "from aiida.plugins import DataFactory, CalculationFactory\n",
    "from aiida_fleur.calculation.fleur import FleurCalculation\n",
    "from aiida_fleur.data.fleurinpmodifier import FleurinpModifier\n",
    "from itertools import product\n",
    "import numpy as np\n",
    "import json\n",
    "import matplotlib.pyplot as plt\n",
    "import numpy as np\n",
    "import random\n",
    "from fleur_starting_density import oxides_charge1\n",
    "\n",
    "load_profile()"
   ]
  },
  {
   "cell_type": "code",
   "execution_count": null,
   "id": "860eaf10-3e07-47bb-9c8f-63fd34205de8",
   "metadata": {},
   "outputs": [],
   "source": []
  },
  {
   "cell_type": "code",
   "execution_count": null,
   "id": "4f91d59f-fef9-4048-a455-1a18ef4be93f",
   "metadata": {},
   "outputs": [],
   "source": []
  }
 ],
 "metadata": {
  "kernelspec": {
   "display_name": "AiiDA",
   "language": "python",
   "name": "aiida"
  },
  "language_info": {
   "codemirror_mode": {
    "name": "ipython",
    "version": 3
   },
   "file_extension": ".py",
   "mimetype": "text/x-python",
   "name": "python",
   "nbconvert_exporter": "python",
   "pygments_lexer": "ipython3",
   "version": "3.8.10"
  }
 },
 "nbformat": 4,
 "nbformat_minor": 5
}
