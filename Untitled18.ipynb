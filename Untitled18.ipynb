{
 "cells": [
  {
   "cell_type": "code",
   "execution_count": 1,
   "id": "b36151d1-f56f-4c6a-bd5a-cb0c954e2912",
   "metadata": {},
   "outputs": [
    {
     "data": {
      "text/plain": [
       "<aiida.manage.configuration.profile.Profile at 0x7ff67dc59ee0>"
      ]
     },
     "execution_count": 1,
     "metadata": {},
     "output_type": "execute_result"
    }
   ],
   "source": [
    "from aiida_fleur.data.fleurinp import FleurinpData\n",
    "from aiida import load_profile\n",
    "from aiida.orm import Dict, load_node , load_code\n",
    "from aiida.engine import submit, run\n",
    "from aiida_fleur.calculation.fleurinputgen import FleurinputgenCalculation\n",
    "from aiida.plugins import DataFactory, CalculationFactory\n",
    "from aiida_fleur.calculation.fleur import FleurCalculation\n",
    "from aiida_fleur.data.fleurinpmodifier import FleurinpModifier\n",
    "from itertools import product\n",
    "import numpy as np\n",
    "import json\n",
    "import matplotlib.pyplot as plt\n",
    "import numpy as np\n",
    "import random\n",
    "\n",
    "load_profile()"
   ]
  },
  {
   "cell_type": "code",
   "execution_count": 5,
   "id": "c2b17f82-f367-4227-af61-942b95aa08a0",
   "metadata": {},
   "outputs": [
    {
     "data": {
      "text/plain": [
       "['fleurinpData', 'remote_folder', 'retrieved']"
      ]
     },
     "execution_count": 5,
     "metadata": {},
     "output_type": "execute_result"
    }
   ],
   "source": [
    "list(load_node(147696).outputs)"
   ]
  },
  {
   "cell_type": "code",
   "execution_count": 7,
   "id": "fdb2f8c4-2e2a-4e0d-b0c9-1e5ae6be789d",
   "metadata": {},
   "outputs": [],
   "source": [
    "inp = load_node(147696).outputs.fleurinpData\n",
    "\n",
    "dic = inp.inp_dict\n",
    "\n",
    "node_list = []\n",
    "\n",
    "\n",
    "\n",
    "options = {'resources' : {\"num_machines\": 1, \"num_mpiprocs_per_machine\" : 2},\n",
    "           'queue_name' : 'th1-2020-32',\n",
    "           'withmpi' : True,\n",
    "           'max_wallclock_seconds' : 600}\n",
    "\n",
    "O_occ = 2\n",
    "X_occ = 1\n",
    "\n",
    "    \n",
    "    \n",
    "    \n",
    "    \n",
    "for species in dic['atomSpecies']:\n",
    "        \n",
    "    if species['name'] != 'Oxygen (O)':\n",
    "            \n",
    "        X_name = species['name']\n",
    "            \n",
    "        X_orb = species['electronConfig']['valenceConfig'][-1]"
   ]
  },
  {
   "cell_type": "code",
   "execution_count": 8,
   "id": "93371ab8-280f-4fa5-9f1a-e20ca596dd5e",
   "metadata": {},
   "outputs": [
    {
     "name": "stdout",
     "output_type": "stream",
     "text": [
      "(5s1/2) Strontium (Sr)\n"
     ]
    }
   ],
   "source": [
    "print(X_orb , X_name)"
   ]
  },
  {
   "cell_type": "code",
   "execution_count": null,
   "id": "a3c54d7f-a4e8-4ea3-a406-d74244a8177d",
   "metadata": {},
   "outputs": [],
   "source": []
  }
 ],
 "metadata": {
  "kernelspec": {
   "display_name": "AiiDA",
   "language": "python",
   "name": "aiida"
  },
  "language_info": {
   "codemirror_mode": {
    "name": "ipython",
    "version": 3
   },
   "file_extension": ".py",
   "mimetype": "text/x-python",
   "name": "python",
   "nbconvert_exporter": "python",
   "pygments_lexer": "ipython3",
   "version": "3.8.10"
  }
 },
 "nbformat": 4,
 "nbformat_minor": 5
}
