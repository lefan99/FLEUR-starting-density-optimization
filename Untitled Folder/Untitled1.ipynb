{
 "cells": [
  {
   "cell_type": "code",
   "execution_count": 1,
   "id": "0a0fab0a-2ffc-476a-a167-1b69d0d716c8",
   "metadata": {},
   "outputs": [
    {
     "data": {
      "text/plain": [
       "<aiida.manage.configuration.profile.Profile at 0x7f0834e24790>"
      ]
     },
     "execution_count": 1,
     "metadata": {},
     "output_type": "execute_result"
    }
   ],
   "source": [
    "from aiida_fleur.data.fleurinp import FleurinpData\n",
    "from aiida import load_profile\n",
    "from aiida.orm import Dict, load_node , load_code\n",
    "from aiida.engine import submit, run\n",
    "from aiida_fleur.calculation.fleurinputgen import FleurinputgenCalculation\n",
    "from aiida.plugins import DataFactory, CalculationFactory\n",
    "from aiida_fleur.calculation.fleur import FleurCalculation\n",
    "from aiida_fleur.data.fleurinpmodifier import FleurinpModifier\n",
    "from itertools import product\n",
    "import numpy as np\n",
    "import json\n",
    "import matplotlib.pyplot as plt\n",
    "import numpy as np\n",
    "import random\n",
    "\n",
    "load_profile()"
   ]
  },
  {
   "cell_type": "code",
   "execution_count": 2,
   "id": "07ae5e2c-26b0-4a6d-bcd4-00cdfa75cfda",
   "metadata": {},
   "outputs": [],
   "source": [
    "node_list = []\n",
    "\n",
    "for i in range(50):\n",
    "    \n",
    "    node_list.append( load_node(139792 + i*4))\n",
    "    "
   ]
  },
  {
   "cell_type": "code",
   "execution_count": 3,
   "id": "8cd8d133-15f4-4ba9-be7e-1863b4dbfa50",
   "metadata": {},
   "outputs": [],
   "source": [
    "#node_list.append(load_node(138915))"
   ]
  },
  {
   "cell_type": "code",
   "execution_count": 4,
   "id": "083ba79d-ee09-4e86-87f2-40c2496cd766",
   "metadata": {},
   "outputs": [],
   "source": [
    "results_list = {}\n",
    "\n",
    "for node in node_list:\n",
    "    \n",
    "    if node.is_finished_ok:\n",
    "    \n",
    "        results_list[str(node.pk)] = node.outputs.output_parameters.get_dict()['density_convergence']\n",
    "    \n",
    "\n",
    "    "
   ]
  },
  {
   "cell_type": "code",
   "execution_count": 5,
   "id": "c94bdc2e-8132-4710-8a9f-83b7bd4dbcc5",
   "metadata": {
    "tags": []
   },
   "outputs": [
    {
     "data": {
      "text/plain": [
       "{'139792': 19.5205909498,\n",
       " '139796': 36.8518388534,\n",
       " '139800': 38.7940391129,\n",
       " '139804': 41.4781537285,\n",
       " '139808': 31.2375569033,\n",
       " '139812': 34.9936656748,\n",
       " '139816': 18.7844764606,\n",
       " '139820': 17.8452933661,\n",
       " '139824': 40.7522663173,\n",
       " '139828': 20.3648227453,\n",
       " '139832': 43.5183739007,\n",
       " '139836': 17.6934976288,\n",
       " '139840': 20.7006611111,\n",
       " '139844': 41.5188287095,\n",
       " '139848': 39.6433648225,\n",
       " '139852': 28.9914581051,\n",
       " '139856': 30.7966742566,\n",
       " '139860': 17.7782862534,\n",
       " '139864': 32.0455133182,\n",
       " '139868': 28.037479276,\n",
       " '139872': 26.9138122209,\n",
       " '139876': 35.7973532731,\n",
       " '139880': 51.1503534691,\n",
       " '139884': 22.9741025775,\n",
       " '139888': 44.9029486146,\n",
       " '139892': 33.3777455021,\n",
       " '139896': 18.711879543,\n",
       " '139900': 23.744884929,\n",
       " '139904': 18.5868372121,\n",
       " '139908': 43.8073857767,\n",
       " '139912': 24.6543283187,\n",
       " '139916': 44.9307374893,\n",
       " '139920': 18.1011707459,\n",
       " '139924': 38.8326471715,\n",
       " '139928': 51.9872964276,\n",
       " '139932': 43.9217068419,\n",
       " '139936': 36.982627112,\n",
       " '139940': 19.5169012545,\n",
       " '139944': 30.0613252182,\n",
       " '139948': 17.7101466316,\n",
       " '139952': 26.0123822521,\n",
       " '139956': 48.2293659106,\n",
       " '139960': 37.3295112822,\n",
       " '139964': 21.0359572264,\n",
       " '139968': 17.5335329585,\n",
       " '139972': 34.5014027285,\n",
       " '139976': 34.5585111229,\n",
       " '139980': 31.062301761,\n",
       " '139984': 38.5608254129,\n",
       " '139988': 37.6629377359}"
      ]
     },
     "execution_count": 5,
     "metadata": {},
     "output_type": "execute_result"
    }
   ],
   "source": [
    "results_list"
   ]
  },
  {
   "cell_type": "code",
   "execution_count": 6,
   "id": "c3a6efd3-cac3-4f90-ac67-81d4f0b01c71",
   "metadata": {},
   "outputs": [
    {
     "data": {
      "text/plain": [
       "True"
      ]
     },
     "execution_count": 6,
     "metadata": {},
     "output_type": "execute_result"
    }
   ],
   "source": [
    "load_node(138915).is_finished"
   ]
  },
  {
   "cell_type": "code",
   "execution_count": 7,
   "id": "0625625d-da51-40a8-a7af-47a9ba480bd1",
   "metadata": {
    "tags": []
   },
   "outputs": [
    {
     "data": {
      "text/plain": [
       "[{'name': 'Silicon (Si)',\n",
       "  'element': 'Si',\n",
       "  'mtSphere': {'radius': 2.04, 'gridPoints': 675, 'logIncrement': 0.017},\n",
       "  'prodBasis': {'lcutm': 4, 'lcutwf': 8, 'select': '4 0 4 2'},\n",
       "  'modInitDen': {'flipSpinPhi': 0.0,\n",
       "   'flipSpinScale': False,\n",
       "   'flipSpinTheta': 0.0},\n",
       "  'atomicNumber': 14,\n",
       "  'atomicCutoffs': {'lmax': 8, 'lnonsphr': 6},\n",
       "  'electronConfig': {'coreConfig': ['(1s1/2)',\n",
       "    '(2s1/2)',\n",
       "    '(2p1/2)',\n",
       "    '(2p3/2)'],\n",
       "   'valenceConfig': ['(3s1/2)', '(3p1/2)', '(3p3/2)'],\n",
       "   'stateOccupation': [{'state': '(3p1/2)',\n",
       "     'spinUp': 0.33333333,\n",
       "     'spinDown': 0.33333333},\n",
       "    {'state': '(3p3/2)', 'spinUp': 0.66666667, 'spinDown': 0.66666667}]},\n",
       "  'energyParameters': {'d': 3, 'f': 4, 'p': 3, 's': 3}},\n",
       " {'name': 'Oxygen (O)',\n",
       "  'element': 'O',\n",
       "  'mtSphere': {'radius': 1.15, 'gridPoints': 381, 'logIncrement': 0.027},\n",
       "  'prodBasis': {'lcutm': 4, 'lcutwf': 6, 'select': '4 0 4 2'},\n",
       "  'modInitDen': {'flipSpinPhi': 0.0,\n",
       "   'flipSpinScale': False,\n",
       "   'flipSpinTheta': 0.0},\n",
       "  'atomicNumber': 8,\n",
       "  'atomicCutoffs': {'lmax': 6, 'lnonsphr': 4},\n",
       "  'electronConfig': {'coreConfig': ['(1s1/2)'],\n",
       "   'valenceConfig': ['(2s1/2)', '(2p1/2)', '(2p3/2)'],\n",
       "   'stateOccupation': [{'state': '(2s1/2)',\n",
       "     'spinUp': 0.6798878441,\n",
       "     'spinDown': 0.6798878441},\n",
       "    {'state': '(2p1/2)', 'spinUp': 0.6798878441, 'spinDown': 0.6798878441},\n",
       "    {'state': '(2p3/2)', 'spinUp': 0.6798878441, 'spinDown': 0.6798878441}]},\n",
       "  'energyParameters': {'d': 3, 'f': 4, 'p': 2, 's': 2}}]"
      ]
     },
     "execution_count": 7,
     "metadata": {},
     "output_type": "execute_result"
    }
   ],
   "source": [
    "load_node(138890).inputs.fleurinpdata.inp_dict['atomSpecies']"
   ]
  },
  {
   "cell_type": "code",
   "execution_count": 8,
   "id": "3e8073a5-51fa-417b-808c-550634573813",
   "metadata": {
    "collapsed": true,
    "jupyter": {
     "outputs_hidden": true
    },
    "tags": []
   },
   "outputs": [
    {
     "name": "stdout",
     "output_type": "stream",
     "text": [
      "9.3267451041 1.6732548958\n",
      "7.6407173001 3.3592826996999996\n",
      "8.0274765819 2.9725234181\n",
      "7.0567397757000005 3.9432602241\n",
      "8.7341130822 2.2658869179999996\n",
      "7.260350450700001 3.7396495494\n",
      "8.9263310772 2.0736689229\n",
      "9.482234469 1.5177655308\n",
      "8.246207338200001 2.7537926615\n",
      "8.5018173117 2.4981826885\n",
      "7.7986075593 3.2013924406000003\n",
      "9.4163426574 1.5836573425\n",
      "8.7760132857 2.2239867141999996\n",
      "7.8880222323 3.1119777675\n",
      "8.4115028514 2.5884971484\n",
      "7.639872882000001 3.3601271181\n",
      "9.495833643000001 1.5041663571\n",
      "9.8647754637 1.1352245362\n",
      "7.4738836005 3.5261163997000002\n",
      "8.0784963264 2.9215036734\n",
      "8.0102180142 2.9897819855\n",
      "8.636654790600002 2.3633452094\n",
      "7.185015723 3.8149842770999998\n",
      "9.7964264559 1.203573544\n",
      "9.0870946653 1.9129053347\n",
      "8.6509729257 2.3490270742\n",
      "9.748630296599998 1.2513697034\n",
      "9.032426043600001 1.9675739561999999\n",
      "8.670271741499999 2.3297282586\n",
      "7.335485841600001 3.6645141584000003\n",
      "8.8622782359 2.137721764\n",
      "7.2099983838 3.7900016164\n",
      "9.6227247198 1.3772752804\n",
      "7.0514893686 3.9485106314\n",
      "7.074311676 3.9256883240000002\n",
      "7.079504958899999 3.9204950407\n",
      "8.1628290753 2.8371709248999997\n",
      "8.607516184800001 2.3924838153\n",
      "7.6478521578 3.3521478424\n",
      "9.0541460763 1.9458539238\n",
      "9.2875476381 1.7124523618\n",
      "7.087438408500001 3.9125615915000003\n",
      "7.1102182095 3.8897817903\n",
      "9.5306591868 1.4693408134000001\n",
      "9.1606072101 1.8393927899999998\n",
      "7.282470597 3.7175294031\n",
      "7.6009936911 3.3990063091\n",
      "7.4557733832 3.5442266165999996\n",
      "7.1563787772 3.8436212228\n",
      "7.127545807799999 3.8724541923\n"
     ]
    }
   ],
   "source": [
    "x = []\n",
    "x1 = \n",
    "\n",
    "y = []\n",
    "\n",
    "\n",
    "for node in results_list:\n",
    "    \n",
    "    Si_counter = 0\n",
    "    \n",
    "    O_counter = 0\n",
    "    \n",
    "    for i in range(3):\n",
    "        \n",
    "        \n",
    "        \n",
    "        Si_counter += load_node(eval(node)).inputs.fleurinpdata.inp_dict['atomSpecies'][0]['electronConfig']['stateOccupation'][i]['spinUp'] \n",
    "        O_counter += load_node(eval(node)).inputs.fleurinpdata.inp_dict['atomSpecies'][1]['electronConfig']['stateOccupation'][i]['spinUp'] * 3\n",
    "        #print(load_node(eval(node)).inputs.fleurinpdata.inp_dict['atomSpecies'][1])\n",
    "    print( O_counter , Si_counter)\n",
    "        \n",
    "    y.append(results_list[node] - load_node(140145).outputs.output_parameters.get_dict()['density_convergence'])\n",
    "    x.append( O_counter - 9 ) \n",
    "    \n",
    "    "
   ]
  },
  {
   "cell_type": "code",
   "execution_count": 11,
   "id": "6a19a6f3-ef89-4198-bcca-b784b6c84dfa",
   "metadata": {},
   "outputs": [
    {
     "data": {
      "image/png": "[encoded data removed]",
      "text/plain": [
       "<Figure size 432x288 with 1 Axes>"
      ]
     },
     "metadata": {
      "needs_background": "light"
     },
     "output_type": "display_data"
    }
   ],
   "source": [
    "plt.plot(x,y, 'x') \n",
    "plt.axhline(0)\n",
    "plt.axvline(0)\n",
    "plt.xlabel('dif of oxygen electrons from standard calc')\n",
    "plt.ylabel('distance difference after 1 iteration compared to standard')\n",
    "plt.title(' SiO3 sc ')\n",
    "plt.savefig('Si03sc_50i.pdf')\n",
    "plt.show()"
   ]
  },
  {
   "cell_type": "code",
   "execution_count": null,
   "id": "325c949b-9369-4009-a31f-f0848d80d581",
   "metadata": {},
   "outputs": [],
   "source": [
    "plt.plot(x,"
   ]
  }
 ],
 "metadata": {
  "kernelspec": {
   "display_name": "AiiDA",
   "language": "python",
   "name": "aiida"
  },
  "language_info": {
   "codemirror_mode": {
    "name": "ipython",
    "version": 3
   },
   "file_extension": ".py",
   "mimetype": "text/x-python",
   "name": "python",
   "nbconvert_exporter": "python",
   "pygments_lexer": "ipython3",
   "version": "3.8.10"
  }
 },
 "nbformat": 4,
 "nbformat_minor": 5
}
