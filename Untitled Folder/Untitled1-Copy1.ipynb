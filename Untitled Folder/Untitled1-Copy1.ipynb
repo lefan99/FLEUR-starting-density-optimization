{
 "cells": [
  {
   "cell_type": "code",
   "execution_count": 1,
   "id": "0a0fab0a-2ffc-476a-a167-1b69d0d716c8",
   "metadata": {},
   "outputs": [
    {
     "data": {
      "text/plain": [
       "<aiida.manage.configuration.profile.Profile at 0x7f51998db190>"
      ]
     },
     "execution_count": 1,
     "metadata": {},
     "output_type": "execute_result"
    }
   ],
   "source": [
    "from aiida_fleur.data.fleurinp import FleurinpData\n",
    "from aiida import load_profile\n",
    "from aiida.orm import Dict, load_node , load_code\n",
    "from aiida.engine import submit, run\n",
    "from aiida_fleur.calculation.fleurinputgen import FleurinputgenCalculation\n",
    "from aiida.plugins import DataFactory, CalculationFactory\n",
    "from aiida_fleur.calculation.fleur import FleurCalculation\n",
    "from aiida_fleur.data.fleurinpmodifier import FleurinpModifier\n",
    "from itertools import product\n",
    "import numpy as np\n",
    "from aiida_fleur.data.fleurinp import FleurinpData\n",
    "from aiida import load_profile\n",
    "from aiida.orm import Dict, load_node , load_code\n",
    "from aiida.engine import submit, run\n",
    "from aiida_fleur.calculation.fleurinputgen import FleurinputgenCalculation\n",
    "from aiida.plugins import DataFactory, CalculationFactory\n",
    "from aiida_fleur.calculation.fleur import FleurCalculation\n",
    "from aiida_fleur.data.fleurinpmodifier import FleurinpModifier\n",
    "from itertools import product\n",
    "import numpy as np\n",
    "import json\n",
    "import matplotlib.pyplot as plt\n",
    "import numpy as np\n",
    "import random\n",
    "\n",
    "load_profile()\n",
    "import json\n",
    "import matplotlib.pyplot as plt\n",
    "import numpy as np\n",
    "import random\n",
    "\n",
    "load_profile()"
   ]
  },
  {
   "cell_type": "code",
   "execution_count": 2,
   "id": "07ae5e2c-26b0-4a6d-bcd4-00cdfa75cfda",
   "metadata": {},
   "outputs": [],
   "source": [
    "node_list = []\n",
    "\n",
    "for i in range(50):\n",
    "    \n",
    "    node_list.append( load_node(144787 + i *4))\n",
    "    "
   ]
  },
  {
   "cell_type": "code",
   "execution_count": 3,
   "id": "8cd8d133-15f4-4ba9-be7e-1863b4dbfa50",
   "metadata": {},
   "outputs": [
    {
     "data": {
      "text/plain": [
       "<FleurinpData: uuid: e5893d80-5b7e-40ba-a132-5f57df67f70f (pk: 141509)>"
      ]
     },
     "execution_count": 3,
     "metadata": {},
     "output_type": "execute_result"
    }
   ],
   "source": [
    "load_node(141508).outputs.result"
   ]
  },
  {
   "cell_type": "code",
   "execution_count": 4,
   "id": "083ba79d-ee09-4e86-87f2-40c2496cd766",
   "metadata": {},
   "outputs": [],
   "source": [
    "results_list = {}\n",
    "\n",
    "for node in node_list:\n",
    "    \n",
    "    if 'calc_iter' in node.extras:\n",
    "    \n",
    "        if node.is_finished_ok:\n",
    "    \n",
    "            results_list[str(node.pk)] = node.outputs.output_parameters.get_dict()['density_convergence']\n",
    "    \n",
    "\n",
    "    "
   ]
  },
  {
   "cell_type": "code",
   "execution_count": 5,
   "id": "5dc7f232-0f68-4c0c-adad-f59e68483eae",
   "metadata": {},
   "outputs": [],
   "source": [
    "import pickle \n",
    "\n",
    "\n",
    "file = open('CuO3.pickle' , 'wb')\n",
    "pickle.dump(results_list , file )"
   ]
  },
  {
   "cell_type": "code",
   "execution_count": null,
   "id": "4c329bdc-e4d1-42d3-9653-8cbe5c413811",
   "metadata": {},
   "outputs": [],
   "source": []
  },
  {
   "cell_type": "code",
   "execution_count": 6,
   "id": "c94bdc2e-8132-4710-8a9f-83b7bd4dbcc5",
   "metadata": {
    "collapsed": true,
    "jupyter": {
     "outputs_hidden": true
    },
    "tags": []
   },
   "outputs": [
    {
     "data": {
      "text/plain": [
       "{'144787': 141.9338058238,\n",
       " '144791': 103.9738471612,\n",
       " '144795': 89.5915607937,\n",
       " '144799': 71.421128265,\n",
       " '144803': 98.5418699141,\n",
       " '144807': 101.8818724124,\n",
       " '144811': 99.5657775788,\n",
       " '144815': 95.917631444,\n",
       " '144819': 85.5626207048,\n",
       " '144823': 46.2956001046,\n",
       " '144827': 89.4004570791,\n",
       " '144831': 92.231827037,\n",
       " '144835': 89.1475368498,\n",
       " '144839': 108.3942480329,\n",
       " '144843': 95.075277095,\n",
       " '144847': 95.4306830535,\n",
       " '144851': 55.8155901356,\n",
       " '144855': 28.154043775,\n",
       " '144859': 84.1845694719,\n",
       " '144863': 67.6801064737,\n",
       " '144867': 19.0174075368,\n",
       " '144871': 60.2958572575,\n",
       " '144875': 41.9939462323,\n",
       " '144879': 159.2454170881,\n",
       " '144883': 19.651745144,\n",
       " '144887': 93.4102375663,\n",
       " '144891': 23.0157050179,\n",
       " '144895': 19.078353294,\n",
       " '144899': 127.3163222816,\n",
       " '144903': 124.8090821386,\n",
       " '144907': 100.6693968493,\n",
       " '144911': 89.2724338968,\n",
       " '144915': 82.6681683259,\n",
       " '144919': 134.3358235618,\n",
       " '144923': 124.2689294237,\n",
       " '144927': 147.7507802649,\n",
       " '144931': 48.2815459657,\n",
       " '144935': 147.3458220804,\n",
       " '144939': 105.5421651261,\n",
       " '144943': 189.8743608405,\n",
       " '144947': 91.3962781517,\n",
       " '144951': 96.0863224278,\n",
       " '144955': 94.3790209692,\n",
       " '144959': 102.3257324894,\n",
       " '144963': 73.3529863351,\n",
       " '144967': 84.6556092542,\n",
       " '144971': 128.9806673029,\n",
       " '144975': 93.4831444171,\n",
       " '144979': 48.9742559806,\n",
       " '144983': 19.1852449322}"
      ]
     },
     "execution_count": 6,
     "metadata": {},
     "output_type": "execute_result"
    }
   ],
   "source": [
    "results_list"
   ]
  },
  {
   "cell_type": "code",
   "execution_count": 7,
   "id": "c3a6efd3-cac3-4f90-ac67-81d4f0b01c71",
   "metadata": {},
   "outputs": [
    {
     "data": {
      "text/plain": [
       "True"
      ]
     },
     "execution_count": 7,
     "metadata": {},
     "output_type": "execute_result"
    }
   ],
   "source": [
    "load_node(138915).is_finished"
   ]
  },
  {
   "cell_type": "code",
   "execution_count": 8,
   "id": "0625625d-da51-40a8-a7af-47a9ba480bd1",
   "metadata": {
    "tags": []
   },
   "outputs": [
    {
     "data": {
      "text/plain": [
       "[{'name': 'Silicon (Si)',\n",
       "  'element': 'Si',\n",
       "  'mtSphere': {'radius': 2.04, 'gridPoints': 675, 'logIncrement': 0.017},\n",
       "  'prodBasis': {'lcutm': 4, 'lcutwf': 8, 'select': '4 0 4 2'},\n",
       "  'modInitDen': {'flipSpinPhi': 0.0,\n",
       "   'flipSpinScale': False,\n",
       "   'flipSpinTheta': 0.0},\n",
       "  'atomicNumber': 14,\n",
       "  'atomicCutoffs': {'lmax': 8, 'lnonsphr': 6},\n",
       "  'electronConfig': {'coreConfig': ['(1s1/2)',\n",
       "    '(2s1/2)',\n",
       "    '(2p1/2)',\n",
       "    '(2p3/2)'],\n",
       "   'valenceConfig': ['(3s1/2)', '(3p1/2)', '(3p3/2)'],\n",
       "   'stateOccupation': [{'state': '(3p1/2)',\n",
       "     'spinUp': 0.33333333,\n",
       "     'spinDown': 0.33333333},\n",
       "    {'state': '(3p3/2)', 'spinUp': 0.66666667, 'spinDown': 0.66666667}]},\n",
       "  'energyParameters': {'d': 3, 'f': 4, 'p': 3, 's': 3}},\n",
       " {'name': 'Oxygen (O)',\n",
       "  'element': 'O',\n",
       "  'mtSphere': {'radius': 1.15, 'gridPoints': 381, 'logIncrement': 0.027},\n",
       "  'prodBasis': {'lcutm': 4, 'lcutwf': 6, 'select': '4 0 4 2'},\n",
       "  'modInitDen': {'flipSpinPhi': 0.0,\n",
       "   'flipSpinScale': False,\n",
       "   'flipSpinTheta': 0.0},\n",
       "  'atomicNumber': 8,\n",
       "  'atomicCutoffs': {'lmax': 6, 'lnonsphr': 4},\n",
       "  'electronConfig': {'coreConfig': ['(1s1/2)'],\n",
       "   'valenceConfig': ['(2s1/2)', '(2p1/2)', '(2p3/2)'],\n",
       "   'stateOccupation': [{'state': '(2s1/2)',\n",
       "     'spinUp': 0.6798878441,\n",
       "     'spinDown': 0.6798878441},\n",
       "    {'state': '(2p1/2)', 'spinUp': 0.6798878441, 'spinDown': 0.6798878441},\n",
       "    {'state': '(2p3/2)', 'spinUp': 0.6798878441, 'spinDown': 0.6798878441}]},\n",
       "  'energyParameters': {'d': 3, 'f': 4, 'p': 2, 's': 2}}]"
      ]
     },
     "execution_count": 8,
     "metadata": {},
     "output_type": "execute_result"
    }
   ],
   "source": [
    "load_node(138890).inputs.fleurinpdata.inp_dict['atomSpecies']"
   ]
  },
  {
   "cell_type": "code",
   "execution_count": 10,
   "id": "3e8073a5-51fa-417b-808c-550634573813",
   "metadata": {
    "collapsed": true,
    "jupyter": {
     "outputs_hidden": true
    },
    "tags": []
   },
   "outputs": [
    {
     "name": "stdout",
     "output_type": "stream",
     "text": [
      "11.2952378997 3.2047621001\n",
      "18.5906506163\n",
      "11.431868673299999 3.0681313267\n",
      "18.5906506163\n",
      "8.8294913394 5.6705086605999995\n",
      "18.5906506163\n",
      "8.9551136085 5.5448863915\n",
      "18.5906506163\n",
      "8.6918692221 5.808130778\n",
      "18.5906506163\n",
      "11.360332149000001 3.1396678511\n",
      "18.5906506163\n",
      "8.703424660500001 5.7965753397\n",
      "18.5906506163\n",
      "8.605708356600001 5.894291643300001\n",
      "18.5906506163\n",
      "11.1293379333 3.3706620667\n",
      "18.5906506163\n",
      "9.2141892033 5.2858107967\n",
      "18.5906506163\n",
      "8.7192636141 5.780736386\n",
      "18.5906506163\n",
      "8.5855525179 5.914447482\n",
      "18.5906506163\n",
      "8.8055366538 5.6944633462\n",
      "18.5906506163\n",
      "10.6759847031 3.8240152968\n",
      "18.5906506163\n",
      "8.5008638151 5.999136184699999\n",
      "18.5906506163\n",
      "8.8561526928 5.6438473071\n",
      "18.5906506163\n",
      "10.3893528744 4.1106471255\n",
      "18.5906506163\n",
      "10.2653263923 4.2346736077\n",
      "18.5906506163\n",
      "9.2842950174 5.2157049824\n",
      "18.5906506163\n",
      "10.0088763528 4.4911236471\n",
      "18.5906506163\n",
      "10.0883319177 4.4116680826\n",
      "18.5906506163\n",
      "9.1520535093 5.3479464907\n",
      "18.5906506163\n",
      "9.784395276 4.715604724\n",
      "18.5906506163\n",
      "11.5361269956 2.9638730045\n",
      "18.5906506163\n",
      "9.853261593300001 4.646738406600001\n",
      "18.5906506163\n",
      "10.5569070711 3.9430929288\n",
      "18.5906506163\n",
      "9.2910688056 5.2089311944\n",
      "18.5906506163\n",
      "9.7199086437 4.7800913563\n",
      "18.5906506163\n",
      "11.531801043 2.9681989572\n",
      "18.5906506163\n",
      "11.651272854 2.8487271459\n",
      "18.5906506163\n",
      "8.5646778822 5.9353221178\n",
      "18.5906506163\n",
      "10.522055871 3.9779441291\n",
      "18.5906506163\n",
      "8.8530863442 5.646913656100001\n",
      "18.5906506163\n",
      "11.6539431603 2.8460568397\n",
      "18.5906506163\n",
      "11.2753064097 3.2246935903000002\n",
      "18.5906506163\n",
      "11.3771128815 3.1228871183\n",
      "18.5906506163\n",
      "10.266444763500001 4.2335552365\n",
      "18.5906506163\n",
      "11.4092003343 3.0907996657\n",
      "18.5906506163\n",
      "11.1615659427 3.3384340572\n",
      "18.5906506163\n",
      "11.783752283999998 2.7162477163\n",
      "18.5906506163\n",
      "8.6697662538 5.830233746199999\n",
      "18.5906506163\n",
      "8.754408054899999 5.745591945199999\n",
      "18.5906506163\n",
      "8.5032549393 5.9967450608\n",
      "18.5906506163\n",
      "9.4129926576 5.0870073426\n",
      "18.5906506163\n",
      "10.6920852513 3.8079147488\n",
      "18.5906506163\n",
      "11.0574058866 3.4425941136000002\n",
      "18.5906506163\n",
      "11.700961578600001 2.7990384214\n",
      "18.5906506163\n",
      "8.6000718753 5.899928125000001\n",
      "18.5906506163\n",
      "9.8471455608 4.6528544391\n",
      "18.5906506163\n",
      "9.7236752889 4.7763247112\n",
      "18.5906506163\n"
     ]
    }
   ],
   "source": [
    "x = []\n",
    "\n",
    "y = []\n",
    "\n",
    "\n",
    "for node in results_list:\n",
    "    \n",
    "    Si_counter = 0\n",
    "    \n",
    "    O_counter = 0\n",
    "    \n",
    "    for i in range(3):\n",
    "        \n",
    "        O_counter += load_node(eval(node)).inputs.fleurinpdata.inp_dict['atomSpecies'][1]['electronConfig']['stateOccupation'][i]['spinUp'] * 3\n",
    "        #print(load_node(eval(node)).inputs.fleurinpdata.inp_dict['atomSpecies'][1])\n",
    "    \n",
    "    for i in range(3):\n",
    "        \n",
    "        Si_counter += load_node(eval(node)).inputs.fleurinpdata.inp_dict['atomSpecies'][0]['electronConfig']['stateOccupation'][i]['spinUp']\n",
    "    \n",
    "    print( O_counter , Si_counter)\n",
    "\n",
    "    print(load_node(140145).outputs.output_parameters.get_dict()['density_convergence'])\n",
    "    y.append(results_list[node] - load_node(144984).outputs.output_parameters.get_dict()['density_convergence'])\n",
    "    x.append( O_counter - 9 ) \n",
    "    \n",
    "    "
   ]
  },
  {
   "cell_type": "code",
   "execution_count": 12,
   "id": "6a19a6f3-ef89-4198-bcca-b784b6c84dfa",
   "metadata": {
    "tags": []
   },
   "outputs": [
    {
     "data": {
      "image/png": "[encoded data removed]",
      "text/plain": [
       "<Figure size 432x288 with 1 Axes>"
      ]
     },
     "metadata": {
      "needs_background": "light"
     },
     "output_type": "display_data"
    }
   ],
   "source": [
    "plt.plot(x,y, 'x') \n",
    "plt.axhline(0)\n",
    "plt.axvline(0)\n",
    "plt.xlabel('dif of oxygen electrons from standard calc')\n",
    "plt.ylabel('distance difference after 1 iteration compared to standard')\n",
    "plt.title(' CuO3 ')\n",
    "#plt.savefig('Cu03.pdf')\n",
    "plt.show()"
   ]
  },
  {
   "cell_type": "code",
   "execution_count": null,
   "id": "68c7a8ca-e0be-46dc-a9fa-551bee6351fa",
   "metadata": {},
   "outputs": [],
   "source": [
    "with open('Mg3_50_2.pickle', 'rb') as handle:\n",
    "    b = pickle.load(handle)"
   ]
  },
  {
   "cell_type": "code",
   "execution_count": null,
   "id": "1da06d84-1da8-438c-915e-07681a014bff",
   "metadata": {},
   "outputs": [],
   "source": [
    "load_node(144984).outputs.output_parameters.get_dict()"
   ]
  },
  {
   "cell_type": "code",
   "execution_count": null,
   "id": "6f2e2447-9f9b-4568-970d-562da571fc5c",
   "metadata": {},
   "outputs": [],
   "source": [
    "\n",
    "load_node(141336).outputs.output_parameters.get_dict()"
   ]
  }
 ],
 "metadata": {
  "kernelspec": {
   "display_name": "AiiDA",
   "language": "python",
   "name": "aiida"
  },
  "language_info": {
   "codemirror_mode": {
    "name": "ipython",
    "version": 3
   },
   "file_extension": ".py",
   "mimetype": "text/x-python",
   "name": "python",
   "nbconvert_exporter": "python",
   "pygments_lexer": "ipython3",
   "version": "3.8.10"
  }
 },
 "nbformat": 4,
 "nbformat_minor": 5
}
