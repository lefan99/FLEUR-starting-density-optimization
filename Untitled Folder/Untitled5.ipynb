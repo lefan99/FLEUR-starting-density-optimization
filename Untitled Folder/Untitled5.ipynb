{
 "cells": [
  {
   "cell_type": "code",
   "execution_count": 47,
   "id": "29571350-dea9-4358-8a2b-5a2d66207478",
   "metadata": {},
   "outputs": [
    {
     "data": {
      "text/plain": [
       "<aiida.manage.configuration.profile.Profile at 0x7fbcbbed9790>"
      ]
     },
     "execution_count": 47,
     "metadata": {},
     "output_type": "execute_result"
    }
   ],
   "source": [
    "from aiida_fleur.data.fleurinp import FleurinpData\n",
    "from aiida import load_profile\n",
    "from aiida.orm import Dict, load_node , load_code\n",
    "from aiida.engine import submit, run\n",
    "from aiida_fleur.calculation.fleurinputgen import FleurinputgenCalculation\n",
    "from aiida.plugins import DataFactory, CalculationFactory\n",
    "from aiida_fleur.calculation.fleur import FleurCalculation\n",
    "from aiida_fleur.data.fleurinpmodifier import FleurinpModifier\n",
    "from itertools import product\n",
    "import numpy as np\n",
    "import json\n",
    "import matplotlib.pyplot as plt\n",
    "import numpy as np\n",
    "import random\n",
    "\n",
    "load_profile()\n"
   ]
  },
  {
   "cell_type": "code",
   "execution_count": 35,
   "id": "f03a0d0f-1251-4955-abad-aeb4a27ebb40",
   "metadata": {},
   "outputs": [
    {
     "data": {
      "text/plain": [
       "[{'force': {'relaxXYZ': 'TTT', 'calculate': True},\n",
       "  'label': {'                   1': [0.0, 0.0, 0.0]},\n",
       "  'relPos': [[0.0, 0.0, 0.0]],\n",
       "  'species': 'Magnesium (Mg)',\n",
       "  'nocoParams': {'beta': 0.0, 'alpha': 0.0}},\n",
       " {'force': {'relaxXYZ': 'TTT', 'calculate': True},\n",
       "  'label': {'                   2': [0.5, 0.5, 0.5]},\n",
       "  'relPos': [[0.5, 0.5, 0.5]],\n",
       "  'species': 'Oxygen (O)',\n",
       "  'nocoParams': {'beta': 0.0, 'alpha': 0.0}}]"
      ]
     },
     "execution_count": 35,
     "metadata": {},
     "output_type": "execute_result"
    }
   ],
   "source": [
    "inp.inp_dict['atomGroups']"
   ]
  },
  {
   "cell_type": "code",
   "execution_count": 2,
   "id": "b69df24a-52ae-40bd-a837-e6346694683f",
   "metadata": {},
   "outputs": [],
   "source": [
    "inp = load_node( 140778 ) \n",
    "\n"
   ]
  },
  {
   "cell_type": "code",
   "execution_count": 3,
   "id": "f16226d3-828e-4b40-81ea-b901c5d7ef5c",
   "metadata": {},
   "outputs": [],
   "source": [
    "fleurmode = FleurinpModifier(inp)\n",
    "dict_change = { \n",
    "    'itmax' : 1 }\n",
    "\n",
    "fleurmode.set_inpchanges(dict_change)\n",
    "inp = fleurmode.freeze()\n",
    "dic = inp.inp_dict"
   ]
  },
  {
   "cell_type": "code",
   "execution_count": 41,
   "id": "5ef31756-80d0-40cd-b249-e2ea8e93609f",
   "metadata": {
    "tags": []
   },
   "outputs": [
    {
     "data": {
      "text/plain": [
       "[{'lo': [{'l': 0, 'n': 2, 'type': 'SCLO', 'eDeriv': 0},\n",
       "   {'l': 1, 'n': 2, 'type': 'SCLO', 'eDeriv': 0}],\n",
       "  'name': 'Magnesium (Mg)',\n",
       "  'element': 'Mg',\n",
       "  'mtSphere': {'radius': 2.5, 'gridPoints': 827, 'logIncrement': 0.014},\n",
       "  'prodBasis': {'lcutm': 4, 'lcutwf': 9, 'select': '4 0 4 2'},\n",
       "  'modInitDen': {'flipSpinPhi': 0.0,\n",
       "   'flipSpinScale': False,\n",
       "   'flipSpinTheta': 0.0},\n",
       "  'atomicNumber': 12,\n",
       "  'atomicCutoffs': {'lmax': 10, 'lnonsphr': 8},\n",
       "  'electronConfig': {'coreConfig': ['(1s1/2)'],\n",
       "   'valenceConfig': ['(2s1/2)', '(2p1/2)', '(2p3/2)', '(3s1/2)']},\n",
       "  'energyParameters': {'d': 3, 'f': 4, 'p': 3, 's': 3}},\n",
       " {'name': 'Oxygen (O)',\n",
       "  'element': 'O',\n",
       "  'mtSphere': {'radius': 1.42, 'gridPoints': 471, 'logIncrement': 0.022},\n",
       "  'prodBasis': {'lcutm': 4, 'lcutwf': 6, 'select': '4 0 4 2'},\n",
       "  'modInitDen': {'flipSpinPhi': 0.0,\n",
       "   'flipSpinScale': False,\n",
       "   'flipSpinTheta': 0.0},\n",
       "  'atomicNumber': 8,\n",
       "  'atomicCutoffs': {'lmax': 6, 'lnonsphr': 4},\n",
       "  'electronConfig': {'coreConfig': ['(1s1/2)'],\n",
       "   'valenceConfig': ['(2s1/2)', '(2p1/2)', '(2p3/2)'],\n",
       "   'stateOccupation': [{'state': '(2p1/2)',\n",
       "     'spinUp': 0.66666667,\n",
       "     'spinDown': 0.66666667},\n",
       "    {'state': '(2p3/2)', 'spinUp': 1.33333333, 'spinDown': 1.33333333}]},\n",
       "  'energyParameters': {'d': 3, 'f': 4, 'p': 2, 's': 2}}]"
      ]
     },
     "execution_count": 41,
     "metadata": {},
     "output_type": "execute_result"
    }
   ],
   "source": [
    "dic['atomSpecies']"
   ]
  },
  {
   "cell_type": "code",
   "execution_count": 5,
   "id": "723c0168-8128-4793-aed0-bb31820956aa",
   "metadata": {},
   "outputs": [],
   "source": [
    "node_list = []\n",
    "gridsize = 3\n",
    "O_occ = 0.66666667\n",
    "Mg_occ = 1\n",
    "options = {'resources' : {\"num_machines\": 1, \"num_mpiprocs_per_machine\" : 2},\n",
    "               'queue_name' : 'th1-2020-32',\n",
    "               'withmpi' : True,\n",
    "               'max_wallclock_seconds' : 600}\n",
    "\n",
    "fleur = load_code(150)"
   ]
  },
  {
   "cell_type": "code",
   "execution_count": 6,
   "id": "5f66ffab-88fc-4d74-a5fb-d09b99ae8478",
   "metadata": {},
   "outputs": [
    {
     "name": "stdout",
     "output_type": "stream",
     "text": [
      "0.1 0.9 0.76666667\n",
      "started fleur calc with pk: 147524\n",
      "0.1 0.8 0.86666667\n",
      "started fleur calc with pk: 147528\n",
      "0.1 0.7000000000000001 0.96666667\n",
      "started fleur calc with pk: 147532\n",
      "started fleur calc with pk: 147536\n"
     ]
    }
   ],
   "source": [
    "for i in range(gridsize):\n",
    "    \n",
    "    fm = FleurinpModifier(inp)\n",
    "\n",
    "    charge = 1/10\n",
    "    \n",
    "    changes = []\n",
    "    \n",
    "\n",
    "    \n",
    "    O_occ += charge\n",
    "    Mg_occ -= charge    \n",
    "    \n",
    "    print(charge , Mg_occ , O_occ)\n",
    "            \n",
    "    changes.append({'state': '(2p1/2)' , 'spinup': O_occ , 'spindown' : O_occ })\n",
    "    changes.append({'state': '(2p3/2)',\n",
    "     'spinUp': 1.33333333,\n",
    "     'spinDown': 1.33333333})\n",
    "     \n",
    "    fm.set_species('Oxygen (O)', { 'electronconfig': { 'stateoccupation': changes}})\n",
    "    \n",
    "    \n",
    "    changes = []\n",
    "    changes.append({'state': '(3s1/2)' , 'spinup': Mg_occ , 'spindown' : Mg_occ })\n",
    "#    changes.append({'state': '(3p1/2)', 'spinUp': 0.0, 'spinDown': 0.0})\n",
    "            \n",
    "    fm.set_species('Magnesium (Mg)', { 'electronconfig': { 'stateoccupation': changes}})\n",
    "        \n",
    "        \n",
    "                   \n",
    "    mod_inp = fm.freeze()\n",
    "    inputs = FleurCalculation.get_builder()\n",
    "    inputs.code = fleur\n",
    "    inputs.fleurinpdata = mod_inp\n",
    "    inputs.metadata.options  = options \n",
    "        \n",
    "        \n",
    "    fleur_proc_node = submit(FleurCalculation, **inputs)\n",
    "    \n",
    "    print('started fleur calc with pk:' , fleur_proc_node.pk)\n",
    "    \n",
    "    \n",
    "    node_list.append(fleur_proc_node) \n",
    "    \n",
    "fm = FleurinpModifier(inp)\n",
    "\n",
    "\n",
    "changes = []\n",
    "    \n",
    "\n",
    "   \n",
    "\n",
    "            \n",
    "changes.append({'state': '(2p1/2)' , 'spinup': 1 , 'spindown' : 1 })\n",
    "changes.append({'state': '(2p3/2)',\n",
    "     'spinUp': 1.33333333,\n",
    "     'spinDown': 1.33333333})\n",
    "     \n",
    "fm.set_species('Oxygen (O)', { 'electronconfig': { 'stateoccupation': changes}})\n",
    "    \n",
    "    \n",
    "changes = []\n",
    "changes.append({'state': '(3s1/2)' , 'spinup': 0.66666667, 'spindown' : 0.66666667})\n",
    "#    changes.append({'state': '(3p1/2)', 'spinUp': 0.0, 'spinDown': 0.0})\n",
    "            \n",
    "fm.set_species('Magnesium (Mg)', { 'electronconfig': { 'stateoccupation': changes}})\n",
    "        \n",
    "        \n",
    "                   \n",
    "mod_inp = fm.freeze()\n",
    "inputs = FleurCalculation.get_builder()\n",
    "inputs.code = fleur\n",
    "inputs.fleurinpdata = mod_inp\n",
    "inputs.metadata.options  = options \n",
    "        \n",
    "        \n",
    "fleur_proc_node = submit(FleurCalculation, **inputs)\n",
    "    \n",
    "print('started fleur calc with pk:' , fleur_proc_node.pk)\n",
    "    \n",
    "    \n",
    "node_list.append(fleur_proc_node) \n",
    "    \n"
   ]
  },
  {
   "cell_type": "code",
   "execution_count": 7,
   "id": "36a983d3-327d-4a8c-9352-cf1a13f77bfb",
   "metadata": {},
   "outputs": [
    {
     "name": "stdout",
     "output_type": "stream",
     "text": [
      "started fleur calc with pk: 147540\n"
     ]
    }
   ],
   "source": [
    "fm = FleurinpModifier(inp)\n",
    "\n",
    "\n",
    "changes = []\n",
    "    \n",
    "\n",
    "   \n",
    "\n",
    "            \n",
    "changes.append({'state': '(2p1/2)' , 'spinup': 1 , 'spindown' : 1 })\n",
    "changes.append({'state': '(2p3/2)',\n",
    "     'spinUp': 2,\n",
    "     'spinDown': 2})\n",
    "     \n",
    "fm.set_species('Oxygen (O)', { 'electronconfig': { 'stateoccupation': changes}})\n",
    "    \n",
    "    \n",
    "changes = []\n",
    "changes.append({'state': '(3s1/2)' , 'spinup': 0, 'spindown' : 0})\n",
    "#    changes.append({'state': '(3p1/2)', 'spinUp': 0.0, 'spinDown': 0.0})\n",
    "            \n",
    "fm.set_species('Magnesium (Mg)', { 'electronconfig': { 'stateoccupation': changes}})\n",
    "        \n",
    "        \n",
    "                   \n",
    "mod_inp = fm.freeze()\n",
    "inputs = FleurCalculation.get_builder()\n",
    "inputs.code = fleur\n",
    "inputs.fleurinpdata = mod_inp\n",
    "inputs.metadata.options  = options \n",
    "        \n",
    "        \n",
    "fleur_proc_node = submit(FleurCalculation, **inputs)\n",
    "    \n",
    "print('started fleur calc with pk:' , fleur_proc_node.pk)\n",
    "    \n",
    "    \n",
    "node_list.append(fleur_proc_node) "
   ]
  },
  {
   "cell_type": "code",
   "execution_count": 8,
   "id": "36850975-2a7e-4378-9385-f6e56ad865d0",
   "metadata": {
    "tags": []
   },
   "outputs": [
    {
     "name": "stdout",
     "output_type": "stream",
     "text": [
      "0.05 0.95 2.05\n",
      "started fleur calc with pk: 147544\n",
      "0.05 0.8999999999999999 2.0999999999999996\n",
      "started fleur calc with pk: 147548\n",
      "0.05 0.8499999999999999 2.1499999999999995\n",
      "started fleur calc with pk: 147552\n",
      "0.05 0.7999999999999998 2.1999999999999993\n",
      "started fleur calc with pk: 147556\n",
      "0.05 0.7499999999999998 2.249999999999999\n",
      "started fleur calc with pk: 147560\n",
      "0.05 0.6999999999999997 2.299999999999999\n",
      "started fleur calc with pk: 147564\n",
      "0.05 0.6499999999999997 2.3499999999999988\n",
      "started fleur calc with pk: 147568\n",
      "0.05 0.5999999999999996 2.3999999999999986\n",
      "started fleur calc with pk: 147572\n",
      "0.05 0.5499999999999996 2.4499999999999984\n",
      "started fleur calc with pk: 147576\n",
      "0.05 0.4999999999999996 2.4999999999999982\n",
      "started fleur calc with pk: 147580\n",
      "0.05 0.4499999999999996 2.549999999999998\n",
      "started fleur calc with pk: 147584\n",
      "0.05 0.39999999999999963 2.599999999999998\n",
      "started fleur calc with pk: 147588\n",
      "0.05 0.34999999999999964 2.6499999999999977\n",
      "started fleur calc with pk: 147592\n",
      "0.05 0.29999999999999966 2.6999999999999975\n",
      "started fleur calc with pk: 147596\n",
      "0.05 0.24999999999999967 2.7499999999999973\n",
      "started fleur calc with pk: 147600\n",
      "0.05 0.19999999999999968 2.799999999999997\n",
      "started fleur calc with pk: 147604\n",
      "0.05 0.1499999999999997 2.849999999999997\n",
      "started fleur calc with pk: 147608\n",
      "0.05 0.09999999999999969 2.899999999999997\n",
      "started fleur calc with pk: 147612\n",
      "0.05 0.049999999999999684 2.9499999999999966\n",
      "started fleur calc with pk: 147616\n",
      "0.05 -3.191891195797325e-16 2.9999999999999964\n",
      "started fleur calc with pk: 147620\n"
     ]
    }
   ],
   "source": [
    "gridsize = 20\n",
    "O_occ = 2\n",
    "Mg_occ = 1\n",
    "\n",
    "\n",
    "for i in range(gridsize):\n",
    "    \n",
    "    fm = FleurinpModifier(inp)\n",
    "\n",
    "    charge = 1/20\n",
    "    \n",
    "    changes = []\n",
    "    \n",
    "\n",
    "    \n",
    "    O_occ += charge\n",
    "    Mg_occ -= charge    \n",
    "    \n",
    "    print(charge , Mg_occ , O_occ)\n",
    "            \n",
    "    changes.append({'state': '(2p1/2)' , 'spinup': O_occ/3 , 'spindown' : O_occ/3 })\n",
    "    changes.append({'state': '(2p3/2)',\n",
    "     'spinUp': O_occ * 2 / 3 ,\n",
    "     'spinDown': O_occ * 2 / 3 })\n",
    "     \n",
    "    fm.set_species('Oxygen (O)', { 'electronconfig': { 'stateoccupation': changes}})\n",
    "    \n",
    "    \n",
    "    changes = []\n",
    "    changes.append({'state': '(3s1/2)' , 'spinup': Mg_occ , 'spindown' : Mg_occ })\n",
    "#    changes.append({'state': '(3p1/2)', 'spinUp': 0.0, 'spinDown': 0.0})\n",
    "            \n",
    "    fm.set_species('Magnesium (Mg)', { 'electronconfig': { 'stateoccupation': changes}})\n",
    "        \n",
    "        \n",
    "                   \n",
    "    mod_inp = fm.freeze()\n",
    "    inputs = FleurCalculation.get_builder()\n",
    "    inputs.code = fleur\n",
    "    inputs.fleurinpdata = mod_inp\n",
    "    inputs.metadata.options  = options \n",
    "        \n",
    "        \n",
    "    fleur_proc_node = submit(FleurCalculation, **inputs)\n",
    "    \n",
    "    print('started fleur calc with pk:' , fleur_proc_node.pk)\n",
    "    \n",
    "    \n",
    "    node_list.append(fleur_proc_node) "
   ]
  },
  {
   "cell_type": "code",
   "execution_count": 15,
   "id": "17bdd2b8-a416-486b-a43e-26a8dac53379",
   "metadata": {},
   "outputs": [
    {
     "name": "stdout",
     "output_type": "stream",
     "text": [
      "False\n",
      "False\n",
      "False\n",
      "False\n",
      "False\n",
      "False\n",
      "False\n",
      "False\n",
      "False\n",
      "False\n",
      "False\n",
      "False\n",
      "False\n",
      "False\n",
      "False\n",
      "False\n",
      "False\n",
      "False\n",
      "False\n",
      "False\n",
      "False\n",
      "False\n",
      "False\n",
      "False\n",
      "False\n"
     ]
    }
   ],
   "source": [
    "for i in node_list:\n",
    "    \n",
    "    print(i.is_finished_ok)"
   ]
  },
  {
   "cell_type": "code",
   "execution_count": 16,
   "id": "669e009b-34ee-4a78-8356-01691739088a",
   "metadata": {
    "tags": []
   },
   "outputs": [
    {
     "name": "stdout",
     "output_type": "stream",
     "text": [
      "0.76666667\n",
      "0.86666667\n",
      "0.96666667\n",
      "1.0\n",
      "1.0\n",
      "0.6833333333\n",
      "0.7\n",
      "0.7166666667\n",
      "0.7333333333\n",
      "0.75\n",
      "0.7666666667\n",
      "0.7833333333\n",
      "0.8\n",
      "0.8166666667\n",
      "0.8333333333\n",
      "0.85\n",
      "0.8666666667\n",
      "0.8833333333\n",
      "0.9\n",
      "0.9166666667\n",
      "0.9333333333\n",
      "0.95\n",
      "0.9666666667\n",
      "0.9833333333\n",
      "1.0\n"
     ]
    }
   ],
   "source": [
    "x = []\n",
    "x1 = []\n",
    "\n",
    "y = []\n",
    "results_list = {}\n",
    "\n",
    "for node in node_list:\n",
    "    \n",
    "\n",
    "    \n",
    "    if node.is_finished_ok:\n",
    "    \n",
    "        results_list[str(node.pk)] = node.outputs.output_parameters.get_dict()['density_convergence']\n",
    "    \n",
    "    #print(len(node.inputs.fleurinpdata.inp_dict['atomSpecies'][0]['electronConfig']['stateOccupation']))\n",
    "    \n",
    "\n",
    "for node in results_list:\n",
    "        \n",
    "    print( load_node(eval(node)).inputs.fleurinpdata.inp_dict['atomSpecies'][1]['electronConfig']['stateOccupation'][0]['spinUp'] )\n",
    "    O_counter = load_node(eval(node)).inputs.fleurinpdata.inp_dict['atomSpecies'][1]['electronConfig']['stateOccupation'][0]['spinUp'] \n",
    "        #print(load_node(eval(node)).inputs.fleurinpdata.inp_dict['atomSpecies'][1])\n",
    "    #print( O_counter , Si_counter)\n",
    "        \n",
    "    y.append(results_list[node] )\n",
    "    x.append( O_counter) \n",
    "    \n",
    "    "
   ]
  },
  {
   "cell_type": "code",
   "execution_count": 36,
   "id": "d91ca489-a8a4-4877-b58d-592cf23ee21f",
   "metadata": {},
   "outputs": [
    {
     "data": {
      "image/png": "[encoded data removed]",
      "text/plain": [
       "<Figure size 432x288 with 1 Axes>"
      ]
     },
     "metadata": {
      "needs_background": "light"
     },
     "output_type": "display_data"
    }
   ],
   "source": [
    "plt.plot(x,y, 'x') \n",
    "plt.xlabel('occupation 2p3/2 orb for O')\n",
    "plt.ylabel('distance after 1 iteration')\n",
    "plt.title(' MgO ')\n",
    "#plt.savefig('MgO_sc_loop.pdf')\n",
    "plt.show()"
   ]
  },
  {
   "cell_type": "code",
   "execution_count": 19,
   "id": "01d92eef-99c1-499a-9f5c-5f1c6daaa7a5",
   "metadata": {},
   "outputs": [],
   "source": [
    "x1 = []\n",
    "x2 = []\n",
    "y1 = []\n",
    "y2 = []\n",
    "\n",
    "for i in range(len(x)):\n",
    "    \n",
    "    if i < 5: \n",
    "        \n",
    "        x1.append(x[i])\n",
    "        y1.append(y[i])\n",
    "        \n",
    "    else:\n",
    "        \n",
    "        x2.append(x[i])\n",
    "        y2.append(y[i])\n",
    "    "
   ]
  },
  {
   "cell_type": "code",
   "execution_count": 44,
   "id": "4f4ea151-33db-449b-8a89-cb7414b9e696",
   "metadata": {},
   "outputs": [],
   "source": [
    "x11 = []\n",
    "y11 = []\n",
    "\n",
    "for i in x1:\n",
    "    \n",
    "    x11.append( (( i -0.666666667 )/3) + 0.666667 )"
   ]
  },
  {
   "cell_type": "code",
   "execution_count": 46,
   "id": "82ff90be-a5a0-4dc7-8066-344ea459102c",
   "metadata": {},
   "outputs": [
    {
     "data": {
      "image/png": "[encoded data removed]",
      "text/plain": [
       "<Figure size 432x288 with 1 Axes>"
      ]
     },
     "metadata": {
      "needs_background": "light"
     },
     "output_type": "display_data"
    }
   ],
   "source": [
    "plt.plot(x11,y1, 'x' , label = 'p3/2 in standard config') \n",
    "plt.plot(x2 , y2 , 'x' , label = 'p1/2 and p3/2 filled equally')\n",
    "plt.xlabel('occupation of the spinUp/spinDown for the 2p1/2  orb in O')\n",
    "plt.ylabel('distance after 1 iteration')\n",
    "plt.title(' MgO ')\n",
    "plt.legend()\n",
    "plt.savefig('MgO_2.pdf')\n",
    "plt.show()"
   ]
  },
  {
   "cell_type": "code",
   "execution_count": 24,
   "id": "a79ac7cb-dd1d-4837-95fa-f69764400551",
   "metadata": {},
   "outputs": [],
   "source": [
    "import pickle \n",
    "\n",
    "\n",
    "file = open('MgO_p1_2.pickle' , 'wb')\n",
    "pickle.dump(results_list , file )"
   ]
  }
 ],
 "metadata": {
  "kernelspec": {
   "display_name": "AiiDA",
   "language": "python",
   "name": "aiida"
  },
  "language_info": {
   "codemirror_mode": {
    "name": "ipython",
    "version": 3
   },
   "file_extension": ".py",
   "mimetype": "text/x-python",
   "name": "python",
   "nbconvert_exporter": "python",
   "pygments_lexer": "ipython3",
   "version": "3.8.10"
  }
 },
 "nbformat": 4,
 "nbformat_minor": 5
}
