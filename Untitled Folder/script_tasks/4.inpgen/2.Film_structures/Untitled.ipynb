{
 "cells": [
  {
   "cell_type": "code",
   "execution_count": 1,
   "id": "dac81f88-7d8b-4256-949e-9937a98bbf39",
   "metadata": {},
   "outputs": [
    {
     "data": {
      "text/plain": [
       "<aiida.manage.configuration.profile.Profile at 0x7f42f03be550>"
      ]
     },
     "execution_count": 1,
     "metadata": {},
     "output_type": "execute_result"
    }
   ],
   "source": [
    "from aiida import load_profile\n",
    "load_profile()"
   ]
  },
  {
   "cell_type": "code",
   "execution_count": 2,
   "id": "bb9aef24-0385-4547-b2f6-d0a5d15b9541",
   "metadata": {},
   "outputs": [
    {
     "data": {
      "text/plain": [
       "\u001b[0;31mSignature:\u001b[0m \u001b[0mload_profile\u001b[0m\u001b[0;34m(\u001b[0m\u001b[0mprofile\u001b[0m\u001b[0;34m=\u001b[0m\u001b[0;32mNone\u001b[0m\u001b[0;34m)\u001b[0m\u001b[0;34m\u001b[0m\u001b[0;34m\u001b[0m\u001b[0m\n",
       "\u001b[0;31mDocstring:\u001b[0m\n",
       "Load a profile.\n",
       "\n",
       ".. note:: if a profile is already loaded and no explicit profile is specified, nothing will be done\n",
       "\n",
       ":param profile: the name of the profile to load, by default will use the one marked as default in the config\n",
       ":type profile: str\n",
       "\n",
       ":return: the loaded `Profile` instance\n",
       ":rtype: :class:`~aiida.manage.configuration.Profile`\n",
       ":raises `aiida.common.exceptions.InvalidOperation`: if the backend of another profile has already been loaded\n",
       "\u001b[0;31mFile:\u001b[0m      /usr/local/lib/python3.8/dist-packages/aiida/manage/configuration/__init__.py\n",
       "\u001b[0;31mType:\u001b[0m      function\n"
      ]
     },
     "metadata": {},
     "output_type": "display_data"
    }
   ],
   "source": [
    "load_profile?"
   ]
  },
  {
   "cell_type": "code",
   "execution_count": 9,
   "id": "927565f8-c8c4-4b54-b363-2ef9bc5811f6",
   "metadata": {},
   "outputs": [],
   "source": [
    "from aiida.orm import Node, Data, StructureData, Code, Computer, CalcJobNode"
   ]
  },
  {
   "cell_type": "code",
   "execution_count": 12,
   "id": "50431ce9-328f-4796-bb9a-4498e545f171",
   "metadata": {},
   "outputs": [],
   "source": [
    "from aiida.orm import QueryBuilder"
   ]
  },
  {
   "cell_type": "code",
   "execution_count": 18,
   "id": "23708d08-c8ec-4f10-a90e-753ba87b1bdb",
   "metadata": {},
   "outputs": [],
   "source": [
    "qb = QueryBuilder()"
   ]
  },
  {
   "cell_type": "code",
   "execution_count": 16,
   "id": "e273bb69-f26c-4757-85e9-c10d9acfc0e1",
   "metadata": {},
   "outputs": [
    {
     "ename": "InputValidationError",
     "evalue": "pk is not a column of aliased(DbNode)\nValid columns are:\nid\nuuid\nnode_type\nprocess_type\nlabel\ndescription\nctime\nmtime\nattributes\nextras\nuser_id\ndbcomputer_id",
     "output_type": "error",
     "traceback": [
      "\u001b[0;31m---------------------------------------------------------------------------\u001b[0m",
      "\u001b[0;31mAttributeError\u001b[0m                            Traceback (most recent call last)",
      "\u001b[0;32m/usr/local/lib/python3.8/dist-packages/aiida/orm/implementation/querybuilder.py\u001b[0m in \u001b[0;36mget_column\u001b[0;34m(self, colname, alias)\u001b[0m\n\u001b[1;32m    400\u001b[0m         \u001b[0;32mtry\u001b[0m\u001b[0;34m:\u001b[0m\u001b[0;34m\u001b[0m\u001b[0;34m\u001b[0m\u001b[0m\n\u001b[0;32m--> 401\u001b[0;31m             \u001b[0;32mreturn\u001b[0m \u001b[0mgetattr\u001b[0m\u001b[0;34m(\u001b[0m\u001b[0malias\u001b[0m\u001b[0;34m,\u001b[0m \u001b[0mcolname\u001b[0m\u001b[0;34m)\u001b[0m\u001b[0;34m\u001b[0m\u001b[0;34m\u001b[0m\u001b[0m\n\u001b[0m\u001b[1;32m    402\u001b[0m         \u001b[0;32mexcept\u001b[0m \u001b[0mAttributeError\u001b[0m\u001b[0;34m:\u001b[0m\u001b[0;34m\u001b[0m\u001b[0;34m\u001b[0m\u001b[0m\n",
      "\u001b[0;32m/usr/local/lib/python3.8/dist-packages/sqlalchemy/orm/util.py\u001b[0m in \u001b[0;36m__getattr__\u001b[0;34m(self, key)\u001b[0m\n\u001b[1;32m    505\u001b[0m             \u001b[0;31m# maintain all getattr mechanics\u001b[0m\u001b[0;34m\u001b[0m\u001b[0;34m\u001b[0m\u001b[0;34m\u001b[0m\u001b[0m\n\u001b[0;32m--> 506\u001b[0;31m             \u001b[0mattr\u001b[0m \u001b[0;34m=\u001b[0m \u001b[0mgetattr\u001b[0m\u001b[0;34m(\u001b[0m\u001b[0mtarget\u001b[0m\u001b[0;34m,\u001b[0m \u001b[0mkey\u001b[0m\u001b[0;34m)\u001b[0m\u001b[0;34m\u001b[0m\u001b[0;34m\u001b[0m\u001b[0m\n\u001b[0m\u001b[1;32m    507\u001b[0m \u001b[0;34m\u001b[0m\u001b[0m\n",
      "\u001b[0;31mAttributeError\u001b[0m: type object 'DbNode' has no attribute 'pk'",
      "\nDuring handling of the above exception, another exception occurred:\n",
      "\u001b[0;31mInputValidationError\u001b[0m                      Traceback (most recent call last)",
      "\u001b[0;32m/tmp/ipykernel_756724/154857641.py\u001b[0m in \u001b[0;36m<module>\u001b[0;34m\u001b[0m\n\u001b[0;32m----> 1\u001b[0;31m \u001b[0mqb\u001b[0m\u001b[0;34m.\u001b[0m\u001b[0mappend\u001b[0m\u001b[0;34m(\u001b[0m\u001b[0mCalcJobNode\u001b[0m\u001b[0;34m,\u001b[0m \u001b[0mfilters\u001b[0m\u001b[0;34m=\u001b[0m\u001b[0;34m{\u001b[0m\u001b[0;34m\"attributes.pk\"\u001b[0m\u001b[0;34m:\u001b[0m\u001b[0;36m577\u001b[0m\u001b[0;34m}\u001b[0m\u001b[0;34m)\u001b[0m\u001b[0;34m.\u001b[0m\u001b[0mall\u001b[0m\u001b[0;34m(\u001b[0m\u001b[0;34m)\u001b[0m\u001b[0;34m\u001b[0m\u001b[0;34m\u001b[0m\u001b[0m\n\u001b[0m",
      "\u001b[0;32m/usr/local/lib/python3.8/dist-packages/aiida/orm/querybuilder.py\u001b[0m in \u001b[0;36mall\u001b[0;34m(self, batch_size, flat)\u001b[0m\n\u001b[1;32m   2250\u001b[0m         \u001b[0;34m:\u001b[0m\u001b[0mreturns\u001b[0m\u001b[0;34m:\u001b[0m \u001b[0ma\u001b[0m \u001b[0mlist\u001b[0m \u001b[0mof\u001b[0m \u001b[0mlists\u001b[0m \u001b[0mof\u001b[0m \u001b[0mall\u001b[0m \u001b[0mprojected\u001b[0m \u001b[0mentities\u001b[0m\u001b[0;34m.\u001b[0m\u001b[0;34m\u001b[0m\u001b[0;34m\u001b[0m\u001b[0m\n\u001b[1;32m   2251\u001b[0m         \"\"\"\n\u001b[0;32m-> 2252\u001b[0;31m         \u001b[0mmatches\u001b[0m \u001b[0;34m=\u001b[0m \u001b[0mlist\u001b[0m\u001b[0;34m(\u001b[0m\u001b[0mself\u001b[0m\u001b[0;34m.\u001b[0m\u001b[0miterall\u001b[0m\u001b[0;34m(\u001b[0m\u001b[0mbatch_size\u001b[0m\u001b[0;34m=\u001b[0m\u001b[0mbatch_size\u001b[0m\u001b[0;34m)\u001b[0m\u001b[0;34m)\u001b[0m\u001b[0;34m\u001b[0m\u001b[0;34m\u001b[0m\u001b[0m\n\u001b[0m\u001b[1;32m   2253\u001b[0m \u001b[0;34m\u001b[0m\u001b[0m\n\u001b[1;32m   2254\u001b[0m         \u001b[0;32mif\u001b[0m \u001b[0;32mnot\u001b[0m \u001b[0mflat\u001b[0m\u001b[0;34m:\u001b[0m\u001b[0;34m\u001b[0m\u001b[0;34m\u001b[0m\u001b[0m\n",
      "\u001b[0;32m/usr/local/lib/python3.8/dist-packages/aiida/orm/querybuilder.py\u001b[0m in \u001b[0;36miterall\u001b[0;34m(self, batch_size)\u001b[0m\n\u001b[1;32m   2207\u001b[0m         \u001b[0;34m:\u001b[0m\u001b[0mreturns\u001b[0m\u001b[0;34m:\u001b[0m \u001b[0ma\u001b[0m \u001b[0mgenerator\u001b[0m \u001b[0mof\u001b[0m \u001b[0mlists\u001b[0m\u001b[0;34m\u001b[0m\u001b[0;34m\u001b[0m\u001b[0m\n\u001b[1;32m   2208\u001b[0m         \"\"\"\n\u001b[0;32m-> 2209\u001b[0;31m         \u001b[0mquery\u001b[0m \u001b[0;34m=\u001b[0m \u001b[0mself\u001b[0m\u001b[0;34m.\u001b[0m\u001b[0mget_query\u001b[0m\u001b[0;34m(\u001b[0m\u001b[0;34m)\u001b[0m\u001b[0;34m\u001b[0m\u001b[0;34m\u001b[0m\u001b[0m\n\u001b[0m\u001b[1;32m   2210\u001b[0m \u001b[0;34m\u001b[0m\u001b[0m\n\u001b[1;32m   2211\u001b[0m         \u001b[0;32mfor\u001b[0m \u001b[0mitem\u001b[0m \u001b[0;32min\u001b[0m \u001b[0mself\u001b[0m\u001b[0;34m.\u001b[0m\u001b[0m_impl\u001b[0m\u001b[0;34m.\u001b[0m\u001b[0miterall\u001b[0m\u001b[0;34m(\u001b[0m\u001b[0mquery\u001b[0m\u001b[0;34m,\u001b[0m \u001b[0mbatch_size\u001b[0m\u001b[0;34m,\u001b[0m \u001b[0mself\u001b[0m\u001b[0;34m.\u001b[0m\u001b[0m_attrkeys_as_in_sql_result\u001b[0m\u001b[0;34m)\u001b[0m\u001b[0;34m:\u001b[0m\u001b[0;34m\u001b[0m\u001b[0;34m\u001b[0m\u001b[0m\n",
      "\u001b[0;32m/usr/local/lib/python3.8/dist-packages/aiida/orm/querybuilder.py\u001b[0m in \u001b[0;36mget_query\u001b[0;34m(self)\u001b[0m\n\u001b[1;32m   2086\u001b[0m \u001b[0;34m\u001b[0m\u001b[0m\n\u001b[1;32m   2087\u001b[0m         \u001b[0;32mif\u001b[0m \u001b[0mneed_to_build\u001b[0m\u001b[0;34m:\u001b[0m\u001b[0;34m\u001b[0m\u001b[0;34m\u001b[0m\u001b[0m\n\u001b[0;32m-> 2088\u001b[0;31m             \u001b[0mquery\u001b[0m \u001b[0;34m=\u001b[0m \u001b[0mself\u001b[0m\u001b[0;34m.\u001b[0m\u001b[0m_build\u001b[0m\u001b[0;34m(\u001b[0m\u001b[0;34m)\u001b[0m\u001b[0;34m\u001b[0m\u001b[0;34m\u001b[0m\u001b[0m\n\u001b[0m\u001b[1;32m   2089\u001b[0m             \u001b[0mself\u001b[0m\u001b[0;34m.\u001b[0m\u001b[0m_hash\u001b[0m \u001b[0;34m=\u001b[0m \u001b[0mqueryhelp_hash\u001b[0m\u001b[0;34m\u001b[0m\u001b[0;34m\u001b[0m\u001b[0m\n\u001b[1;32m   2090\u001b[0m         \u001b[0;32melse\u001b[0m\u001b[0;34m:\u001b[0m\u001b[0;34m\u001b[0m\u001b[0;34m\u001b[0m\u001b[0m\n",
      "\u001b[0;32m/usr/local/lib/python3.8/dist-packages/aiida/orm/querybuilder.py\u001b[0m in \u001b[0;36m_build\u001b[0;34m(self)\u001b[0m\n\u001b[1;32m   1936\u001b[0m                     \u001b[0;34m'The tags I know are:\\n{}'\u001b[0m\u001b[0;34m.\u001b[0m\u001b[0mformat\u001b[0m\u001b[0;34m(\u001b[0m\u001b[0mtag\u001b[0m\u001b[0;34m,\u001b[0m \u001b[0mself\u001b[0m\u001b[0;34m.\u001b[0m\u001b[0mtag_to_alias_map\u001b[0m\u001b[0;34m.\u001b[0m\u001b[0mkeys\u001b[0m\u001b[0;34m(\u001b[0m\u001b[0;34m)\u001b[0m\u001b[0;34m)\u001b[0m\u001b[0;34m\u001b[0m\u001b[0;34m\u001b[0m\u001b[0m\n\u001b[1;32m   1937\u001b[0m                 )\n\u001b[0;32m-> 1938\u001b[0;31m             \u001b[0mself\u001b[0m\u001b[0;34m.\u001b[0m\u001b[0m_query\u001b[0m \u001b[0;34m=\u001b[0m \u001b[0mself\u001b[0m\u001b[0;34m.\u001b[0m\u001b[0m_query\u001b[0m\u001b[0;34m.\u001b[0m\u001b[0mfilter\u001b[0m\u001b[0;34m(\u001b[0m\u001b[0mself\u001b[0m\u001b[0;34m.\u001b[0m\u001b[0m_build_filters\u001b[0m\u001b[0;34m(\u001b[0m\u001b[0malias\u001b[0m\u001b[0;34m,\u001b[0m \u001b[0mfilter_specs\u001b[0m\u001b[0;34m)\u001b[0m\u001b[0;34m)\u001b[0m\u001b[0;34m\u001b[0m\u001b[0;34m\u001b[0m\u001b[0m\n\u001b[0m\u001b[1;32m   1939\u001b[0m \u001b[0;34m\u001b[0m\u001b[0m\n\u001b[1;32m   1940\u001b[0m         \u001b[0;31m######################### PROJECTIONS ##########################\u001b[0m\u001b[0;34m\u001b[0m\u001b[0;34m\u001b[0m\u001b[0;34m\u001b[0m\u001b[0m\n",
      "\u001b[0;32m/usr/local/lib/python3.8/dist-packages/aiida/orm/querybuilder.py\u001b[0m in \u001b[0;36m_build_filters\u001b[0;34m(self, alias, filter_spec)\u001b[0m\n\u001b[1;32m   1361\u001b[0m                 \u001b[0mis_attribute\u001b[0m \u001b[0;34m=\u001b[0m \u001b[0;34m(\u001b[0m\u001b[0mattr_key\u001b[0m \u001b[0;32mor\u001b[0m \u001b[0mcolumn_name\u001b[0m \u001b[0;32min\u001b[0m \u001b[0;34m(\u001b[0m\u001b[0;34m'attributes'\u001b[0m\u001b[0;34m,\u001b[0m \u001b[0;34m'extras'\u001b[0m\u001b[0;34m)\u001b[0m\u001b[0;34m)\u001b[0m\u001b[0;34m\u001b[0m\u001b[0;34m\u001b[0m\u001b[0m\n\u001b[1;32m   1362\u001b[0m                 \u001b[0;32mtry\u001b[0m\u001b[0;34m:\u001b[0m\u001b[0;34m\u001b[0m\u001b[0;34m\u001b[0m\u001b[0m\n\u001b[0;32m-> 1363\u001b[0;31m                     \u001b[0mcolumn\u001b[0m \u001b[0;34m=\u001b[0m \u001b[0mself\u001b[0m\u001b[0;34m.\u001b[0m\u001b[0m_impl\u001b[0m\u001b[0;34m.\u001b[0m\u001b[0mget_column\u001b[0m\u001b[0;34m(\u001b[0m\u001b[0mcolumn_name\u001b[0m\u001b[0;34m,\u001b[0m \u001b[0malias\u001b[0m\u001b[0;34m)\u001b[0m\u001b[0;34m\u001b[0m\u001b[0;34m\u001b[0m\u001b[0m\n\u001b[0m\u001b[1;32m   1364\u001b[0m                 \u001b[0;32mexcept\u001b[0m \u001b[0mInputValidationError\u001b[0m\u001b[0;34m:\u001b[0m\u001b[0;34m\u001b[0m\u001b[0;34m\u001b[0m\u001b[0m\n\u001b[1;32m   1365\u001b[0m                     \u001b[0;32mif\u001b[0m \u001b[0mis_attribute\u001b[0m\u001b[0;34m:\u001b[0m\u001b[0;34m\u001b[0m\u001b[0;34m\u001b[0m\u001b[0m\n",
      "\u001b[0;32m/usr/local/lib/python3.8/dist-packages/aiida/orm/implementation/querybuilder.py\u001b[0m in \u001b[0;36mget_column\u001b[0;34m(self, colname, alias)\u001b[0m\n\u001b[1;32m    401\u001b[0m             \u001b[0;32mreturn\u001b[0m \u001b[0mgetattr\u001b[0m\u001b[0;34m(\u001b[0m\u001b[0malias\u001b[0m\u001b[0;34m,\u001b[0m \u001b[0mcolname\u001b[0m\u001b[0;34m)\u001b[0m\u001b[0;34m\u001b[0m\u001b[0;34m\u001b[0m\u001b[0m\n\u001b[1;32m    402\u001b[0m         \u001b[0;32mexcept\u001b[0m \u001b[0mAttributeError\u001b[0m\u001b[0;34m:\u001b[0m\u001b[0;34m\u001b[0m\u001b[0;34m\u001b[0m\u001b[0m\n\u001b[0;32m--> 403\u001b[0;31m             raise exceptions.InputValidationError(\n\u001b[0m\u001b[1;32m    404\u001b[0m                 \u001b[0;34m'{} is not a column of {}\\n'\u001b[0m\u001b[0;34m\u001b[0m\u001b[0;34m\u001b[0m\u001b[0m\n\u001b[1;32m    405\u001b[0m                 \u001b[0;34m'Valid columns are:\\n'\u001b[0m\u001b[0;34m\u001b[0m\u001b[0;34m\u001b[0m\u001b[0m\n",
      "\u001b[0;31mInputValidationError\u001b[0m: pk is not a column of aliased(DbNode)\nValid columns are:\nid\nuuid\nnode_type\nprocess_type\nlabel\ndescription\nctime\nmtime\nattributes\nextras\nuser_id\ndbcomputer_id"
     ]
    }
   ],
   "source": [
    "qb.append(CalcJobNode, filters={\"attributes.pk\":577}).all()"
   ]
  },
  {
   "cell_type": "code",
   "execution_count": 26,
   "id": "abb8ee2b-93e5-4ad6-8ece-abfabd55e0b0",
   "metadata": {},
   "outputs": [],
   "source": [
    "qb = QueryBuilder()\n",
    "all_calcs = qb.append(CalcJobNode).all(flat=True)"
   ]
  },
  {
   "cell_type": "code",
   "execution_count": 27,
   "id": "b2bae4d1-fa08-452b-bc7d-14714576a9ca",
   "metadata": {},
   "outputs": [
    {
     "data": {
      "text/plain": [
       "[<CalcJobNode: uuid: 48a39598-31c9-47a3-bbcb-160f013a7cd0 (pk: 545) (aiida.calculations:fleur.inpgen)>,\n",
       " <CalcJobNode: uuid: 27e28513-1c71-431e-b919-4a8a16aceb14 (pk: 567) (aiida.calculations:fleur.inpgen)>,\n",
       " <CalcJobNode: uuid: 2af3f093-1a82-4723-9a96-87ac30cfecb2 (pk: 528) (aiida.calculations:fleur.inpgen)>,\n",
       " <CalcJobNode: uuid: 31c5f0e0-c882-4f92-9110-340b5283fc4c (pk: 553) (aiida.calculations:fleur.inpgen)>,\n",
       " <CalcJobNode: uuid: 7f7a5e6c-63a1-4aa4-b234-b189f7ecacc4 (pk: 569) (aiida.calculations:fleur.inpgen)>,\n",
       " <CalcJobNode: uuid: d7217d20-0ad8-47f7-a068-1001623fa4e7 (pk: 529) (aiida.calculations:fleur.inpgen)>,\n",
       " <CalcJobNode: uuid: 466fe828-7d15-4c48-8e55-28b409d7213c (pk: 577) (aiida.calculations:fleur.inpgen)>,\n",
       " <CalcJobNode: uuid: 281124bc-51cc-4c0d-b821-87d95e41cf9a (pk: 578) (aiida.calculations:fleur.inpgen)>,\n",
       " <CalcJobNode: uuid: a88ff16f-0d4b-4028-9b46-e3fefe0aa400 (pk: 531) (aiida.calculations:fleur.inpgen)>,\n",
       " <CalcJobNode: uuid: 7c28be9c-3558-4626-92d4-318391d8808a (pk: 579) (aiida.calculations:fleur.inpgen)>,\n",
       " <CalcJobNode: uuid: 1bbeab29-7c18-43ab-b635-436850e28e25 (pk: 532) (aiida.calculations:fleur.inpgen)>,\n",
       " <CalcJobNode: uuid: 554ca488-0b13-431f-8d5e-17be228c8963 (pk: 558) (aiida.calculations:fleur.inpgen)>,\n",
       " <CalcJobNode: uuid: a15040c1-0091-4f30-8ed3-5c1ada3a9151 (pk: 563) (aiida.calculations:fleur.inpgen)>,\n",
       " <CalcJobNode: uuid: 408fe920-e190-40d4-94f3-845413d50ed4 (pk: 564) (aiida.calculations:fleur.inpgen)>,\n",
       " <CalcJobNode: uuid: eb228a8f-53ff-488e-8b06-631e5b8ea3d6 (pk: 565) (aiida.calculations:fleur.inpgen)>,\n",
       " <CalcJobNode: uuid: cbd1ad09-055c-464f-beef-2a07347ed20d (pk: 583) (aiida.calculations:fleur.fleur)>,\n",
       " <CalcJobNode: uuid: fd934d98-a25b-4336-909d-00412b27389d (pk: 542) (aiida.calculations:fleur.inpgen)>,\n",
       " <CalcJobNode: uuid: 0a3c9e87-482f-4d97-94fc-44978f8fa0c7 (pk: 220) (aiida.calculations:fleur.fleur)>,\n",
       " <CalcJobNode: uuid: 391cf883-d712-4ab0-9bc1-1f9ec7fac759 (pk: 268) (aiida.calculations:fleur.fleur)>,\n",
       " <CalcJobNode: uuid: 3ef4a788-583d-4aef-9467-8ce267194fa3 (pk: 277) (aiida.calculations:fleur.inpgen)>,\n",
       " <CalcJobNode: uuid: 422b8378-75af-4ddb-893a-7d9820a6910d (pk: 281) (aiida.calculations:fleur.inpgen)>,\n",
       " <CalcJobNode: uuid: 459de3fd-6d4c-40c7-9669-598e7d355b7f (pk: 286) (aiida.calculations:fleur.inpgen)>,\n",
       " <CalcJobNode: uuid: 58fae604-7770-4405-b711-0becc752b36a (pk: 311) (aiida.calculations:fleur.inpgen)>,\n",
       " <CalcJobNode: uuid: 695915c1-0553-4876-8cde-30b69164c4e6 (pk: 336) (aiida.calculations:fleur.inpgen)>,\n",
       " <CalcJobNode: uuid: 723e3597-23e5-4cf4-b61a-af309d04a898 (pk: 347) (aiida.calculations:fleur.fleur)>,\n",
       " <CalcJobNode: uuid: 795a4b03-7e05-42b9-9c30-75548d08c680 (pk: 171) (aiida.calculations:fleur.fleur)>,\n",
       " <CalcJobNode: uuid: 79ec37ac-5f27-4daf-a1d7-580c7b501e04 (pk: 180) (aiida.calculations:fleur.fleur)>,\n",
       " <CalcJobNode: uuid: 7dc0b522-e15a-4411-9bfc-2e24cd156ffc (pk: 359) (aiida.calculations:fleur.inpgen)>,\n",
       " <CalcJobNode: uuid: 7f12f811-ae9b-4dcf-83a3-c5fb590e384b (pk: 360) (aiida.calculations:fleur.fleur)>,\n",
       " <CalcJobNode: uuid: 9db6fd7c-8d4b-49ac-8a64-137468f2acce (pk: 404) (aiida.calculations:fleur.fleur)>,\n",
       " <CalcJobNode: uuid: a4595d07-7c23-4ff0-8691-1ae28063bd29 (pk: 410) (aiida.calculations:fleur.fleur)>,\n",
       " <CalcJobNode: uuid: f139caf7-14d9-4c46-8885-d792169e5d65 (pk: 489) (aiida.calculations:fleur.fleur)>,\n",
       " <CalcJobNode: uuid: a5e66c1b-fac8-468a-89ae-a7f6f1523b1a (pk: 173) (aiida.calculations:fleur.fleur)>,\n",
       " <CalcJobNode: uuid: aaf2e4fe-3fe9-47e6-a8cd-c09dfc974cc0 (pk: 419) (aiida.calculations:fleur.inpgen)>,\n",
       " <CalcJobNode: uuid: ad18bb81-0f77-4748-bc3d-763d33396598 (pk: 422) (aiida.calculations:fleur.inpgen)>,\n",
       " <CalcJobNode: uuid: b0328369-c92f-4322-9291-714b21b6a4fa (pk: 429) (aiida.calculations:fleur.fleur)>,\n",
       " <CalcJobNode: uuid: b7160daa-479f-4b81-877b-2ad350aa0dc9 (pk: 439) (aiida.calculations:fleur.inpgen)>,\n",
       " <CalcJobNode: uuid: b7dd83ee-53fc-4acf-b89b-53bdb3ac1e15 (pk: 440) (aiida.calculations:fleur.inpgen)>,\n",
       " <CalcJobNode: uuid: bce44d1d-0600-4cdd-ab81-c5a3d6d0f8ee (pk: 181) (aiida.calculations:fleur.fleur)>,\n",
       " <CalcJobNode: uuid: ca3470f5-71dc-458b-9f8e-09402a264d51 (pk: 454) (aiida.calculations:fleur.fleur)>,\n",
       " <CalcJobNode: uuid: e39ce49c-8cd6-42b7-b230-18ee1ab5dd75 (pk: 480) (aiida.calculations:fleur.fleur)>,\n",
       " <CalcJobNode: uuid: f57c67c5-ed7f-4b83-a203-0b0c2260e101 (pk: 496) (aiida.calculations:fleur.inpgen)>,\n",
       " <CalcJobNode: uuid: f6d6818c-b964-46d2-aca9-9f5e4f49ab40 (pk: 500) (aiida.calculations:fleur.fleur)>,\n",
       " <CalcJobNode: uuid: f74581b0-42c0-490d-898a-29a1e54f8637 (pk: 502) (aiida.calculations:fleur.inpgen)>,\n",
       " <CalcJobNode: uuid: f8ea2ad7-ddc8-49ec-8f2b-808fba01d70e (pk: 506) (aiida.calculations:fleur.inpgen)>]"
      ]
     },
     "execution_count": 27,
     "metadata": {},
     "output_type": "execute_result"
    }
   ],
   "source": [
    "all_calcs"
   ]
  },
  {
   "cell_type": "code",
   "execution_count": 31,
   "id": "94f4b802-9c17-4dab-9f31-06caf6a10e60",
   "metadata": {},
   "outputs": [],
   "source": [
    "calc = [calc for calc in all_calcs if calc.pk == 577][0]"
   ]
  },
  {
   "cell_type": "code",
   "execution_count": 38,
   "id": "8f07f524-9dd1-4b19-beb0-181c595df03c",
   "metadata": {},
   "outputs": [
    {
     "data": {
      "text/plain": [
       "[LinkTriple(node=<Dict: uuid: 59b178ea-b5c5-4130-89aa-e7ec6421009a (pk: 576)>, link_type=<LinkType.INPUT_CALC: 'input_calc'>, link_label='parameters'),\n",
       " LinkTriple(node=<Code: Remote code 'inpgen_MaXR5_th1' on iffslurm, pk: 152, uuid: 6b2f0065-2a34-458d-9b16-32216314aef3>, link_type=<LinkType.INPUT_CALC: 'input_calc'>, link_label='code'),\n",
       " LinkTriple(node=<StructureData: uuid: 2f1bcedc-3ea1-432b-8294-d301829bae3d (pk: 573)>, link_type=<LinkType.INPUT_CALC: 'input_calc'>, link_label='structure')]"
      ]
     },
     "execution_count": 38,
     "metadata": {},
     "output_type": "execute_result"
    }
   ],
   "source": [
    "calc.get_incoming().all()"
   ]
  },
  {
   "cell_type": "code",
   "execution_count": 39,
   "id": "dc5b88fa-e8b1-4f95-b38b-f09006e71154",
   "metadata": {},
   "outputs": [
    {
     "data": {
      "text/plain": [
       "<CalcJobNode: uuid: 466fe828-7d15-4c48-8e55-28b409d7213c (pk: 577) (aiida.calculations:fleur.inpgen)>"
      ]
     },
     "execution_count": 39,
     "metadata": {},
     "output_type": "execute_result"
    }
   ],
   "source": [
    "calc"
   ]
  }
 ],
 "metadata": {
  "kernelspec": {
   "display_name": "AiiDA",
   "language": "python",
   "name": "aiida"
  },
  "language_info": {
   "codemirror_mode": {
    "name": "ipython",
    "version": 3
   },
   "file_extension": ".py",
   "mimetype": "text/x-python",
   "name": "python",
   "nbconvert_exporter": "python",
   "pygments_lexer": "ipython3",
   "version": "3.8.10"
  }
 },
 "nbformat": 4,
 "nbformat_minor": 5
}
