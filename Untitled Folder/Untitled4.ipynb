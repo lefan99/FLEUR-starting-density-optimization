{
 "cells": [
  {
   "cell_type": "code",
   "execution_count": 1,
   "id": "204299b4-09c4-43de-a09d-9ff90cb298bd",
   "metadata": {},
   "outputs": [
    {
     "data": {
      "text/plain": [
       "<aiida.manage.configuration.profile.Profile at 0x7fa326f72eb0>"
      ]
     },
     "execution_count": 1,
     "metadata": {},
     "output_type": "execute_result"
    }
   ],
   "source": [
    "from aiida_fleur.data.fleurinp import FleurinpData\n",
    "from aiida import load_profile\n",
    "from aiida.orm import Dict, load_node , load_code\n",
    "from aiida.engine import submit, run\n",
    "from aiida_fleur.calculation.fleurinputgen import FleurinputgenCalculation\n",
    "from aiida.plugins import DataFactory, CalculationFactory\n",
    "from aiida_fleur.calculation.fleur import FleurCalculation\n",
    "from aiida_fleur.data.fleurinpmodifier import FleurinpModifier\n",
    "from itertools import product\n",
    "import numpy as np\n",
    "import json\n",
    "import matplotlib.pyplot as plt\n",
    "import numpy as np\n",
    "import random\n",
    "\n",
    "load_profile()"
   ]
  },
  {
   "cell_type": "code",
   "execution_count": 2,
   "id": "d40306f3-54de-4bd8-a32e-31921aa34445",
   "metadata": {},
   "outputs": [],
   "source": [
    "inp = load_node( 145140 ) \n",
    "\n",
    "dic = inp.inp_dict"
   ]
  },
  {
   "cell_type": "code",
   "execution_count": 3,
   "id": "ebf2f7da-bff1-45be-9c68-99185695f55c",
   "metadata": {},
   "outputs": [
    {
     "data": {
      "text/plain": [
       "[{'lo': [{'l': 0, 'n': 2, 'type': 'SCLO', 'eDeriv': 0},\n",
       "   {'l': 1, 'n': 2, 'type': 'SCLO', 'eDeriv': 0}],\n",
       "  'name': 'Magnesium (Mg)',\n",
       "  'element': 'Mg',\n",
       "  'mtSphere': {'radius': 2.5, 'gridPoints': 827, 'logIncrement': 0.014},\n",
       "  'prodBasis': {'lcutm': 4, 'lcutwf': 9, 'select': '4 0 4 2'},\n",
       "  'modInitDen': {'flipSpinPhi': 0.0,\n",
       "   'flipSpinScale': False,\n",
       "   'flipSpinTheta': 0.0},\n",
       "  'atomicNumber': 12,\n",
       "  'atomicCutoffs': {'lmax': 10, 'lnonsphr': 8},\n",
       "  'electronConfig': {'coreConfig': ['(1s1/2)'],\n",
       "   'valenceConfig': ['(2s1/2)', '(2p1/2)', '(2p3/2)', '(3s1/2)', '(3p1/2)'],\n",
       "   'stateOccupation': [{'state': '(3p1/2)', 'spinUp': 0.0, 'spinDown': 0.0}]},\n",
       "  'energyParameters': {'d': 3, 'f': 4, 'p': 3, 's': 3}},\n",
       " {'name': 'Oxygen (O)',\n",
       "  'element': 'O',\n",
       "  'mtSphere': {'radius': 1.42, 'gridPoints': 471, 'logIncrement': 0.022},\n",
       "  'prodBasis': {'lcutm': 4, 'lcutwf': 6, 'select': '4 0 4 2'},\n",
       "  'modInitDen': {'flipSpinPhi': 0.0,\n",
       "   'flipSpinScale': False,\n",
       "   'flipSpinTheta': 0.0},\n",
       "  'atomicNumber': 8,\n",
       "  'atomicCutoffs': {'lmax': 6, 'lnonsphr': 4},\n",
       "  'electronConfig': {'coreConfig': ['(1s1/2)'],\n",
       "   'valenceConfig': ['(2s1/2)', '(2p1/2)', '(2p3/2)'],\n",
       "   'stateOccupation': [{'state': '(2p1/2)',\n",
       "     'spinUp': 0.66666667,\n",
       "     'spinDown': 0.66666667},\n",
       "    {'state': '(2p3/2)', 'spinUp': 1.33333333, 'spinDown': 1.33333333}]},\n",
       "  'energyParameters': {'d': 3, 'f': 4, 'p': 2, 's': 2}}]"
      ]
     },
     "execution_count": 3,
     "metadata": {},
     "output_type": "execute_result"
    }
   ],
   "source": [
    "dic['atomSpecies']"
   ]
  },
  {
   "cell_type": "code",
   "execution_count": 50,
   "id": "171aa9da-4407-4762-a430-a9cd0a6d6634",
   "metadata": {},
   "outputs": [],
   "source": [
    "node_list = []\n",
    "gridsize = 13\n",
    "O_occ = 1.33333333\n",
    "Mg_occ = 1\n",
    "options = {'resources' : {\"num_machines\": 1, \"num_mpiprocs_per_machine\" : 2},\n",
    "               'queue_name' : 'th1-2020-32',\n",
    "               'withmpi' : True,\n",
    "               'max_wallclock_seconds' : 600}\n",
    "\n",
    "fleur = load_code(150)"
   ]
  },
  {
   "cell_type": "code",
   "execution_count": 51,
   "id": "d70c20a6-3e5d-48b5-9e01-c8fb84cde9e7",
   "metadata": {
    "collapsed": true,
    "jupyter": {
     "outputs_hidden": true
    },
    "tags": []
   },
   "outputs": [
    {
     "name": "stdout",
     "output_type": "stream",
     "text": [
      "0.05 1 1.33333333\n",
      "started fleur calc with pk: 146182\n",
      "0.05 0.95 1.3833333300000001\n",
      "started fleur calc with pk: 146186\n",
      "0.05 0.8999999999999999 1.4333333300000002\n",
      "started fleur calc with pk: 146190\n",
      "0.05 0.8499999999999999 1.4833333300000002\n",
      "started fleur calc with pk: 146194\n",
      "0.05 0.7999999999999998 1.5333333300000003\n",
      "started fleur calc with pk: 146198\n",
      "0.05 0.7499999999999998 1.5833333300000003\n",
      "started fleur calc with pk: 146202\n",
      "0.05 0.6999999999999997 1.6333333300000004\n",
      "started fleur calc with pk: 146206\n",
      "0.05 0.6499999999999997 1.6833333300000004\n",
      "started fleur calc with pk: 146211\n",
      "0.05 0.5999999999999996 1.7333333300000004\n",
      "started fleur calc with pk: 146215\n",
      "0.05 0.5499999999999996 1.7833333300000005\n",
      "started fleur calc with pk: 146219\n",
      "0.05 0.4999999999999996 1.8333333300000005\n",
      "started fleur calc with pk: 146223\n",
      "0.05 0.4499999999999996 1.8833333300000006\n",
      "started fleur calc with pk: 146227\n",
      "0.05 0.39999999999999963 1.9333333300000006\n",
      "started fleur calc with pk: 146231\n"
     ]
    }
   ],
   "source": [
    "\n",
    "\n",
    "for i in range(gridsize):\n",
    "    \n",
    "    fm = FleurinpModifier(inp)\n",
    "\n",
    "    charge = 1/20\n",
    "    \n",
    "    changes = []\n",
    "    \n",
    "\n",
    "    \n",
    "    \n",
    "    \n",
    "    print(charge , Mg_occ , O_occ)\n",
    "            \n",
    "    changes.append({'state': '(2p3/2)' , 'spinup': O_occ , 'spindown' : O_occ })\n",
    "    changes.append({'state': '(2p1/2)',\n",
    "     'spinUp': 0.66666667,\n",
    "     'spinDown': 0.66666667})\n",
    "     \n",
    "    fm.set_species('Oxygen (O)', { 'electronconfig': { 'stateoccupation': changes}})\n",
    "    \n",
    "    \n",
    "    changes = []\n",
    "    changes.append({'state': '(3s1/2)' , 'spinup': Mg_occ , 'spindown' : Mg_occ })\n",
    "    changes.append({'state': '(3p1/2)', 'spinUp': 0.0, 'spinDown': 0.0})\n",
    "            \n",
    "    fm.set_species('Magnesium (Mg)', { 'electronconfig': { 'stateoccupation': changes}})\n",
    "        \n",
    "        \n",
    "                   \n",
    "    mod_inp = fm.freeze()\n",
    "    inputs = FleurCalculation.get_builder()\n",
    "    inputs.code = fleur\n",
    "    inputs.fleurinpdata = mod_inp\n",
    "    inputs.metadata.options  = options \n",
    "        \n",
    "        \n",
    "    fleur_proc_node = submit(FleurCalculation, **inputs)\n",
    "    \n",
    "    print('started fleur calc with pk:' , fleur_proc_node.pk)\n",
    "    \n",
    "    \n",
    "    node_list.append(fleur_proc_node) \n",
    "    \n",
    "    O_occ += charge\n",
    "    Mg_occ -= charge\n",
    "    "
   ]
  },
  {
   "cell_type": "code",
   "execution_count": 18,
   "id": "a8001c67-33e6-41f5-b8b2-da23bf918d88",
   "metadata": {},
   "outputs": [],
   "source": [
    "node_2 = []\n",
    "\n",
    "for i in range(13):\n",
    "    \n",
    "    node_2.append( node_list[i])"
   ]
  },
  {
   "cell_type": "code",
   "execution_count": 34,
   "id": "4bd82eb7-728c-4c3a-a3fe-5e5329390aab",
   "metadata": {},
   "outputs": [
    {
     "name": "stdout",
     "output_type": "stream",
     "text": [
      "True\n",
      "True\n",
      "True\n",
      "True\n",
      "True\n",
      "True\n",
      "True\n",
      "True\n",
      "True\n",
      "True\n",
      "True\n",
      "True\n",
      "True\n"
     ]
    }
   ],
   "source": [
    "for i in node_2:\n",
    "    \n",
    "    print(i.is_finished_ok)"
   ]
  },
  {
   "cell_type": "code",
   "execution_count": 57,
   "id": "8dd34fef-033b-47f3-9de8-bd305d21e9ce",
   "metadata": {},
   "outputs": [],
   "source": [
    "node_list2 = []\n",
    "\n",
    "for i in range(13):\n",
    "    \n",
    "    node_list2.append(node_list[i])"
   ]
  },
  {
   "cell_type": "code",
   "execution_count": 58,
   "id": "160f6280-98a7-4b60-a305-5cabc74c2fea",
   "metadata": {
    "tags": []
   },
   "outputs": [
    {
     "name": "stdout",
     "output_type": "stream",
     "text": [
      "0.05 1.28333333\n",
      "started fleur calc with pk: 146538\n",
      "0.1 1.23333333\n",
      "started fleur calc with pk: 146542\n",
      "0.15000000000000002 1.18333333\n",
      "started fleur calc with pk: 146546\n",
      "0.2 1.13333333\n",
      "started fleur calc with pk: 146550\n",
      "0.25 1.0833333299999999\n",
      "started fleur calc with pk: 146554\n",
      "0.3 1.0333333299999998\n",
      "started fleur calc with pk: 146558\n",
      "0.35 0.9833333299999998\n",
      "started fleur calc with pk: 146562\n",
      "0.39999999999999997 0.9333333299999997\n",
      "started fleur calc with pk: 146566\n",
      "0.44999999999999996 0.8833333299999997\n",
      "started fleur calc with pk: 146570\n",
      "0.49999999999999994 0.8333333299999997\n",
      "started fleur calc with pk: 146574\n",
      "0.5499999999999999 0.7833333299999996\n",
      "started fleur calc with pk: 146578\n",
      "0.6 0.7333333299999996\n",
      "started fleur calc with pk: 146582\n",
      "0.65 0.6833333299999995\n",
      "started fleur calc with pk: 146586\n",
      "0.7000000000000001 0.6333333299999995\n",
      "started fleur calc with pk: 146590\n",
      "0.7500000000000001 0.5833333299999994\n",
      "started fleur calc with pk: 146594\n",
      "0.8000000000000002 0.5333333299999994\n",
      "started fleur calc with pk: 146598\n",
      "0.8500000000000002 0.4833333299999994\n",
      "started fleur calc with pk: 146602\n",
      "0.9000000000000002 0.4333333299999994\n",
      "started fleur calc with pk: 146606\n",
      "0.9500000000000003 0.3833333299999994\n",
      "started fleur calc with pk: 146610\n",
      "1.0000000000000002 0.33333332999999943\n",
      "started fleur calc with pk: 146614\n"
     ]
    }
   ],
   "source": [
    "\n",
    "gridsize = 20\n",
    "O_occ = 1.33333333\n",
    "Mg_occ = 0\n",
    "\n",
    "for i in range(gridsize):\n",
    "    \n",
    "    fm = FleurinpModifier(inp)\n",
    "\n",
    "    charge = 1/20\n",
    "    \n",
    "    changes = []\n",
    "    \n",
    "\n",
    "    \n",
    "    O_occ -= charge\n",
    "    Mg_occ += charge\n",
    "    \n",
    "    print(  Mg_occ , O_occ)\n",
    "            \n",
    "    changes.append({'state': '(2p3/2)' , 'spinup': O_occ , 'spindown' : O_occ })\n",
    "    changes.append({'state': '(2p1/2)',\n",
    "     'spinUp': 0.66666667,\n",
    "     'spinDown': 0.66666667})\n",
    "     \n",
    "    fm.set_species('Oxygen (O)', { 'electronconfig': { 'stateoccupation': changes}})\n",
    "    \n",
    "    \n",
    "    changes = []\n",
    "    \n",
    "    changes.append({'state': '(3p1/2)' , 'spinup': Mg_occ , 'spindown' : Mg_occ })\n",
    "            \n",
    "    fm.set_species('Magnesium (Mg)', { 'electronconfig': { 'stateoccupation': changes}})\n",
    "        \n",
    "                   \n",
    "    mod_inp = fm.freeze()\n",
    "    inputs = FleurCalculation.get_builder()\n",
    "    inputs.code = fleur\n",
    "    inputs.fleurinpdata = mod_inp\n",
    "    inputs.metadata.options  = options \n",
    "        \n",
    "        \n",
    "    fleur_proc_node = submit(FleurCalculation, **inputs)\n",
    "    \n",
    "    print('started fleur calc with pk:' , fleur_proc_node.pk)\n",
    "    \n",
    "    \n",
    "    node_list2.append(fleur_proc_node) \n",
    "        \n",
    "    "
   ]
  },
  {
   "cell_type": "code",
   "execution_count": 60,
   "id": "03159e3f-3d69-4b69-b3d7-8a153901081f",
   "metadata": {
    "tags": []
   },
   "outputs": [
    {
     "name": "stdout",
     "output_type": "stream",
     "text": [
      "True\n",
      "True\n",
      "True\n",
      "True\n",
      "True\n",
      "True\n",
      "True\n",
      "True\n",
      "True\n",
      "True\n",
      "True\n",
      "True\n",
      "True\n",
      "True\n",
      "True\n",
      "True\n",
      "True\n",
      "True\n",
      "True\n",
      "True\n",
      "True\n",
      "True\n",
      "True\n",
      "True\n",
      "True\n",
      "True\n",
      "True\n",
      "True\n",
      "True\n",
      "True\n",
      "True\n",
      "True\n",
      "True\n"
     ]
    }
   ],
   "source": [
    "for node in node_list2:\n",
    "    \n",
    "    print(node.is_finished_ok)"
   ]
  },
  {
   "cell_type": "code",
   "execution_count": 65,
   "id": "9f2a99c6-e502-4fe0-9ca6-1ea9b3b84bb5",
   "metadata": {
    "collapsed": true,
    "jupyter": {
     "outputs_hidden": true
    },
    "tags": []
   },
   "outputs": [
    {
     "name": "stdout",
     "output_type": "stream",
     "text": [
      "1.33333333\n",
      "1.38333333\n",
      "1.43333333\n",
      "1.48333333\n",
      "1.53333333\n",
      "1.58333333\n",
      "1.63333333\n",
      "1.68333333\n",
      "1.73333333\n",
      "1.78333333\n",
      "1.83333333\n",
      "1.88333333\n",
      "1.93333333\n",
      "1.28333333\n",
      "1.23333333\n",
      "1.18333333\n",
      "1.13333333\n",
      "1.08333333\n",
      "1.03333333\n",
      "0.98333333\n",
      "0.93333333\n",
      "0.88333333\n",
      "0.83333333\n",
      "0.78333333\n",
      "0.73333333\n",
      "0.68333333\n",
      "0.63333333\n",
      "0.58333333\n",
      "0.53333333\n",
      "0.48333333\n",
      "0.43333333\n",
      "0.38333333\n",
      "0.33333333\n"
     ]
    }
   ],
   "source": [
    "x = []\n",
    "x1 = []\n",
    "\n",
    "y = []\n",
    "results_list = {}\n",
    "\n",
    "for node in node_list2:\n",
    "    \n",
    "\n",
    "    \n",
    "    if node.is_finished_ok:\n",
    "    \n",
    "        results_list[str(node.pk)] = node.outputs.output_parameters.get_dict()['density_convergence']\n",
    "    \n",
    "    #print(len(node.inputs.fleurinpdata.inp_dict['atomSpecies'][0]['electronConfig']['stateOccupation']))\n",
    "    \n",
    "\n",
    "for node in results_list:\n",
    "        \n",
    "    print( load_node(eval(node)).inputs.fleurinpdata.inp_dict['atomSpecies'][1]['electronConfig']['stateOccupation'][0]['spinUp'] )\n",
    "    O_counter = load_node(eval(node)).inputs.fleurinpdata.inp_dict['atomSpecies'][1]['electronConfig']['stateOccupation'][0]['spinUp'] \n",
    "        #print(load_node(eval(node)).inputs.fleurinpdata.inp_dict['atomSpecies'][1])\n",
    "    #print( O_counter , Si_counter)\n",
    "        \n",
    "    y.append(results_list[node] )\n",
    "    x.append( O_counter) \n",
    "    \n",
    "    "
   ]
  },
  {
   "cell_type": "code",
   "execution_count": 69,
   "id": "b3617707-7ca1-48ef-8366-ffa91df373fc",
   "metadata": {},
   "outputs": [],
   "source": [
    "import pickle \n",
    "\n",
    "\n",
    "file = open('MgO.pickle' , 'wb')\n",
    "pickle.dump(results_list , file )"
   ]
  },
  {
   "cell_type": "code",
   "execution_count": 68,
   "id": "89dda594-49fb-4db5-add6-063bb24902af",
   "metadata": {},
   "outputs": [
    {
     "data": {
      "image/png": "[encoded data removed]",
      "text/plain": [
       "<Figure size 432x288 with 1 Axes>"
      ]
     },
     "metadata": {
      "needs_background": "light"
     },
     "output_type": "display_data"
    }
   ],
   "source": [
    "plt.plot(x,y, 'x') \n",
    "plt.xlabel('occupation 2p3/2 orb for O')\n",
    "plt.ylabel('distance after 1 iteration')\n",
    "plt.title(' MgO ')\n",
    "plt.savefig('MgO.pdf')\n",
    "plt.show()"
   ]
  },
  {
   "cell_type": "code",
   "execution_count": 48,
   "id": "b9248c46-2b7a-4edd-a8a7-435356bdf249",
   "metadata": {},
   "outputs": [
    {
     "data": {
      "text/plain": [
       "[{'lo': [{'l': 0, 'n': 2, 'type': 'SCLO', 'eDeriv': 0},\n",
       "   {'l': 1, 'n': 2, 'type': 'SCLO', 'eDeriv': 0}],\n",
       "  'name': 'Magnesium (Mg)',\n",
       "  'element': 'Mg',\n",
       "  'mtSphere': {'radius': 2.5, 'gridPoints': 827, 'logIncrement': 0.014},\n",
       "  'prodBasis': {'lcutm': 4, 'lcutwf': 9, 'select': '4 0 4 2'},\n",
       "  'modInitDen': {'flipSpinPhi': 0.0,\n",
       "   'flipSpinScale': False,\n",
       "   'flipSpinTheta': 0.0},\n",
       "  'atomicNumber': 12,\n",
       "  'atomicCutoffs': {'lmax': 10, 'lnonsphr': 8},\n",
       "  'electronConfig': {'coreConfig': ['(1s1/2)'],\n",
       "   'valenceConfig': ['(2s1/2)', '(2p1/2)', '(2p3/2)', '(3s1/2)', '(3p1/2)'],\n",
       "   'stateOccupation': [{'state': '(3s1/2)',\n",
       "     'spinUp': 0.95,\n",
       "     'spinDown': 0.95}]},\n",
       "  'energyParameters': {'d': 3, 'f': 4, 'p': 3, 's': 3}},\n",
       " {'name': 'Oxygen (O)',\n",
       "  'element': 'O',\n",
       "  'mtSphere': {'radius': 1.42, 'gridPoints': 471, 'logIncrement': 0.022},\n",
       "  'prodBasis': {'lcutm': 4, 'lcutwf': 6, 'select': '4 0 4 2'},\n",
       "  'modInitDen': {'flipSpinPhi': 0.0,\n",
       "   'flipSpinScale': False,\n",
       "   'flipSpinTheta': 0.0},\n",
       "  'atomicNumber': 8,\n",
       "  'atomicCutoffs': {'lmax': 6, 'lnonsphr': 4},\n",
       "  'electronConfig': {'coreConfig': ['(1s1/2)'],\n",
       "   'valenceConfig': ['(2s1/2)', '(2p1/2)', '(2p3/2)'],\n",
       "   'stateOccupation': [{'state': '(2p3/2)',\n",
       "     'spinUp': 1.38333333,\n",
       "     'spinDown': 1.38333333}]},\n",
       "  'energyParameters': {'d': 3, 'f': 4, 'p': 2, 's': 2}}]"
      ]
     },
     "execution_count": 48,
     "metadata": {},
     "output_type": "execute_result"
    }
   ],
   "source": [
    "load_node(145936).inputs.fleurinpdata.inp_dict['atomSpecies']"
   ]
  }
 ],
 "metadata": {
  "kernelspec": {
   "display_name": "AiiDA",
   "language": "python",
   "name": "aiida"
  },
  "language_info": {
   "codemirror_mode": {
    "name": "ipython",
    "version": 3
   },
   "file_extension": ".py",
   "mimetype": "text/x-python",
   "name": "python",
   "nbconvert_exporter": "python",
   "pygments_lexer": "ipython3",
   "version": "3.8.10"
  }
 },
 "nbformat": 4,
 "nbformat_minor": 5
}
